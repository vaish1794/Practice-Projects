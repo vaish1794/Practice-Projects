{
 "cells": [
  {
   "cell_type": "code",
   "execution_count": 1,
   "id": "7e24684d",
   "metadata": {},
   "outputs": [],
   "source": [
    "#Importing the required libraries\n",
    "import pandas as pd\n",
    "import numpy as np\n",
    "import seaborn as sns\n",
    "import matplotlib.pyplot as plt\n",
    "%matplotlib inline\n",
    "import warnings\n",
    "warnings.filterwarnings('ignore')"
   ]
  },
  {
   "cell_type": "code",
   "execution_count": 2,
   "id": "f4b8deaa",
   "metadata": {},
   "outputs": [],
   "source": [
    "#Loading the data\n",
    "data=pd.read_csv(\"https://raw.githubusercontent.com/dsrscientist/Data-Science-ML-Capstone-Projects/master/baseball.csv\")"
   ]
  },
  {
   "cell_type": "code",
   "execution_count": 3,
   "id": "5f51b4cf",
   "metadata": {},
   "outputs": [
    {
     "data": {
      "text/plain": [
       "(30, 17)"
      ]
     },
     "execution_count": 3,
     "metadata": {},
     "output_type": "execute_result"
    }
   ],
   "source": [
    "data.shape"
   ]
  },
  {
   "cell_type": "code",
   "execution_count": 4,
   "id": "63518295",
   "metadata": {},
   "outputs": [
    {
     "data": {
      "text/html": [
       "<div>\n",
       "<style scoped>\n",
       "    .dataframe tbody tr th:only-of-type {\n",
       "        vertical-align: middle;\n",
       "    }\n",
       "\n",
       "    .dataframe tbody tr th {\n",
       "        vertical-align: top;\n",
       "    }\n",
       "\n",
       "    .dataframe thead th {\n",
       "        text-align: right;\n",
       "    }\n",
       "</style>\n",
       "<table border=\"1\" class=\"dataframe\">\n",
       "  <thead>\n",
       "    <tr style=\"text-align: right;\">\n",
       "      <th></th>\n",
       "      <th>W</th>\n",
       "      <th>R</th>\n",
       "      <th>AB</th>\n",
       "      <th>H</th>\n",
       "      <th>2B</th>\n",
       "      <th>3B</th>\n",
       "      <th>HR</th>\n",
       "      <th>BB</th>\n",
       "      <th>SO</th>\n",
       "      <th>SB</th>\n",
       "      <th>RA</th>\n",
       "      <th>ER</th>\n",
       "      <th>ERA</th>\n",
       "      <th>CG</th>\n",
       "      <th>SHO</th>\n",
       "      <th>SV</th>\n",
       "      <th>E</th>\n",
       "    </tr>\n",
       "  </thead>\n",
       "  <tbody>\n",
       "    <tr>\n",
       "      <th>0</th>\n",
       "      <td>95</td>\n",
       "      <td>724</td>\n",
       "      <td>5575</td>\n",
       "      <td>1497</td>\n",
       "      <td>300</td>\n",
       "      <td>42</td>\n",
       "      <td>139</td>\n",
       "      <td>383</td>\n",
       "      <td>973</td>\n",
       "      <td>104</td>\n",
       "      <td>641</td>\n",
       "      <td>601</td>\n",
       "      <td>3.73</td>\n",
       "      <td>2</td>\n",
       "      <td>8</td>\n",
       "      <td>56</td>\n",
       "      <td>88</td>\n",
       "    </tr>\n",
       "    <tr>\n",
       "      <th>1</th>\n",
       "      <td>83</td>\n",
       "      <td>696</td>\n",
       "      <td>5467</td>\n",
       "      <td>1349</td>\n",
       "      <td>277</td>\n",
       "      <td>44</td>\n",
       "      <td>156</td>\n",
       "      <td>439</td>\n",
       "      <td>1264</td>\n",
       "      <td>70</td>\n",
       "      <td>700</td>\n",
       "      <td>653</td>\n",
       "      <td>4.07</td>\n",
       "      <td>2</td>\n",
       "      <td>12</td>\n",
       "      <td>45</td>\n",
       "      <td>86</td>\n",
       "    </tr>\n",
       "    <tr>\n",
       "      <th>2</th>\n",
       "      <td>81</td>\n",
       "      <td>669</td>\n",
       "      <td>5439</td>\n",
       "      <td>1395</td>\n",
       "      <td>303</td>\n",
       "      <td>29</td>\n",
       "      <td>141</td>\n",
       "      <td>533</td>\n",
       "      <td>1157</td>\n",
       "      <td>86</td>\n",
       "      <td>640</td>\n",
       "      <td>584</td>\n",
       "      <td>3.67</td>\n",
       "      <td>11</td>\n",
       "      <td>10</td>\n",
       "      <td>38</td>\n",
       "      <td>79</td>\n",
       "    </tr>\n",
       "    <tr>\n",
       "      <th>3</th>\n",
       "      <td>76</td>\n",
       "      <td>622</td>\n",
       "      <td>5533</td>\n",
       "      <td>1381</td>\n",
       "      <td>260</td>\n",
       "      <td>27</td>\n",
       "      <td>136</td>\n",
       "      <td>404</td>\n",
       "      <td>1231</td>\n",
       "      <td>68</td>\n",
       "      <td>701</td>\n",
       "      <td>643</td>\n",
       "      <td>3.98</td>\n",
       "      <td>7</td>\n",
       "      <td>9</td>\n",
       "      <td>37</td>\n",
       "      <td>101</td>\n",
       "    </tr>\n",
       "    <tr>\n",
       "      <th>4</th>\n",
       "      <td>74</td>\n",
       "      <td>689</td>\n",
       "      <td>5605</td>\n",
       "      <td>1515</td>\n",
       "      <td>289</td>\n",
       "      <td>49</td>\n",
       "      <td>151</td>\n",
       "      <td>455</td>\n",
       "      <td>1259</td>\n",
       "      <td>83</td>\n",
       "      <td>803</td>\n",
       "      <td>746</td>\n",
       "      <td>4.64</td>\n",
       "      <td>7</td>\n",
       "      <td>12</td>\n",
       "      <td>35</td>\n",
       "      <td>86</td>\n",
       "    </tr>\n",
       "    <tr>\n",
       "      <th>5</th>\n",
       "      <td>93</td>\n",
       "      <td>891</td>\n",
       "      <td>5509</td>\n",
       "      <td>1480</td>\n",
       "      <td>308</td>\n",
       "      <td>17</td>\n",
       "      <td>232</td>\n",
       "      <td>570</td>\n",
       "      <td>1151</td>\n",
       "      <td>88</td>\n",
       "      <td>670</td>\n",
       "      <td>609</td>\n",
       "      <td>3.80</td>\n",
       "      <td>7</td>\n",
       "      <td>10</td>\n",
       "      <td>34</td>\n",
       "      <td>88</td>\n",
       "    </tr>\n",
       "    <tr>\n",
       "      <th>6</th>\n",
       "      <td>87</td>\n",
       "      <td>764</td>\n",
       "      <td>5567</td>\n",
       "      <td>1397</td>\n",
       "      <td>272</td>\n",
       "      <td>19</td>\n",
       "      <td>212</td>\n",
       "      <td>554</td>\n",
       "      <td>1227</td>\n",
       "      <td>63</td>\n",
       "      <td>698</td>\n",
       "      <td>652</td>\n",
       "      <td>4.03</td>\n",
       "      <td>3</td>\n",
       "      <td>4</td>\n",
       "      <td>48</td>\n",
       "      <td>93</td>\n",
       "    </tr>\n",
       "    <tr>\n",
       "      <th>7</th>\n",
       "      <td>81</td>\n",
       "      <td>713</td>\n",
       "      <td>5485</td>\n",
       "      <td>1370</td>\n",
       "      <td>246</td>\n",
       "      <td>20</td>\n",
       "      <td>217</td>\n",
       "      <td>418</td>\n",
       "      <td>1331</td>\n",
       "      <td>44</td>\n",
       "      <td>693</td>\n",
       "      <td>646</td>\n",
       "      <td>4.05</td>\n",
       "      <td>0</td>\n",
       "      <td>10</td>\n",
       "      <td>43</td>\n",
       "      <td>77</td>\n",
       "    </tr>\n",
       "    <tr>\n",
       "      <th>8</th>\n",
       "      <td>80</td>\n",
       "      <td>644</td>\n",
       "      <td>5485</td>\n",
       "      <td>1383</td>\n",
       "      <td>278</td>\n",
       "      <td>32</td>\n",
       "      <td>167</td>\n",
       "      <td>436</td>\n",
       "      <td>1310</td>\n",
       "      <td>87</td>\n",
       "      <td>642</td>\n",
       "      <td>604</td>\n",
       "      <td>3.74</td>\n",
       "      <td>1</td>\n",
       "      <td>12</td>\n",
       "      <td>60</td>\n",
       "      <td>95</td>\n",
       "    </tr>\n",
       "    <tr>\n",
       "      <th>9</th>\n",
       "      <td>78</td>\n",
       "      <td>748</td>\n",
       "      <td>5640</td>\n",
       "      <td>1495</td>\n",
       "      <td>294</td>\n",
       "      <td>33</td>\n",
       "      <td>161</td>\n",
       "      <td>478</td>\n",
       "      <td>1148</td>\n",
       "      <td>71</td>\n",
       "      <td>753</td>\n",
       "      <td>694</td>\n",
       "      <td>4.31</td>\n",
       "      <td>3</td>\n",
       "      <td>10</td>\n",
       "      <td>40</td>\n",
       "      <td>97</td>\n",
       "    </tr>\n",
       "    <tr>\n",
       "      <th>10</th>\n",
       "      <td>88</td>\n",
       "      <td>751</td>\n",
       "      <td>5511</td>\n",
       "      <td>1419</td>\n",
       "      <td>279</td>\n",
       "      <td>32</td>\n",
       "      <td>172</td>\n",
       "      <td>503</td>\n",
       "      <td>1233</td>\n",
       "      <td>101</td>\n",
       "      <td>733</td>\n",
       "      <td>680</td>\n",
       "      <td>4.24</td>\n",
       "      <td>5</td>\n",
       "      <td>9</td>\n",
       "      <td>45</td>\n",
       "      <td>119</td>\n",
       "    </tr>\n",
       "    <tr>\n",
       "      <th>11</th>\n",
       "      <td>86</td>\n",
       "      <td>729</td>\n",
       "      <td>5459</td>\n",
       "      <td>1363</td>\n",
       "      <td>278</td>\n",
       "      <td>26</td>\n",
       "      <td>230</td>\n",
       "      <td>486</td>\n",
       "      <td>1392</td>\n",
       "      <td>121</td>\n",
       "      <td>618</td>\n",
       "      <td>572</td>\n",
       "      <td>3.57</td>\n",
       "      <td>5</td>\n",
       "      <td>13</td>\n",
       "      <td>39</td>\n",
       "      <td>85</td>\n",
       "    </tr>\n",
       "    <tr>\n",
       "      <th>12</th>\n",
       "      <td>85</td>\n",
       "      <td>661</td>\n",
       "      <td>5417</td>\n",
       "      <td>1331</td>\n",
       "      <td>243</td>\n",
       "      <td>21</td>\n",
       "      <td>176</td>\n",
       "      <td>435</td>\n",
       "      <td>1150</td>\n",
       "      <td>52</td>\n",
       "      <td>675</td>\n",
       "      <td>630</td>\n",
       "      <td>3.94</td>\n",
       "      <td>2</td>\n",
       "      <td>12</td>\n",
       "      <td>46</td>\n",
       "      <td>93</td>\n",
       "    </tr>\n",
       "    <tr>\n",
       "      <th>13</th>\n",
       "      <td>76</td>\n",
       "      <td>656</td>\n",
       "      <td>5544</td>\n",
       "      <td>1379</td>\n",
       "      <td>262</td>\n",
       "      <td>22</td>\n",
       "      <td>198</td>\n",
       "      <td>478</td>\n",
       "      <td>1336</td>\n",
       "      <td>69</td>\n",
       "      <td>726</td>\n",
       "      <td>677</td>\n",
       "      <td>4.16</td>\n",
       "      <td>6</td>\n",
       "      <td>12</td>\n",
       "      <td>45</td>\n",
       "      <td>94</td>\n",
       "    </tr>\n",
       "    <tr>\n",
       "      <th>14</th>\n",
       "      <td>68</td>\n",
       "      <td>694</td>\n",
       "      <td>5600</td>\n",
       "      <td>1405</td>\n",
       "      <td>277</td>\n",
       "      <td>46</td>\n",
       "      <td>146</td>\n",
       "      <td>475</td>\n",
       "      <td>1119</td>\n",
       "      <td>78</td>\n",
       "      <td>729</td>\n",
       "      <td>664</td>\n",
       "      <td>4.14</td>\n",
       "      <td>5</td>\n",
       "      <td>15</td>\n",
       "      <td>28</td>\n",
       "      <td>126</td>\n",
       "    </tr>\n",
       "    <tr>\n",
       "      <th>15</th>\n",
       "      <td>100</td>\n",
       "      <td>647</td>\n",
       "      <td>5484</td>\n",
       "      <td>1386</td>\n",
       "      <td>288</td>\n",
       "      <td>39</td>\n",
       "      <td>137</td>\n",
       "      <td>506</td>\n",
       "      <td>1267</td>\n",
       "      <td>69</td>\n",
       "      <td>525</td>\n",
       "      <td>478</td>\n",
       "      <td>2.94</td>\n",
       "      <td>1</td>\n",
       "      <td>15</td>\n",
       "      <td>62</td>\n",
       "      <td>96</td>\n",
       "    </tr>\n",
       "    <tr>\n",
       "      <th>16</th>\n",
       "      <td>98</td>\n",
       "      <td>697</td>\n",
       "      <td>5631</td>\n",
       "      <td>1462</td>\n",
       "      <td>292</td>\n",
       "      <td>27</td>\n",
       "      <td>140</td>\n",
       "      <td>461</td>\n",
       "      <td>1322</td>\n",
       "      <td>98</td>\n",
       "      <td>596</td>\n",
       "      <td>532</td>\n",
       "      <td>3.21</td>\n",
       "      <td>0</td>\n",
       "      <td>13</td>\n",
       "      <td>54</td>\n",
       "      <td>122</td>\n",
       "    </tr>\n",
       "    <tr>\n",
       "      <th>17</th>\n",
       "      <td>97</td>\n",
       "      <td>689</td>\n",
       "      <td>5491</td>\n",
       "      <td>1341</td>\n",
       "      <td>272</td>\n",
       "      <td>30</td>\n",
       "      <td>171</td>\n",
       "      <td>567</td>\n",
       "      <td>1518</td>\n",
       "      <td>95</td>\n",
       "      <td>608</td>\n",
       "      <td>546</td>\n",
       "      <td>3.36</td>\n",
       "      <td>6</td>\n",
       "      <td>21</td>\n",
       "      <td>48</td>\n",
       "      <td>111</td>\n",
       "    </tr>\n",
       "    <tr>\n",
       "      <th>18</th>\n",
       "      <td>68</td>\n",
       "      <td>655</td>\n",
       "      <td>5480</td>\n",
       "      <td>1378</td>\n",
       "      <td>274</td>\n",
       "      <td>34</td>\n",
       "      <td>145</td>\n",
       "      <td>412</td>\n",
       "      <td>1299</td>\n",
       "      <td>84</td>\n",
       "      <td>737</td>\n",
       "      <td>682</td>\n",
       "      <td>4.28</td>\n",
       "      <td>1</td>\n",
       "      <td>7</td>\n",
       "      <td>40</td>\n",
       "      <td>116</td>\n",
       "    </tr>\n",
       "    <tr>\n",
       "      <th>19</th>\n",
       "      <td>64</td>\n",
       "      <td>640</td>\n",
       "      <td>5571</td>\n",
       "      <td>1382</td>\n",
       "      <td>257</td>\n",
       "      <td>27</td>\n",
       "      <td>167</td>\n",
       "      <td>496</td>\n",
       "      <td>1255</td>\n",
       "      <td>134</td>\n",
       "      <td>754</td>\n",
       "      <td>700</td>\n",
       "      <td>4.33</td>\n",
       "      <td>2</td>\n",
       "      <td>8</td>\n",
       "      <td>35</td>\n",
       "      <td>90</td>\n",
       "    </tr>\n",
       "    <tr>\n",
       "      <th>20</th>\n",
       "      <td>90</td>\n",
       "      <td>683</td>\n",
       "      <td>5527</td>\n",
       "      <td>1351</td>\n",
       "      <td>295</td>\n",
       "      <td>17</td>\n",
       "      <td>177</td>\n",
       "      <td>488</td>\n",
       "      <td>1290</td>\n",
       "      <td>51</td>\n",
       "      <td>613</td>\n",
       "      <td>557</td>\n",
       "      <td>3.43</td>\n",
       "      <td>1</td>\n",
       "      <td>14</td>\n",
       "      <td>50</td>\n",
       "      <td>88</td>\n",
       "    </tr>\n",
       "    <tr>\n",
       "      <th>21</th>\n",
       "      <td>83</td>\n",
       "      <td>703</td>\n",
       "      <td>5428</td>\n",
       "      <td>1363</td>\n",
       "      <td>265</td>\n",
       "      <td>13</td>\n",
       "      <td>177</td>\n",
       "      <td>539</td>\n",
       "      <td>1344</td>\n",
       "      <td>57</td>\n",
       "      <td>635</td>\n",
       "      <td>577</td>\n",
       "      <td>3.62</td>\n",
       "      <td>4</td>\n",
       "      <td>13</td>\n",
       "      <td>41</td>\n",
       "      <td>90</td>\n",
       "    </tr>\n",
       "    <tr>\n",
       "      <th>22</th>\n",
       "      <td>71</td>\n",
       "      <td>613</td>\n",
       "      <td>5463</td>\n",
       "      <td>1420</td>\n",
       "      <td>236</td>\n",
       "      <td>40</td>\n",
       "      <td>120</td>\n",
       "      <td>375</td>\n",
       "      <td>1150</td>\n",
       "      <td>112</td>\n",
       "      <td>678</td>\n",
       "      <td>638</td>\n",
       "      <td>4.02</td>\n",
       "      <td>0</td>\n",
       "      <td>12</td>\n",
       "      <td>35</td>\n",
       "      <td>77</td>\n",
       "    </tr>\n",
       "    <tr>\n",
       "      <th>23</th>\n",
       "      <td>67</td>\n",
       "      <td>573</td>\n",
       "      <td>5420</td>\n",
       "      <td>1361</td>\n",
       "      <td>251</td>\n",
       "      <td>18</td>\n",
       "      <td>100</td>\n",
       "      <td>471</td>\n",
       "      <td>1107</td>\n",
       "      <td>69</td>\n",
       "      <td>760</td>\n",
       "      <td>698</td>\n",
       "      <td>4.41</td>\n",
       "      <td>3</td>\n",
       "      <td>10</td>\n",
       "      <td>44</td>\n",
       "      <td>90</td>\n",
       "    </tr>\n",
       "    <tr>\n",
       "      <th>24</th>\n",
       "      <td>63</td>\n",
       "      <td>626</td>\n",
       "      <td>5529</td>\n",
       "      <td>1374</td>\n",
       "      <td>272</td>\n",
       "      <td>37</td>\n",
       "      <td>130</td>\n",
       "      <td>387</td>\n",
       "      <td>1274</td>\n",
       "      <td>88</td>\n",
       "      <td>809</td>\n",
       "      <td>749</td>\n",
       "      <td>4.69</td>\n",
       "      <td>1</td>\n",
       "      <td>7</td>\n",
       "      <td>35</td>\n",
       "      <td>117</td>\n",
       "    </tr>\n",
       "    <tr>\n",
       "      <th>25</th>\n",
       "      <td>92</td>\n",
       "      <td>667</td>\n",
       "      <td>5385</td>\n",
       "      <td>1346</td>\n",
       "      <td>263</td>\n",
       "      <td>26</td>\n",
       "      <td>187</td>\n",
       "      <td>563</td>\n",
       "      <td>1258</td>\n",
       "      <td>59</td>\n",
       "      <td>595</td>\n",
       "      <td>553</td>\n",
       "      <td>3.44</td>\n",
       "      <td>6</td>\n",
       "      <td>21</td>\n",
       "      <td>47</td>\n",
       "      <td>75</td>\n",
       "    </tr>\n",
       "    <tr>\n",
       "      <th>26</th>\n",
       "      <td>84</td>\n",
       "      <td>696</td>\n",
       "      <td>5565</td>\n",
       "      <td>1486</td>\n",
       "      <td>288</td>\n",
       "      <td>39</td>\n",
       "      <td>136</td>\n",
       "      <td>457</td>\n",
       "      <td>1159</td>\n",
       "      <td>93</td>\n",
       "      <td>627</td>\n",
       "      <td>597</td>\n",
       "      <td>3.72</td>\n",
       "      <td>7</td>\n",
       "      <td>18</td>\n",
       "      <td>41</td>\n",
       "      <td>78</td>\n",
       "    </tr>\n",
       "    <tr>\n",
       "      <th>27</th>\n",
       "      <td>79</td>\n",
       "      <td>720</td>\n",
       "      <td>5649</td>\n",
       "      <td>1494</td>\n",
       "      <td>289</td>\n",
       "      <td>48</td>\n",
       "      <td>154</td>\n",
       "      <td>490</td>\n",
       "      <td>1312</td>\n",
       "      <td>132</td>\n",
       "      <td>713</td>\n",
       "      <td>659</td>\n",
       "      <td>4.04</td>\n",
       "      <td>1</td>\n",
       "      <td>12</td>\n",
       "      <td>44</td>\n",
       "      <td>86</td>\n",
       "    </tr>\n",
       "    <tr>\n",
       "      <th>28</th>\n",
       "      <td>74</td>\n",
       "      <td>650</td>\n",
       "      <td>5457</td>\n",
       "      <td>1324</td>\n",
       "      <td>260</td>\n",
       "      <td>36</td>\n",
       "      <td>148</td>\n",
       "      <td>426</td>\n",
       "      <td>1327</td>\n",
       "      <td>82</td>\n",
       "      <td>731</td>\n",
       "      <td>655</td>\n",
       "      <td>4.09</td>\n",
       "      <td>1</td>\n",
       "      <td>6</td>\n",
       "      <td>41</td>\n",
       "      <td>92</td>\n",
       "    </tr>\n",
       "    <tr>\n",
       "      <th>29</th>\n",
       "      <td>68</td>\n",
       "      <td>737</td>\n",
       "      <td>5572</td>\n",
       "      <td>1479</td>\n",
       "      <td>274</td>\n",
       "      <td>49</td>\n",
       "      <td>186</td>\n",
       "      <td>388</td>\n",
       "      <td>1283</td>\n",
       "      <td>97</td>\n",
       "      <td>844</td>\n",
       "      <td>799</td>\n",
       "      <td>5.04</td>\n",
       "      <td>4</td>\n",
       "      <td>4</td>\n",
       "      <td>36</td>\n",
       "      <td>95</td>\n",
       "    </tr>\n",
       "  </tbody>\n",
       "</table>\n",
       "</div>"
      ],
      "text/plain": [
       "      W    R    AB     H   2B  3B   HR   BB    SO   SB   RA   ER   ERA  CG  \\\n",
       "0    95  724  5575  1497  300  42  139  383   973  104  641  601  3.73   2   \n",
       "1    83  696  5467  1349  277  44  156  439  1264   70  700  653  4.07   2   \n",
       "2    81  669  5439  1395  303  29  141  533  1157   86  640  584  3.67  11   \n",
       "3    76  622  5533  1381  260  27  136  404  1231   68  701  643  3.98   7   \n",
       "4    74  689  5605  1515  289  49  151  455  1259   83  803  746  4.64   7   \n",
       "5    93  891  5509  1480  308  17  232  570  1151   88  670  609  3.80   7   \n",
       "6    87  764  5567  1397  272  19  212  554  1227   63  698  652  4.03   3   \n",
       "7    81  713  5485  1370  246  20  217  418  1331   44  693  646  4.05   0   \n",
       "8    80  644  5485  1383  278  32  167  436  1310   87  642  604  3.74   1   \n",
       "9    78  748  5640  1495  294  33  161  478  1148   71  753  694  4.31   3   \n",
       "10   88  751  5511  1419  279  32  172  503  1233  101  733  680  4.24   5   \n",
       "11   86  729  5459  1363  278  26  230  486  1392  121  618  572  3.57   5   \n",
       "12   85  661  5417  1331  243  21  176  435  1150   52  675  630  3.94   2   \n",
       "13   76  656  5544  1379  262  22  198  478  1336   69  726  677  4.16   6   \n",
       "14   68  694  5600  1405  277  46  146  475  1119   78  729  664  4.14   5   \n",
       "15  100  647  5484  1386  288  39  137  506  1267   69  525  478  2.94   1   \n",
       "16   98  697  5631  1462  292  27  140  461  1322   98  596  532  3.21   0   \n",
       "17   97  689  5491  1341  272  30  171  567  1518   95  608  546  3.36   6   \n",
       "18   68  655  5480  1378  274  34  145  412  1299   84  737  682  4.28   1   \n",
       "19   64  640  5571  1382  257  27  167  496  1255  134  754  700  4.33   2   \n",
       "20   90  683  5527  1351  295  17  177  488  1290   51  613  557  3.43   1   \n",
       "21   83  703  5428  1363  265  13  177  539  1344   57  635  577  3.62   4   \n",
       "22   71  613  5463  1420  236  40  120  375  1150  112  678  638  4.02   0   \n",
       "23   67  573  5420  1361  251  18  100  471  1107   69  760  698  4.41   3   \n",
       "24   63  626  5529  1374  272  37  130  387  1274   88  809  749  4.69   1   \n",
       "25   92  667  5385  1346  263  26  187  563  1258   59  595  553  3.44   6   \n",
       "26   84  696  5565  1486  288  39  136  457  1159   93  627  597  3.72   7   \n",
       "27   79  720  5649  1494  289  48  154  490  1312  132  713  659  4.04   1   \n",
       "28   74  650  5457  1324  260  36  148  426  1327   82  731  655  4.09   1   \n",
       "29   68  737  5572  1479  274  49  186  388  1283   97  844  799  5.04   4   \n",
       "\n",
       "    SHO  SV    E  \n",
       "0     8  56   88  \n",
       "1    12  45   86  \n",
       "2    10  38   79  \n",
       "3     9  37  101  \n",
       "4    12  35   86  \n",
       "5    10  34   88  \n",
       "6     4  48   93  \n",
       "7    10  43   77  \n",
       "8    12  60   95  \n",
       "9    10  40   97  \n",
       "10    9  45  119  \n",
       "11   13  39   85  \n",
       "12   12  46   93  \n",
       "13   12  45   94  \n",
       "14   15  28  126  \n",
       "15   15  62   96  \n",
       "16   13  54  122  \n",
       "17   21  48  111  \n",
       "18    7  40  116  \n",
       "19    8  35   90  \n",
       "20   14  50   88  \n",
       "21   13  41   90  \n",
       "22   12  35   77  \n",
       "23   10  44   90  \n",
       "24    7  35  117  \n",
       "25   21  47   75  \n",
       "26   18  41   78  \n",
       "27   12  44   86  \n",
       "28    6  41   92  \n",
       "29    4  36   95  "
      ]
     },
     "execution_count": 4,
     "metadata": {},
     "output_type": "execute_result"
    }
   ],
   "source": [
    "data"
   ]
  },
  {
   "cell_type": "code",
   "execution_count": 5,
   "id": "8f8159ee",
   "metadata": {},
   "outputs": [
    {
     "name": "stdout",
     "output_type": "stream",
     "text": [
      "<class 'pandas.core.frame.DataFrame'>\n",
      "RangeIndex: 30 entries, 0 to 29\n",
      "Data columns (total 17 columns):\n",
      " #   Column  Non-Null Count  Dtype  \n",
      "---  ------  --------------  -----  \n",
      " 0   W       30 non-null     int64  \n",
      " 1   R       30 non-null     int64  \n",
      " 2   AB      30 non-null     int64  \n",
      " 3   H       30 non-null     int64  \n",
      " 4   2B      30 non-null     int64  \n",
      " 5   3B      30 non-null     int64  \n",
      " 6   HR      30 non-null     int64  \n",
      " 7   BB      30 non-null     int64  \n",
      " 8   SO      30 non-null     int64  \n",
      " 9   SB      30 non-null     int64  \n",
      " 10  RA      30 non-null     int64  \n",
      " 11  ER      30 non-null     int64  \n",
      " 12  ERA     30 non-null     float64\n",
      " 13  CG      30 non-null     int64  \n",
      " 14  SHO     30 non-null     int64  \n",
      " 15  SV      30 non-null     int64  \n",
      " 16  E       30 non-null     int64  \n",
      "dtypes: float64(1), int64(16)\n",
      "memory usage: 4.1 KB\n"
     ]
    }
   ],
   "source": [
    "data.info()"
   ]
  },
  {
   "cell_type": "code",
   "execution_count": 6,
   "id": "12122037",
   "metadata": {},
   "outputs": [
    {
     "data": {
      "text/html": [
       "<div>\n",
       "<style scoped>\n",
       "    .dataframe tbody tr th:only-of-type {\n",
       "        vertical-align: middle;\n",
       "    }\n",
       "\n",
       "    .dataframe tbody tr th {\n",
       "        vertical-align: top;\n",
       "    }\n",
       "\n",
       "    .dataframe thead th {\n",
       "        text-align: right;\n",
       "    }\n",
       "</style>\n",
       "<table border=\"1\" class=\"dataframe\">\n",
       "  <thead>\n",
       "    <tr style=\"text-align: right;\">\n",
       "      <th></th>\n",
       "      <th>W</th>\n",
       "      <th>R</th>\n",
       "      <th>AB</th>\n",
       "      <th>H</th>\n",
       "      <th>2B</th>\n",
       "      <th>3B</th>\n",
       "      <th>HR</th>\n",
       "      <th>BB</th>\n",
       "      <th>SO</th>\n",
       "      <th>SB</th>\n",
       "      <th>RA</th>\n",
       "      <th>ER</th>\n",
       "      <th>ERA</th>\n",
       "      <th>CG</th>\n",
       "      <th>SHO</th>\n",
       "      <th>SV</th>\n",
       "      <th>E</th>\n",
       "    </tr>\n",
       "  </thead>\n",
       "  <tbody>\n",
       "    <tr>\n",
       "      <th>count</th>\n",
       "      <td>30.000000</td>\n",
       "      <td>30.000000</td>\n",
       "      <td>30.000000</td>\n",
       "      <td>30.000000</td>\n",
       "      <td>30.000000</td>\n",
       "      <td>30.000000</td>\n",
       "      <td>30.000000</td>\n",
       "      <td>30.000000</td>\n",
       "      <td>30.00000</td>\n",
       "      <td>30.000000</td>\n",
       "      <td>30.000000</td>\n",
       "      <td>30.000000</td>\n",
       "      <td>30.000000</td>\n",
       "      <td>30.000000</td>\n",
       "      <td>30.000000</td>\n",
       "      <td>30.000000</td>\n",
       "      <td>30.000000</td>\n",
       "    </tr>\n",
       "    <tr>\n",
       "      <th>mean</th>\n",
       "      <td>80.966667</td>\n",
       "      <td>688.233333</td>\n",
       "      <td>5516.266667</td>\n",
       "      <td>1403.533333</td>\n",
       "      <td>274.733333</td>\n",
       "      <td>31.300000</td>\n",
       "      <td>163.633333</td>\n",
       "      <td>469.100000</td>\n",
       "      <td>1248.20000</td>\n",
       "      <td>83.500000</td>\n",
       "      <td>688.233333</td>\n",
       "      <td>635.833333</td>\n",
       "      <td>3.956333</td>\n",
       "      <td>3.466667</td>\n",
       "      <td>11.300000</td>\n",
       "      <td>43.066667</td>\n",
       "      <td>94.333333</td>\n",
       "    </tr>\n",
       "    <tr>\n",
       "      <th>std</th>\n",
       "      <td>10.453455</td>\n",
       "      <td>58.761754</td>\n",
       "      <td>70.467372</td>\n",
       "      <td>57.140923</td>\n",
       "      <td>18.095405</td>\n",
       "      <td>10.452355</td>\n",
       "      <td>31.823309</td>\n",
       "      <td>57.053725</td>\n",
       "      <td>103.75947</td>\n",
       "      <td>22.815225</td>\n",
       "      <td>72.108005</td>\n",
       "      <td>70.140786</td>\n",
       "      <td>0.454089</td>\n",
       "      <td>2.763473</td>\n",
       "      <td>4.120177</td>\n",
       "      <td>7.869335</td>\n",
       "      <td>13.958889</td>\n",
       "    </tr>\n",
       "    <tr>\n",
       "      <th>min</th>\n",
       "      <td>63.000000</td>\n",
       "      <td>573.000000</td>\n",
       "      <td>5385.000000</td>\n",
       "      <td>1324.000000</td>\n",
       "      <td>236.000000</td>\n",
       "      <td>13.000000</td>\n",
       "      <td>100.000000</td>\n",
       "      <td>375.000000</td>\n",
       "      <td>973.00000</td>\n",
       "      <td>44.000000</td>\n",
       "      <td>525.000000</td>\n",
       "      <td>478.000000</td>\n",
       "      <td>2.940000</td>\n",
       "      <td>0.000000</td>\n",
       "      <td>4.000000</td>\n",
       "      <td>28.000000</td>\n",
       "      <td>75.000000</td>\n",
       "    </tr>\n",
       "    <tr>\n",
       "      <th>25%</th>\n",
       "      <td>74.000000</td>\n",
       "      <td>651.250000</td>\n",
       "      <td>5464.000000</td>\n",
       "      <td>1363.000000</td>\n",
       "      <td>262.250000</td>\n",
       "      <td>23.000000</td>\n",
       "      <td>140.250000</td>\n",
       "      <td>428.250000</td>\n",
       "      <td>1157.50000</td>\n",
       "      <td>69.000000</td>\n",
       "      <td>636.250000</td>\n",
       "      <td>587.250000</td>\n",
       "      <td>3.682500</td>\n",
       "      <td>1.000000</td>\n",
       "      <td>9.000000</td>\n",
       "      <td>37.250000</td>\n",
       "      <td>86.000000</td>\n",
       "    </tr>\n",
       "    <tr>\n",
       "      <th>50%</th>\n",
       "      <td>81.000000</td>\n",
       "      <td>689.000000</td>\n",
       "      <td>5510.000000</td>\n",
       "      <td>1382.500000</td>\n",
       "      <td>275.500000</td>\n",
       "      <td>31.000000</td>\n",
       "      <td>158.500000</td>\n",
       "      <td>473.000000</td>\n",
       "      <td>1261.50000</td>\n",
       "      <td>83.500000</td>\n",
       "      <td>695.500000</td>\n",
       "      <td>644.500000</td>\n",
       "      <td>4.025000</td>\n",
       "      <td>3.000000</td>\n",
       "      <td>12.000000</td>\n",
       "      <td>42.000000</td>\n",
       "      <td>91.000000</td>\n",
       "    </tr>\n",
       "    <tr>\n",
       "      <th>75%</th>\n",
       "      <td>87.750000</td>\n",
       "      <td>718.250000</td>\n",
       "      <td>5570.000000</td>\n",
       "      <td>1451.500000</td>\n",
       "      <td>288.750000</td>\n",
       "      <td>39.000000</td>\n",
       "      <td>177.000000</td>\n",
       "      <td>501.250000</td>\n",
       "      <td>1311.50000</td>\n",
       "      <td>96.500000</td>\n",
       "      <td>732.500000</td>\n",
       "      <td>679.250000</td>\n",
       "      <td>4.220000</td>\n",
       "      <td>5.750000</td>\n",
       "      <td>13.000000</td>\n",
       "      <td>46.750000</td>\n",
       "      <td>96.750000</td>\n",
       "    </tr>\n",
       "    <tr>\n",
       "      <th>max</th>\n",
       "      <td>100.000000</td>\n",
       "      <td>891.000000</td>\n",
       "      <td>5649.000000</td>\n",
       "      <td>1515.000000</td>\n",
       "      <td>308.000000</td>\n",
       "      <td>49.000000</td>\n",
       "      <td>232.000000</td>\n",
       "      <td>570.000000</td>\n",
       "      <td>1518.00000</td>\n",
       "      <td>134.000000</td>\n",
       "      <td>844.000000</td>\n",
       "      <td>799.000000</td>\n",
       "      <td>5.040000</td>\n",
       "      <td>11.000000</td>\n",
       "      <td>21.000000</td>\n",
       "      <td>62.000000</td>\n",
       "      <td>126.000000</td>\n",
       "    </tr>\n",
       "  </tbody>\n",
       "</table>\n",
       "</div>"
      ],
      "text/plain": [
       "                W           R           AB            H          2B  \\\n",
       "count   30.000000   30.000000    30.000000    30.000000   30.000000   \n",
       "mean    80.966667  688.233333  5516.266667  1403.533333  274.733333   \n",
       "std     10.453455   58.761754    70.467372    57.140923   18.095405   \n",
       "min     63.000000  573.000000  5385.000000  1324.000000  236.000000   \n",
       "25%     74.000000  651.250000  5464.000000  1363.000000  262.250000   \n",
       "50%     81.000000  689.000000  5510.000000  1382.500000  275.500000   \n",
       "75%     87.750000  718.250000  5570.000000  1451.500000  288.750000   \n",
       "max    100.000000  891.000000  5649.000000  1515.000000  308.000000   \n",
       "\n",
       "              3B          HR          BB          SO          SB          RA  \\\n",
       "count  30.000000   30.000000   30.000000    30.00000   30.000000   30.000000   \n",
       "mean   31.300000  163.633333  469.100000  1248.20000   83.500000  688.233333   \n",
       "std    10.452355   31.823309   57.053725   103.75947   22.815225   72.108005   \n",
       "min    13.000000  100.000000  375.000000   973.00000   44.000000  525.000000   \n",
       "25%    23.000000  140.250000  428.250000  1157.50000   69.000000  636.250000   \n",
       "50%    31.000000  158.500000  473.000000  1261.50000   83.500000  695.500000   \n",
       "75%    39.000000  177.000000  501.250000  1311.50000   96.500000  732.500000   \n",
       "max    49.000000  232.000000  570.000000  1518.00000  134.000000  844.000000   \n",
       "\n",
       "               ER        ERA         CG        SHO         SV           E  \n",
       "count   30.000000  30.000000  30.000000  30.000000  30.000000   30.000000  \n",
       "mean   635.833333   3.956333   3.466667  11.300000  43.066667   94.333333  \n",
       "std     70.140786   0.454089   2.763473   4.120177   7.869335   13.958889  \n",
       "min    478.000000   2.940000   0.000000   4.000000  28.000000   75.000000  \n",
       "25%    587.250000   3.682500   1.000000   9.000000  37.250000   86.000000  \n",
       "50%    644.500000   4.025000   3.000000  12.000000  42.000000   91.000000  \n",
       "75%    679.250000   4.220000   5.750000  13.000000  46.750000   96.750000  \n",
       "max    799.000000   5.040000  11.000000  21.000000  62.000000  126.000000  "
      ]
     },
     "execution_count": 6,
     "metadata": {},
     "output_type": "execute_result"
    }
   ],
   "source": [
    "data.describe()"
   ]
  },
  {
   "cell_type": "code",
   "execution_count": 6,
   "id": "15cea443",
   "metadata": {
    "scrolled": true
   },
   "outputs": [
    {
     "data": {
      "text/plain": [
       "W      0\n",
       "R      0\n",
       "AB     0\n",
       "H      0\n",
       "2B     0\n",
       "3B     0\n",
       "HR     0\n",
       "BB     0\n",
       "SO     0\n",
       "SB     0\n",
       "RA     0\n",
       "ER     0\n",
       "ERA    0\n",
       "CG     0\n",
       "SHO    0\n",
       "SV     0\n",
       "E      0\n",
       "dtype: int64"
      ]
     },
     "execution_count": 6,
     "metadata": {},
     "output_type": "execute_result"
    }
   ],
   "source": [
    "data.isnull().sum()"
   ]
  },
  {
   "cell_type": "markdown",
   "id": "478bb887",
   "metadata": {},
   "source": [
    "# Univariate Analysis"
   ]
  },
  {
   "cell_type": "code",
   "execution_count": 324,
   "id": "431ce6f1",
   "metadata": {
    "scrolled": true
   },
   "outputs": [
    {
     "data": {
      "image/png": "[encoded data removed]",
      "text/plain": [
       "<Figure size 432x288 with 1 Axes>"
      ]
     },
     "metadata": {
      "needs_background": "light"
     },
     "output_type": "display_data"
    },
    {
     "data": {
      "text/plain": [
       "1.2007863569707353"
      ]
     },
     "execution_count": 324,
     "metadata": {},
     "output_type": "execute_result"
    }
   ],
   "source": [
    "sns.distplot(data[\"R\"])\n",
    "plt.show()\n",
    "data[\"R\"].skew()"
   ]
  },
  {
   "cell_type": "markdown",
   "id": "020995b5",
   "metadata": {},
   "source": [
    "R stands for the runs by a given team.The distplot of feature \"R\" shows that the runs are distributed between 470 to 970 with peaking at 660 runs. It is not following normal distribution and has highly skewed.Most of the distribution is from 570 to 890."
   ]
  },
  {
   "cell_type": "code",
   "execution_count": 323,
   "id": "3f352086",
   "metadata": {
    "scrolled": true
   },
   "outputs": [
    {
     "data": {
      "image/png": "[encoded data removed]",
      "text/plain": [
       "<Figure size 432x288 with 1 Axes>"
      ]
     },
     "metadata": {
      "needs_background": "light"
     },
     "output_type": "display_data"
    },
    {
     "data": {
      "text/plain": [
       "0.18343655908507983"
      ]
     },
     "execution_count": 323,
     "metadata": {},
     "output_type": "execute_result"
    }
   ],
   "source": [
    "sns.distplot(data[\"AB\"])\n",
    "plt.show()\n",
    "data[\"AB\"].skew()"
   ]
  },
  {
   "cell_type": "markdown",
   "id": "1f82c032",
   "metadata": {},
   "source": [
    "AB stands for At Bats which is nothing but a batter's turn against the pitcher,in the distplot, it is observed that it is ranging from -5250 to 5780 and it is almost symmetric with a skewness value of 0.18."
   ]
  },
  {
   "cell_type": "code",
   "execution_count": 322,
   "id": "3446beee",
   "metadata": {},
   "outputs": [
    {
     "data": {
      "image/png": "[encoded data removed]",
      "text/plain": [
       "<Figure size 432x288 with 1 Axes>"
      ]
     },
     "metadata": {
      "needs_background": "light"
     },
     "output_type": "display_data"
    },
    {
     "data": {
      "text/plain": [
       "0.6702537173217267"
      ]
     },
     "execution_count": 322,
     "metadata": {},
     "output_type": "execute_result"
    }
   ],
   "source": [
    "sns.distplot(data[\"H\"])\n",
    "plt.show()\n",
    "data['H'].skew()"
   ]
  },
  {
   "cell_type": "markdown",
   "id": "956ddbba",
   "metadata": {},
   "source": [
    "H stands for number of hits by the player. It is credited to the player when they reache the first base after hitting the ball into fair area. The distribution of Hits is moderately skewed and has one major peak and one minor peak. The distribution of runs is from 1310 to 1510 runs."
   ]
  },
  {
   "cell_type": "code",
   "execution_count": 325,
   "id": "9708883e",
   "metadata": {},
   "outputs": [
    {
     "data": {
      "image/png": "[encoded data removed]",
      "text/plain": [
       "<Figure size 432x288 with 1 Axes>"
      ]
     },
     "metadata": {
      "needs_background": "light"
     },
     "output_type": "display_data"
    },
    {
     "data": {
      "text/plain": [
       "-0.23064991757259148"
      ]
     },
     "execution_count": 325,
     "metadata": {},
     "output_type": "execute_result"
    }
   ],
   "source": [
    "sns.distplot(data[\"2B\"])\n",
    "plt.show()\n",
    "data[\"2B\"].skew()"
   ]
  },
  {
   "cell_type": "markdown",
   "id": "11597eb5",
   "metadata": {},
   "source": [
    "2B denotes the number of hits by the batter in which the batter reaches the second base without any error. As per the distplot, the range is from 237 to 315 and is moderately skewed."
   ]
  },
  {
   "cell_type": "code",
   "execution_count": 327,
   "id": "784e48d2",
   "metadata": {},
   "outputs": [
    {
     "data": {
      "image/png": "[encoded data removed]",
      "text/plain": [
       "<Figure size 432x288 with 1 Axes>"
      ]
     },
     "metadata": {
      "needs_background": "light"
     },
     "output_type": "display_data"
    },
    {
     "data": {
      "text/plain": [
       "0.129502450836424"
      ]
     },
     "execution_count": 327,
     "metadata": {},
     "output_type": "execute_result"
    }
   ],
   "source": [
    "sns.distplot(data[\"3B\"])\n",
    "plt.show()\n",
    "data[\"3B\"].skew()"
   ]
  },
  {
   "cell_type": "markdown",
   "id": "b1ff3b81",
   "metadata": {},
   "source": [
    "3B denotes the number of hits by the batter where batter reaches the third base without any error. The distribution is from 13 to 48 and it is almost symmetric."
   ]
  },
  {
   "cell_type": "code",
   "execution_count": 328,
   "id": "bef96d4b",
   "metadata": {
    "scrolled": true
   },
   "outputs": [
    {
     "data": {
      "image/png": "[encoded data removed]",
      "text/plain": [
       "<Figure size 432x288 with 1 Axes>"
      ]
     },
     "metadata": {
      "needs_background": "light"
     },
     "output_type": "display_data"
    },
    {
     "data": {
      "text/plain": [
       "0.5164407366297173"
      ]
     },
     "execution_count": 328,
     "metadata": {},
     "output_type": "execute_result"
    }
   ],
   "source": [
    "sns.distplot(data[\"HR\"])\n",
    "plt.show()\n",
    "data[\"HR\"].skew()"
   ]
  },
  {
   "cell_type": "markdown",
   "id": "24c9617c",
   "metadata": {},
   "source": [
    "HR stands for Home Runs which occurs when the ball completes all the 4 bases successfuly without any errors. The distribution is moderately skewed and ranges from 100 to 230."
   ]
  },
  {
   "cell_type": "code",
   "execution_count": 329,
   "id": "0336261b",
   "metadata": {},
   "outputs": [
    {
     "data": {
      "image/png": "[encoded data removed]",
      "text/plain": [
       "<Figure size 432x288 with 1 Axes>"
      ]
     },
     "metadata": {
      "needs_background": "light"
     },
     "output_type": "display_data"
    },
    {
     "data": {
      "text/plain": [
       "0.15849848440330838"
      ]
     },
     "execution_count": 329,
     "metadata": {},
     "output_type": "execute_result"
    }
   ],
   "source": [
    "sns.distplot(data[\"BB\"])\n",
    "plt.show()\n",
    "data[\"BB\"].skew()"
   ]
  },
  {
   "cell_type": "markdown",
   "id": "7ade0d38",
   "metadata": {},
   "source": [
    "BB- Base on Balls happens when the batter is not swinging at all the 4 pitches and is given first base. The distribution is approximately symmetric and the range is from 375 to 520."
   ]
  },
  {
   "cell_type": "code",
   "execution_count": 330,
   "id": "55ac5436",
   "metadata": {},
   "outputs": [
    {
     "data": {
      "image/png": "[encoded data removed]",
      "text/plain": [
       "<Figure size 432x288 with 1 Axes>"
      ]
     },
     "metadata": {
      "needs_background": "light"
     },
     "output_type": "display_data"
    },
    {
     "data": {
      "text/plain": [
       "-0.1560654813644833"
      ]
     },
     "execution_count": 330,
     "metadata": {},
     "output_type": "execute_result"
    }
   ],
   "source": [
    "sns.distplot(data[\"SO\"])\n",
    "plt.show()\n",
    "data[\"SO\"].skew()"
   ]
  },
  {
   "cell_type": "markdown",
   "id": "a0381d0e",
   "metadata": {},
   "source": [
    "SO- Strikeout is the number of times the batter accumulates 3 strikes during his term of batting. The range is from 910 to 1500 and it is approximately symmetric."
   ]
  },
  {
   "cell_type": "code",
   "execution_count": 332,
   "id": "8196d4a1",
   "metadata": {},
   "outputs": [
    {
     "data": {
      "image/png": "[encoded data removed]",
      "text/plain": [
       "<Figure size 432x288 with 1 Axes>"
      ]
     },
     "metadata": {
      "needs_background": "light"
     },
     "output_type": "display_data"
    },
    {
     "data": {
      "text/plain": [
       "0.4798928679573835"
      ]
     },
     "execution_count": 332,
     "metadata": {},
     "output_type": "execute_result"
    }
   ],
   "source": [
    "sns.distplot(data[\"SB\"])\n",
    "plt.show()\n",
    "data[\"SB\"].skew()"
   ]
  },
  {
   "cell_type": "markdown",
   "id": "ca7ef39e",
   "metadata": {},
   "source": [
    "SB denotes the number of times the batter has scored bases when the ball is in possesion of the defense.The distribution is moderately skewed and ranging from 43 to 134."
   ]
  },
  {
   "cell_type": "code",
   "execution_count": 333,
   "id": "1d970788",
   "metadata": {},
   "outputs": [
    {
     "data": {
      "image/png": "[encoded data removed]",
      "text/plain": [
       "<Figure size 432x288 with 1 Axes>"
      ]
     },
     "metadata": {
      "needs_background": "light"
     },
     "output_type": "display_data"
    },
    {
     "data": {
      "text/plain": [
       "0.04573397531336112"
      ]
     },
     "execution_count": 333,
     "metadata": {},
     "output_type": "execute_result"
    }
   ],
   "source": [
    "sns.distplot(data[\"RA\"])\n",
    "plt.show()\n",
    "data[\"RA\"].skew()"
   ]
  },
  {
   "cell_type": "markdown",
   "id": "576e3887",
   "metadata": {},
   "source": [
    "RA is the run average which is the measure of the rate of runs by the player per nine innings.The feature is moderatly skewed and ranging from 510 to 850."
   ]
  },
  {
   "cell_type": "code",
   "execution_count": 334,
   "id": "4b1285e3",
   "metadata": {},
   "outputs": [
    {
     "data": {
      "image/png": "[encoded data removed]",
      "text/plain": [
       "<Figure size 432x288 with 1 Axes>"
      ]
     },
     "metadata": {
      "needs_background": "light"
     },
     "output_type": "display_data"
    },
    {
     "data": {
      "text/plain": [
       "0.05870979570981254"
      ]
     },
     "execution_count": 334,
     "metadata": {},
     "output_type": "execute_result"
    }
   ],
   "source": [
    "sns.distplot(data[\"ER\"])\n",
    "plt.show()\n",
    "data[\"ER\"].skew()"
   ]
  },
  {
   "cell_type": "markdown",
   "id": "19e1b7ba",
   "metadata": {},
   "source": [
    "ER is the number of times run did not occur due to passed balls or erros. The feature is moderately skewed."
   ]
  },
  {
   "cell_type": "code",
   "execution_count": 335,
   "id": "4ea03503",
   "metadata": {},
   "outputs": [
    {
     "data": {
      "image/png": "[encoded data removed]",
      "text/plain": [
       "<Figure size 432x288 with 1 Axes>"
      ]
     },
     "metadata": {
      "needs_background": "light"
     },
     "output_type": "display_data"
    },
    {
     "data": {
      "text/plain": [
       "0.053331339494040286"
      ]
     },
     "execution_count": 335,
     "metadata": {},
     "output_type": "execute_result"
    }
   ],
   "source": [
    "sns.distplot(data[\"ERA\"])\n",
    "plt.show()\n",
    "data[\"ERA\"].skew()"
   ]
  },
  {
   "cell_type": "markdown",
   "id": "107ddc04",
   "metadata": {},
   "source": [
    "ERA is the number of Earned runs multiplied by 9 and divided by innings pitched. This feature is also moderately skewed."
   ]
  },
  {
   "cell_type": "code",
   "execution_count": 336,
   "id": "09115549",
   "metadata": {},
   "outputs": [
    {
     "data": {
      "image/png": "[encoded data removed]",
      "text/plain": [
       "<Figure size 432x288 with 1 Axes>"
      ]
     },
     "metadata": {
      "needs_background": "light"
     },
     "output_type": "display_data"
    },
    {
     "data": {
      "text/plain": [
       "0.7368452725826206"
      ]
     },
     "execution_count": 336,
     "metadata": {},
     "output_type": "execute_result"
    }
   ],
   "source": [
    "sns.distplot(data[\"CG\"])\n",
    "plt.show()\n",
    "data[\"CG\"].skew()"
   ]
  },
  {
   "cell_type": "markdown",
   "id": "df9d689b",
   "metadata": {},
   "source": [
    "CG-complete games is the measure of the number of games where the player was the only pitches for their team. This feature is moderately skewed as per the above output."
   ]
  },
  {
   "cell_type": "code",
   "execution_count": 337,
   "id": "f2fd2dd4",
   "metadata": {},
   "outputs": [
    {
     "data": {
      "image/png": "[encoded data removed]",
      "text/plain": [
       "<Figure size 432x288 with 1 Axes>"
      ]
     },
     "metadata": {
      "needs_background": "light"
     },
     "output_type": "display_data"
    },
    {
     "data": {
      "text/plain": [
       "0.5657904298216165"
      ]
     },
     "execution_count": 337,
     "metadata": {},
     "output_type": "execute_result"
    }
   ],
   "source": [
    "sns.distplot(data[\"SHO\"])\n",
    "plt.show()\n",
    "data[\"SHO\"].skew()"
   ]
  },
  {
   "cell_type": "markdown",
   "id": "8b785cc3",
   "metadata": {},
   "source": [
    "SHO refers to shutout where a pitcher pitches a complete game without allowing the opposition team to score a run. This feature is moderately skewed."
   ]
  },
  {
   "cell_type": "code",
   "execution_count": 338,
   "id": "e3b5aaf3",
   "metadata": {},
   "outputs": [
    {
     "data": {
      "image/png": "[encoded data removed]",
      "text/plain": [
       "<Figure size 432x288 with 1 Axes>"
      ]
     },
     "metadata": {
      "needs_background": "light"
     },
     "output_type": "display_data"
    },
    {
     "data": {
      "text/plain": [
       "0.6575235461553925"
      ]
     },
     "execution_count": 338,
     "metadata": {},
     "output_type": "execute_result"
    }
   ],
   "source": [
    "sns.distplot(data[\"SV\"])\n",
    "plt.show()\n",
    "data[\"SV\"].skew()"
   ]
  },
  {
   "cell_type": "markdown",
   "id": "c5d0cf67",
   "metadata": {},
   "source": [
    "Save is credited to a pitcher when the pitcher completes the game under a set circumstances, usually Pitcher earns a save by entering into Ninth Inning. This feature in the dataset is moderately skewed."
   ]
  },
  {
   "cell_type": "code",
   "execution_count": 339,
   "id": "2739bd33",
   "metadata": {},
   "outputs": [
    {
     "data": {
      "image/png": "[encoded data removed]",
      "text/plain": [
       "<Figure size 432x288 with 1 Axes>"
      ]
     },
     "metadata": {
      "needs_background": "light"
     },
     "output_type": "display_data"
    },
    {
     "data": {
      "text/plain": [
       "0.8901318267689016"
      ]
     },
     "execution_count": 339,
     "metadata": {},
     "output_type": "execute_result"
    }
   ],
   "source": [
    "sns.distplot(data[\"E\"])\n",
    "plt.show()\n",
    "data[\"E\"].skew()"
   ]
  },
  {
   "cell_type": "markdown",
   "id": "ab254ac2",
   "metadata": {},
   "source": [
    "E-Error is the measure of occurences when a fielder misplays a ball which results in the opposition team benefit. This feature is highly skewed."
   ]
  },
  {
   "cell_type": "markdown",
   "id": "9ee1437c",
   "metadata": {},
   "source": [
    "Observations from the data\n",
    "1. The data consists of 30 rows and 17 columns.\n",
    "2. Data has 16 features- 'R', 'AB', 'H', '2B', '3B', 'HR', 'BB', 'SO', 'SB', 'RA', 'ER','ERA', 'CG', 'SHO', 'SV', 'E' and 1        target-'W'\n",
    "3. We can observe that the features and target are of continuous nature and except the feature \"ERA\" (Float data type)  all        variables of integer data type.\n",
    "4. There are no null values in the data set.\n",
    "5. Thers are no categorical features in the data set.\n",
    "\n",
    "\n"
   ]
  },
  {
   "cell_type": "markdown",
   "id": "279e15ac",
   "metadata": {},
   "source": [
    "# Bivariate Analysis"
   ]
  },
  {
   "cell_type": "code",
   "execution_count": 7,
   "id": "14be430a",
   "metadata": {},
   "outputs": [
    {
     "data": {
      "text/plain": [
       "ERA   -0.819600\n",
       "RA    -0.812952\n",
       "ER    -0.809435\n",
       "3B    -0.251118\n",
       "SB    -0.157234\n",
       "E     -0.089485\n",
       "AB    -0.087947\n",
       "H      0.037612\n",
       "CG     0.080533\n",
       "SO     0.111850\n",
       "HR     0.307407\n",
       "2B     0.427797\n",
       "R      0.430751\n",
       "SHO    0.471805\n",
       "BB     0.484342\n",
       "SV     0.666530\n",
       "W      1.000000\n",
       "Name: W, dtype: float64"
      ]
     },
     "execution_count": 7,
     "metadata": {},
     "output_type": "execute_result"
    }
   ],
   "source": [
    "data.corr()[\"W\"].sort_values()"
   ]
  },
  {
   "cell_type": "code",
   "execution_count": 8,
   "id": "75af851a",
   "metadata": {},
   "outputs": [
    {
     "data": {
      "image/png": "[encoded data removed]",
      "text/plain": [
       "<Figure size 1080x1080 with 16 Axes>"
      ]
     },
     "metadata": {
      "needs_background": "light"
     },
     "output_type": "display_data"
    }
   ],
   "source": [
    "a=data.columns[1:17].values\n",
    "ncol=4\n",
    "nrows=4\n",
    "\n",
    "plt.figure(figsize=(15,15))\n",
    "for i in range(0,len(a)):\n",
    "    plt.subplot(nrows,ncol,i+1)\n",
    "    plt.title(\"Regression Plot of Feature {0} and Target W\".format(a[i]))\n",
    "    sns.regplot(x=a[i],y=\"W\",data=data)\n",
    "    plt.tight_layout()"
   ]
  },
  {
   "cell_type": "code",
   "execution_count": 9,
   "id": "56324f00",
   "metadata": {},
   "outputs": [
    {
     "data": {
      "text/plain": [
       "<AxesSubplot:>"
      ]
     },
     "execution_count": 9,
     "metadata": {},
     "output_type": "execute_result"
    },
    {
     "data": {
      "image/png": "[encoded data removed]",
      "text/plain": [
       "<Figure size 1440x1440 with 2 Axes>"
      ]
     },
     "metadata": {
      "needs_background": "light"
     },
     "output_type": "display_data"
    }
   ],
   "source": [
    "#Checking Correlation by plotting heatmap\n",
    "plt.figure(figsize=(20,20))\n",
    "sns.heatmap(data.corr(),annot=True)"
   ]
  },
  {
   "cell_type": "code",
   "execution_count": 11,
   "id": "02ca3102",
   "metadata": {},
   "outputs": [
    {
     "data": {
      "image/png": "[encoded data removed]",
      "text/plain": [
       "<Figure size 2880x8640 with 16 Axes>"
      ]
     },
     "metadata": {
      "needs_background": "light"
     },
     "output_type": "display_data"
    }
   ],
   "source": [
    "clist=data.columns[1:17].values\n",
    "ncol=40\n",
    "nrows=15\n",
    "\n",
    "plt.figure(figsize=(ncol,3*ncol))\n",
    "for i in range(0,len(clist)):\n",
    "    plt.subplot(nrows,ncol,i+1)\n",
    "    sns.boxplot(data=data[clist[i]])\n",
    "    plt.tight_layout()"
   ]
  },
  {
   "cell_type": "markdown",
   "id": "e2e59638",
   "metadata": {},
   "source": [
    "1. R is linearly related to the target W\n",
    "2. AB is weakly linearly related to the target\n",
    "3. H is also weakly linearly related to the target\n",
    "4. 2B is linearly related to the target\n",
    "5. 3B is having negative relation to the target\n",
    "6. HR is weakly related to the target\n",
    "7. BB is weakly related to the target\n",
    "8. SO is also weakly related to the target\n",
    "9. SB,ER,ERA,RA are negatively related to the target\n",
    "10. CG has very minimal linear relation to the target\n",
    "11. SHO and SV are linearly related to the target\n",
    "12. E has a negative relation to the target\n",
    "13. Outliers are present in the feature \"R\", which will be removed using z-score."
   ]
  },
  {
   "cell_type": "code",
   "execution_count": 12,
   "id": "3ebbdc54",
   "metadata": {},
   "outputs": [],
   "source": [
    "#Checking Z-Score for Outliers\n",
    "from scipy import stats\n",
    "\n",
    "z1=abs(stats.zscore(data[clist]))"
   ]
  },
  {
   "cell_type": "code",
   "execution_count": 13,
   "id": "2c22f6fe",
   "metadata": {},
   "outputs": [
    {
     "data": {
      "text/html": [
       "<div>\n",
       "<style scoped>\n",
       "    .dataframe tbody tr th:only-of-type {\n",
       "        vertical-align: middle;\n",
       "    }\n",
       "\n",
       "    .dataframe tbody tr th {\n",
       "        vertical-align: top;\n",
       "    }\n",
       "\n",
       "    .dataframe thead th {\n",
       "        text-align: right;\n",
       "    }\n",
       "</style>\n",
       "<table border=\"1\" class=\"dataframe\">\n",
       "  <thead>\n",
       "    <tr style=\"text-align: right;\">\n",
       "      <th></th>\n",
       "      <th>R</th>\n",
       "      <th>AB</th>\n",
       "      <th>H</th>\n",
       "      <th>2B</th>\n",
       "      <th>3B</th>\n",
       "      <th>HR</th>\n",
       "      <th>BB</th>\n",
       "      <th>SO</th>\n",
       "      <th>SB</th>\n",
       "      <th>RA</th>\n",
       "      <th>ER</th>\n",
       "      <th>ERA</th>\n",
       "      <th>CG</th>\n",
       "      <th>SHO</th>\n",
       "      <th>SV</th>\n",
       "      <th>E</th>\n",
       "    </tr>\n",
       "  </thead>\n",
       "  <tbody>\n",
       "    <tr>\n",
       "      <th>0</th>\n",
       "      <td>0.619078</td>\n",
       "      <td>0.847731</td>\n",
       "      <td>1.663685</td>\n",
       "      <td>1.420173</td>\n",
       "      <td>1.041193</td>\n",
       "      <td>0.787299</td>\n",
       "      <td>1.534902</td>\n",
       "      <td>2.697630</td>\n",
       "      <td>0.913883</td>\n",
       "      <td>0.666234</td>\n",
       "      <td>0.505110</td>\n",
       "      <td>0.506955</td>\n",
       "      <td>0.539806</td>\n",
       "      <td>0.814629</td>\n",
       "      <td>1.671607</td>\n",
       "      <td>0.461470</td>\n",
       "    </tr>\n",
       "    <tr>\n",
       "      <th>1</th>\n",
       "      <td>0.134432</td>\n",
       "      <td>0.711094</td>\n",
       "      <td>0.970681</td>\n",
       "      <td>0.127403</td>\n",
       "      <td>1.235809</td>\n",
       "      <td>0.243967</td>\n",
       "      <td>0.536592</td>\n",
       "      <td>0.154878</td>\n",
       "      <td>0.601826</td>\n",
       "      <td>0.165971</td>\n",
       "      <td>0.248930</td>\n",
       "      <td>0.254598</td>\n",
       "      <td>0.539806</td>\n",
       "      <td>0.172800</td>\n",
       "      <td>0.249879</td>\n",
       "      <td>0.607197</td>\n",
       "    </tr>\n",
       "    <tr>\n",
       "      <th>2</th>\n",
       "      <td>0.332906</td>\n",
       "      <td>1.115233</td>\n",
       "      <td>0.151891</td>\n",
       "      <td>1.588795</td>\n",
       "      <td>0.223808</td>\n",
       "      <td>0.723377</td>\n",
       "      <td>1.139144</td>\n",
       "      <td>0.893982</td>\n",
       "      <td>0.111449</td>\n",
       "      <td>0.680339</td>\n",
       "      <td>0.751623</td>\n",
       "      <td>0.641347</td>\n",
       "      <td>2.772641</td>\n",
       "      <td>0.320914</td>\n",
       "      <td>0.654856</td>\n",
       "      <td>1.117242</td>\n",
       "    </tr>\n",
       "    <tr>\n",
       "      <th>3</th>\n",
       "      <td>1.146419</td>\n",
       "      <td>0.241522</td>\n",
       "      <td>0.401088</td>\n",
       "      <td>0.828122</td>\n",
       "      <td>0.418423</td>\n",
       "      <td>0.883181</td>\n",
       "      <td>1.160536</td>\n",
       "      <td>0.168602</td>\n",
       "      <td>0.690985</td>\n",
       "      <td>0.180076</td>\n",
       "      <td>0.103922</td>\n",
       "      <td>0.053010</td>\n",
       "      <td>1.300442</td>\n",
       "      <td>0.567771</td>\n",
       "      <td>0.784104</td>\n",
       "      <td>0.485758</td>\n",
       "    </tr>\n",
       "    <tr>\n",
       "      <th>4</th>\n",
       "      <td>0.013270</td>\n",
       "      <td>1.280738</td>\n",
       "      <td>1.984081</td>\n",
       "      <td>0.801892</td>\n",
       "      <td>1.722347</td>\n",
       "      <td>0.403770</td>\n",
       "      <td>0.251360</td>\n",
       "      <td>0.105866</td>\n",
       "      <td>0.022290</td>\n",
       "      <td>1.618803</td>\n",
       "      <td>1.597501</td>\n",
       "      <td>1.531318</td>\n",
       "      <td>1.300442</td>\n",
       "      <td>0.172800</td>\n",
       "      <td>1.042600</td>\n",
       "      <td>0.607197</td>\n",
       "    </tr>\n",
       "    <tr>\n",
       "      <th>5</th>\n",
       "      <td>3.509647</td>\n",
       "      <td>0.104884</td>\n",
       "      <td>1.361089</td>\n",
       "      <td>1.869832</td>\n",
       "      <td>1.391501</td>\n",
       "      <td>2.185047</td>\n",
       "      <td>1.798742</td>\n",
       "      <td>0.952796</td>\n",
       "      <td>0.200609</td>\n",
       "      <td>0.257184</td>\n",
       "      <td>0.389104</td>\n",
       "      <td>0.350165</td>\n",
       "      <td>1.300442</td>\n",
       "      <td>0.320914</td>\n",
       "      <td>1.171848</td>\n",
       "      <td>0.461470</td>\n",
       "    </tr>\n",
       "  </tbody>\n",
       "</table>\n",
       "</div>"
      ],
      "text/plain": [
       "          R        AB         H        2B        3B        HR        BB  \\\n",
       "0  0.619078  0.847731  1.663685  1.420173  1.041193  0.787299  1.534902   \n",
       "1  0.134432  0.711094  0.970681  0.127403  1.235809  0.243967  0.536592   \n",
       "2  0.332906  1.115233  0.151891  1.588795  0.223808  0.723377  1.139144   \n",
       "3  1.146419  0.241522  0.401088  0.828122  0.418423  0.883181  1.160536   \n",
       "4  0.013270  1.280738  1.984081  0.801892  1.722347  0.403770  0.251360   \n",
       "5  3.509647  0.104884  1.361089  1.869832  1.391501  2.185047  1.798742   \n",
       "\n",
       "         SO        SB        RA        ER       ERA        CG       SHO  \\\n",
       "0  2.697630  0.913883  0.666234  0.505110  0.506955  0.539806  0.814629   \n",
       "1  0.154878  0.601826  0.165971  0.248930  0.254598  0.539806  0.172800   \n",
       "2  0.893982  0.111449  0.680339  0.751623  0.641347  2.772641  0.320914   \n",
       "3  0.168602  0.690985  0.180076  0.103922  0.053010  1.300442  0.567771   \n",
       "4  0.105866  0.022290  1.618803  1.597501  1.531318  1.300442  0.172800   \n",
       "5  0.952796  0.200609  0.257184  0.389104  0.350165  1.300442  0.320914   \n",
       "\n",
       "         SV         E  \n",
       "0  1.671607  0.461470  \n",
       "1  0.249879  0.607197  \n",
       "2  0.654856  1.117242  \n",
       "3  0.784104  0.485758  \n",
       "4  1.042600  0.607197  \n",
       "5  1.171848  0.461470  "
      ]
     },
     "execution_count": 13,
     "metadata": {},
     "output_type": "execute_result"
    }
   ],
   "source": [
    "z1.head(6)"
   ]
  },
  {
   "cell_type": "code",
   "execution_count": 14,
   "id": "d6cade0f",
   "metadata": {},
   "outputs": [
    {
     "data": {
      "text/plain": [
       "(array([5], dtype=int64), array([0], dtype=int64))"
      ]
     },
     "execution_count": 14,
     "metadata": {},
     "output_type": "execute_result"
    }
   ],
   "source": [
    "x=np.where(z1>3)\n",
    "x\n",
    "\n",
    "#we can notice that there is one outlier at row 5 and column R there is an outlier, zscore value- 3.5"
   ]
  },
  {
   "cell_type": "code",
   "execution_count": 15,
   "id": "07b028d3",
   "metadata": {},
   "outputs": [],
   "source": [
    "data_z=data[(z1 < 3).all(axis=1)]"
   ]
  },
  {
   "cell_type": "code",
   "execution_count": 16,
   "id": "c6cf2431",
   "metadata": {},
   "outputs": [
    {
     "data": {
      "text/html": [
       "<div>\n",
       "<style scoped>\n",
       "    .dataframe tbody tr th:only-of-type {\n",
       "        vertical-align: middle;\n",
       "    }\n",
       "\n",
       "    .dataframe tbody tr th {\n",
       "        vertical-align: top;\n",
       "    }\n",
       "\n",
       "    .dataframe thead th {\n",
       "        text-align: right;\n",
       "    }\n",
       "</style>\n",
       "<table border=\"1\" class=\"dataframe\">\n",
       "  <thead>\n",
       "    <tr style=\"text-align: right;\">\n",
       "      <th></th>\n",
       "      <th>W</th>\n",
       "      <th>R</th>\n",
       "      <th>AB</th>\n",
       "      <th>H</th>\n",
       "      <th>2B</th>\n",
       "      <th>3B</th>\n",
       "      <th>HR</th>\n",
       "      <th>BB</th>\n",
       "      <th>SO</th>\n",
       "      <th>SB</th>\n",
       "      <th>RA</th>\n",
       "      <th>ER</th>\n",
       "      <th>ERA</th>\n",
       "      <th>CG</th>\n",
       "      <th>SHO</th>\n",
       "      <th>SV</th>\n",
       "      <th>E</th>\n",
       "    </tr>\n",
       "  </thead>\n",
       "  <tbody>\n",
       "    <tr>\n",
       "      <th>0</th>\n",
       "      <td>95</td>\n",
       "      <td>724</td>\n",
       "      <td>5575</td>\n",
       "      <td>1497</td>\n",
       "      <td>300</td>\n",
       "      <td>42</td>\n",
       "      <td>139</td>\n",
       "      <td>383</td>\n",
       "      <td>973</td>\n",
       "      <td>104</td>\n",
       "      <td>641</td>\n",
       "      <td>601</td>\n",
       "      <td>3.73</td>\n",
       "      <td>2</td>\n",
       "      <td>8</td>\n",
       "      <td>56</td>\n",
       "      <td>88</td>\n",
       "    </tr>\n",
       "    <tr>\n",
       "      <th>1</th>\n",
       "      <td>83</td>\n",
       "      <td>696</td>\n",
       "      <td>5467</td>\n",
       "      <td>1349</td>\n",
       "      <td>277</td>\n",
       "      <td>44</td>\n",
       "      <td>156</td>\n",
       "      <td>439</td>\n",
       "      <td>1264</td>\n",
       "      <td>70</td>\n",
       "      <td>700</td>\n",
       "      <td>653</td>\n",
       "      <td>4.07</td>\n",
       "      <td>2</td>\n",
       "      <td>12</td>\n",
       "      <td>45</td>\n",
       "      <td>86</td>\n",
       "    </tr>\n",
       "    <tr>\n",
       "      <th>2</th>\n",
       "      <td>81</td>\n",
       "      <td>669</td>\n",
       "      <td>5439</td>\n",
       "      <td>1395</td>\n",
       "      <td>303</td>\n",
       "      <td>29</td>\n",
       "      <td>141</td>\n",
       "      <td>533</td>\n",
       "      <td>1157</td>\n",
       "      <td>86</td>\n",
       "      <td>640</td>\n",
       "      <td>584</td>\n",
       "      <td>3.67</td>\n",
       "      <td>11</td>\n",
       "      <td>10</td>\n",
       "      <td>38</td>\n",
       "      <td>79</td>\n",
       "    </tr>\n",
       "    <tr>\n",
       "      <th>3</th>\n",
       "      <td>76</td>\n",
       "      <td>622</td>\n",
       "      <td>5533</td>\n",
       "      <td>1381</td>\n",
       "      <td>260</td>\n",
       "      <td>27</td>\n",
       "      <td>136</td>\n",
       "      <td>404</td>\n",
       "      <td>1231</td>\n",
       "      <td>68</td>\n",
       "      <td>701</td>\n",
       "      <td>643</td>\n",
       "      <td>3.98</td>\n",
       "      <td>7</td>\n",
       "      <td>9</td>\n",
       "      <td>37</td>\n",
       "      <td>101</td>\n",
       "    </tr>\n",
       "    <tr>\n",
       "      <th>4</th>\n",
       "      <td>74</td>\n",
       "      <td>689</td>\n",
       "      <td>5605</td>\n",
       "      <td>1515</td>\n",
       "      <td>289</td>\n",
       "      <td>49</td>\n",
       "      <td>151</td>\n",
       "      <td>455</td>\n",
       "      <td>1259</td>\n",
       "      <td>83</td>\n",
       "      <td>803</td>\n",
       "      <td>746</td>\n",
       "      <td>4.64</td>\n",
       "      <td>7</td>\n",
       "      <td>12</td>\n",
       "      <td>35</td>\n",
       "      <td>86</td>\n",
       "    </tr>\n",
       "    <tr>\n",
       "      <th>6</th>\n",
       "      <td>87</td>\n",
       "      <td>764</td>\n",
       "      <td>5567</td>\n",
       "      <td>1397</td>\n",
       "      <td>272</td>\n",
       "      <td>19</td>\n",
       "      <td>212</td>\n",
       "      <td>554</td>\n",
       "      <td>1227</td>\n",
       "      <td>63</td>\n",
       "      <td>698</td>\n",
       "      <td>652</td>\n",
       "      <td>4.03</td>\n",
       "      <td>3</td>\n",
       "      <td>4</td>\n",
       "      <td>48</td>\n",
       "      <td>93</td>\n",
       "    </tr>\n",
       "    <tr>\n",
       "      <th>7</th>\n",
       "      <td>81</td>\n",
       "      <td>713</td>\n",
       "      <td>5485</td>\n",
       "      <td>1370</td>\n",
       "      <td>246</td>\n",
       "      <td>20</td>\n",
       "      <td>217</td>\n",
       "      <td>418</td>\n",
       "      <td>1331</td>\n",
       "      <td>44</td>\n",
       "      <td>693</td>\n",
       "      <td>646</td>\n",
       "      <td>4.05</td>\n",
       "      <td>0</td>\n",
       "      <td>10</td>\n",
       "      <td>43</td>\n",
       "      <td>77</td>\n",
       "    </tr>\n",
       "    <tr>\n",
       "      <th>8</th>\n",
       "      <td>80</td>\n",
       "      <td>644</td>\n",
       "      <td>5485</td>\n",
       "      <td>1383</td>\n",
       "      <td>278</td>\n",
       "      <td>32</td>\n",
       "      <td>167</td>\n",
       "      <td>436</td>\n",
       "      <td>1310</td>\n",
       "      <td>87</td>\n",
       "      <td>642</td>\n",
       "      <td>604</td>\n",
       "      <td>3.74</td>\n",
       "      <td>1</td>\n",
       "      <td>12</td>\n",
       "      <td>60</td>\n",
       "      <td>95</td>\n",
       "    </tr>\n",
       "    <tr>\n",
       "      <th>9</th>\n",
       "      <td>78</td>\n",
       "      <td>748</td>\n",
       "      <td>5640</td>\n",
       "      <td>1495</td>\n",
       "      <td>294</td>\n",
       "      <td>33</td>\n",
       "      <td>161</td>\n",
       "      <td>478</td>\n",
       "      <td>1148</td>\n",
       "      <td>71</td>\n",
       "      <td>753</td>\n",
       "      <td>694</td>\n",
       "      <td>4.31</td>\n",
       "      <td>3</td>\n",
       "      <td>10</td>\n",
       "      <td>40</td>\n",
       "      <td>97</td>\n",
       "    </tr>\n",
       "    <tr>\n",
       "      <th>10</th>\n",
       "      <td>88</td>\n",
       "      <td>751</td>\n",
       "      <td>5511</td>\n",
       "      <td>1419</td>\n",
       "      <td>279</td>\n",
       "      <td>32</td>\n",
       "      <td>172</td>\n",
       "      <td>503</td>\n",
       "      <td>1233</td>\n",
       "      <td>101</td>\n",
       "      <td>733</td>\n",
       "      <td>680</td>\n",
       "      <td>4.24</td>\n",
       "      <td>5</td>\n",
       "      <td>9</td>\n",
       "      <td>45</td>\n",
       "      <td>119</td>\n",
       "    </tr>\n",
       "    <tr>\n",
       "      <th>11</th>\n",
       "      <td>86</td>\n",
       "      <td>729</td>\n",
       "      <td>5459</td>\n",
       "      <td>1363</td>\n",
       "      <td>278</td>\n",
       "      <td>26</td>\n",
       "      <td>230</td>\n",
       "      <td>486</td>\n",
       "      <td>1392</td>\n",
       "      <td>121</td>\n",
       "      <td>618</td>\n",
       "      <td>572</td>\n",
       "      <td>3.57</td>\n",
       "      <td>5</td>\n",
       "      <td>13</td>\n",
       "      <td>39</td>\n",
       "      <td>85</td>\n",
       "    </tr>\n",
       "    <tr>\n",
       "      <th>12</th>\n",
       "      <td>85</td>\n",
       "      <td>661</td>\n",
       "      <td>5417</td>\n",
       "      <td>1331</td>\n",
       "      <td>243</td>\n",
       "      <td>21</td>\n",
       "      <td>176</td>\n",
       "      <td>435</td>\n",
       "      <td>1150</td>\n",
       "      <td>52</td>\n",
       "      <td>675</td>\n",
       "      <td>630</td>\n",
       "      <td>3.94</td>\n",
       "      <td>2</td>\n",
       "      <td>12</td>\n",
       "      <td>46</td>\n",
       "      <td>93</td>\n",
       "    </tr>\n",
       "    <tr>\n",
       "      <th>13</th>\n",
       "      <td>76</td>\n",
       "      <td>656</td>\n",
       "      <td>5544</td>\n",
       "      <td>1379</td>\n",
       "      <td>262</td>\n",
       "      <td>22</td>\n",
       "      <td>198</td>\n",
       "      <td>478</td>\n",
       "      <td>1336</td>\n",
       "      <td>69</td>\n",
       "      <td>726</td>\n",
       "      <td>677</td>\n",
       "      <td>4.16</td>\n",
       "      <td>6</td>\n",
       "      <td>12</td>\n",
       "      <td>45</td>\n",
       "      <td>94</td>\n",
       "    </tr>\n",
       "    <tr>\n",
       "      <th>14</th>\n",
       "      <td>68</td>\n",
       "      <td>694</td>\n",
       "      <td>5600</td>\n",
       "      <td>1405</td>\n",
       "      <td>277</td>\n",
       "      <td>46</td>\n",
       "      <td>146</td>\n",
       "      <td>475</td>\n",
       "      <td>1119</td>\n",
       "      <td>78</td>\n",
       "      <td>729</td>\n",
       "      <td>664</td>\n",
       "      <td>4.14</td>\n",
       "      <td>5</td>\n",
       "      <td>15</td>\n",
       "      <td>28</td>\n",
       "      <td>126</td>\n",
       "    </tr>\n",
       "    <tr>\n",
       "      <th>15</th>\n",
       "      <td>100</td>\n",
       "      <td>647</td>\n",
       "      <td>5484</td>\n",
       "      <td>1386</td>\n",
       "      <td>288</td>\n",
       "      <td>39</td>\n",
       "      <td>137</td>\n",
       "      <td>506</td>\n",
       "      <td>1267</td>\n",
       "      <td>69</td>\n",
       "      <td>525</td>\n",
       "      <td>478</td>\n",
       "      <td>2.94</td>\n",
       "      <td>1</td>\n",
       "      <td>15</td>\n",
       "      <td>62</td>\n",
       "      <td>96</td>\n",
       "    </tr>\n",
       "    <tr>\n",
       "      <th>16</th>\n",
       "      <td>98</td>\n",
       "      <td>697</td>\n",
       "      <td>5631</td>\n",
       "      <td>1462</td>\n",
       "      <td>292</td>\n",
       "      <td>27</td>\n",
       "      <td>140</td>\n",
       "      <td>461</td>\n",
       "      <td>1322</td>\n",
       "      <td>98</td>\n",
       "      <td>596</td>\n",
       "      <td>532</td>\n",
       "      <td>3.21</td>\n",
       "      <td>0</td>\n",
       "      <td>13</td>\n",
       "      <td>54</td>\n",
       "      <td>122</td>\n",
       "    </tr>\n",
       "    <tr>\n",
       "      <th>17</th>\n",
       "      <td>97</td>\n",
       "      <td>689</td>\n",
       "      <td>5491</td>\n",
       "      <td>1341</td>\n",
       "      <td>272</td>\n",
       "      <td>30</td>\n",
       "      <td>171</td>\n",
       "      <td>567</td>\n",
       "      <td>1518</td>\n",
       "      <td>95</td>\n",
       "      <td>608</td>\n",
       "      <td>546</td>\n",
       "      <td>3.36</td>\n",
       "      <td>6</td>\n",
       "      <td>21</td>\n",
       "      <td>48</td>\n",
       "      <td>111</td>\n",
       "    </tr>\n",
       "    <tr>\n",
       "      <th>18</th>\n",
       "      <td>68</td>\n",
       "      <td>655</td>\n",
       "      <td>5480</td>\n",
       "      <td>1378</td>\n",
       "      <td>274</td>\n",
       "      <td>34</td>\n",
       "      <td>145</td>\n",
       "      <td>412</td>\n",
       "      <td>1299</td>\n",
       "      <td>84</td>\n",
       "      <td>737</td>\n",
       "      <td>682</td>\n",
       "      <td>4.28</td>\n",
       "      <td>1</td>\n",
       "      <td>7</td>\n",
       "      <td>40</td>\n",
       "      <td>116</td>\n",
       "    </tr>\n",
       "    <tr>\n",
       "      <th>19</th>\n",
       "      <td>64</td>\n",
       "      <td>640</td>\n",
       "      <td>5571</td>\n",
       "      <td>1382</td>\n",
       "      <td>257</td>\n",
       "      <td>27</td>\n",
       "      <td>167</td>\n",
       "      <td>496</td>\n",
       "      <td>1255</td>\n",
       "      <td>134</td>\n",
       "      <td>754</td>\n",
       "      <td>700</td>\n",
       "      <td>4.33</td>\n",
       "      <td>2</td>\n",
       "      <td>8</td>\n",
       "      <td>35</td>\n",
       "      <td>90</td>\n",
       "    </tr>\n",
       "    <tr>\n",
       "      <th>20</th>\n",
       "      <td>90</td>\n",
       "      <td>683</td>\n",
       "      <td>5527</td>\n",
       "      <td>1351</td>\n",
       "      <td>295</td>\n",
       "      <td>17</td>\n",
       "      <td>177</td>\n",
       "      <td>488</td>\n",
       "      <td>1290</td>\n",
       "      <td>51</td>\n",
       "      <td>613</td>\n",
       "      <td>557</td>\n",
       "      <td>3.43</td>\n",
       "      <td>1</td>\n",
       "      <td>14</td>\n",
       "      <td>50</td>\n",
       "      <td>88</td>\n",
       "    </tr>\n",
       "    <tr>\n",
       "      <th>21</th>\n",
       "      <td>83</td>\n",
       "      <td>703</td>\n",
       "      <td>5428</td>\n",
       "      <td>1363</td>\n",
       "      <td>265</td>\n",
       "      <td>13</td>\n",
       "      <td>177</td>\n",
       "      <td>539</td>\n",
       "      <td>1344</td>\n",
       "      <td>57</td>\n",
       "      <td>635</td>\n",
       "      <td>577</td>\n",
       "      <td>3.62</td>\n",
       "      <td>4</td>\n",
       "      <td>13</td>\n",
       "      <td>41</td>\n",
       "      <td>90</td>\n",
       "    </tr>\n",
       "    <tr>\n",
       "      <th>22</th>\n",
       "      <td>71</td>\n",
       "      <td>613</td>\n",
       "      <td>5463</td>\n",
       "      <td>1420</td>\n",
       "      <td>236</td>\n",
       "      <td>40</td>\n",
       "      <td>120</td>\n",
       "      <td>375</td>\n",
       "      <td>1150</td>\n",
       "      <td>112</td>\n",
       "      <td>678</td>\n",
       "      <td>638</td>\n",
       "      <td>4.02</td>\n",
       "      <td>0</td>\n",
       "      <td>12</td>\n",
       "      <td>35</td>\n",
       "      <td>77</td>\n",
       "    </tr>\n",
       "    <tr>\n",
       "      <th>23</th>\n",
       "      <td>67</td>\n",
       "      <td>573</td>\n",
       "      <td>5420</td>\n",
       "      <td>1361</td>\n",
       "      <td>251</td>\n",
       "      <td>18</td>\n",
       "      <td>100</td>\n",
       "      <td>471</td>\n",
       "      <td>1107</td>\n",
       "      <td>69</td>\n",
       "      <td>760</td>\n",
       "      <td>698</td>\n",
       "      <td>4.41</td>\n",
       "      <td>3</td>\n",
       "      <td>10</td>\n",
       "      <td>44</td>\n",
       "      <td>90</td>\n",
       "    </tr>\n",
       "    <tr>\n",
       "      <th>24</th>\n",
       "      <td>63</td>\n",
       "      <td>626</td>\n",
       "      <td>5529</td>\n",
       "      <td>1374</td>\n",
       "      <td>272</td>\n",
       "      <td>37</td>\n",
       "      <td>130</td>\n",
       "      <td>387</td>\n",
       "      <td>1274</td>\n",
       "      <td>88</td>\n",
       "      <td>809</td>\n",
       "      <td>749</td>\n",
       "      <td>4.69</td>\n",
       "      <td>1</td>\n",
       "      <td>7</td>\n",
       "      <td>35</td>\n",
       "      <td>117</td>\n",
       "    </tr>\n",
       "    <tr>\n",
       "      <th>25</th>\n",
       "      <td>92</td>\n",
       "      <td>667</td>\n",
       "      <td>5385</td>\n",
       "      <td>1346</td>\n",
       "      <td>263</td>\n",
       "      <td>26</td>\n",
       "      <td>187</td>\n",
       "      <td>563</td>\n",
       "      <td>1258</td>\n",
       "      <td>59</td>\n",
       "      <td>595</td>\n",
       "      <td>553</td>\n",
       "      <td>3.44</td>\n",
       "      <td>6</td>\n",
       "      <td>21</td>\n",
       "      <td>47</td>\n",
       "      <td>75</td>\n",
       "    </tr>\n",
       "    <tr>\n",
       "      <th>26</th>\n",
       "      <td>84</td>\n",
       "      <td>696</td>\n",
       "      <td>5565</td>\n",
       "      <td>1486</td>\n",
       "      <td>288</td>\n",
       "      <td>39</td>\n",
       "      <td>136</td>\n",
       "      <td>457</td>\n",
       "      <td>1159</td>\n",
       "      <td>93</td>\n",
       "      <td>627</td>\n",
       "      <td>597</td>\n",
       "      <td>3.72</td>\n",
       "      <td>7</td>\n",
       "      <td>18</td>\n",
       "      <td>41</td>\n",
       "      <td>78</td>\n",
       "    </tr>\n",
       "    <tr>\n",
       "      <th>27</th>\n",
       "      <td>79</td>\n",
       "      <td>720</td>\n",
       "      <td>5649</td>\n",
       "      <td>1494</td>\n",
       "      <td>289</td>\n",
       "      <td>48</td>\n",
       "      <td>154</td>\n",
       "      <td>490</td>\n",
       "      <td>1312</td>\n",
       "      <td>132</td>\n",
       "      <td>713</td>\n",
       "      <td>659</td>\n",
       "      <td>4.04</td>\n",
       "      <td>1</td>\n",
       "      <td>12</td>\n",
       "      <td>44</td>\n",
       "      <td>86</td>\n",
       "    </tr>\n",
       "    <tr>\n",
       "      <th>28</th>\n",
       "      <td>74</td>\n",
       "      <td>650</td>\n",
       "      <td>5457</td>\n",
       "      <td>1324</td>\n",
       "      <td>260</td>\n",
       "      <td>36</td>\n",
       "      <td>148</td>\n",
       "      <td>426</td>\n",
       "      <td>1327</td>\n",
       "      <td>82</td>\n",
       "      <td>731</td>\n",
       "      <td>655</td>\n",
       "      <td>4.09</td>\n",
       "      <td>1</td>\n",
       "      <td>6</td>\n",
       "      <td>41</td>\n",
       "      <td>92</td>\n",
       "    </tr>\n",
       "    <tr>\n",
       "      <th>29</th>\n",
       "      <td>68</td>\n",
       "      <td>737</td>\n",
       "      <td>5572</td>\n",
       "      <td>1479</td>\n",
       "      <td>274</td>\n",
       "      <td>49</td>\n",
       "      <td>186</td>\n",
       "      <td>388</td>\n",
       "      <td>1283</td>\n",
       "      <td>97</td>\n",
       "      <td>844</td>\n",
       "      <td>799</td>\n",
       "      <td>5.04</td>\n",
       "      <td>4</td>\n",
       "      <td>4</td>\n",
       "      <td>36</td>\n",
       "      <td>95</td>\n",
       "    </tr>\n",
       "  </tbody>\n",
       "</table>\n",
       "</div>"
      ],
      "text/plain": [
       "      W    R    AB     H   2B  3B   HR   BB    SO   SB   RA   ER   ERA  CG  \\\n",
       "0    95  724  5575  1497  300  42  139  383   973  104  641  601  3.73   2   \n",
       "1    83  696  5467  1349  277  44  156  439  1264   70  700  653  4.07   2   \n",
       "2    81  669  5439  1395  303  29  141  533  1157   86  640  584  3.67  11   \n",
       "3    76  622  5533  1381  260  27  136  404  1231   68  701  643  3.98   7   \n",
       "4    74  689  5605  1515  289  49  151  455  1259   83  803  746  4.64   7   \n",
       "6    87  764  5567  1397  272  19  212  554  1227   63  698  652  4.03   3   \n",
       "7    81  713  5485  1370  246  20  217  418  1331   44  693  646  4.05   0   \n",
       "8    80  644  5485  1383  278  32  167  436  1310   87  642  604  3.74   1   \n",
       "9    78  748  5640  1495  294  33  161  478  1148   71  753  694  4.31   3   \n",
       "10   88  751  5511  1419  279  32  172  503  1233  101  733  680  4.24   5   \n",
       "11   86  729  5459  1363  278  26  230  486  1392  121  618  572  3.57   5   \n",
       "12   85  661  5417  1331  243  21  176  435  1150   52  675  630  3.94   2   \n",
       "13   76  656  5544  1379  262  22  198  478  1336   69  726  677  4.16   6   \n",
       "14   68  694  5600  1405  277  46  146  475  1119   78  729  664  4.14   5   \n",
       "15  100  647  5484  1386  288  39  137  506  1267   69  525  478  2.94   1   \n",
       "16   98  697  5631  1462  292  27  140  461  1322   98  596  532  3.21   0   \n",
       "17   97  689  5491  1341  272  30  171  567  1518   95  608  546  3.36   6   \n",
       "18   68  655  5480  1378  274  34  145  412  1299   84  737  682  4.28   1   \n",
       "19   64  640  5571  1382  257  27  167  496  1255  134  754  700  4.33   2   \n",
       "20   90  683  5527  1351  295  17  177  488  1290   51  613  557  3.43   1   \n",
       "21   83  703  5428  1363  265  13  177  539  1344   57  635  577  3.62   4   \n",
       "22   71  613  5463  1420  236  40  120  375  1150  112  678  638  4.02   0   \n",
       "23   67  573  5420  1361  251  18  100  471  1107   69  760  698  4.41   3   \n",
       "24   63  626  5529  1374  272  37  130  387  1274   88  809  749  4.69   1   \n",
       "25   92  667  5385  1346  263  26  187  563  1258   59  595  553  3.44   6   \n",
       "26   84  696  5565  1486  288  39  136  457  1159   93  627  597  3.72   7   \n",
       "27   79  720  5649  1494  289  48  154  490  1312  132  713  659  4.04   1   \n",
       "28   74  650  5457  1324  260  36  148  426  1327   82  731  655  4.09   1   \n",
       "29   68  737  5572  1479  274  49  186  388  1283   97  844  799  5.04   4   \n",
       "\n",
       "    SHO  SV    E  \n",
       "0     8  56   88  \n",
       "1    12  45   86  \n",
       "2    10  38   79  \n",
       "3     9  37  101  \n",
       "4    12  35   86  \n",
       "6     4  48   93  \n",
       "7    10  43   77  \n",
       "8    12  60   95  \n",
       "9    10  40   97  \n",
       "10    9  45  119  \n",
       "11   13  39   85  \n",
       "12   12  46   93  \n",
       "13   12  45   94  \n",
       "14   15  28  126  \n",
       "15   15  62   96  \n",
       "16   13  54  122  \n",
       "17   21  48  111  \n",
       "18    7  40  116  \n",
       "19    8  35   90  \n",
       "20   14  50   88  \n",
       "21   13  41   90  \n",
       "22   12  35   77  \n",
       "23   10  44   90  \n",
       "24    7  35  117  \n",
       "25   21  47   75  \n",
       "26   18  41   78  \n",
       "27   12  44   86  \n",
       "28    6  41   92  \n",
       "29    4  36   95  "
      ]
     },
     "execution_count": 16,
     "metadata": {},
     "output_type": "execute_result"
    }
   ],
   "source": [
    "data_z\n"
   ]
  },
  {
   "cell_type": "code",
   "execution_count": 17,
   "id": "62c64176",
   "metadata": {},
   "outputs": [
    {
     "data": {
      "text/plain": [
       "((30, 17), (29, 17))"
      ]
     },
     "execution_count": 17,
     "metadata": {},
     "output_type": "execute_result"
    }
   ],
   "source": [
    "#Comparing the shape of the data with outliers and without outliers\n",
    "data.shape,data_z.shape"
   ]
  },
  {
   "cell_type": "code",
   "execution_count": 18,
   "id": "652974e6",
   "metadata": {},
   "outputs": [
    {
     "data": {
      "image/png": "[encoded data removed]",
      "text/plain": [
       "<Figure size 2880x8640 with 16 Axes>"
      ]
     },
     "metadata": {
      "needs_background": "light"
     },
     "output_type": "display_data"
    }
   ],
   "source": [
    "#Plotting box plot after removing outliers\n",
    "plt.figure(figsize=(ncol,3*ncol))\n",
    "for i in range(0,len(clist)):\n",
    "    plt.subplot(nrows,ncol,i+1)\n",
    "    sns.boxplot(data=data_z[clist[i]])\n",
    "    plt.tight_layout()"
   ]
  },
  {
   "cell_type": "code",
   "execution_count": 19,
   "id": "a25fabae",
   "metadata": {},
   "outputs": [],
   "source": [
    "#Splitting Features and Target\n",
    "X=data_z.iloc[:,1:]\n",
    "Y=data_z[[\"W\"]]"
   ]
  },
  {
   "cell_type": "code",
   "execution_count": 20,
   "id": "42da0910",
   "metadata": {},
   "outputs": [
    {
     "data": {
      "text/plain": [
       "W      1.000000\n",
       "SV     0.666530\n",
       "BB     0.484342\n",
       "SHO    0.471805\n",
       "R      0.430751\n",
       "2B     0.427797\n",
       "HR     0.307407\n",
       "SO     0.111850\n",
       "CG     0.080533\n",
       "H      0.037612\n",
       "AB    -0.087947\n",
       "E     -0.089485\n",
       "SB    -0.157234\n",
       "3B    -0.251118\n",
       "ER    -0.809435\n",
       "RA    -0.812952\n",
       "ERA   -0.819600\n",
       "Name: W, dtype: float64"
      ]
     },
     "execution_count": 20,
     "metadata": {},
     "output_type": "execute_result"
    }
   ],
   "source": [
    "data.corr()[\"W\"].sort_values(ascending=False)"
   ]
  },
  {
   "cell_type": "code",
   "execution_count": 21,
   "id": "ef25b94d",
   "metadata": {},
   "outputs": [
    {
     "name": "stdout",
     "output_type": "stream",
     "text": [
      "   feature           VIF\n",
      "0        R   1684.071804\n",
      "1       AB   4386.435411\n",
      "2        H   4542.383497\n",
      "3       2B    874.293076\n",
      "4       3B     35.695117\n",
      "5       HR    267.423009\n",
      "6       BB    260.583556\n",
      "7       SO    399.764153\n",
      "8       SB     28.928494\n",
      "9       RA  17975.314054\n",
      "10      ER  50845.193939\n",
      "11     ERA  23146.472801\n",
      "12      CG      6.207366\n",
      "13     SHO     30.820866\n",
      "14      SV    117.346095\n",
      "15       E     92.554014\n"
     ]
    }
   ],
   "source": [
    "#Checking the Variance Inflation Factor\n",
    "from statsmodels.stats.outliers_influence import variance_inflation_factor\n",
    "# VIF dataframe\n",
    "vif_data = pd.DataFrame()\n",
    "vif_data[\"feature\"] = X.columns\n",
    "\n",
    "# calculating VIF for each feature\n",
    "\n",
    "vif_data[\"VIF\"] = [variance_inflation_factor(X.values, i)\n",
    "                          for i in range(len(X.columns))]\n",
    "\n",
    "print(vif_data)\n",
    "\n",
    "#from the previous analysis, it was observed that features-RA,ER,ERA had a lot of negative relation with the target \n",
    "#and AB has high VIF value"
   ]
  },
  {
   "cell_type": "code",
   "execution_count": 23,
   "id": "ef52fe63",
   "metadata": {},
   "outputs": [
    {
     "name": "stdout",
     "output_type": "stream",
     "text": [
      "   feature          VIF\n",
      "0        R  1402.426930\n",
      "1       AB  3425.813170\n",
      "2        H  3503.315742\n",
      "3       2B   744.707437\n",
      "4       3B    28.805398\n",
      "5       HR   178.459476\n",
      "6       BB   224.703410\n",
      "7       SO   313.994100\n",
      "8       SB    23.270176\n",
      "9       CG     5.785256\n",
      "10     SHO    14.592817\n",
      "11      SV    65.558201\n",
      "12       E    73.352298\n"
     ]
    }
   ],
   "source": [
    "#From the heatmap and from the reg plot we can notice that the features with maximum negative relation with the target are-\n",
    "#RA,ER and ERA followed by \"3B\",\"SB\" and minimal negative relation features are E and AB.\n",
    "\n",
    "X_bar=X.drop(columns=[\"RA\",\"ER\",\"ERA\"],axis=1)\n",
    "# VIF dataframe\n",
    "vif_data = pd.DataFrame()\n",
    "vif_data[\"feature\"] = X_bar.columns\n",
    "\n",
    "# calculating VIF for each feature\n",
    "\n",
    "vif_data[\"VIF\"] = [variance_inflation_factor(X_bar.values, i)\n",
    "                   for i in range(len(X_bar.columns))]\n",
    "print(vif_data)\n"
   ]
  },
  {
   "cell_type": "code",
   "execution_count": 25,
   "id": "292e9de8",
   "metadata": {},
   "outputs": [],
   "source": [
    "#Applying power transform\n",
    "from sklearn.preprocessing import PowerTransformer\n",
    "pt=PowerTransformer(method=\"yeo-johnson\")\n",
    "Xpt=pt.fit_transform(X_bar)"
   ]
  },
  {
   "cell_type": "code",
   "execution_count": 26,
   "id": "a0f62b5c",
   "metadata": {},
   "outputs": [],
   "source": [
    "#Scaling the data\n",
    "from sklearn.preprocessing import MinMaxScaler\n",
    "mm=MinMaxScaler()\n",
    "Xnew=mm.fit_transform(Xpt)"
   ]
  },
  {
   "cell_type": "code",
   "execution_count": 33,
   "id": "3670d478",
   "metadata": {},
   "outputs": [],
   "source": [
    "#Splitting data into Training and Testing Data\n",
    "from sklearn.model_selection import train_test_split\n",
    "\n",
    "from sklearn.linear_model import LinearRegression\n",
    "\n",
    "from sklearn.ensemble import RandomForestRegressor\n",
    "\n",
    "from sklearn.tree import DecisionTreeRegressor\n",
    "\n",
    "from sklearn.neighbors import KNeighborsRegressor\n",
    "\n",
    "from sklearn.svm import SVR\n",
    "\n",
    "from sklearn.ensemble import GradientBoostingRegressor\n",
    "\n",
    "from xgboost import XGBRegressor\n",
    "\n",
    "from sklearn.ensemble import AdaBoostRegressor\n",
    "\n",
    "\n",
    "\n",
    "from sklearn.metrics import r2_score,mean_absolute_error,mean_squared_error"
   ]
  },
  {
   "cell_type": "code",
   "execution_count": 34,
   "id": "00c3061f",
   "metadata": {},
   "outputs": [],
   "source": [
    "lr=LinearRegression()\n",
    "\n",
    "dt=DecisionTreeRegressor()\n",
    "\n",
    "rf=RandomForestRegressor()\n",
    "\n",
    "kn=KNeighborsRegressor(n_neighbors=3)\n",
    "\n",
    "sv=SVR()\n",
    "\n",
    "gb=GradientBoostingRegressor()\n",
    "\n",
    "x=XGBRegressor()\n",
    "\n",
    "ab=AdaBoostRegressor()\n",
    "\n",
    "lst=[lr,dt,rf,kn,sv,gb,x,ab]"
   ]
  },
  {
   "cell_type": "code",
   "execution_count": 35,
   "id": "319f6e7a",
   "metadata": {},
   "outputs": [
    {
     "data": {
      "text/html": [
       "<div>\n",
       "<style scoped>\n",
       "    .dataframe tbody tr th:only-of-type {\n",
       "        vertical-align: middle;\n",
       "    }\n",
       "\n",
       "    .dataframe tbody tr th {\n",
       "        vertical-align: top;\n",
       "    }\n",
       "\n",
       "    .dataframe thead th {\n",
       "        text-align: right;\n",
       "    }\n",
       "</style>\n",
       "<table border=\"1\" class=\"dataframe\">\n",
       "  <thead>\n",
       "    <tr style=\"text-align: right;\">\n",
       "      <th></th>\n",
       "      <th>Model</th>\n",
       "      <th>Random State</th>\n",
       "      <th>R2 Score</th>\n",
       "      <th>Mean Absolute Error</th>\n",
       "      <th>Mean Squared Error</th>\n",
       "      <th>Root Mean Squared Error-Test</th>\n",
       "      <th>Root Mean Squared Error-Train</th>\n",
       "    </tr>\n",
       "  </thead>\n",
       "  <tbody>\n",
       "    <tr>\n",
       "      <th>0</th>\n",
       "      <td>LinearRegression()</td>\n",
       "      <td>0</td>\n",
       "      <td>0.537049</td>\n",
       "      <td>4.195855</td>\n",
       "      <td>37.447601</td>\n",
       "      <td>6.119445</td>\n",
       "      <td>4.025870</td>\n",
       "    </tr>\n",
       "    <tr>\n",
       "      <th>1</th>\n",
       "      <td>LinearRegression()</td>\n",
       "      <td>1</td>\n",
       "      <td>0.744286</td>\n",
       "      <td>6.893948</td>\n",
       "      <td>62.110095</td>\n",
       "      <td>7.880996</td>\n",
       "      <td>3.794931</td>\n",
       "    </tr>\n",
       "    <tr>\n",
       "      <th>2</th>\n",
       "      <td>LinearRegression()</td>\n",
       "      <td>2</td>\n",
       "      <td>-0.575755</td>\n",
       "      <td>7.746739</td>\n",
       "      <td>80.188430</td>\n",
       "      <td>8.954799</td>\n",
       "      <td>3.770552</td>\n",
       "    </tr>\n",
       "    <tr>\n",
       "      <th>3</th>\n",
       "      <td>LinearRegression()</td>\n",
       "      <td>3</td>\n",
       "      <td>-0.158308</td>\n",
       "      <td>5.019175</td>\n",
       "      <td>28.828997</td>\n",
       "      <td>5.369264</td>\n",
       "      <td>4.032213</td>\n",
       "    </tr>\n",
       "    <tr>\n",
       "      <th>4</th>\n",
       "      <td>LinearRegression()</td>\n",
       "      <td>4</td>\n",
       "      <td>-1.059289</td>\n",
       "      <td>8.139300</td>\n",
       "      <td>74.592009</td>\n",
       "      <td>8.636667</td>\n",
       "      <td>3.812224</td>\n",
       "    </tr>\n",
       "    <tr>\n",
       "      <th>5</th>\n",
       "      <td>DecisionTreeRegressor()</td>\n",
       "      <td>0</td>\n",
       "      <td>0.789835</td>\n",
       "      <td>3.666667</td>\n",
       "      <td>17.000000</td>\n",
       "      <td>4.123106</td>\n",
       "      <td>0.000000</td>\n",
       "    </tr>\n",
       "    <tr>\n",
       "      <th>6</th>\n",
       "      <td>DecisionTreeRegressor()</td>\n",
       "      <td>1</td>\n",
       "      <td>0.637694</td>\n",
       "      <td>9.333333</td>\n",
       "      <td>88.000000</td>\n",
       "      <td>9.380832</td>\n",
       "      <td>0.000000</td>\n",
       "    </tr>\n",
       "    <tr>\n",
       "      <th>7</th>\n",
       "      <td>DecisionTreeRegressor()</td>\n",
       "      <td>2</td>\n",
       "      <td>-2.203057</td>\n",
       "      <td>11.000000</td>\n",
       "      <td>163.000000</td>\n",
       "      <td>12.767145</td>\n",
       "      <td>0.000000</td>\n",
       "    </tr>\n",
       "    <tr>\n",
       "      <th>8</th>\n",
       "      <td>DecisionTreeRegressor()</td>\n",
       "      <td>3</td>\n",
       "      <td>-1.169643</td>\n",
       "      <td>7.333333</td>\n",
       "      <td>54.000000</td>\n",
       "      <td>7.348469</td>\n",
       "      <td>0.000000</td>\n",
       "    </tr>\n",
       "    <tr>\n",
       "      <th>9</th>\n",
       "      <td>DecisionTreeRegressor()</td>\n",
       "      <td>4</td>\n",
       "      <td>-0.233129</td>\n",
       "      <td>6.000000</td>\n",
       "      <td>44.666667</td>\n",
       "      <td>6.683313</td>\n",
       "      <td>0.000000</td>\n",
       "    </tr>\n",
       "    <tr>\n",
       "      <th>10</th>\n",
       "      <td>(DecisionTreeRegressor(max_features='auto', ra...</td>\n",
       "      <td>0</td>\n",
       "      <td>0.712758</td>\n",
       "      <td>4.626667</td>\n",
       "      <td>23.234667</td>\n",
       "      <td>4.820235</td>\n",
       "      <td>2.964703</td>\n",
       "    </tr>\n",
       "    <tr>\n",
       "      <th>11</th>\n",
       "      <td>(DecisionTreeRegressor(max_features='auto', ra...</td>\n",
       "      <td>1</td>\n",
       "      <td>0.507841</td>\n",
       "      <td>9.166667</td>\n",
       "      <td>119.540067</td>\n",
       "      <td>10.933438</td>\n",
       "      <td>2.592732</td>\n",
       "    </tr>\n",
       "    <tr>\n",
       "      <th>12</th>\n",
       "      <td>(DecisionTreeRegressor(max_features='auto', ra...</td>\n",
       "      <td>2</td>\n",
       "      <td>-1.224579</td>\n",
       "      <td>9.026667</td>\n",
       "      <td>113.206333</td>\n",
       "      <td>10.639846</td>\n",
       "      <td>2.712354</td>\n",
       "    </tr>\n",
       "    <tr>\n",
       "      <th>13</th>\n",
       "      <td>(DecisionTreeRegressor(max_features='auto', ra...</td>\n",
       "      <td>3</td>\n",
       "      <td>-2.052847</td>\n",
       "      <td>8.683333</td>\n",
       "      <td>75.981967</td>\n",
       "      <td>8.716764</td>\n",
       "      <td>2.409891</td>\n",
       "    </tr>\n",
       "    <tr>\n",
       "      <th>14</th>\n",
       "      <td>(DecisionTreeRegressor(max_features='auto', ra...</td>\n",
       "      <td>4</td>\n",
       "      <td>0.930208</td>\n",
       "      <td>1.223333</td>\n",
       "      <td>2.528033</td>\n",
       "      <td>1.589979</td>\n",
       "      <td>2.822832</td>\n",
       "    </tr>\n",
       "    <tr>\n",
       "      <th>15</th>\n",
       "      <td>KNeighborsRegressor(n_neighbors=3)</td>\n",
       "      <td>0</td>\n",
       "      <td>0.555403</td>\n",
       "      <td>5.000000</td>\n",
       "      <td>35.962963</td>\n",
       "      <td>5.996913</td>\n",
       "      <td>6.152965</td>\n",
       "    </tr>\n",
       "    <tr>\n",
       "      <th>16</th>\n",
       "      <td>KNeighborsRegressor(n_neighbors=3)</td>\n",
       "      <td>1</td>\n",
       "      <td>0.562977</td>\n",
       "      <td>9.111111</td>\n",
       "      <td>106.148148</td>\n",
       "      <td>10.302822</td>\n",
       "      <td>6.362954</td>\n",
       "    </tr>\n",
       "    <tr>\n",
       "      <th>17</th>\n",
       "      <td>KNeighborsRegressor(n_neighbors=3)</td>\n",
       "      <td>2</td>\n",
       "      <td>-1.743086</td>\n",
       "      <td>11.222222</td>\n",
       "      <td>139.592593</td>\n",
       "      <td>11.814931</td>\n",
       "      <td>6.191392</td>\n",
       "    </tr>\n",
       "    <tr>\n",
       "      <th>18</th>\n",
       "      <td>KNeighborsRegressor(n_neighbors=3)</td>\n",
       "      <td>3</td>\n",
       "      <td>-2.919643</td>\n",
       "      <td>8.444444</td>\n",
       "      <td>97.555556</td>\n",
       "      <td>9.877022</td>\n",
       "      <td>5.688495</td>\n",
       "    </tr>\n",
       "    <tr>\n",
       "      <th>19</th>\n",
       "      <td>KNeighborsRegressor(n_neighbors=3)</td>\n",
       "      <td>4</td>\n",
       "      <td>0.430470</td>\n",
       "      <td>3.666667</td>\n",
       "      <td>20.629630</td>\n",
       "      <td>4.541985</td>\n",
       "      <td>6.097148</td>\n",
       "    </tr>\n",
       "    <tr>\n",
       "      <th>20</th>\n",
       "      <td>SVR()</td>\n",
       "      <td>0</td>\n",
       "      <td>0.133160</td>\n",
       "      <td>5.667903</td>\n",
       "      <td>70.117741</td>\n",
       "      <td>8.373634</td>\n",
       "      <td>9.235686</td>\n",
       "    </tr>\n",
       "    <tr>\n",
       "      <th>21</th>\n",
       "      <td>SVR()</td>\n",
       "      <td>1</td>\n",
       "      <td>0.066768</td>\n",
       "      <td>14.385698</td>\n",
       "      <td>226.671714</td>\n",
       "      <td>15.055621</td>\n",
       "      <td>8.277232</td>\n",
       "    </tr>\n",
       "    <tr>\n",
       "      <th>22</th>\n",
       "      <td>SVR()</td>\n",
       "      <td>2</td>\n",
       "      <td>-3.291379</td>\n",
       "      <td>13.256604</td>\n",
       "      <td>218.383518</td>\n",
       "      <td>14.777805</td>\n",
       "      <td>8.165230</td>\n",
       "    </tr>\n",
       "    <tr>\n",
       "      <th>23</th>\n",
       "      <td>SVR()</td>\n",
       "      <td>3</td>\n",
       "      <td>-4.690240</td>\n",
       "      <td>11.164985</td>\n",
       "      <td>141.623741</td>\n",
       "      <td>11.900577</td>\n",
       "      <td>8.810607</td>\n",
       "    </tr>\n",
       "    <tr>\n",
       "      <th>24</th>\n",
       "      <td>SVR()</td>\n",
       "      <td>4</td>\n",
       "      <td>-0.056757</td>\n",
       "      <td>5.908115</td>\n",
       "      <td>38.278081</td>\n",
       "      <td>6.186928</td>\n",
       "      <td>9.409910</td>\n",
       "    </tr>\n",
       "    <tr>\n",
       "      <th>25</th>\n",
       "      <td>([DecisionTreeRegressor(criterion='friedman_ms...</td>\n",
       "      <td>0</td>\n",
       "      <td>0.760233</td>\n",
       "      <td>4.204692</td>\n",
       "      <td>19.394464</td>\n",
       "      <td>4.403915</td>\n",
       "      <td>0.017965</td>\n",
       "    </tr>\n",
       "    <tr>\n",
       "      <th>26</th>\n",
       "      <td>([DecisionTreeRegressor(criterion='friedman_ms...</td>\n",
       "      <td>1</td>\n",
       "      <td>0.418936</td>\n",
       "      <td>9.510212</td>\n",
       "      <td>141.134030</td>\n",
       "      <td>11.879984</td>\n",
       "      <td>0.012720</td>\n",
       "    </tr>\n",
       "    <tr>\n",
       "      <th>27</th>\n",
       "      <td>([DecisionTreeRegressor(criterion='friedman_ms...</td>\n",
       "      <td>2</td>\n",
       "      <td>-0.873803</td>\n",
       "      <td>8.460455</td>\n",
       "      <td>95.355759</td>\n",
       "      <td>9.765027</td>\n",
       "      <td>0.011463</td>\n",
       "    </tr>\n",
       "    <tr>\n",
       "      <th>28</th>\n",
       "      <td>([DecisionTreeRegressor(criterion='friedman_ms...</td>\n",
       "      <td>3</td>\n",
       "      <td>-1.400427</td>\n",
       "      <td>7.649613</td>\n",
       "      <td>59.743961</td>\n",
       "      <td>7.729422</td>\n",
       "      <td>0.005440</td>\n",
       "    </tr>\n",
       "    <tr>\n",
       "      <th>29</th>\n",
       "      <td>([DecisionTreeRegressor(criterion='friedman_ms...</td>\n",
       "      <td>4</td>\n",
       "      <td>0.699636</td>\n",
       "      <td>3.201351</td>\n",
       "      <td>10.879845</td>\n",
       "      <td>3.298461</td>\n",
       "      <td>0.007099</td>\n",
       "    </tr>\n",
       "    <tr>\n",
       "      <th>30</th>\n",
       "      <td>XGBRegressor(base_score=0.5, booster='gbtree',...</td>\n",
       "      <td>0</td>\n",
       "      <td>0.956061</td>\n",
       "      <td>1.732758</td>\n",
       "      <td>3.554217</td>\n",
       "      <td>1.885263</td>\n",
       "      <td>0.000550</td>\n",
       "    </tr>\n",
       "    <tr>\n",
       "      <th>31</th>\n",
       "      <td>XGBRegressor(base_score=0.5, booster='gbtree',...</td>\n",
       "      <td>1</td>\n",
       "      <td>0.234578</td>\n",
       "      <td>11.140673</td>\n",
       "      <td>185.912469</td>\n",
       "      <td>13.634972</td>\n",
       "      <td>0.000559</td>\n",
       "    </tr>\n",
       "    <tr>\n",
       "      <th>32</th>\n",
       "      <td>XGBRegressor(base_score=0.5, booster='gbtree',...</td>\n",
       "      <td>2</td>\n",
       "      <td>-0.907217</td>\n",
       "      <td>8.209045</td>\n",
       "      <td>97.056143</td>\n",
       "      <td>9.851708</td>\n",
       "      <td>0.000632</td>\n",
       "    </tr>\n",
       "    <tr>\n",
       "      <th>33</th>\n",
       "      <td>XGBRegressor(base_score=0.5, booster='gbtree',...</td>\n",
       "      <td>3</td>\n",
       "      <td>-2.149900</td>\n",
       "      <td>8.612155</td>\n",
       "      <td>78.397499</td>\n",
       "      <td>8.854236</td>\n",
       "      <td>0.000523</td>\n",
       "    </tr>\n",
       "    <tr>\n",
       "      <th>34</th>\n",
       "      <td>XGBRegressor(base_score=0.5, booster='gbtree',...</td>\n",
       "      <td>4</td>\n",
       "      <td>0.857843</td>\n",
       "      <td>2.050868</td>\n",
       "      <td>5.149257</td>\n",
       "      <td>2.269197</td>\n",
       "      <td>0.000527</td>\n",
       "    </tr>\n",
       "    <tr>\n",
       "      <th>35</th>\n",
       "      <td>(DecisionTreeRegressor(max_depth=3, random_sta...</td>\n",
       "      <td>0</td>\n",
       "      <td>0.781045</td>\n",
       "      <td>4.136905</td>\n",
       "      <td>17.710991</td>\n",
       "      <td>4.208443</td>\n",
       "      <td>1.367065</td>\n",
       "    </tr>\n",
       "    <tr>\n",
       "      <th>36</th>\n",
       "      <td>(DecisionTreeRegressor(max_depth=3, random_sta...</td>\n",
       "      <td>1</td>\n",
       "      <td>0.530155</td>\n",
       "      <td>8.208333</td>\n",
       "      <td>114.120208</td>\n",
       "      <td>10.682706</td>\n",
       "      <td>1.384278</td>\n",
       "    </tr>\n",
       "    <tr>\n",
       "      <th>37</th>\n",
       "      <td>(DecisionTreeRegressor(max_depth=3, random_sta...</td>\n",
       "      <td>2</td>\n",
       "      <td>-2.157205</td>\n",
       "      <td>10.000000</td>\n",
       "      <td>160.666667</td>\n",
       "      <td>12.675436</td>\n",
       "      <td>1.441811</td>\n",
       "    </tr>\n",
       "    <tr>\n",
       "      <th>38</th>\n",
       "      <td>(DecisionTreeRegressor(max_depth=3, random_sta...</td>\n",
       "      <td>3</td>\n",
       "      <td>-1.030451</td>\n",
       "      <td>6.565657</td>\n",
       "      <td>50.535660</td>\n",
       "      <td>7.108844</td>\n",
       "      <td>1.279953</td>\n",
       "    </tr>\n",
       "    <tr>\n",
       "      <th>39</th>\n",
       "      <td>(DecisionTreeRegressor(max_depth=3, random_sta...</td>\n",
       "      <td>4</td>\n",
       "      <td>0.355828</td>\n",
       "      <td>4.666667</td>\n",
       "      <td>23.333333</td>\n",
       "      <td>4.830459</td>\n",
       "      <td>1.377796</td>\n",
       "    </tr>\n",
       "  </tbody>\n",
       "</table>\n",
       "</div>"
      ],
      "text/plain": [
       "                                                Model  Random State  R2 Score  \\\n",
       "0                                  LinearRegression()             0  0.537049   \n",
       "1                                  LinearRegression()             1  0.744286   \n",
       "2                                  LinearRegression()             2 -0.575755   \n",
       "3                                  LinearRegression()             3 -0.158308   \n",
       "4                                  LinearRegression()             4 -1.059289   \n",
       "5                             DecisionTreeRegressor()             0  0.789835   \n",
       "6                             DecisionTreeRegressor()             1  0.637694   \n",
       "7                             DecisionTreeRegressor()             2 -2.203057   \n",
       "8                             DecisionTreeRegressor()             3 -1.169643   \n",
       "9                             DecisionTreeRegressor()             4 -0.233129   \n",
       "10  (DecisionTreeRegressor(max_features='auto', ra...             0  0.712758   \n",
       "11  (DecisionTreeRegressor(max_features='auto', ra...             1  0.507841   \n",
       "12  (DecisionTreeRegressor(max_features='auto', ra...             2 -1.224579   \n",
       "13  (DecisionTreeRegressor(max_features='auto', ra...             3 -2.052847   \n",
       "14  (DecisionTreeRegressor(max_features='auto', ra...             4  0.930208   \n",
       "15                 KNeighborsRegressor(n_neighbors=3)             0  0.555403   \n",
       "16                 KNeighborsRegressor(n_neighbors=3)             1  0.562977   \n",
       "17                 KNeighborsRegressor(n_neighbors=3)             2 -1.743086   \n",
       "18                 KNeighborsRegressor(n_neighbors=3)             3 -2.919643   \n",
       "19                 KNeighborsRegressor(n_neighbors=3)             4  0.430470   \n",
       "20                                              SVR()             0  0.133160   \n",
       "21                                              SVR()             1  0.066768   \n",
       "22                                              SVR()             2 -3.291379   \n",
       "23                                              SVR()             3 -4.690240   \n",
       "24                                              SVR()             4 -0.056757   \n",
       "25  ([DecisionTreeRegressor(criterion='friedman_ms...             0  0.760233   \n",
       "26  ([DecisionTreeRegressor(criterion='friedman_ms...             1  0.418936   \n",
       "27  ([DecisionTreeRegressor(criterion='friedman_ms...             2 -0.873803   \n",
       "28  ([DecisionTreeRegressor(criterion='friedman_ms...             3 -1.400427   \n",
       "29  ([DecisionTreeRegressor(criterion='friedman_ms...             4  0.699636   \n",
       "30  XGBRegressor(base_score=0.5, booster='gbtree',...             0  0.956061   \n",
       "31  XGBRegressor(base_score=0.5, booster='gbtree',...             1  0.234578   \n",
       "32  XGBRegressor(base_score=0.5, booster='gbtree',...             2 -0.907217   \n",
       "33  XGBRegressor(base_score=0.5, booster='gbtree',...             3 -2.149900   \n",
       "34  XGBRegressor(base_score=0.5, booster='gbtree',...             4  0.857843   \n",
       "35  (DecisionTreeRegressor(max_depth=3, random_sta...             0  0.781045   \n",
       "36  (DecisionTreeRegressor(max_depth=3, random_sta...             1  0.530155   \n",
       "37  (DecisionTreeRegressor(max_depth=3, random_sta...             2 -2.157205   \n",
       "38  (DecisionTreeRegressor(max_depth=3, random_sta...             3 -1.030451   \n",
       "39  (DecisionTreeRegressor(max_depth=3, random_sta...             4  0.355828   \n",
       "\n",
       "    Mean Absolute Error  Mean Squared Error  Root Mean Squared Error-Test  \\\n",
       "0              4.195855           37.447601                      6.119445   \n",
       "1              6.893948           62.110095                      7.880996   \n",
       "2              7.746739           80.188430                      8.954799   \n",
       "3              5.019175           28.828997                      5.369264   \n",
       "4              8.139300           74.592009                      8.636667   \n",
       "5              3.666667           17.000000                      4.123106   \n",
       "6              9.333333           88.000000                      9.380832   \n",
       "7             11.000000          163.000000                     12.767145   \n",
       "8              7.333333           54.000000                      7.348469   \n",
       "9              6.000000           44.666667                      6.683313   \n",
       "10             4.626667           23.234667                      4.820235   \n",
       "11             9.166667          119.540067                     10.933438   \n",
       "12             9.026667          113.206333                     10.639846   \n",
       "13             8.683333           75.981967                      8.716764   \n",
       "14             1.223333            2.528033                      1.589979   \n",
       "15             5.000000           35.962963                      5.996913   \n",
       "16             9.111111          106.148148                     10.302822   \n",
       "17            11.222222          139.592593                     11.814931   \n",
       "18             8.444444           97.555556                      9.877022   \n",
       "19             3.666667           20.629630                      4.541985   \n",
       "20             5.667903           70.117741                      8.373634   \n",
       "21            14.385698          226.671714                     15.055621   \n",
       "22            13.256604          218.383518                     14.777805   \n",
       "23            11.164985          141.623741                     11.900577   \n",
       "24             5.908115           38.278081                      6.186928   \n",
       "25             4.204692           19.394464                      4.403915   \n",
       "26             9.510212          141.134030                     11.879984   \n",
       "27             8.460455           95.355759                      9.765027   \n",
       "28             7.649613           59.743961                      7.729422   \n",
       "29             3.201351           10.879845                      3.298461   \n",
       "30             1.732758            3.554217                      1.885263   \n",
       "31            11.140673          185.912469                     13.634972   \n",
       "32             8.209045           97.056143                      9.851708   \n",
       "33             8.612155           78.397499                      8.854236   \n",
       "34             2.050868            5.149257                      2.269197   \n",
       "35             4.136905           17.710991                      4.208443   \n",
       "36             8.208333          114.120208                     10.682706   \n",
       "37            10.000000          160.666667                     12.675436   \n",
       "38             6.565657           50.535660                      7.108844   \n",
       "39             4.666667           23.333333                      4.830459   \n",
       "\n",
       "    Root Mean Squared Error-Train  \n",
       "0                        4.025870  \n",
       "1                        3.794931  \n",
       "2                        3.770552  \n",
       "3                        4.032213  \n",
       "4                        3.812224  \n",
       "5                        0.000000  \n",
       "6                        0.000000  \n",
       "7                        0.000000  \n",
       "8                        0.000000  \n",
       "9                        0.000000  \n",
       "10                       2.964703  \n",
       "11                       2.592732  \n",
       "12                       2.712354  \n",
       "13                       2.409891  \n",
       "14                       2.822832  \n",
       "15                       6.152965  \n",
       "16                       6.362954  \n",
       "17                       6.191392  \n",
       "18                       5.688495  \n",
       "19                       6.097148  \n",
       "20                       9.235686  \n",
       "21                       8.277232  \n",
       "22                       8.165230  \n",
       "23                       8.810607  \n",
       "24                       9.409910  \n",
       "25                       0.017965  \n",
       "26                       0.012720  \n",
       "27                       0.011463  \n",
       "28                       0.005440  \n",
       "29                       0.007099  \n",
       "30                       0.000550  \n",
       "31                       0.000559  \n",
       "32                       0.000632  \n",
       "33                       0.000523  \n",
       "34                       0.000527  \n",
       "35                       1.367065  \n",
       "36                       1.384278  \n",
       "37                       1.441811  \n",
       "38                       1.279953  \n",
       "39                       1.377796  "
      ]
     },
     "execution_count": 35,
     "metadata": {},
     "output_type": "execute_result"
    }
   ],
   "source": [
    "model=[]\n",
    "r2s=[]\n",
    "random=[]\n",
    "mae=[]\n",
    "mse=[]\n",
    "rmse_test=[]\n",
    "rmse_train=[]\n",
    "\n",
    "for i1 in lst:\n",
    "    for i2 in range(0,5):\n",
    "        x_train,x_test,y_train,y_test=train_test_split(Xnew,Y,random_state=i2,test_size=0.10)\n",
    "        i1.fit(x_train,y_train)\n",
    "        pred_test=i1.predict(x_test)\n",
    "        pred_train=i1.predict(x_train)\n",
    "        model.append(i1)\n",
    "        r2s.append(r2_score(y_test,pred_test))\n",
    "        mae.append(mean_absolute_error(y_test,pred_test))\n",
    "        mse.append(mean_squared_error(y_test,pred_test))\n",
    "        rmse_test.append(np.sqrt(mean_squared_error(y_test,pred_test)))\n",
    "        rmse_train.append(np.sqrt(mean_squared_error(y_train,pred_train)))\n",
    "        random.append(i2)\n",
    "        \n",
    "        \n",
    "        \n",
    "#Creating Dataframe of comparison between different models and their respective scores\n",
    "\n",
    "modeldata=pd.DataFrame({\"Model\":model,\"Random State\":random,\"R2 Score\":r2s,\"Mean Absolute Error\":mae,\"Mean Squared Error\":mse,\"Root Mean Squared Error-Test\":rmse_test,\"Root Mean Squared Error-Train\":rmse_train})\n",
    "modeldata    "
   ]
  },
  {
   "cell_type": "raw",
   "id": "d3dee4ae",
   "metadata": {},
   "source": [
    "From the above analysis on training and comparing different types of models, it is clear that XGBRegressor, for random state-0 and test_size=0.10, the R2 score is 0.95 and the RMSE value for training -1.8 and test data is 0.0005. For other algorithms the models trained have very low R2 score and high RMSE values and the RMSE values are varied for train and test data. "
   ]
  },
  {
   "cell_type": "markdown",
   "id": "aa823bf2",
   "metadata": {},
   "source": [
    "# Training and Comparing Models"
   ]
  },
  {
   "cell_type": "markdown",
   "id": "0efae764",
   "metadata": {},
   "source": [
    "# 1. Linear Regression"
   ]
  },
  {
   "cell_type": "code",
   "execution_count": 37,
   "id": "ccdb22a2",
   "metadata": {},
   "outputs": [],
   "source": [
    "x_train,x_test,y_train,y_test=train_test_split(Xnew,Y,random_state=0,test_size=0.10)"
   ]
  },
  {
   "cell_type": "code",
   "execution_count": 38,
   "id": "acc8fe9d",
   "metadata": {},
   "outputs": [
    {
     "name": "stdout",
     "output_type": "stream",
     "text": [
      "0.84\n"
     ]
    }
   ],
   "source": [
    "lr=LinearRegression()\n",
    "model1=lr.fit(x_train,y_train)\n",
    "pred_train=model1.predict(x_train)\n",
    "pred_test=model1.predict(x_test)\n",
    "print(round(r2_score(y_train,pred_train),2))"
   ]
  },
  {
   "cell_type": "code",
   "execution_count": 39,
   "id": "bdbb75aa",
   "metadata": {},
   "outputs": [
    {
     "name": "stdout",
     "output_type": "stream",
     "text": [
      "0.54\n"
     ]
    }
   ],
   "source": [
    "print(round(r2_score(y_test,pred_test),2))"
   ]
  },
  {
   "cell_type": "code",
   "execution_count": 40,
   "id": "ec7f915f",
   "metadata": {},
   "outputs": [
    {
     "name": "stdout",
     "output_type": "stream",
     "text": [
      "4.2 3.34\n"
     ]
    }
   ],
   "source": [
    "print(round(mean_absolute_error(y_test,pred_test),2),round(mean_absolute_error(y_train,pred_train),2))"
   ]
  },
  {
   "cell_type": "code",
   "execution_count": 41,
   "id": "f7b916b5",
   "metadata": {},
   "outputs": [
    {
     "name": "stdout",
     "output_type": "stream",
     "text": [
      "37.45 16.21\n"
     ]
    }
   ],
   "source": [
    "print(round(mean_squared_error(y_test,pred_test),2),round(mean_squared_error(y_train,pred_train),2))"
   ]
  },
  {
   "cell_type": "code",
   "execution_count": 42,
   "id": "6cd2fe3b",
   "metadata": {},
   "outputs": [
    {
     "name": "stdout",
     "output_type": "stream",
     "text": [
      "6.12 4.03\n"
     ]
    }
   ],
   "source": [
    "print(round(np.sqrt(mean_squared_error(y_test,pred_test)),2),round(np.sqrt(mean_squared_error(y_train,pred_train)),2))"
   ]
  },
  {
   "cell_type": "code",
   "execution_count": 43,
   "id": "fdb00795",
   "metadata": {},
   "outputs": [],
   "source": [
    "from sklearn.model_selection import cross_val_score\n",
    "from sklearn.model_selection import KFold\n",
    "cv=KFold(n_splits=10,random_state=1,shuffle=True)"
   ]
  },
  {
   "cell_type": "code",
   "execution_count": 93,
   "id": "ea3a8104",
   "metadata": {},
   "outputs": [],
   "source": [
    "cvs=cross_val_score(model1,Xnew,Y,cv=cv)"
   ]
  },
  {
   "cell_type": "code",
   "execution_count": 94,
   "id": "6f0f60eb",
   "metadata": {},
   "outputs": [
    {
     "name": "stdout",
     "output_type": "stream",
     "text": [
      "-3.555369643334916\n"
     ]
    }
   ],
   "source": [
    "print(cvs.mean())"
   ]
  },
  {
   "cell_type": "markdown",
   "id": "55a96936",
   "metadata": {},
   "source": [
    "# 2. Random Forest Regressor"
   ]
  },
  {
   "cell_type": "code",
   "execution_count": 51,
   "id": "75e6ff31",
   "metadata": {},
   "outputs": [
    {
     "name": "stdout",
     "output_type": "stream",
     "text": [
      "0.86\n"
     ]
    }
   ],
   "source": [
    "model2= RandomForestRegressor(n_estimators=2)\n",
    "model2.fit(x_train,y_train)\n",
    "pred_train=model2.predict(x_train)\n",
    "pred_test=model2.predict(x_test)\n",
    "\n",
    "print(round(r2_score(y_train,pred_train),2))"
   ]
  },
  {
   "cell_type": "code",
   "execution_count": 52,
   "id": "020532ec",
   "metadata": {},
   "outputs": [
    {
     "name": "stdout",
     "output_type": "stream",
     "text": [
      "0.53\n"
     ]
    }
   ],
   "source": [
    "print(round(r2_score(y_test,pred_test),2))"
   ]
  },
  {
   "cell_type": "code",
   "execution_count": 53,
   "id": "18aaf029",
   "metadata": {},
   "outputs": [
    {
     "name": "stdout",
     "output_type": "stream",
     "text": [
      "4.83 2.31\n"
     ]
    }
   ],
   "source": [
    "print(round(mean_absolute_error(y_test,pred_test),2),round(mean_absolute_error(y_train,pred_train),2))"
   ]
  },
  {
   "cell_type": "code",
   "execution_count": 54,
   "id": "947bdb42",
   "metadata": {},
   "outputs": [
    {
     "name": "stdout",
     "output_type": "stream",
     "text": [
      "38.42 14.29\n"
     ]
    }
   ],
   "source": [
    "print(round(mean_squared_error(y_test,pred_test),2),round(mean_squared_error(y_train,pred_train),2))"
   ]
  },
  {
   "cell_type": "code",
   "execution_count": 55,
   "id": "da130761",
   "metadata": {},
   "outputs": [
    {
     "name": "stdout",
     "output_type": "stream",
     "text": [
      "6.2 3.78\n"
     ]
    }
   ],
   "source": [
    "print(round(np.sqrt(mean_squared_error(y_test,pred_test)),2),round(np.sqrt(mean_squared_error(y_train,pred_train)),2))"
   ]
  },
  {
   "cell_type": "code",
   "execution_count": 56,
   "id": "94134c0b",
   "metadata": {},
   "outputs": [
    {
     "data": {
      "text/plain": [
       "-6.229985836578711"
      ]
     },
     "execution_count": 56,
     "metadata": {},
     "output_type": "execute_result"
    }
   ],
   "source": [
    "from sklearn.model_selection import KFold\n",
    "from sklearn.model_selection import cross_val_score\n",
    "\n",
    "cv=KFold(n_splits=10, random_state=1, shuffle=True)\n",
    "cv1=cross_val_score(model2,Xnew,Y,cv=cv)\n",
    "score1=cv1.mean()\n",
    "score1"
   ]
  },
  {
   "cell_type": "markdown",
   "id": "6567e546",
   "metadata": {},
   "source": [
    "# 3. Decision Tree Regressor"
   ]
  },
  {
   "cell_type": "code",
   "execution_count": 60,
   "id": "69092007",
   "metadata": {},
   "outputs": [
    {
     "name": "stdout",
     "output_type": "stream",
     "text": [
      "1.0\n"
     ]
    }
   ],
   "source": [
    "from sklearn.tree import DecisionTreeRegressor\n",
    "# create an estimator, optionally specifying parameters\n",
    "dt= DecisionTreeRegressor()\n",
    "# fit the estimator to the data\n",
    "model3=dt.fit(x_train,y_train)\n",
    "# apply the model to the test and training data\n",
    "pred_test = model3.predict(x_test)\n",
    "pred_train = model3.predict(x_train)\n",
    "print(r2_score(y_train,pred_train))"
   ]
  },
  {
   "cell_type": "code",
   "execution_count": 61,
   "id": "90d89f49",
   "metadata": {},
   "outputs": [
    {
     "name": "stdout",
     "output_type": "stream",
     "text": [
      "0.66\n"
     ]
    }
   ],
   "source": [
    "print(round(r2_score(y_test,pred_test),2))"
   ]
  },
  {
   "cell_type": "code",
   "execution_count": 62,
   "id": "51fb8bc7",
   "metadata": {},
   "outputs": [
    {
     "name": "stdout",
     "output_type": "stream",
     "text": [
      "5.0 0.0\n"
     ]
    }
   ],
   "source": [
    "print(round(mean_absolute_error(y_test,pred_test),2),round(mean_absolute_error(y_train,pred_train),2))"
   ]
  },
  {
   "cell_type": "code",
   "execution_count": 63,
   "id": "3bd73ad8",
   "metadata": {},
   "outputs": [
    {
     "name": "stdout",
     "output_type": "stream",
     "text": [
      "27.67 0.0\n"
     ]
    }
   ],
   "source": [
    "print(round(mean_squared_error(y_test,pred_test),2),round(mean_squared_error(y_train,pred_train),2))"
   ]
  },
  {
   "cell_type": "code",
   "execution_count": 64,
   "id": "d32fd30e",
   "metadata": {},
   "outputs": [
    {
     "name": "stdout",
     "output_type": "stream",
     "text": [
      "5.26 0.0\n"
     ]
    }
   ],
   "source": [
    "print(round(np.sqrt(mean_squared_error(y_test,pred_test)),2),round(np.sqrt(mean_squared_error(y_train,pred_train)),2))"
   ]
  },
  {
   "cell_type": "code",
   "execution_count": 96,
   "id": "033b6b1c",
   "metadata": {},
   "outputs": [
    {
     "data": {
      "text/plain": [
       "-3.022281891581187"
      ]
     },
     "execution_count": 96,
     "metadata": {},
     "output_type": "execute_result"
    }
   ],
   "source": [
    "from sklearn.model_selection import KFold\n",
    "from sklearn.model_selection import cross_val_score\n",
    "\n",
    "cv=KFold(n_splits=10, random_state=1, shuffle=True)\n",
    "cv1=cross_val_score(model3,Xnew,Y,cv=cv)\n",
    "score1=cv1.mean()\n",
    "score1"
   ]
  },
  {
   "cell_type": "markdown",
   "id": "a9b69397",
   "metadata": {},
   "source": [
    "# 4. KNN"
   ]
  },
  {
   "cell_type": "code",
   "execution_count": 68,
   "id": "1f64ad77",
   "metadata": {},
   "outputs": [],
   "source": [
    "from sklearn.neighbors import KNeighborsRegressor\n",
    "knn=KNeighborsRegressor(n_neighbors=5)\n",
    "model4=knn.fit(x_train,y_train)"
   ]
  },
  {
   "cell_type": "code",
   "execution_count": 71,
   "id": "30a9c293",
   "metadata": {},
   "outputs": [
    {
     "name": "stdout",
     "output_type": "stream",
     "text": [
      "0.57\n"
     ]
    }
   ],
   "source": [
    "pred_train=model4.predict(x_train)\n",
    "pred_test = model4.predict(x_test)\n",
    "print(round(r2_score(y_train,pred_train),2))"
   ]
  },
  {
   "cell_type": "code",
   "execution_count": 72,
   "id": "25669c71",
   "metadata": {},
   "outputs": [
    {
     "name": "stdout",
     "output_type": "stream",
     "text": [
      "0.23\n"
     ]
    }
   ],
   "source": [
    "print(round(r2_score(y_test,pred_test),2))"
   ]
  },
  {
   "cell_type": "code",
   "execution_count": 73,
   "id": "88404265",
   "metadata": {},
   "outputs": [
    {
     "name": "stdout",
     "output_type": "stream",
     "text": [
      "6.07 5.68\n"
     ]
    }
   ],
   "source": [
    "print(round(mean_absolute_error(y_test,pred_test),2),round(mean_absolute_error(y_train,pred_train),2))"
   ]
  },
  {
   "cell_type": "code",
   "execution_count": 74,
   "id": "1733cf7c",
   "metadata": {},
   "outputs": [
    {
     "name": "stdout",
     "output_type": "stream",
     "text": [
      "62.41 44.25\n"
     ]
    }
   ],
   "source": [
    "print(round(mean_squared_error(y_test,pred_test),2),round(mean_squared_error(y_train,pred_train),2))"
   ]
  },
  {
   "cell_type": "code",
   "execution_count": 75,
   "id": "5651a52d",
   "metadata": {},
   "outputs": [
    {
     "name": "stdout",
     "output_type": "stream",
     "text": [
      "7.9 6.65\n"
     ]
    }
   ],
   "source": [
    "print(round(np.sqrt(mean_squared_error(y_test,pred_test)),2),round(np.sqrt(mean_squared_error(y_train,pred_train)),2))"
   ]
  },
  {
   "cell_type": "code",
   "execution_count": 98,
   "id": "e731a822",
   "metadata": {},
   "outputs": [
    {
     "data": {
      "text/plain": [
       "-3.412125781054898"
      ]
     },
     "execution_count": 98,
     "metadata": {},
     "output_type": "execute_result"
    }
   ],
   "source": [
    "from sklearn.model_selection import KFold\n",
    "from sklearn.model_selection import cross_val_score\n",
    "\n",
    "cv=KFold(n_splits=10, random_state=1, shuffle=True)\n",
    "cv1=cross_val_score(model4,Xnew,Y,cv=cv)\n",
    "score1=cv1.mean()\n",
    "score1"
   ]
  },
  {
   "cell_type": "markdown",
   "id": "db77c632",
   "metadata": {},
   "source": [
    "# 5. SVR"
   ]
  },
  {
   "cell_type": "code",
   "execution_count": 100,
   "id": "790b29f9",
   "metadata": {},
   "outputs": [
    {
     "data": {
      "text/plain": [
       "SVR()"
      ]
     },
     "execution_count": 100,
     "metadata": {},
     "output_type": "execute_result"
    }
   ],
   "source": [
    "from sklearn.svm import SVR\n",
    "model5=SVR(kernel = 'rbf')\n",
    "model5.fit(x_train,y_train)"
   ]
  },
  {
   "cell_type": "code",
   "execution_count": 79,
   "id": "c551f04d",
   "metadata": {},
   "outputs": [
    {
     "name": "stdout",
     "output_type": "stream",
     "text": [
      "0.18\n"
     ]
    }
   ],
   "source": [
    "pred_train=model5.predict(x_train)\n",
    "pred_test = model5.predict(x_test)\n",
    "print(round(r2_score(y_train,pred_train),2))"
   ]
  },
  {
   "cell_type": "code",
   "execution_count": 80,
   "id": "5f43b781",
   "metadata": {},
   "outputs": [
    {
     "name": "stdout",
     "output_type": "stream",
     "text": [
      "0.13\n"
     ]
    }
   ],
   "source": [
    "print(round(r2_score(y_test,pred_test),2))"
   ]
  },
  {
   "cell_type": "code",
   "execution_count": 81,
   "id": "bc886656",
   "metadata": {},
   "outputs": [
    {
     "name": "stdout",
     "output_type": "stream",
     "text": [
      "5.67 7.55\n"
     ]
    }
   ],
   "source": [
    "print(round(mean_absolute_error(y_test,pred_test),2),round(mean_absolute_error(y_train,pred_train),2))"
   ]
  },
  {
   "cell_type": "code",
   "execution_count": 82,
   "id": "49650b5e",
   "metadata": {},
   "outputs": [
    {
     "name": "stdout",
     "output_type": "stream",
     "text": [
      "70.12 85.3\n"
     ]
    }
   ],
   "source": [
    "print(round(mean_squared_error(y_test,pred_test),2),round(mean_squared_error(y_train,pred_train),2))"
   ]
  },
  {
   "cell_type": "code",
   "execution_count": 83,
   "id": "b93d9cc4",
   "metadata": {},
   "outputs": [
    {
     "name": "stdout",
     "output_type": "stream",
     "text": [
      "8.37 9.24\n"
     ]
    }
   ],
   "source": [
    "print(round(np.sqrt(mean_squared_error(y_test,pred_test)),2),round(np.sqrt(mean_squared_error(y_train,pred_train)),2))"
   ]
  },
  {
   "cell_type": "code",
   "execution_count": 101,
   "id": "19cf08ff",
   "metadata": {},
   "outputs": [
    {
     "data": {
      "text/plain": [
       "-4.328332984245707"
      ]
     },
     "execution_count": 101,
     "metadata": {},
     "output_type": "execute_result"
    }
   ],
   "source": [
    "cv=KFold(n_splits=10, random_state=1, shuffle=True)\n",
    "cv1=cross_val_score(model5,Xnew,Y,cv=cv)\n",
    "score1=cv1.mean()\n",
    "score1"
   ]
  },
  {
   "cell_type": "markdown",
   "id": "1adaba9e",
   "metadata": {},
   "source": [
    "# 6. Gradient Boosting Regressor"
   ]
  },
  {
   "cell_type": "code",
   "execution_count": 204,
   "id": "426ccef1",
   "metadata": {},
   "outputs": [],
   "source": [
    "gb=GradientBoostingRegressor()\n",
    "model6=gb.fit(x_train,y_train)\n",
    "predtest=model6.predict(x_test)\n",
    "predtrain=model6.predict(x_train)"
   ]
  },
  {
   "cell_type": "code",
   "execution_count": 87,
   "id": "86daeca3",
   "metadata": {},
   "outputs": [
    {
     "name": "stdout",
     "output_type": "stream",
     "text": [
      "1.0\n"
     ]
    }
   ],
   "source": [
    "print(round(r2_score(y_train,predtrain),2))"
   ]
  },
  {
   "cell_type": "code",
   "execution_count": 88,
   "id": "fd3f9dda",
   "metadata": {},
   "outputs": [
    {
     "name": "stdout",
     "output_type": "stream",
     "text": [
      "0.8\n"
     ]
    }
   ],
   "source": [
    "print(round(r2_score(y_test,predtest),2))"
   ]
  },
  {
   "cell_type": "code",
   "execution_count": 89,
   "id": "39200d48",
   "metadata": {},
   "outputs": [
    {
     "name": "stdout",
     "output_type": "stream",
     "text": [
      "3.81\n"
     ]
    }
   ],
   "source": [
    "print(round(mean_absolute_error(y_test,predtest),2))"
   ]
  },
  {
   "cell_type": "code",
   "execution_count": 90,
   "id": "5871fba0",
   "metadata": {
    "scrolled": true
   },
   "outputs": [
    {
     "name": "stdout",
     "output_type": "stream",
     "text": [
      "4.05\n"
     ]
    }
   ],
   "source": [
    "print(round(np.sqrt(mean_squared_error(y_test,predtest)),2))"
   ]
  },
  {
   "cell_type": "code",
   "execution_count": 205,
   "id": "e6616697",
   "metadata": {},
   "outputs": [
    {
     "name": "stdout",
     "output_type": "stream",
     "text": [
      "0.02\n"
     ]
    }
   ],
   "source": [
    "print(round(np.sqrt(mean_squared_error(y_train,predtrain)),2))"
   ]
  },
  {
   "cell_type": "code",
   "execution_count": 103,
   "id": "bc817ab1",
   "metadata": {},
   "outputs": [
    {
     "data": {
      "text/plain": [
       "-0.40244024389465666"
      ]
     },
     "execution_count": 103,
     "metadata": {},
     "output_type": "execute_result"
    }
   ],
   "source": [
    "cv=KFold(n_splits=10, random_state=1, shuffle=True)\n",
    "cv1=cross_val_score(model6,Xnew,Y,cv=cv)\n",
    "score1=cv1.mean()\n",
    "score1"
   ]
  },
  {
   "cell_type": "markdown",
   "id": "b2bcaff4",
   "metadata": {},
   "source": [
    "# 7. XGB Regressor"
   ]
  },
  {
   "cell_type": "code",
   "execution_count": 200,
   "id": "87b71fa7",
   "metadata": {},
   "outputs": [],
   "source": [
    "x=XGBRegressor()\n",
    "model7=x.fit(x_train,y_train)\n",
    "predtest=model7.predict(x_test)\n",
    "predtrain=model7.predict(x_train)"
   ]
  },
  {
   "cell_type": "code",
   "execution_count": 201,
   "id": "6a2d4bb4",
   "metadata": {},
   "outputs": [
    {
     "name": "stdout",
     "output_type": "stream",
     "text": [
      "1.0\n"
     ]
    }
   ],
   "source": [
    "print(round(r2_score(y_train,predtrain),2))"
   ]
  },
  {
   "cell_type": "code",
   "execution_count": 202,
   "id": "bd82abc0",
   "metadata": {},
   "outputs": [
    {
     "name": "stdout",
     "output_type": "stream",
     "text": [
      "0.96\n"
     ]
    }
   ],
   "source": [
    "print(round(r2_score(y_test,predtest),2))"
   ]
  },
  {
   "cell_type": "code",
   "execution_count": 107,
   "id": "2c5fabd2",
   "metadata": {},
   "outputs": [
    {
     "name": "stdout",
     "output_type": "stream",
     "text": [
      "1.73\n"
     ]
    }
   ],
   "source": [
    "print(round(mean_absolute_error(y_test,predtest),2))"
   ]
  },
  {
   "cell_type": "code",
   "execution_count": 108,
   "id": "08e088c2",
   "metadata": {},
   "outputs": [
    {
     "name": "stdout",
     "output_type": "stream",
     "text": [
      "1.89\n"
     ]
    }
   ],
   "source": [
    "print(round(np.sqrt(mean_squared_error(y_test,predtest)),2))"
   ]
  },
  {
   "cell_type": "code",
   "execution_count": 203,
   "id": "8abb8418",
   "metadata": {},
   "outputs": [
    {
     "name": "stdout",
     "output_type": "stream",
     "text": [
      "0.0\n"
     ]
    }
   ],
   "source": [
    "print(round(np.sqrt(mean_squared_error(y_train,predtrain)),2))"
   ]
  },
  {
   "cell_type": "code",
   "execution_count": 183,
   "id": "1602742c",
   "metadata": {},
   "outputs": [
    {
     "data": {
      "text/plain": [
       "0.31391720150568303"
      ]
     },
     "execution_count": 183,
     "metadata": {},
     "output_type": "execute_result"
    }
   ],
   "source": [
    "cv=KFold(n_splits=9,random_state=10,shuffle=True)\n",
    "cv1=cross_val_score(model7,Xnew,Y,cv=cv)\n",
    "score1=cv1.mean()\n",
    "score1"
   ]
  },
  {
   "cell_type": "code",
   "execution_count": 184,
   "id": "b2bb4dec",
   "metadata": {},
   "outputs": [
    {
     "data": {
      "text/plain": [
       "array([ 0.00310674,  0.01028971, -0.0572639 ,  0.87336084,  0.60259384,\n",
       "       -0.06257578,  0.79831378,  0.76702212, -0.10959253])"
      ]
     },
     "execution_count": 184,
     "metadata": {},
     "output_type": "execute_result"
    }
   ],
   "source": [
    "cv1"
   ]
  },
  {
   "cell_type": "markdown",
   "id": "66491963",
   "metadata": {},
   "source": [
    "# 8. ADA Boost Regressor"
   ]
  },
  {
   "cell_type": "code",
   "execution_count": 185,
   "id": "cbf3a088",
   "metadata": {},
   "outputs": [],
   "source": [
    "ab=AdaBoostRegressor()\n",
    "model8=ab.fit(x_train,y_train)\n",
    "predtest=model8.predict(x_test)\n",
    "predtrain=model8.predict(x_train)"
   ]
  },
  {
   "cell_type": "code",
   "execution_count": 186,
   "id": "5ba70ba0",
   "metadata": {},
   "outputs": [
    {
     "name": "stdout",
     "output_type": "stream",
     "text": [
      "0.99\n"
     ]
    }
   ],
   "source": [
    "print(round(r2_score(y_train,predtrain),2))"
   ]
  },
  {
   "cell_type": "code",
   "execution_count": 187,
   "id": "cc8970b2",
   "metadata": {},
   "outputs": [
    {
     "name": "stdout",
     "output_type": "stream",
     "text": [
      "0.77\n"
     ]
    }
   ],
   "source": [
    "print(round(r2_score(y_test,predtest),2))"
   ]
  },
  {
   "cell_type": "code",
   "execution_count": 188,
   "id": "a7ce6dae",
   "metadata": {},
   "outputs": [
    {
     "name": "stdout",
     "output_type": "stream",
     "text": [
      "4.2\n"
     ]
    }
   ],
   "source": [
    "print(round(mean_absolute_error(y_test,predtest),2))"
   ]
  },
  {
   "cell_type": "code",
   "execution_count": 189,
   "id": "377624b3",
   "metadata": {},
   "outputs": [
    {
     "name": "stdout",
     "output_type": "stream",
     "text": [
      "4.29\n"
     ]
    }
   ],
   "source": [
    "print(round(np.sqrt(mean_squared_error(y_test,predtest)),2))"
   ]
  },
  {
   "cell_type": "code",
   "execution_count": 198,
   "id": "ffd66a54",
   "metadata": {},
   "outputs": [
    {
     "data": {
      "text/plain": [
       "0.5043446431386699"
      ]
     },
     "execution_count": 198,
     "metadata": {},
     "output_type": "execute_result"
    }
   ],
   "source": [
    "cv=KFold(n_splits=5,random_state=5,shuffle=True)\n",
    "cv1=cross_val_score(model8,Xnew,Y,cv=cv)\n",
    "score1=cv1.mean()\n",
    "score1"
   ]
  },
  {
   "cell_type": "code",
   "execution_count": 199,
   "id": "5045fdb5",
   "metadata": {},
   "outputs": [
    {
     "data": {
      "text/plain": [
       "array([0.54326241, 0.40815307, 0.78354545, 0.48025016, 0.30651212])"
      ]
     },
     "execution_count": 199,
     "metadata": {},
     "output_type": "execute_result"
    }
   ],
   "source": [
    "cv1"
   ]
  },
  {
   "cell_type": "markdown",
   "id": "686bd353",
   "metadata": {},
   "source": [
    "From the abover model results, it is clear that with respect to the R2 score, the best model is XGB Regressor which has very less difference of r2 score in training and test data. With respect to RMSE also, XGB Regressor shows very less value compared to the other models."
   ]
  },
  {
   "cell_type": "markdown",
   "id": "b817cb5b",
   "metadata": {},
   "source": [
    "# Hyperparameter Tuning"
   ]
  },
  {
   "cell_type": "code",
   "execution_count": 206,
   "id": "c66dc07a",
   "metadata": {},
   "outputs": [],
   "source": [
    "from sklearn.model_selection import RandomizedSearchCV"
   ]
  },
  {
   "cell_type": "code",
   "execution_count": 207,
   "id": "2384930a",
   "metadata": {},
   "outputs": [],
   "source": [
    "x=XGBRegressor()"
   ]
  },
  {
   "cell_type": "code",
   "execution_count": 208,
   "id": "b2e49aa1",
   "metadata": {},
   "outputs": [
    {
     "data": {
      "text/plain": [
       "{'objective': 'reg:squarederror',\n",
       " 'base_score': None,\n",
       " 'booster': None,\n",
       " 'callbacks': None,\n",
       " 'colsample_bylevel': None,\n",
       " 'colsample_bynode': None,\n",
       " 'colsample_bytree': None,\n",
       " 'early_stopping_rounds': None,\n",
       " 'enable_categorical': False,\n",
       " 'eval_metric': None,\n",
       " 'gamma': None,\n",
       " 'gpu_id': None,\n",
       " 'grow_policy': None,\n",
       " 'importance_type': None,\n",
       " 'interaction_constraints': None,\n",
       " 'learning_rate': None,\n",
       " 'max_bin': None,\n",
       " 'max_cat_to_onehot': None,\n",
       " 'max_delta_step': None,\n",
       " 'max_depth': None,\n",
       " 'max_leaves': None,\n",
       " 'min_child_weight': None,\n",
       " 'missing': nan,\n",
       " 'monotone_constraints': None,\n",
       " 'n_estimators': 100,\n",
       " 'n_jobs': None,\n",
       " 'num_parallel_tree': None,\n",
       " 'predictor': None,\n",
       " 'random_state': None,\n",
       " 'reg_alpha': None,\n",
       " 'reg_lambda': None,\n",
       " 'sampling_method': None,\n",
       " 'scale_pos_weight': None,\n",
       " 'subsample': None,\n",
       " 'tree_method': None,\n",
       " 'validate_parameters': None,\n",
       " 'verbosity': None}"
      ]
     },
     "execution_count": 208,
     "metadata": {},
     "output_type": "execute_result"
    }
   ],
   "source": [
    "x.get_params()"
   ]
  },
  {
   "cell_type": "code",
   "execution_count": 255,
   "id": "592b5e9d",
   "metadata": {},
   "outputs": [],
   "source": [
    "param_dist={\"max_depth\": [7,8,9,10],\"booster\": ['gbtree','gblinear'],\"eval_metric\":['rmse','mae'],\"reg_lambda\":[1,2,3],\"n_estimators\":[20,30,40]}"
   ]
  },
  {
   "cell_type": "code",
   "execution_count": 257,
   "id": "8a5a5d48",
   "metadata": {},
   "outputs": [],
   "source": [
    "samples=10\n",
    "randomcv=RandomizedSearchCV(x,param_distributions=param_dist,n_iter=samples,cv=3)"
   ]
  },
  {
   "cell_type": "code",
   "execution_count": 258,
   "id": "baa77fcb",
   "metadata": {},
   "outputs": [
    {
     "name": "stdout",
     "output_type": "stream",
     "text": [
      "[09:37:08] WARNING: C:/Users/administrator/workspace/xgboost-win64_release_1.6.0/src/learner.cc:627: \n",
      "Parameters: { \"max_depth\" } might not be used.\n",
      "\n",
      "  This could be a false alarm, with some parameters getting used by language bindings but\n",
      "  then being mistakenly passed down to XGBoost core, or some parameter actually being used\n",
      "  but getting flagged wrongly here. Please open an issue if you find any such cases.\n",
      "\n",
      "\n",
      "[09:37:08] WARNING: C:/Users/administrator/workspace/xgboost-win64_release_1.6.0/src/learner.cc:627: \n",
      "Parameters: { \"max_depth\" } might not be used.\n",
      "\n",
      "  This could be a false alarm, with some parameters getting used by language bindings but\n",
      "  then being mistakenly passed down to XGBoost core, or some parameter actually being used\n",
      "  but getting flagged wrongly here. Please open an issue if you find any such cases.\n",
      "\n",
      "\n",
      "[09:37:08] WARNING: C:/Users/administrator/workspace/xgboost-win64_release_1.6.0/src/learner.cc:627: \n",
      "Parameters: { \"max_depth\" } might not be used.\n",
      "\n",
      "  This could be a false alarm, with some parameters getting used by language bindings but\n",
      "  then being mistakenly passed down to XGBoost core, or some parameter actually being used\n",
      "  but getting flagged wrongly here. Please open an issue if you find any such cases.\n",
      "\n",
      "\n",
      "[09:37:08] WARNING: C:/Users/administrator/workspace/xgboost-win64_release_1.6.0/src/learner.cc:627: \n",
      "Parameters: { \"max_depth\" } might not be used.\n",
      "\n",
      "  This could be a false alarm, with some parameters getting used by language bindings but\n",
      "  then being mistakenly passed down to XGBoost core, or some parameter actually being used\n",
      "  but getting flagged wrongly here. Please open an issue if you find any such cases.\n",
      "\n",
      "\n",
      "[09:37:09] WARNING: C:/Users/administrator/workspace/xgboost-win64_release_1.6.0/src/learner.cc:627: \n",
      "Parameters: { \"max_depth\" } might not be used.\n",
      "\n",
      "  This could be a false alarm, with some parameters getting used by language bindings but\n",
      "  then being mistakenly passed down to XGBoost core, or some parameter actually being used\n",
      "  but getting flagged wrongly here. Please open an issue if you find any such cases.\n",
      "\n",
      "\n",
      "[09:37:09] WARNING: C:/Users/administrator/workspace/xgboost-win64_release_1.6.0/src/learner.cc:627: \n",
      "Parameters: { \"max_depth\" } might not be used.\n",
      "\n",
      "  This could be a false alarm, with some parameters getting used by language bindings but\n",
      "  then being mistakenly passed down to XGBoost core, or some parameter actually being used\n",
      "  but getting flagged wrongly here. Please open an issue if you find any such cases.\n",
      "\n",
      "\n",
      "[09:37:09] WARNING: C:/Users/administrator/workspace/xgboost-win64_release_1.6.0/src/learner.cc:627: \n",
      "Parameters: { \"max_depth\" } might not be used.\n",
      "\n",
      "  This could be a false alarm, with some parameters getting used by language bindings but\n",
      "  then being mistakenly passed down to XGBoost core, or some parameter actually being used\n",
      "  but getting flagged wrongly here. Please open an issue if you find any such cases.\n",
      "\n",
      "\n",
      "[09:37:09] WARNING: C:/Users/administrator/workspace/xgboost-win64_release_1.6.0/src/learner.cc:627: \n",
      "Parameters: { \"max_depth\" } might not be used.\n",
      "\n",
      "  This could be a false alarm, with some parameters getting used by language bindings but\n",
      "  then being mistakenly passed down to XGBoost core, or some parameter actually being used\n",
      "  but getting flagged wrongly here. Please open an issue if you find any such cases.\n",
      "\n",
      "\n",
      "[09:37:09] WARNING: C:/Users/administrator/workspace/xgboost-win64_release_1.6.0/src/learner.cc:627: \n",
      "Parameters: { \"max_depth\" } might not be used.\n",
      "\n",
      "  This could be a false alarm, with some parameters getting used by language bindings but\n",
      "  then being mistakenly passed down to XGBoost core, or some parameter actually being used\n",
      "  but getting flagged wrongly here. Please open an issue if you find any such cases.\n",
      "\n",
      "\n",
      "[09:37:09] WARNING: C:/Users/administrator/workspace/xgboost-win64_release_1.6.0/src/learner.cc:627: \n",
      "Parameters: { \"max_depth\" } might not be used.\n",
      "\n",
      "  This could be a false alarm, with some parameters getting used by language bindings but\n",
      "  then being mistakenly passed down to XGBoost core, or some parameter actually being used\n",
      "  but getting flagged wrongly here. Please open an issue if you find any such cases.\n",
      "\n",
      "\n",
      "[09:37:09] WARNING: C:/Users/administrator/workspace/xgboost-win64_release_1.6.0/src/learner.cc:627: \n",
      "Parameters: { \"max_depth\" } might not be used.\n",
      "\n",
      "  This could be a false alarm, with some parameters getting used by language bindings but\n",
      "  then being mistakenly passed down to XGBoost core, or some parameter actually being used\n",
      "  but getting flagged wrongly here. Please open an issue if you find any such cases.\n",
      "\n",
      "\n",
      "[09:37:09] WARNING: C:/Users/administrator/workspace/xgboost-win64_release_1.6.0/src/learner.cc:627: \n",
      "Parameters: { \"max_depth\" } might not be used.\n",
      "\n",
      "  This could be a false alarm, with some parameters getting used by language bindings but\n",
      "  then being mistakenly passed down to XGBoost core, or some parameter actually being used\n",
      "  but getting flagged wrongly here. Please open an issue if you find any such cases.\n",
      "\n",
      "\n",
      "[09:37:09] WARNING: C:/Users/administrator/workspace/xgboost-win64_release_1.6.0/src/learner.cc:627: \n",
      "Parameters: { \"max_depth\" } might not be used.\n",
      "\n",
      "  This could be a false alarm, with some parameters getting used by language bindings but\n",
      "  then being mistakenly passed down to XGBoost core, or some parameter actually being used\n",
      "  but getting flagged wrongly here. Please open an issue if you find any such cases.\n",
      "\n",
      "\n",
      "[09:37:09] WARNING: C:/Users/administrator/workspace/xgboost-win64_release_1.6.0/src/learner.cc:627: \n",
      "Parameters: { \"max_depth\" } might not be used.\n",
      "\n",
      "  This could be a false alarm, with some parameters getting used by language bindings but\n",
      "  then being mistakenly passed down to XGBoost core, or some parameter actually being used\n",
      "  but getting flagged wrongly here. Please open an issue if you find any such cases.\n",
      "\n",
      "\n",
      "[09:37:10] WARNING: C:/Users/administrator/workspace/xgboost-win64_release_1.6.0/src/learner.cc:627: \n",
      "Parameters: { \"max_depth\" } might not be used.\n",
      "\n",
      "  This could be a false alarm, with some parameters getting used by language bindings but\n",
      "  then being mistakenly passed down to XGBoost core, or some parameter actually being used\n",
      "  but getting flagged wrongly here. Please open an issue if you find any such cases.\n",
      "\n",
      "\n",
      "[09:37:10] WARNING: C:/Users/administrator/workspace/xgboost-win64_release_1.6.0/src/learner.cc:627: \n",
      "Parameters: { \"max_depth\" } might not be used.\n",
      "\n",
      "  This could be a false alarm, with some parameters getting used by language bindings but\n",
      "  then being mistakenly passed down to XGBoost core, or some parameter actually being used\n",
      "  but getting flagged wrongly here. Please open an issue if you find any such cases.\n",
      "\n",
      "\n",
      "[09:37:10] WARNING: C:/Users/administrator/workspace/xgboost-win64_release_1.6.0/src/learner.cc:627: \n",
      "Parameters: { \"max_depth\" } might not be used.\n",
      "\n",
      "  This could be a false alarm, with some parameters getting used by language bindings but\n",
      "  then being mistakenly passed down to XGBoost core, or some parameter actually being used\n",
      "  but getting flagged wrongly here. Please open an issue if you find any such cases.\n",
      "\n",
      "\n",
      "[09:37:10] WARNING: C:/Users/administrator/workspace/xgboost-win64_release_1.6.0/src/learner.cc:627: \n",
      "Parameters: { \"max_depth\" } might not be used.\n",
      "\n",
      "  This could be a false alarm, with some parameters getting used by language bindings but\n",
      "  then being mistakenly passed down to XGBoost core, or some parameter actually being used\n",
      "  but getting flagged wrongly here. Please open an issue if you find any such cases.\n",
      "\n",
      "\n",
      "[09:37:10] WARNING: C:/Users/administrator/workspace/xgboost-win64_release_1.6.0/src/learner.cc:627: \n",
      "Parameters: { \"max_depth\" } might not be used.\n",
      "\n",
      "  This could be a false alarm, with some parameters getting used by language bindings but\n",
      "  then being mistakenly passed down to XGBoost core, or some parameter actually being used\n",
      "  but getting flagged wrongly here. Please open an issue if you find any such cases.\n",
      "\n",
      "\n",
      "[09:37:10] WARNING: C:/Users/administrator/workspace/xgboost-win64_release_1.6.0/src/learner.cc:627: \n",
      "Parameters: { \"max_depth\" } might not be used.\n",
      "\n",
      "  This could be a false alarm, with some parameters getting used by language bindings but\n",
      "  then being mistakenly passed down to XGBoost core, or some parameter actually being used\n",
      "  but getting flagged wrongly here. Please open an issue if you find any such cases.\n",
      "\n",
      "\n",
      "[09:37:10] WARNING: C:/Users/administrator/workspace/xgboost-win64_release_1.6.0/src/learner.cc:627: \n",
      "Parameters: { \"max_depth\" } might not be used.\n",
      "\n",
      "  This could be a false alarm, with some parameters getting used by language bindings but\n",
      "  then being mistakenly passed down to XGBoost core, or some parameter actually being used\n",
      "  but getting flagged wrongly here. Please open an issue if you find any such cases.\n",
      "\n",
      "\n"
     ]
    },
    {
     "name": "stdout",
     "output_type": "stream",
     "text": [
      "{'reg_lambda': 2, 'n_estimators': 30, 'max_depth': 10, 'eval_metric': 'mae', 'booster': 'gbtree'}\n"
     ]
    }
   ],
   "source": [
    "final=randomcv.fit(x_train,y_train)\n",
    "print(final.best_params_)"
   ]
  },
  {
   "cell_type": "code",
   "execution_count": 259,
   "id": "78ec64ad",
   "metadata": {},
   "outputs": [],
   "source": [
    "pred_1=final.predict(x_train)\n",
    "pred_2=final.predict(x_test)"
   ]
  },
  {
   "cell_type": "code",
   "execution_count": 260,
   "id": "41f84d8e",
   "metadata": {},
   "outputs": [
    {
     "name": "stdout",
     "output_type": "stream",
     "text": [
      "1.0\n"
     ]
    }
   ],
   "source": [
    "print(round(r2_score(y_train,pred_1),2))"
   ]
  },
  {
   "cell_type": "code",
   "execution_count": 261,
   "id": "08fae976",
   "metadata": {},
   "outputs": [
    {
     "name": "stdout",
     "output_type": "stream",
     "text": [
      "0.96\n"
     ]
    }
   ],
   "source": [
    "print(round(r2_score(y_test,pred_2),2))"
   ]
  },
  {
   "cell_type": "code",
   "execution_count": 262,
   "id": "b66b64d6",
   "metadata": {},
   "outputs": [
    {
     "name": "stdout",
     "output_type": "stream",
     "text": [
      "1.49\n"
     ]
    }
   ],
   "source": [
    "print(round(mean_absolute_error(y_test,pred_2),2))"
   ]
  },
  {
   "cell_type": "code",
   "execution_count": 263,
   "id": "eca5319c",
   "metadata": {},
   "outputs": [
    {
     "name": "stdout",
     "output_type": "stream",
     "text": [
      "1.87\n"
     ]
    }
   ],
   "source": [
    "print(round(np.sqrt(mean_squared_error(y_test,pred_2)),2))"
   ]
  },
  {
   "cell_type": "code",
   "execution_count": 264,
   "id": "52f4d91a",
   "metadata": {},
   "outputs": [
    {
     "name": "stdout",
     "output_type": "stream",
     "text": [
      "0.21\n"
     ]
    }
   ],
   "source": [
    "print(round(np.sqrt(mean_squared_error(y_train,pred_1)),2))"
   ]
  },
  {
   "cell_type": "code",
   "execution_count": 265,
   "id": "9155279a",
   "metadata": {},
   "outputs": [
    {
     "data": {
      "text/plain": [
       "Text(0, 0.5, 'Predicted Value')"
      ]
     },
     "execution_count": 265,
     "metadata": {},
     "output_type": "execute_result"
    },
    {
     "data": {
      "image/png": "[encoded data removed]",
      "text/plain": [
       "<Figure size 432x288 with 1 Axes>"
      ]
     },
     "metadata": {
      "needs_background": "light"
     },
     "output_type": "display_data"
    }
   ],
   "source": [
    "sns.regplot(x=y_test,y=pred_2,color='red')\n",
    "plt.xlabel(\"True Value\")\n",
    "plt.ylabel(\"Predicted Value\")"
   ]
  },
  {
   "cell_type": "markdown",
   "id": "738b52c9",
   "metadata": {},
   "source": [
    "# Saving Model"
   ]
  },
  {
   "cell_type": "code",
   "execution_count": 266,
   "id": "66f9c770",
   "metadata": {},
   "outputs": [],
   "source": [
    "import pickle\n",
    "pickle.dump(final, open('Baseball_model', 'wb'))"
   ]
  },
  {
   "cell_type": "code",
   "execution_count": 267,
   "id": "bb59959a",
   "metadata": {},
   "outputs": [
    {
     "data": {
      "text/plain": [
       "array([78.19053 , 82.964294, 64.61163 ], dtype=float32)"
      ]
     },
     "execution_count": 267,
     "metadata": {},
     "output_type": "execute_result"
    }
   ],
   "source": [
    "pickled_model=pickle.load(open('Baseball_model', 'rb'))\n",
    "pickled_model.predict(x_test)"
   ]
  }
 ],
 "metadata": {
  "kernelspec": {
   "display_name": "Python 3 (ipykernel)",
   "language": "python",
   "name": "python3"
  },
  "language_info": {
   "codemirror_mode": {
    "name": "ipython",
    "version": 3
   },
   "file_extension": ".py",
   "mimetype": "text/x-python",
   "name": "python",
   "nbconvert_exporter": "python",
   "pygments_lexer": "ipython3",
   "version": "3.9.12"
  }
 },
 "nbformat": 4,
 "nbformat_minor": 5
}
