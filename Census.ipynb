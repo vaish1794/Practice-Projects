{
 "cells": [
  {
   "cell_type": "code",
   "execution_count": 2,
   "id": "d5e0170b",
   "metadata": {},
   "outputs": [],
   "source": [
    "#Importing the required libraries\n",
    "\n",
    "import pandas as pd\n",
    "import numpy as np\n",
    "import seaborn as sns\n",
    "import matplotlib.pyplot as plt\n",
    "%matplotlib inline\n",
    "import warnings\n",
    "warnings.filterwarnings('ignore')"
   ]
  },
  {
   "cell_type": "code",
   "execution_count": 60,
   "id": "cc530a79",
   "metadata": {},
   "outputs": [],
   "source": [
    "#Loading the data\n",
    "df=pd.read_csv(\"https://raw.githubusercontent.com/dsrscientist/dataset1/master/census_income.csv\")"
   ]
  },
  {
   "cell_type": "code",
   "execution_count": 61,
   "id": "5011e106",
   "metadata": {},
   "outputs": [
    {
     "data": {
      "text/html": [
       "<div>\n",
       "<style scoped>\n",
       "    .dataframe tbody tr th:only-of-type {\n",
       "        vertical-align: middle;\n",
       "    }\n",
       "\n",
       "    .dataframe tbody tr th {\n",
       "        vertical-align: top;\n",
       "    }\n",
       "\n",
       "    .dataframe thead th {\n",
       "        text-align: right;\n",
       "    }\n",
       "</style>\n",
       "<table border=\"1\" class=\"dataframe\">\n",
       "  <thead>\n",
       "    <tr style=\"text-align: right;\">\n",
       "      <th></th>\n",
       "      <th>Age</th>\n",
       "      <th>Workclass</th>\n",
       "      <th>Fnlwgt</th>\n",
       "      <th>Education</th>\n",
       "      <th>Education_num</th>\n",
       "      <th>Marital_status</th>\n",
       "      <th>Occupation</th>\n",
       "      <th>Relationship</th>\n",
       "      <th>Race</th>\n",
       "      <th>Sex</th>\n",
       "      <th>Capital_gain</th>\n",
       "      <th>Capital_loss</th>\n",
       "      <th>Hours_per_week</th>\n",
       "      <th>Native_country</th>\n",
       "      <th>Income</th>\n",
       "    </tr>\n",
       "  </thead>\n",
       "  <tbody>\n",
       "    <tr>\n",
       "      <th>0</th>\n",
       "      <td>50</td>\n",
       "      <td>Self-emp-not-inc</td>\n",
       "      <td>83311</td>\n",
       "      <td>Bachelors</td>\n",
       "      <td>13</td>\n",
       "      <td>Married-civ-spouse</td>\n",
       "      <td>Exec-managerial</td>\n",
       "      <td>Husband</td>\n",
       "      <td>White</td>\n",
       "      <td>Male</td>\n",
       "      <td>0</td>\n",
       "      <td>0</td>\n",
       "      <td>13</td>\n",
       "      <td>United-States</td>\n",
       "      <td>&lt;=50K</td>\n",
       "    </tr>\n",
       "    <tr>\n",
       "      <th>1</th>\n",
       "      <td>38</td>\n",
       "      <td>Private</td>\n",
       "      <td>215646</td>\n",
       "      <td>HS-grad</td>\n",
       "      <td>9</td>\n",
       "      <td>Divorced</td>\n",
       "      <td>Handlers-cleaners</td>\n",
       "      <td>Not-in-family</td>\n",
       "      <td>White</td>\n",
       "      <td>Male</td>\n",
       "      <td>0</td>\n",
       "      <td>0</td>\n",
       "      <td>40</td>\n",
       "      <td>United-States</td>\n",
       "      <td>&lt;=50K</td>\n",
       "    </tr>\n",
       "    <tr>\n",
       "      <th>2</th>\n",
       "      <td>53</td>\n",
       "      <td>Private</td>\n",
       "      <td>234721</td>\n",
       "      <td>11th</td>\n",
       "      <td>7</td>\n",
       "      <td>Married-civ-spouse</td>\n",
       "      <td>Handlers-cleaners</td>\n",
       "      <td>Husband</td>\n",
       "      <td>Black</td>\n",
       "      <td>Male</td>\n",
       "      <td>0</td>\n",
       "      <td>0</td>\n",
       "      <td>40</td>\n",
       "      <td>United-States</td>\n",
       "      <td>&lt;=50K</td>\n",
       "    </tr>\n",
       "    <tr>\n",
       "      <th>3</th>\n",
       "      <td>28</td>\n",
       "      <td>Private</td>\n",
       "      <td>338409</td>\n",
       "      <td>Bachelors</td>\n",
       "      <td>13</td>\n",
       "      <td>Married-civ-spouse</td>\n",
       "      <td>Prof-specialty</td>\n",
       "      <td>Wife</td>\n",
       "      <td>Black</td>\n",
       "      <td>Female</td>\n",
       "      <td>0</td>\n",
       "      <td>0</td>\n",
       "      <td>40</td>\n",
       "      <td>Cuba</td>\n",
       "      <td>&lt;=50K</td>\n",
       "    </tr>\n",
       "  </tbody>\n",
       "</table>\n",
       "</div>"
      ],
      "text/plain": [
       "   Age          Workclass  Fnlwgt   Education  Education_num  \\\n",
       "0   50   Self-emp-not-inc   83311   Bachelors             13   \n",
       "1   38            Private  215646     HS-grad              9   \n",
       "2   53            Private  234721        11th              7   \n",
       "3   28            Private  338409   Bachelors             13   \n",
       "\n",
       "        Marital_status          Occupation    Relationship    Race      Sex  \\\n",
       "0   Married-civ-spouse     Exec-managerial         Husband   White     Male   \n",
       "1             Divorced   Handlers-cleaners   Not-in-family   White     Male   \n",
       "2   Married-civ-spouse   Handlers-cleaners         Husband   Black     Male   \n",
       "3   Married-civ-spouse      Prof-specialty            Wife   Black   Female   \n",
       "\n",
       "   Capital_gain  Capital_loss  Hours_per_week  Native_country  Income  \n",
       "0             0             0              13   United-States   <=50K  \n",
       "1             0             0              40   United-States   <=50K  \n",
       "2             0             0              40   United-States   <=50K  \n",
       "3             0             0              40            Cuba   <=50K  "
      ]
     },
     "execution_count": 61,
     "metadata": {},
     "output_type": "execute_result"
    }
   ],
   "source": [
    "df.head(4)"
   ]
  },
  {
   "cell_type": "code",
   "execution_count": 4,
   "id": "259d2295",
   "metadata": {},
   "outputs": [
    {
     "name": "stdout",
     "output_type": "stream",
     "text": [
      "<class 'pandas.core.frame.DataFrame'>\n",
      "RangeIndex: 32560 entries, 0 to 32559\n",
      "Data columns (total 15 columns):\n",
      " #   Column          Non-Null Count  Dtype \n",
      "---  ------          --------------  ----- \n",
      " 0   Age             32560 non-null  int64 \n",
      " 1   Workclass       32560 non-null  object\n",
      " 2   Fnlwgt          32560 non-null  int64 \n",
      " 3   Education       32560 non-null  object\n",
      " 4   Education_num   32560 non-null  int64 \n",
      " 5   Marital_status  32560 non-null  object\n",
      " 6   Occupation      32560 non-null  object\n",
      " 7   Relationship    32560 non-null  object\n",
      " 8   Race            32560 non-null  object\n",
      " 9   Sex             32560 non-null  object\n",
      " 10  Capital_gain    32560 non-null  int64 \n",
      " 11  Capital_loss    32560 non-null  int64 \n",
      " 12  Hours_per_week  32560 non-null  int64 \n",
      " 13  Native_country  32560 non-null  object\n",
      " 14  Income          32560 non-null  object\n",
      "dtypes: int64(6), object(9)\n",
      "memory usage: 3.7+ MB\n"
     ]
    }
   ],
   "source": [
    "df.info()\n",
    "\n",
    "#There are 32560 rows and 15 columns.\n",
    "#Out of the 15 columns- 6 columns are of integer data type and 9 columns are of string data type"
   ]
  },
  {
   "cell_type": "code",
   "execution_count": 5,
   "id": "5bd6f7f1",
   "metadata": {},
   "outputs": [
    {
     "data": {
      "text/html": [
       "<div>\n",
       "<style scoped>\n",
       "    .dataframe tbody tr th:only-of-type {\n",
       "        vertical-align: middle;\n",
       "    }\n",
       "\n",
       "    .dataframe tbody tr th {\n",
       "        vertical-align: top;\n",
       "    }\n",
       "\n",
       "    .dataframe thead th {\n",
       "        text-align: right;\n",
       "    }\n",
       "</style>\n",
       "<table border=\"1\" class=\"dataframe\">\n",
       "  <thead>\n",
       "    <tr style=\"text-align: right;\">\n",
       "      <th></th>\n",
       "      <th>Age</th>\n",
       "      <th>Fnlwgt</th>\n",
       "      <th>Education_num</th>\n",
       "      <th>Capital_gain</th>\n",
       "      <th>Capital_loss</th>\n",
       "      <th>Hours_per_week</th>\n",
       "    </tr>\n",
       "  </thead>\n",
       "  <tbody>\n",
       "    <tr>\n",
       "      <th>count</th>\n",
       "      <td>32560.000000</td>\n",
       "      <td>3.256000e+04</td>\n",
       "      <td>32560.000000</td>\n",
       "      <td>32560.000000</td>\n",
       "      <td>32560.000000</td>\n",
       "      <td>32560.000000</td>\n",
       "    </tr>\n",
       "    <tr>\n",
       "      <th>mean</th>\n",
       "      <td>38.581634</td>\n",
       "      <td>1.897818e+05</td>\n",
       "      <td>10.080590</td>\n",
       "      <td>1077.615172</td>\n",
       "      <td>87.306511</td>\n",
       "      <td>40.437469</td>\n",
       "    </tr>\n",
       "    <tr>\n",
       "      <th>std</th>\n",
       "      <td>13.640642</td>\n",
       "      <td>1.055498e+05</td>\n",
       "      <td>2.572709</td>\n",
       "      <td>7385.402999</td>\n",
       "      <td>402.966116</td>\n",
       "      <td>12.347618</td>\n",
       "    </tr>\n",
       "    <tr>\n",
       "      <th>min</th>\n",
       "      <td>17.000000</td>\n",
       "      <td>1.228500e+04</td>\n",
       "      <td>1.000000</td>\n",
       "      <td>0.000000</td>\n",
       "      <td>0.000000</td>\n",
       "      <td>1.000000</td>\n",
       "    </tr>\n",
       "    <tr>\n",
       "      <th>25%</th>\n",
       "      <td>28.000000</td>\n",
       "      <td>1.178315e+05</td>\n",
       "      <td>9.000000</td>\n",
       "      <td>0.000000</td>\n",
       "      <td>0.000000</td>\n",
       "      <td>40.000000</td>\n",
       "    </tr>\n",
       "    <tr>\n",
       "      <th>50%</th>\n",
       "      <td>37.000000</td>\n",
       "      <td>1.783630e+05</td>\n",
       "      <td>10.000000</td>\n",
       "      <td>0.000000</td>\n",
       "      <td>0.000000</td>\n",
       "      <td>40.000000</td>\n",
       "    </tr>\n",
       "    <tr>\n",
       "      <th>75%</th>\n",
       "      <td>48.000000</td>\n",
       "      <td>2.370545e+05</td>\n",
       "      <td>12.000000</td>\n",
       "      <td>0.000000</td>\n",
       "      <td>0.000000</td>\n",
       "      <td>45.000000</td>\n",
       "    </tr>\n",
       "    <tr>\n",
       "      <th>max</th>\n",
       "      <td>90.000000</td>\n",
       "      <td>1.484705e+06</td>\n",
       "      <td>16.000000</td>\n",
       "      <td>99999.000000</td>\n",
       "      <td>4356.000000</td>\n",
       "      <td>99.000000</td>\n",
       "    </tr>\n",
       "  </tbody>\n",
       "</table>\n",
       "</div>"
      ],
      "text/plain": [
       "                Age        Fnlwgt  Education_num  Capital_gain  Capital_loss  \\\n",
       "count  32560.000000  3.256000e+04   32560.000000  32560.000000  32560.000000   \n",
       "mean      38.581634  1.897818e+05      10.080590   1077.615172     87.306511   \n",
       "std       13.640642  1.055498e+05       2.572709   7385.402999    402.966116   \n",
       "min       17.000000  1.228500e+04       1.000000      0.000000      0.000000   \n",
       "25%       28.000000  1.178315e+05       9.000000      0.000000      0.000000   \n",
       "50%       37.000000  1.783630e+05      10.000000      0.000000      0.000000   \n",
       "75%       48.000000  2.370545e+05      12.000000      0.000000      0.000000   \n",
       "max       90.000000  1.484705e+06      16.000000  99999.000000   4356.000000   \n",
       "\n",
       "       Hours_per_week  \n",
       "count    32560.000000  \n",
       "mean        40.437469  \n",
       "std         12.347618  \n",
       "min          1.000000  \n",
       "25%         40.000000  \n",
       "50%         40.000000  \n",
       "75%         45.000000  \n",
       "max         99.000000  "
      ]
     },
     "execution_count": 5,
     "metadata": {},
     "output_type": "execute_result"
    }
   ],
   "source": [
    "df.describe()"
   ]
  },
  {
   "cell_type": "code",
   "execution_count": 6,
   "id": "48ac4a41",
   "metadata": {
    "scrolled": true
   },
   "outputs": [
    {
     "data": {
      "text/plain": [
       "Age               0\n",
       "Workclass         0\n",
       "Fnlwgt            0\n",
       "Education         0\n",
       "Education_num     0\n",
       "Marital_status    0\n",
       "Occupation        0\n",
       "Relationship      0\n",
       "Race              0\n",
       "Sex               0\n",
       "Capital_gain      0\n",
       "Capital_loss      0\n",
       "Hours_per_week    0\n",
       "Native_country    0\n",
       "Income            0\n",
       "dtype: int64"
      ]
     },
     "execution_count": 6,
     "metadata": {},
     "output_type": "execute_result"
    }
   ],
   "source": [
    "df.isnull().sum()"
   ]
  },
  {
   "cell_type": "code",
   "execution_count": 7,
   "id": "49e4c658",
   "metadata": {},
   "outputs": [
    {
     "name": "stdout",
     "output_type": "stream",
     "text": [
      "Age : [50 38 53 28 37 49 52 31 42 30 23 32 40 34 25 43 54 35 59 56 19 39 20 45\n",
      " 22 48 21 24 57 44 41 29 18 47 46 36 79 27 67 33 76 17 55 61 70 64 71 68\n",
      " 66 51 58 26 60 90 75 65 77 62 63 80 72 74 69 73 81 78 88 82 83 84 85 86\n",
      " 87] \n",
      "\n",
      "Workclass : [' Self-emp-not-inc' ' Private' ' State-gov' ' Federal-gov' ' Local-gov'\n",
      " ' ?' ' Self-emp-inc' ' Without-pay' ' Never-worked'] \n",
      "\n",
      "Fnlwgt : [ 83311 215646 234721 ...  34066  84661 257302] \n",
      "\n",
      "Education : [' Bachelors' ' HS-grad' ' 11th' ' Masters' ' 9th' ' Some-college'\n",
      " ' Assoc-acdm' ' Assoc-voc' ' 7th-8th' ' Doctorate' ' Prof-school'\n",
      " ' 5th-6th' ' 10th' ' 1st-4th' ' Preschool' ' 12th'] \n",
      "\n",
      "Education_num : [13  9  7 14  5 10 12 11  4 16 15  3  6  2  1  8] \n",
      "\n",
      "Marital_status : [' Married-civ-spouse' ' Divorced' ' Married-spouse-absent'\n",
      " ' Never-married' ' Separated' ' Married-AF-spouse' ' Widowed'] \n",
      "\n",
      "Occupation : [' Exec-managerial' ' Handlers-cleaners' ' Prof-specialty'\n",
      " ' Other-service' ' Adm-clerical' ' Sales' ' Craft-repair'\n",
      " ' Transport-moving' ' Farming-fishing' ' Machine-op-inspct'\n",
      " ' Tech-support' ' ?' ' Protective-serv' ' Armed-Forces'\n",
      " ' Priv-house-serv'] \n",
      "\n",
      "Relationship : [' Husband' ' Not-in-family' ' Wife' ' Own-child' ' Unmarried'\n",
      " ' Other-relative'] \n",
      "\n",
      "Race : [' White' ' Black' ' Asian-Pac-Islander' ' Amer-Indian-Eskimo' ' Other'] \n",
      "\n",
      "Sex : [' Male' ' Female'] \n",
      "\n",
      "Capital_gain : [    0 14084  5178  5013  2407 14344 15024  7688 34095  4064  4386  7298\n",
      "  1409  3674  1055  3464  2050  2176  2174   594 20051  6849  4101  1111\n",
      "  8614  3411  2597 25236  4650  9386  2463  3103 10605  2964  3325  2580\n",
      "  3471  4865 99999  6514  1471  2329  2105  2885 25124 10520  2202  2961\n",
      " 27828  6767  2228  1506 13550  2635  5556  4787  3781  3137  3818  3942\n",
      "   914   401  2829  2977  4934  2062  2354  5455 15020  1424  3273 22040\n",
      "  4416  3908 10566   991  4931  1086  7430  6497   114  7896  2346  3418\n",
      "  3432  2907  1151  2414  2290 15831 41310  4508  2538  3456  6418  1848\n",
      "  3887  5721  9562  1455  2036  1831 11678  2936  2993  7443  6360  1797\n",
      "  1173  4687  6723  2009  6097  2653  1639 18481  7978  2387  5060] \n",
      "\n",
      "Capital_loss : [   0 2042 1408 1902 1573 1887 1719 1762 1564 2179 1816 1980 1977 1876\n",
      " 1340 2206 1741 1485 2339 2415 1380 1721 2051 2377 1669 2352 1672  653\n",
      " 2392 1504 2001 1590 1651 1628 1848 1740 2002 1579 2258 1602  419 2547\n",
      " 2174 2205 1726 2444 1138 2238  625  213 1539  880 1668 1092 1594 3004\n",
      " 2231 1844  810 2824 2559 2057 1974  974 2149 1825 1735 1258 2129 2603\n",
      " 2282  323 4356 2246 1617 1648 2489 3770 1755 3683 2267 2080 2457  155\n",
      " 3900 2201 1944 2467 2163 2754 2472 1411] \n",
      "\n",
      "Hours_per_week : [13 40 16 45 50 80 30 35 60 20 52 44 15 25 38 43 55 48 58 32 70  2 22 56\n",
      " 41 28 36 24 46 42 12 65  1 10 34 75 98 33 54  8  6 64 19 18 72  5  9 47\n",
      " 37 21 26 14  4 59  7 99 53 39 62 57 78 90 66 11 49 84  3 17 68 27 85 31\n",
      " 51 77 63 23 87 88 73 89 97 94 29 96 67 82 86 91 81 76 92 61 74 95] \n",
      "\n",
      "Native_country : [' United-States' ' Cuba' ' Jamaica' ' India' ' ?' ' Mexico' ' South'\n",
      " ' Puerto-Rico' ' Honduras' ' England' ' Canada' ' Germany' ' Iran'\n",
      " ' Philippines' ' Italy' ' Poland' ' Columbia' ' Cambodia' ' Thailand'\n",
      " ' Ecuador' ' Laos' ' Taiwan' ' Haiti' ' Portugal' ' Dominican-Republic'\n",
      " ' El-Salvador' ' France' ' Guatemala' ' China' ' Japan' ' Yugoslavia'\n",
      " ' Peru' ' Outlying-US(Guam-USVI-etc)' ' Scotland' ' Trinadad&Tobago'\n",
      " ' Greece' ' Nicaragua' ' Vietnam' ' Hong' ' Ireland' ' Hungary'\n",
      " ' Holand-Netherlands'] \n",
      "\n",
      "Income : [' <=50K' ' >50K'] \n",
      "\n"
     ]
    }
   ],
   "source": [
    "for i in df.columns:\n",
    "    print(\"{} : {} \\n\".format(i,df[i].unique()))\n",
    "    \n",
    "    \n",
    "#From the below results, it is clear that in Workclass and Occupation there are \"?\" values which are replaced by the mode\n",
    "#of their respective columns"
   ]
  },
  {
   "cell_type": "code",
   "execution_count": 16,
   "id": "30ebc01d",
   "metadata": {},
   "outputs": [
    {
     "name": "stdout",
     "output_type": "stream",
     "text": [
      "0     Private\n",
      "Name: Workclass, dtype: object 0     Prof-specialty\n",
      "Name: Occupation, dtype: object 0     United-States\n",
      "Name: Native_country, dtype: object\n"
     ]
    }
   ],
   "source": [
    "#We can notice from the above results that there are \"?\" values in Workclass and Occupation and Native Country which is replaced by the mode of their \n",
    "#respective columns\n",
    "\n",
    "a=df[\"Workclass\"].mode()\n",
    "b=df[\"Occupation\"].mode()\n",
    "c=df[\"Native_country\"].mode()\n",
    "print(a,b,c)"
   ]
  },
  {
   "cell_type": "code",
   "execution_count": 17,
   "id": "2ec70439",
   "metadata": {},
   "outputs": [],
   "source": [
    "df[\"Workclass\"]=df[\"Workclass\"].str.replace(\"?\",\"Private\")\n",
    "df[\"Occupation\"]=df[\"Occupation\"].str.replace(\"?\",\"Prof-specialty\")\n",
    "df[\"Native_country\"]=df[\"Native_country\"].str.replace(\"?\",\"United-States\")"
   ]
  },
  {
   "cell_type": "markdown",
   "id": "3cd83e3c",
   "metadata": {},
   "source": [
    "# Graphical Analysis"
   ]
  },
  {
   "cell_type": "code",
   "execution_count": 7,
   "id": "b8d47a47",
   "metadata": {},
   "outputs": [],
   "source": [
    "#Analyzing Continuous Features\n",
    "df_cont=df.select_dtypes(include=[\"int64\"])"
   ]
  },
  {
   "cell_type": "code",
   "execution_count": 8,
   "id": "dfde32d7",
   "metadata": {},
   "outputs": [
    {
     "data": {
      "text/html": [
       "<div>\n",
       "<style scoped>\n",
       "    .dataframe tbody tr th:only-of-type {\n",
       "        vertical-align: middle;\n",
       "    }\n",
       "\n",
       "    .dataframe tbody tr th {\n",
       "        vertical-align: top;\n",
       "    }\n",
       "\n",
       "    .dataframe thead th {\n",
       "        text-align: right;\n",
       "    }\n",
       "</style>\n",
       "<table border=\"1\" class=\"dataframe\">\n",
       "  <thead>\n",
       "    <tr style=\"text-align: right;\">\n",
       "      <th></th>\n",
       "      <th>Age</th>\n",
       "      <th>Fnlwgt</th>\n",
       "      <th>Education_num</th>\n",
       "      <th>Capital_gain</th>\n",
       "      <th>Capital_loss</th>\n",
       "      <th>Hours_per_week</th>\n",
       "    </tr>\n",
       "  </thead>\n",
       "  <tbody>\n",
       "    <tr>\n",
       "      <th>0</th>\n",
       "      <td>50</td>\n",
       "      <td>83311</td>\n",
       "      <td>13</td>\n",
       "      <td>0</td>\n",
       "      <td>0</td>\n",
       "      <td>13</td>\n",
       "    </tr>\n",
       "    <tr>\n",
       "      <th>1</th>\n",
       "      <td>38</td>\n",
       "      <td>215646</td>\n",
       "      <td>9</td>\n",
       "      <td>0</td>\n",
       "      <td>0</td>\n",
       "      <td>40</td>\n",
       "    </tr>\n",
       "    <tr>\n",
       "      <th>2</th>\n",
       "      <td>53</td>\n",
       "      <td>234721</td>\n",
       "      <td>7</td>\n",
       "      <td>0</td>\n",
       "      <td>0</td>\n",
       "      <td>40</td>\n",
       "    </tr>\n",
       "    <tr>\n",
       "      <th>3</th>\n",
       "      <td>28</td>\n",
       "      <td>338409</td>\n",
       "      <td>13</td>\n",
       "      <td>0</td>\n",
       "      <td>0</td>\n",
       "      <td>40</td>\n",
       "    </tr>\n",
       "    <tr>\n",
       "      <th>4</th>\n",
       "      <td>37</td>\n",
       "      <td>284582</td>\n",
       "      <td>14</td>\n",
       "      <td>0</td>\n",
       "      <td>0</td>\n",
       "      <td>40</td>\n",
       "    </tr>\n",
       "    <tr>\n",
       "      <th>...</th>\n",
       "      <td>...</td>\n",
       "      <td>...</td>\n",
       "      <td>...</td>\n",
       "      <td>...</td>\n",
       "      <td>...</td>\n",
       "      <td>...</td>\n",
       "    </tr>\n",
       "    <tr>\n",
       "      <th>32555</th>\n",
       "      <td>27</td>\n",
       "      <td>257302</td>\n",
       "      <td>12</td>\n",
       "      <td>0</td>\n",
       "      <td>0</td>\n",
       "      <td>38</td>\n",
       "    </tr>\n",
       "    <tr>\n",
       "      <th>32556</th>\n",
       "      <td>40</td>\n",
       "      <td>154374</td>\n",
       "      <td>9</td>\n",
       "      <td>0</td>\n",
       "      <td>0</td>\n",
       "      <td>40</td>\n",
       "    </tr>\n",
       "    <tr>\n",
       "      <th>32557</th>\n",
       "      <td>58</td>\n",
       "      <td>151910</td>\n",
       "      <td>9</td>\n",
       "      <td>0</td>\n",
       "      <td>0</td>\n",
       "      <td>40</td>\n",
       "    </tr>\n",
       "    <tr>\n",
       "      <th>32558</th>\n",
       "      <td>22</td>\n",
       "      <td>201490</td>\n",
       "      <td>9</td>\n",
       "      <td>0</td>\n",
       "      <td>0</td>\n",
       "      <td>20</td>\n",
       "    </tr>\n",
       "    <tr>\n",
       "      <th>32559</th>\n",
       "      <td>52</td>\n",
       "      <td>287927</td>\n",
       "      <td>9</td>\n",
       "      <td>15024</td>\n",
       "      <td>0</td>\n",
       "      <td>40</td>\n",
       "    </tr>\n",
       "  </tbody>\n",
       "</table>\n",
       "<p>32560 rows × 6 columns</p>\n",
       "</div>"
      ],
      "text/plain": [
       "       Age  Fnlwgt  Education_num  Capital_gain  Capital_loss  Hours_per_week\n",
       "0       50   83311             13             0             0              13\n",
       "1       38  215646              9             0             0              40\n",
       "2       53  234721              7             0             0              40\n",
       "3       28  338409             13             0             0              40\n",
       "4       37  284582             14             0             0              40\n",
       "...    ...     ...            ...           ...           ...             ...\n",
       "32555   27  257302             12             0             0              38\n",
       "32556   40  154374              9             0             0              40\n",
       "32557   58  151910              9             0             0              40\n",
       "32558   22  201490              9             0             0              20\n",
       "32559   52  287927              9         15024             0              40\n",
       "\n",
       "[32560 rows x 6 columns]"
      ]
     },
     "execution_count": 8,
     "metadata": {},
     "output_type": "execute_result"
    }
   ],
   "source": [
    "df_cont"
   ]
  },
  {
   "cell_type": "code",
   "execution_count": 9,
   "id": "2591d007",
   "metadata": {},
   "outputs": [],
   "source": [
    "c1=df_cont.columns.values"
   ]
  },
  {
   "cell_type": "code",
   "execution_count": 144,
   "id": "4ea9fa23",
   "metadata": {},
   "outputs": [
    {
     "data": {
      "image/png": "[encoded data removed]",
      "text/plain": [
       "<Figure size 504x504 with 1 Axes>"
      ]
     },
     "metadata": {
      "needs_background": "light"
     },
     "output_type": "display_data"
    },
    {
     "data": {
      "image/png": "[encoded data removed]",
      "text/plain": [
       "<Figure size 504x504 with 1 Axes>"
      ]
     },
     "metadata": {
      "needs_background": "light"
     },
     "output_type": "display_data"
    },
    {
     "data": {
      "image/png": "[encoded data removed]",
      "text/plain": [
       "<Figure size 504x504 with 1 Axes>"
      ]
     },
     "metadata": {
      "needs_background": "light"
     },
     "output_type": "display_data"
    },
    {
     "data": {
      "image/png": "[encoded data removed]",
      "text/plain": [
       "<Figure size 504x504 with 1 Axes>"
      ]
     },
     "metadata": {
      "needs_background": "light"
     },
     "output_type": "display_data"
    },
    {
     "data": {
      "image/png": "[encoded data removed]",
      "text/plain": [
       "<Figure size 504x504 with 1 Axes>"
      ]
     },
     "metadata": {
      "needs_background": "light"
     },
     "output_type": "display_data"
    },
    {
     "data": {
      "image/png": "[encoded data removed]",
      "text/plain": [
       "<Figure size 504x504 with 1 Axes>"
      ]
     },
     "metadata": {
      "needs_background": "light"
     },
     "output_type": "display_data"
    }
   ],
   "source": [
    "for i in c1:\n",
    "    plt.figure(figsize=(7,7))\n",
    "    plt.hist(df_cont[i])\n",
    "    plt.xlabel(i)\n",
    "    plt.ylabel(\"Distribution\")\n",
    "    plt.title(\"Graphical Analysis of Continuous Feature Distributions\")\n",
    "    plt.show()\n",
    "    \n",
    "#Age of the members in the census are from 16-90 though most of the members are in the age group- 16-50\n",
    "#Fnlwgt is ranging from 0.01 to 0.3 for the majority, there are few members with fnlwgt from 0.3 to 0.8\n",
    "#Many members are having number of education years between 8.5 to 11 and 13.5 to 14.5\n",
    "#Capital gain is from 0- 10000 and few members have capital gain from 10000 to 30000\n",
    "#Capital loss has a peak from 0-400 and a small distribution from 1300 to 2600\n",
    "#Most of the members in the census work from 32 to 40 hours per week followed by 50-60 hours per week."
   ]
  },
  {
   "cell_type": "code",
   "execution_count": 18,
   "id": "b598c04a",
   "metadata": {},
   "outputs": [],
   "source": [
    "#Analyzing Categorical Features\n",
    "df_cat=df.select_dtypes(include=[\"object\"])"
   ]
  },
  {
   "cell_type": "code",
   "execution_count": 19,
   "id": "81a69ad6",
   "metadata": {},
   "outputs": [
    {
     "data": {
      "text/html": [
       "<div>\n",
       "<style scoped>\n",
       "    .dataframe tbody tr th:only-of-type {\n",
       "        vertical-align: middle;\n",
       "    }\n",
       "\n",
       "    .dataframe tbody tr th {\n",
       "        vertical-align: top;\n",
       "    }\n",
       "\n",
       "    .dataframe thead th {\n",
       "        text-align: right;\n",
       "    }\n",
       "</style>\n",
       "<table border=\"1\" class=\"dataframe\">\n",
       "  <thead>\n",
       "    <tr style=\"text-align: right;\">\n",
       "      <th></th>\n",
       "      <th>Workclass</th>\n",
       "      <th>Education</th>\n",
       "      <th>Marital_status</th>\n",
       "      <th>Occupation</th>\n",
       "      <th>Relationship</th>\n",
       "      <th>Race</th>\n",
       "      <th>Sex</th>\n",
       "      <th>Native_country</th>\n",
       "      <th>Income</th>\n",
       "    </tr>\n",
       "  </thead>\n",
       "  <tbody>\n",
       "    <tr>\n",
       "      <th>0</th>\n",
       "      <td>Self-emp-not-inc</td>\n",
       "      <td>Bachelors</td>\n",
       "      <td>Married-civ-spouse</td>\n",
       "      <td>Exec-managerial</td>\n",
       "      <td>Husband</td>\n",
       "      <td>White</td>\n",
       "      <td>Male</td>\n",
       "      <td>United-States</td>\n",
       "      <td>&lt;=50K</td>\n",
       "    </tr>\n",
       "    <tr>\n",
       "      <th>1</th>\n",
       "      <td>Private</td>\n",
       "      <td>HS-grad</td>\n",
       "      <td>Divorced</td>\n",
       "      <td>Handlers-cleaners</td>\n",
       "      <td>Not-in-family</td>\n",
       "      <td>White</td>\n",
       "      <td>Male</td>\n",
       "      <td>United-States</td>\n",
       "      <td>&lt;=50K</td>\n",
       "    </tr>\n",
       "    <tr>\n",
       "      <th>2</th>\n",
       "      <td>Private</td>\n",
       "      <td>11th</td>\n",
       "      <td>Married-civ-spouse</td>\n",
       "      <td>Handlers-cleaners</td>\n",
       "      <td>Husband</td>\n",
       "      <td>Black</td>\n",
       "      <td>Male</td>\n",
       "      <td>United-States</td>\n",
       "      <td>&lt;=50K</td>\n",
       "    </tr>\n",
       "    <tr>\n",
       "      <th>3</th>\n",
       "      <td>Private</td>\n",
       "      <td>Bachelors</td>\n",
       "      <td>Married-civ-spouse</td>\n",
       "      <td>Prof-specialty</td>\n",
       "      <td>Wife</td>\n",
       "      <td>Black</td>\n",
       "      <td>Female</td>\n",
       "      <td>Cuba</td>\n",
       "      <td>&lt;=50K</td>\n",
       "    </tr>\n",
       "    <tr>\n",
       "      <th>4</th>\n",
       "      <td>Private</td>\n",
       "      <td>Masters</td>\n",
       "      <td>Married-civ-spouse</td>\n",
       "      <td>Exec-managerial</td>\n",
       "      <td>Wife</td>\n",
       "      <td>White</td>\n",
       "      <td>Female</td>\n",
       "      <td>United-States</td>\n",
       "      <td>&lt;=50K</td>\n",
       "    </tr>\n",
       "    <tr>\n",
       "      <th>...</th>\n",
       "      <td>...</td>\n",
       "      <td>...</td>\n",
       "      <td>...</td>\n",
       "      <td>...</td>\n",
       "      <td>...</td>\n",
       "      <td>...</td>\n",
       "      <td>...</td>\n",
       "      <td>...</td>\n",
       "      <td>...</td>\n",
       "    </tr>\n",
       "    <tr>\n",
       "      <th>32555</th>\n",
       "      <td>Private</td>\n",
       "      <td>Assoc-acdm</td>\n",
       "      <td>Married-civ-spouse</td>\n",
       "      <td>Tech-support</td>\n",
       "      <td>Wife</td>\n",
       "      <td>White</td>\n",
       "      <td>Female</td>\n",
       "      <td>United-States</td>\n",
       "      <td>&lt;=50K</td>\n",
       "    </tr>\n",
       "    <tr>\n",
       "      <th>32556</th>\n",
       "      <td>Private</td>\n",
       "      <td>HS-grad</td>\n",
       "      <td>Married-civ-spouse</td>\n",
       "      <td>Machine-op-inspct</td>\n",
       "      <td>Husband</td>\n",
       "      <td>White</td>\n",
       "      <td>Male</td>\n",
       "      <td>United-States</td>\n",
       "      <td>&gt;50K</td>\n",
       "    </tr>\n",
       "    <tr>\n",
       "      <th>32557</th>\n",
       "      <td>Private</td>\n",
       "      <td>HS-grad</td>\n",
       "      <td>Widowed</td>\n",
       "      <td>Adm-clerical</td>\n",
       "      <td>Unmarried</td>\n",
       "      <td>White</td>\n",
       "      <td>Female</td>\n",
       "      <td>United-States</td>\n",
       "      <td>&lt;=50K</td>\n",
       "    </tr>\n",
       "    <tr>\n",
       "      <th>32558</th>\n",
       "      <td>Private</td>\n",
       "      <td>HS-grad</td>\n",
       "      <td>Never-married</td>\n",
       "      <td>Adm-clerical</td>\n",
       "      <td>Own-child</td>\n",
       "      <td>White</td>\n",
       "      <td>Male</td>\n",
       "      <td>United-States</td>\n",
       "      <td>&lt;=50K</td>\n",
       "    </tr>\n",
       "    <tr>\n",
       "      <th>32559</th>\n",
       "      <td>Self-emp-inc</td>\n",
       "      <td>HS-grad</td>\n",
       "      <td>Married-civ-spouse</td>\n",
       "      <td>Exec-managerial</td>\n",
       "      <td>Wife</td>\n",
       "      <td>White</td>\n",
       "      <td>Female</td>\n",
       "      <td>United-States</td>\n",
       "      <td>&gt;50K</td>\n",
       "    </tr>\n",
       "  </tbody>\n",
       "</table>\n",
       "<p>32560 rows × 9 columns</p>\n",
       "</div>"
      ],
      "text/plain": [
       "               Workclass    Education       Marital_status  \\\n",
       "0       Self-emp-not-inc    Bachelors   Married-civ-spouse   \n",
       "1                Private      HS-grad             Divorced   \n",
       "2                Private         11th   Married-civ-spouse   \n",
       "3                Private    Bachelors   Married-civ-spouse   \n",
       "4                Private      Masters   Married-civ-spouse   \n",
       "...                  ...          ...                  ...   \n",
       "32555            Private   Assoc-acdm   Married-civ-spouse   \n",
       "32556            Private      HS-grad   Married-civ-spouse   \n",
       "32557            Private      HS-grad              Widowed   \n",
       "32558            Private      HS-grad        Never-married   \n",
       "32559       Self-emp-inc      HS-grad   Married-civ-spouse   \n",
       "\n",
       "               Occupation    Relationship    Race      Sex  Native_country  \\\n",
       "0         Exec-managerial         Husband   White     Male   United-States   \n",
       "1       Handlers-cleaners   Not-in-family   White     Male   United-States   \n",
       "2       Handlers-cleaners         Husband   Black     Male   United-States   \n",
       "3          Prof-specialty            Wife   Black   Female            Cuba   \n",
       "4         Exec-managerial            Wife   White   Female   United-States   \n",
       "...                   ...             ...     ...      ...             ...   \n",
       "32555        Tech-support            Wife   White   Female   United-States   \n",
       "32556   Machine-op-inspct         Husband   White     Male   United-States   \n",
       "32557        Adm-clerical       Unmarried   White   Female   United-States   \n",
       "32558        Adm-clerical       Own-child   White     Male   United-States   \n",
       "32559     Exec-managerial            Wife   White   Female   United-States   \n",
       "\n",
       "       Income  \n",
       "0       <=50K  \n",
       "1       <=50K  \n",
       "2       <=50K  \n",
       "3       <=50K  \n",
       "4       <=50K  \n",
       "...       ...  \n",
       "32555   <=50K  \n",
       "32556    >50K  \n",
       "32557   <=50K  \n",
       "32558   <=50K  \n",
       "32559    >50K  \n",
       "\n",
       "[32560 rows x 9 columns]"
      ]
     },
     "execution_count": 19,
     "metadata": {},
     "output_type": "execute_result"
    }
   ],
   "source": [
    "df_cat"
   ]
  },
  {
   "cell_type": "code",
   "execution_count": 13,
   "id": "f75f4b0c",
   "metadata": {},
   "outputs": [],
   "source": [
    "col2=df_cat.columns.values"
   ]
  },
  {
   "cell_type": "code",
   "execution_count": 14,
   "id": "60078862",
   "metadata": {},
   "outputs": [
    {
     "data": {
      "text/plain": [
       "9"
      ]
     },
     "execution_count": 14,
     "metadata": {},
     "output_type": "execute_result"
    }
   ],
   "source": [
    "len(col2)"
   ]
  },
  {
   "cell_type": "code",
   "execution_count": 20,
   "id": "13eb2fa8",
   "metadata": {},
   "outputs": [
    {
     "data": {
      "image/png": "[encoded data removed]",
      "text/plain": [
       "<Figure size 720x720 with 1 Axes>"
      ]
     },
     "metadata": {
      "needs_background": "light"
     },
     "output_type": "display_data"
    },
    {
     "data": {
      "image/png": "[encoded data removed]",
      "text/plain": [
       "<Figure size 720x720 with 1 Axes>"
      ]
     },
     "metadata": {
      "needs_background": "light"
     },
     "output_type": "display_data"
    },
    {
     "data": {
      "image/png": "[encoded data removed]",
      "text/plain": [
       "<Figure size 720x720 with 1 Axes>"
      ]
     },
     "metadata": {
      "needs_background": "light"
     },
     "output_type": "display_data"
    },
    {
     "data": {
      "image/png": "[encoded data removed]",
      "text/plain": [
       "<Figure size 720x720 with 1 Axes>"
      ]
     },
     "metadata": {
      "needs_background": "light"
     },
     "output_type": "display_data"
    },
    {
     "data": {
      "image/png": "[encoded data removed]",
      "text/plain": [
       "<Figure size 720x720 with 1 Axes>"
      ]
     },
     "metadata": {
      "needs_background": "light"
     },
     "output_type": "display_data"
    },
    {
     "data": {
      "image/png": "[encoded data removed]",
      "text/plain": [
       "<Figure size 720x720 with 1 Axes>"
      ]
     },
     "metadata": {
      "needs_background": "light"
     },
     "output_type": "display_data"
    },
    {
     "data": {
      "image/png": "[encoded data removed]",
      "text/plain": [
       "<Figure size 720x720 with 1 Axes>"
      ]
     },
     "metadata": {
      "needs_background": "light"
     },
     "output_type": "display_data"
    },
    {
     "data": {
      "image/png": "[encoded data removed]",
      "text/plain": [
       "<Figure size 720x720 with 1 Axes>"
      ]
     },
     "metadata": {
      "needs_background": "light"
     },
     "output_type": "display_data"
    },
    {
     "data": {
      "image/png": "[encoded data removed]",
      "text/plain": [
       "<Figure size 720x720 with 1 Axes>"
      ]
     },
     "metadata": {
      "needs_background": "light"
     },
     "output_type": "display_data"
    }
   ],
   "source": [
    "for i in col2:\n",
    "    plt.figure(figsize=(10,10))\n",
    "    sns.countplot(df_cat[i])\n",
    "    plt.xlabel(i,fontsize=10)\n",
    "    plt.xticks(rotation=45)\n",
    "    plt.show()\n",
    "    \n",
    "#Majority of the members are working in private sector followed by self-employed, local-government.\n",
    "#Most of the members have an educational qualification of High school grad followed by members graduating from some college\n",
    "#and bachelors and masters.\n",
    "#Majority of the members are married to civilian spouse, followed by people who are not married, divorced. Approximately 80 people\n",
    "#are separated and widowed.\n",
    "#When it comes to occupationg, members are majorly working in their profession-speciality followed by executive-managerial,craft-repair\n",
    "#After craft repair, members are in Adm-clerical occupation followed by sales and other services.\n",
    "#Most of the members are husband in relation, almost 8200 members are not-in-family , 5000 members are own-children in their family\n",
    "#3500 members are not married, 1600 are wife in relation and 700 members are other-relatives.\n",
    "#28000 members belong to white race followed by black race, Asian-Pac-Islander, Amer-Indian-Eskimo and others.\n",
    "#Around 20500 are Male and 1300 are females.\n",
    "#25900 members belong to United States and small group of members belong to Mexico\n",
    "#Around 25800 members have an income less than or equal to 50k and around 7500 have income more than 50k"
   ]
  },
  {
   "cell_type": "markdown",
   "id": "7b1dd47a",
   "metadata": {},
   "source": [
    "# Bivariate Analysis"
   ]
  },
  {
   "cell_type": "code",
   "execution_count": 21,
   "id": "ec843c9d",
   "metadata": {},
   "outputs": [
    {
     "data": {
      "image/png": "[encoded data removed]",
      "text/plain": [
       "<Figure size 1440x1440 with 1 Axes>"
      ]
     },
     "metadata": {
      "needs_background": "light"
     },
     "output_type": "display_data"
    }
   ],
   "source": [
    "#Analysing Income Vs. Age\n",
    "plt.figure(figsize=(20,20))\n",
    "sns.countplot(df['Age'],hue=df['Income'])\n",
    "plt.show()\n",
    "\n",
    "#Large number of members of age-36-48 have income greater than 50k\n",
    "#For lower age group and higher age group very few members have income more than 50k\n"
   ]
  },
  {
   "cell_type": "code",
   "execution_count": 25,
   "id": "f8f21ea3",
   "metadata": {},
   "outputs": [
    {
     "data": {
      "image/png": "[encoded data removed]",
      "text/plain": [
       "<Figure size 1440x1440 with 1 Axes>"
      ]
     },
     "metadata": {
      "needs_background": "light"
     },
     "output_type": "display_data"
    }
   ],
   "source": [
    "#Analysing Income Vs. Education\n",
    "plt.figure(figsize=(20,20))\n",
    "sns.countplot(df['Education'],hue=df['Income'])\n",
    "plt.show()\n",
    "\n",
    "#Bacheros are the largest group who earn more than 50k followed by High School graduates,college graduates and masters.\n",
    "#High School graduates are the largest group who earn less than 50k followed by college-graduates and bachelors."
   ]
  },
  {
   "cell_type": "code",
   "execution_count": 27,
   "id": "cdd39d28",
   "metadata": {},
   "outputs": [
    {
     "data": {
      "image/png": "[encoded data removed]",
      "text/plain": [
       "<Figure size 1440x1440 with 1 Axes>"
      ]
     },
     "metadata": {
      "needs_background": "light"
     },
     "output_type": "display_data"
    }
   ],
   "source": [
    "#Analysing Income Vs. Number of Years of Education\n",
    "plt.figure(figsize=(20,20))\n",
    "sns.countplot(df['Education_num'],hue=df['Income'])\n",
    "plt.show()\n",
    "\n",
    "#People with 13 education_num earn above 50k followed by 9,10 and 14\n",
    "#People with 9 education_num are the highest number of ppl who earn less than 50k followed by 10,13 and 7"
   ]
  },
  {
   "cell_type": "code",
   "execution_count": 28,
   "id": "d782ab97",
   "metadata": {},
   "outputs": [
    {
     "data": {
      "image/png": "[encoded data removed]",
      "text/plain": [
       "<Figure size 1440x1440 with 1 Axes>"
      ]
     },
     "metadata": {
      "needs_background": "light"
     },
     "output_type": "display_data"
    }
   ],
   "source": [
    "#Analysing Income Vs. Marital Status\n",
    "plt.figure(figsize=(20,20))\n",
    "sns.countplot(df['Marital_status'],hue=df['Income'])\n",
    "plt.show()\n",
    "\n",
    "#Never-married people are the highest number of people who earn less than 50k followed by married with civillian spouse and divorced\n",
    "#People who are married with civillian spouse are the highest number of people who earn greater than 50k."
   ]
  },
  {
   "cell_type": "code",
   "execution_count": 29,
   "id": "48a1c3f5",
   "metadata": {},
   "outputs": [
    {
     "data": {
      "image/png": "[encoded data removed]",
      "text/plain": [
       "<Figure size 1440x1440 with 1 Axes>"
      ]
     },
     "metadata": {
      "needs_background": "light"
     },
     "output_type": "display_data"
    }
   ],
   "source": [
    "#Analysing Income Vs. Race\n",
    "plt.figure(figsize=(20,20))\n",
    "sns.countplot(df['Race'],hue=df['Income'])\n",
    "plt.show()\n",
    "\n",
    "#White people are thr highest number of people for both less than 50k and above 50k category followed by black,asian-pac islader"
   ]
  },
  {
   "cell_type": "code",
   "execution_count": 30,
   "id": "1ccd80b5",
   "metadata": {},
   "outputs": [
    {
     "data": {
      "image/png": "[encoded data removed]",
      "text/plain": [
       "<Figure size 1440x1440 with 1 Axes>"
      ]
     },
     "metadata": {
      "needs_background": "light"
     },
     "output_type": "display_data"
    }
   ],
   "source": [
    "#Analysing Income Vs. Sex\n",
    "plt.figure(figsize=(20,20))\n",
    "sns.countplot(df['Sex'],hue=df['Income'])\n",
    "plt.show()\n",
    "\n",
    "#Male members are high in both less than 50k and above 50k category"
   ]
  },
  {
   "cell_type": "markdown",
   "id": "bee9828d",
   "metadata": {},
   "source": [
    "# Correlation Between Features"
   ]
  },
  {
   "cell_type": "code",
   "execution_count": 63,
   "id": "a4232343",
   "metadata": {},
   "outputs": [],
   "source": [
    "#Encoding the Output to check for correlation\n",
    "\n",
    "from sklearn.preprocessing import LabelEncoder\n",
    "le=LabelEncoder()"
   ]
  },
  {
   "cell_type": "code",
   "execution_count": 64,
   "id": "8438e0ca",
   "metadata": {},
   "outputs": [],
   "source": [
    "df[\"Income\"]=le.fit_transform(df[\"Income\"])"
   ]
  },
  {
   "cell_type": "code",
   "execution_count": 69,
   "id": "10193eb8",
   "metadata": {},
   "outputs": [
    {
     "data": {
      "text/plain": [
       "0    24719\n",
       "1     7841\n",
       "Name: Income, dtype: int64"
      ]
     },
     "execution_count": 69,
     "metadata": {},
     "output_type": "execute_result"
    }
   ],
   "source": [
    "df[\"Income\"].value_counts()"
   ]
  },
  {
   "cell_type": "code",
   "execution_count": 70,
   "id": "3f8dbcd9",
   "metadata": {
    "scrolled": true
   },
   "outputs": [
    {
     "data": {
      "text/plain": [
       "<AxesSubplot:>"
      ]
     },
     "execution_count": 70,
     "metadata": {},
     "output_type": "execute_result"
    },
    {
     "data": {
      "image/png": "[encoded data removed]",
      "text/plain": [
       "<Figure size 720x720 with 2 Axes>"
      ]
     },
     "metadata": {
      "needs_background": "light"
     },
     "output_type": "display_data"
    }
   ],
   "source": [
    "plt.figure(figsize=(10,10))\n",
    "sns.heatmap(df.corr(),annot=True)\n",
    "\n",
    "#From the below heatmap, we can conclude that Income is highly correlated with Age, Education_num, Capital_gain and Hours_per_week"
   ]
  },
  {
   "cell_type": "markdown",
   "id": "7cfb9e44",
   "metadata": {},
   "source": [
    "# Encoding Categorical Features "
   ]
  },
  {
   "cell_type": "code",
   "execution_count": 46,
   "id": "6406fb1c",
   "metadata": {},
   "outputs": [],
   "source": [
    "cat=[i for i in df.columns if df[i].dtypes==\"object\"]"
   ]
  },
  {
   "cell_type": "code",
   "execution_count": 71,
   "id": "ca859b4c",
   "metadata": {},
   "outputs": [],
   "source": [
    "from sklearn.preprocessing import OrdinalEncoder\n",
    "oe=OrdinalEncoder()\n",
    "for i in cat:\n",
    "    df[i]=oe.fit_transform(df[i].values.reshape(-1,1))"
   ]
  },
  {
   "cell_type": "code",
   "execution_count": 72,
   "id": "1cba6d42",
   "metadata": {},
   "outputs": [
    {
     "data": {
      "text/html": [
       "<div>\n",
       "<style scoped>\n",
       "    .dataframe tbody tr th:only-of-type {\n",
       "        vertical-align: middle;\n",
       "    }\n",
       "\n",
       "    .dataframe tbody tr th {\n",
       "        vertical-align: top;\n",
       "    }\n",
       "\n",
       "    .dataframe thead th {\n",
       "        text-align: right;\n",
       "    }\n",
       "</style>\n",
       "<table border=\"1\" class=\"dataframe\">\n",
       "  <thead>\n",
       "    <tr style=\"text-align: right;\">\n",
       "      <th></th>\n",
       "      <th>Age</th>\n",
       "      <th>Workclass</th>\n",
       "      <th>Fnlwgt</th>\n",
       "      <th>Education</th>\n",
       "      <th>Education_num</th>\n",
       "      <th>Marital_status</th>\n",
       "      <th>Occupation</th>\n",
       "      <th>Relationship</th>\n",
       "      <th>Race</th>\n",
       "      <th>Sex</th>\n",
       "      <th>Capital_gain</th>\n",
       "      <th>Capital_loss</th>\n",
       "      <th>Hours_per_week</th>\n",
       "      <th>Native_country</th>\n",
       "      <th>Income</th>\n",
       "    </tr>\n",
       "  </thead>\n",
       "  <tbody>\n",
       "    <tr>\n",
       "      <th>0</th>\n",
       "      <td>50</td>\n",
       "      <td>6.0</td>\n",
       "      <td>83311</td>\n",
       "      <td>9.0</td>\n",
       "      <td>13</td>\n",
       "      <td>2.0</td>\n",
       "      <td>4.0</td>\n",
       "      <td>0.0</td>\n",
       "      <td>4.0</td>\n",
       "      <td>1.0</td>\n",
       "      <td>0</td>\n",
       "      <td>0</td>\n",
       "      <td>13</td>\n",
       "      <td>39.0</td>\n",
       "      <td>0</td>\n",
       "    </tr>\n",
       "    <tr>\n",
       "      <th>1</th>\n",
       "      <td>38</td>\n",
       "      <td>4.0</td>\n",
       "      <td>215646</td>\n",
       "      <td>11.0</td>\n",
       "      <td>9</td>\n",
       "      <td>0.0</td>\n",
       "      <td>6.0</td>\n",
       "      <td>1.0</td>\n",
       "      <td>4.0</td>\n",
       "      <td>1.0</td>\n",
       "      <td>0</td>\n",
       "      <td>0</td>\n",
       "      <td>40</td>\n",
       "      <td>39.0</td>\n",
       "      <td>0</td>\n",
       "    </tr>\n",
       "    <tr>\n",
       "      <th>2</th>\n",
       "      <td>53</td>\n",
       "      <td>4.0</td>\n",
       "      <td>234721</td>\n",
       "      <td>1.0</td>\n",
       "      <td>7</td>\n",
       "      <td>2.0</td>\n",
       "      <td>6.0</td>\n",
       "      <td>0.0</td>\n",
       "      <td>2.0</td>\n",
       "      <td>1.0</td>\n",
       "      <td>0</td>\n",
       "      <td>0</td>\n",
       "      <td>40</td>\n",
       "      <td>39.0</td>\n",
       "      <td>0</td>\n",
       "    </tr>\n",
       "    <tr>\n",
       "      <th>3</th>\n",
       "      <td>28</td>\n",
       "      <td>4.0</td>\n",
       "      <td>338409</td>\n",
       "      <td>9.0</td>\n",
       "      <td>13</td>\n",
       "      <td>2.0</td>\n",
       "      <td>10.0</td>\n",
       "      <td>5.0</td>\n",
       "      <td>2.0</td>\n",
       "      <td>0.0</td>\n",
       "      <td>0</td>\n",
       "      <td>0</td>\n",
       "      <td>40</td>\n",
       "      <td>5.0</td>\n",
       "      <td>0</td>\n",
       "    </tr>\n",
       "    <tr>\n",
       "      <th>4</th>\n",
       "      <td>37</td>\n",
       "      <td>4.0</td>\n",
       "      <td>284582</td>\n",
       "      <td>12.0</td>\n",
       "      <td>14</td>\n",
       "      <td>2.0</td>\n",
       "      <td>4.0</td>\n",
       "      <td>5.0</td>\n",
       "      <td>4.0</td>\n",
       "      <td>0.0</td>\n",
       "      <td>0</td>\n",
       "      <td>0</td>\n",
       "      <td>40</td>\n",
       "      <td>39.0</td>\n",
       "      <td>0</td>\n",
       "    </tr>\n",
       "    <tr>\n",
       "      <th>...</th>\n",
       "      <td>...</td>\n",
       "      <td>...</td>\n",
       "      <td>...</td>\n",
       "      <td>...</td>\n",
       "      <td>...</td>\n",
       "      <td>...</td>\n",
       "      <td>...</td>\n",
       "      <td>...</td>\n",
       "      <td>...</td>\n",
       "      <td>...</td>\n",
       "      <td>...</td>\n",
       "      <td>...</td>\n",
       "      <td>...</td>\n",
       "      <td>...</td>\n",
       "      <td>...</td>\n",
       "    </tr>\n",
       "    <tr>\n",
       "      <th>32555</th>\n",
       "      <td>27</td>\n",
       "      <td>4.0</td>\n",
       "      <td>257302</td>\n",
       "      <td>7.0</td>\n",
       "      <td>12</td>\n",
       "      <td>2.0</td>\n",
       "      <td>13.0</td>\n",
       "      <td>5.0</td>\n",
       "      <td>4.0</td>\n",
       "      <td>0.0</td>\n",
       "      <td>0</td>\n",
       "      <td>0</td>\n",
       "      <td>38</td>\n",
       "      <td>39.0</td>\n",
       "      <td>0</td>\n",
       "    </tr>\n",
       "    <tr>\n",
       "      <th>32556</th>\n",
       "      <td>40</td>\n",
       "      <td>4.0</td>\n",
       "      <td>154374</td>\n",
       "      <td>11.0</td>\n",
       "      <td>9</td>\n",
       "      <td>2.0</td>\n",
       "      <td>7.0</td>\n",
       "      <td>0.0</td>\n",
       "      <td>4.0</td>\n",
       "      <td>1.0</td>\n",
       "      <td>0</td>\n",
       "      <td>0</td>\n",
       "      <td>40</td>\n",
       "      <td>39.0</td>\n",
       "      <td>1</td>\n",
       "    </tr>\n",
       "    <tr>\n",
       "      <th>32557</th>\n",
       "      <td>58</td>\n",
       "      <td>4.0</td>\n",
       "      <td>151910</td>\n",
       "      <td>11.0</td>\n",
       "      <td>9</td>\n",
       "      <td>6.0</td>\n",
       "      <td>1.0</td>\n",
       "      <td>4.0</td>\n",
       "      <td>4.0</td>\n",
       "      <td>0.0</td>\n",
       "      <td>0</td>\n",
       "      <td>0</td>\n",
       "      <td>40</td>\n",
       "      <td>39.0</td>\n",
       "      <td>0</td>\n",
       "    </tr>\n",
       "    <tr>\n",
       "      <th>32558</th>\n",
       "      <td>22</td>\n",
       "      <td>4.0</td>\n",
       "      <td>201490</td>\n",
       "      <td>11.0</td>\n",
       "      <td>9</td>\n",
       "      <td>4.0</td>\n",
       "      <td>1.0</td>\n",
       "      <td>3.0</td>\n",
       "      <td>4.0</td>\n",
       "      <td>1.0</td>\n",
       "      <td>0</td>\n",
       "      <td>0</td>\n",
       "      <td>20</td>\n",
       "      <td>39.0</td>\n",
       "      <td>0</td>\n",
       "    </tr>\n",
       "    <tr>\n",
       "      <th>32559</th>\n",
       "      <td>52</td>\n",
       "      <td>5.0</td>\n",
       "      <td>287927</td>\n",
       "      <td>11.0</td>\n",
       "      <td>9</td>\n",
       "      <td>2.0</td>\n",
       "      <td>4.0</td>\n",
       "      <td>5.0</td>\n",
       "      <td>4.0</td>\n",
       "      <td>0.0</td>\n",
       "      <td>15024</td>\n",
       "      <td>0</td>\n",
       "      <td>40</td>\n",
       "      <td>39.0</td>\n",
       "      <td>1</td>\n",
       "    </tr>\n",
       "  </tbody>\n",
       "</table>\n",
       "<p>32560 rows × 15 columns</p>\n",
       "</div>"
      ],
      "text/plain": [
       "       Age  Workclass  Fnlwgt  Education  Education_num  Marital_status  \\\n",
       "0       50        6.0   83311        9.0             13             2.0   \n",
       "1       38        4.0  215646       11.0              9             0.0   \n",
       "2       53        4.0  234721        1.0              7             2.0   \n",
       "3       28        4.0  338409        9.0             13             2.0   \n",
       "4       37        4.0  284582       12.0             14             2.0   \n",
       "...    ...        ...     ...        ...            ...             ...   \n",
       "32555   27        4.0  257302        7.0             12             2.0   \n",
       "32556   40        4.0  154374       11.0              9             2.0   \n",
       "32557   58        4.0  151910       11.0              9             6.0   \n",
       "32558   22        4.0  201490       11.0              9             4.0   \n",
       "32559   52        5.0  287927       11.0              9             2.0   \n",
       "\n",
       "       Occupation  Relationship  Race  Sex  Capital_gain  Capital_loss  \\\n",
       "0             4.0           0.0   4.0  1.0             0             0   \n",
       "1             6.0           1.0   4.0  1.0             0             0   \n",
       "2             6.0           0.0   2.0  1.0             0             0   \n",
       "3            10.0           5.0   2.0  0.0             0             0   \n",
       "4             4.0           5.0   4.0  0.0             0             0   \n",
       "...           ...           ...   ...  ...           ...           ...   \n",
       "32555        13.0           5.0   4.0  0.0             0             0   \n",
       "32556         7.0           0.0   4.0  1.0             0             0   \n",
       "32557         1.0           4.0   4.0  0.0             0             0   \n",
       "32558         1.0           3.0   4.0  1.0             0             0   \n",
       "32559         4.0           5.0   4.0  0.0         15024             0   \n",
       "\n",
       "       Hours_per_week  Native_country  Income  \n",
       "0                  13            39.0       0  \n",
       "1                  40            39.0       0  \n",
       "2                  40            39.0       0  \n",
       "3                  40             5.0       0  \n",
       "4                  40            39.0       0  \n",
       "...               ...             ...     ...  \n",
       "32555              38            39.0       0  \n",
       "32556              40            39.0       1  \n",
       "32557              40            39.0       0  \n",
       "32558              20            39.0       0  \n",
       "32559              40            39.0       1  \n",
       "\n",
       "[32560 rows x 15 columns]"
      ]
     },
     "execution_count": 72,
     "metadata": {},
     "output_type": "execute_result"
    }
   ],
   "source": [
    "df"
   ]
  },
  {
   "cell_type": "code",
   "execution_count": 73,
   "id": "36903f6b",
   "metadata": {
    "scrolled": true
   },
   "outputs": [
    {
     "data": {
      "image/png": "[encoded data removed]",
      "text/plain": [
       "<Figure size 2160x6480 with 15 Axes>"
      ]
     },
     "metadata": {
      "needs_background": "light"
     },
     "output_type": "display_data"
    }
   ],
   "source": [
    "#Plotting a box plot to check the outliers\n",
    "\n",
    "columnlist=df.columns.values\n",
    "\n",
    "ncol=30\n",
    "nrows=14\n",
    "\n",
    "#Plotting box plots for the features-Length,Diameter, Height, Whole Weight, Shucked Weight, Viscera Weight, Shell Weight\n",
    "plt.figure(figsize=(ncol, 3*ncol))\n",
    "for i in range(0, len(columnlist)):\n",
    "    plt.subplot(nrows,ncol,i+1)\n",
    "    sns.boxplot(data=df[columnlist[i]])\n",
    "    plt.tight_layout()\n",
    "    \n",
    "# We can observe from the box plots that there are many values beyond the range which may or may not be an outliers\n",
    "# whcih have to be catered using the z-score"
   ]
  },
  {
   "cell_type": "code",
   "execution_count": 74,
   "id": "b0a52a27",
   "metadata": {},
   "outputs": [],
   "source": [
    "#Checking Z-Score for Outliers\n",
    "from scipy import stats\n",
    "\n",
    "z1=abs(stats.zscore(df[columnlist]))"
   ]
  },
  {
   "cell_type": "code",
   "execution_count": 75,
   "id": "83f75e0b",
   "metadata": {},
   "outputs": [
    {
     "data": {
      "text/plain": [
       "(array([    3,     9,    10, ..., 32532, 32550, 32552], dtype=int64),\n",
       " array([13, 12,  8, ...,  8,  8,  8], dtype=int64))"
      ]
     },
     "execution_count": 75,
     "metadata": {},
     "output_type": "execute_result"
    }
   ],
   "source": [
    "x=np.where(z1>3)\n",
    "x"
   ]
  },
  {
   "cell_type": "markdown",
   "id": "637e9164",
   "metadata": {},
   "source": [
    "# Removing the Outliers"
   ]
  },
  {
   "cell_type": "code",
   "execution_count": 76,
   "id": "12867fa5",
   "metadata": {},
   "outputs": [],
   "source": [
    "df_z=df[(z1 < 3).all(axis=1)]"
   ]
  },
  {
   "cell_type": "code",
   "execution_count": 77,
   "id": "42e9593b",
   "metadata": {},
   "outputs": [
    {
     "name": "stdout",
     "output_type": "stream",
     "text": [
      "(32560, 15) (27417, 15)\n"
     ]
    }
   ],
   "source": [
    "print(df.shape,df_z.shape)"
   ]
  },
  {
   "cell_type": "code",
   "execution_count": 88,
   "id": "a419dbcc",
   "metadata": {},
   "outputs": [
    {
     "name": "stdout",
     "output_type": "stream",
     "text": [
      "15.8\n"
     ]
    }
   ],
   "source": [
    "#Percentage data loss\n",
    "\n",
    "dl=(df.shape[0]-df_z.shape[0])/(df.shape[0])\n",
    "print(round((dl*100),2))"
   ]
  },
  {
   "cell_type": "code",
   "execution_count": 20,
   "id": "bcb37efc",
   "metadata": {},
   "outputs": [
    {
     "data": {
      "text/html": [
       "<div>\n",
       "<style scoped>\n",
       "    .dataframe tbody tr th:only-of-type {\n",
       "        vertical-align: middle;\n",
       "    }\n",
       "\n",
       "    .dataframe tbody tr th {\n",
       "        vertical-align: top;\n",
       "    }\n",
       "\n",
       "    .dataframe thead th {\n",
       "        text-align: right;\n",
       "    }\n",
       "</style>\n",
       "<table border=\"1\" class=\"dataframe\">\n",
       "  <thead>\n",
       "    <tr style=\"text-align: right;\">\n",
       "      <th></th>\n",
       "      <th>Age</th>\n",
       "      <th>Workclass</th>\n",
       "      <th>Fnlwgt</th>\n",
       "      <th>Education</th>\n",
       "      <th>Education_num</th>\n",
       "      <th>Marital_status</th>\n",
       "      <th>Occupation</th>\n",
       "      <th>Relationship</th>\n",
       "      <th>Race</th>\n",
       "      <th>Sex</th>\n",
       "      <th>Capital_gain</th>\n",
       "      <th>Capital_loss</th>\n",
       "      <th>Hours_per_week</th>\n",
       "      <th>Native_country</th>\n",
       "      <th>Income</th>\n",
       "    </tr>\n",
       "  </thead>\n",
       "  <tbody>\n",
       "    <tr>\n",
       "      <th>0</th>\n",
       "      <td>50</td>\n",
       "      <td>5.0</td>\n",
       "      <td>83311</td>\n",
       "      <td>9.0</td>\n",
       "      <td>13</td>\n",
       "      <td>2.0</td>\n",
       "      <td>3.0</td>\n",
       "      <td>0.0</td>\n",
       "      <td>4.0</td>\n",
       "      <td>1.0</td>\n",
       "      <td>0</td>\n",
       "      <td>0</td>\n",
       "      <td>13</td>\n",
       "      <td>39.0</td>\n",
       "      <td>0</td>\n",
       "    </tr>\n",
       "    <tr>\n",
       "      <th>1</th>\n",
       "      <td>38</td>\n",
       "      <td>3.0</td>\n",
       "      <td>215646</td>\n",
       "      <td>11.0</td>\n",
       "      <td>9</td>\n",
       "      <td>0.0</td>\n",
       "      <td>5.0</td>\n",
       "      <td>1.0</td>\n",
       "      <td>4.0</td>\n",
       "      <td>1.0</td>\n",
       "      <td>0</td>\n",
       "      <td>0</td>\n",
       "      <td>40</td>\n",
       "      <td>39.0</td>\n",
       "      <td>0</td>\n",
       "    </tr>\n",
       "    <tr>\n",
       "      <th>2</th>\n",
       "      <td>53</td>\n",
       "      <td>3.0</td>\n",
       "      <td>234721</td>\n",
       "      <td>1.0</td>\n",
       "      <td>7</td>\n",
       "      <td>2.0</td>\n",
       "      <td>5.0</td>\n",
       "      <td>0.0</td>\n",
       "      <td>2.0</td>\n",
       "      <td>1.0</td>\n",
       "      <td>0</td>\n",
       "      <td>0</td>\n",
       "      <td>40</td>\n",
       "      <td>39.0</td>\n",
       "      <td>0</td>\n",
       "    </tr>\n",
       "    <tr>\n",
       "      <th>4</th>\n",
       "      <td>37</td>\n",
       "      <td>3.0</td>\n",
       "      <td>284582</td>\n",
       "      <td>12.0</td>\n",
       "      <td>14</td>\n",
       "      <td>2.0</td>\n",
       "      <td>3.0</td>\n",
       "      <td>5.0</td>\n",
       "      <td>4.0</td>\n",
       "      <td>0.0</td>\n",
       "      <td>0</td>\n",
       "      <td>0</td>\n",
       "      <td>40</td>\n",
       "      <td>39.0</td>\n",
       "      <td>0</td>\n",
       "    </tr>\n",
       "    <tr>\n",
       "      <th>5</th>\n",
       "      <td>49</td>\n",
       "      <td>3.0</td>\n",
       "      <td>160187</td>\n",
       "      <td>6.0</td>\n",
       "      <td>5</td>\n",
       "      <td>3.0</td>\n",
       "      <td>7.0</td>\n",
       "      <td>1.0</td>\n",
       "      <td>2.0</td>\n",
       "      <td>0.0</td>\n",
       "      <td>0</td>\n",
       "      <td>0</td>\n",
       "      <td>16</td>\n",
       "      <td>23.0</td>\n",
       "      <td>0</td>\n",
       "    </tr>\n",
       "    <tr>\n",
       "      <th>...</th>\n",
       "      <td>...</td>\n",
       "      <td>...</td>\n",
       "      <td>...</td>\n",
       "      <td>...</td>\n",
       "      <td>...</td>\n",
       "      <td>...</td>\n",
       "      <td>...</td>\n",
       "      <td>...</td>\n",
       "      <td>...</td>\n",
       "      <td>...</td>\n",
       "      <td>...</td>\n",
       "      <td>...</td>\n",
       "      <td>...</td>\n",
       "      <td>...</td>\n",
       "      <td>...</td>\n",
       "    </tr>\n",
       "    <tr>\n",
       "      <th>32555</th>\n",
       "      <td>27</td>\n",
       "      <td>3.0</td>\n",
       "      <td>257302</td>\n",
       "      <td>7.0</td>\n",
       "      <td>12</td>\n",
       "      <td>2.0</td>\n",
       "      <td>12.0</td>\n",
       "      <td>5.0</td>\n",
       "      <td>4.0</td>\n",
       "      <td>0.0</td>\n",
       "      <td>0</td>\n",
       "      <td>0</td>\n",
       "      <td>38</td>\n",
       "      <td>39.0</td>\n",
       "      <td>0</td>\n",
       "    </tr>\n",
       "    <tr>\n",
       "      <th>32556</th>\n",
       "      <td>40</td>\n",
       "      <td>3.0</td>\n",
       "      <td>154374</td>\n",
       "      <td>11.0</td>\n",
       "      <td>9</td>\n",
       "      <td>2.0</td>\n",
       "      <td>6.0</td>\n",
       "      <td>0.0</td>\n",
       "      <td>4.0</td>\n",
       "      <td>1.0</td>\n",
       "      <td>0</td>\n",
       "      <td>0</td>\n",
       "      <td>40</td>\n",
       "      <td>39.0</td>\n",
       "      <td>1</td>\n",
       "    </tr>\n",
       "    <tr>\n",
       "      <th>32557</th>\n",
       "      <td>58</td>\n",
       "      <td>3.0</td>\n",
       "      <td>151910</td>\n",
       "      <td>11.0</td>\n",
       "      <td>9</td>\n",
       "      <td>6.0</td>\n",
       "      <td>0.0</td>\n",
       "      <td>4.0</td>\n",
       "      <td>4.0</td>\n",
       "      <td>0.0</td>\n",
       "      <td>0</td>\n",
       "      <td>0</td>\n",
       "      <td>40</td>\n",
       "      <td>39.0</td>\n",
       "      <td>0</td>\n",
       "    </tr>\n",
       "    <tr>\n",
       "      <th>32558</th>\n",
       "      <td>22</td>\n",
       "      <td>3.0</td>\n",
       "      <td>201490</td>\n",
       "      <td>11.0</td>\n",
       "      <td>9</td>\n",
       "      <td>4.0</td>\n",
       "      <td>0.0</td>\n",
       "      <td>3.0</td>\n",
       "      <td>4.0</td>\n",
       "      <td>1.0</td>\n",
       "      <td>0</td>\n",
       "      <td>0</td>\n",
       "      <td>20</td>\n",
       "      <td>39.0</td>\n",
       "      <td>0</td>\n",
       "    </tr>\n",
       "    <tr>\n",
       "      <th>32559</th>\n",
       "      <td>52</td>\n",
       "      <td>4.0</td>\n",
       "      <td>287927</td>\n",
       "      <td>11.0</td>\n",
       "      <td>9</td>\n",
       "      <td>2.0</td>\n",
       "      <td>3.0</td>\n",
       "      <td>5.0</td>\n",
       "      <td>4.0</td>\n",
       "      <td>0.0</td>\n",
       "      <td>15024</td>\n",
       "      <td>0</td>\n",
       "      <td>40</td>\n",
       "      <td>39.0</td>\n",
       "      <td>1</td>\n",
       "    </tr>\n",
       "  </tbody>\n",
       "</table>\n",
       "<p>27404 rows × 15 columns</p>\n",
       "</div>"
      ],
      "text/plain": [
       "       Age  Workclass  Fnlwgt  Education  Education_num  Marital_status  \\\n",
       "0       50        5.0   83311        9.0             13             2.0   \n",
       "1       38        3.0  215646       11.0              9             0.0   \n",
       "2       53        3.0  234721        1.0              7             2.0   \n",
       "4       37        3.0  284582       12.0             14             2.0   \n",
       "5       49        3.0  160187        6.0              5             3.0   \n",
       "...    ...        ...     ...        ...            ...             ...   \n",
       "32555   27        3.0  257302        7.0             12             2.0   \n",
       "32556   40        3.0  154374       11.0              9             2.0   \n",
       "32557   58        3.0  151910       11.0              9             6.0   \n",
       "32558   22        3.0  201490       11.0              9             4.0   \n",
       "32559   52        4.0  287927       11.0              9             2.0   \n",
       "\n",
       "       Occupation  Relationship  Race  Sex  Capital_gain  Capital_loss  \\\n",
       "0             3.0           0.0   4.0  1.0             0             0   \n",
       "1             5.0           1.0   4.0  1.0             0             0   \n",
       "2             5.0           0.0   2.0  1.0             0             0   \n",
       "4             3.0           5.0   4.0  0.0             0             0   \n",
       "5             7.0           1.0   2.0  0.0             0             0   \n",
       "...           ...           ...   ...  ...           ...           ...   \n",
       "32555        12.0           5.0   4.0  0.0             0             0   \n",
       "32556         6.0           0.0   4.0  1.0             0             0   \n",
       "32557         0.0           4.0   4.0  0.0             0             0   \n",
       "32558         0.0           3.0   4.0  1.0             0             0   \n",
       "32559         3.0           5.0   4.0  0.0         15024             0   \n",
       "\n",
       "       Hours_per_week  Native_country  Income  \n",
       "0                  13            39.0       0  \n",
       "1                  40            39.0       0  \n",
       "2                  40            39.0       0  \n",
       "4                  40            39.0       0  \n",
       "5                  16            23.0       0  \n",
       "...               ...             ...     ...  \n",
       "32555              38            39.0       0  \n",
       "32556              40            39.0       1  \n",
       "32557              40            39.0       0  \n",
       "32558              20            39.0       0  \n",
       "32559              40            39.0       1  \n",
       "\n",
       "[27404 rows x 15 columns]"
      ]
     },
     "execution_count": 20,
     "metadata": {},
     "output_type": "execute_result"
    }
   ],
   "source": [
    "df_z"
   ]
  },
  {
   "cell_type": "markdown",
   "id": "fbb1f0c5",
   "metadata": {},
   "source": [
    "# Balancing the Target Variable"
   ]
  },
  {
   "cell_type": "code",
   "execution_count": 94,
   "id": "6f52afa3",
   "metadata": {},
   "outputs": [
    {
     "data": {
      "text/plain": [
       "0    21279\n",
       "1     6138\n",
       "Name: Income, dtype: int64"
      ]
     },
     "execution_count": 94,
     "metadata": {},
     "output_type": "execute_result"
    }
   ],
   "source": [
    "df_z[\"Income\"].value_counts()"
   ]
  },
  {
   "cell_type": "code",
   "execution_count": 95,
   "id": "a35065d9",
   "metadata": {},
   "outputs": [],
   "source": [
    "from sklearn.utils import resample\n",
    "dfminor_output=df_z[(df_z[\"Income\"]==1)]\n",
    "dfmajor_output=df_z[(df_z[\"Income\"]==0)]\n",
    "dfmin_up=resample(dfminor_output,replace=True,n_samples=21279,random_state=42)\n",
    "df_up=pd.concat([dfmin_up,dfmajor_output])"
   ]
  },
  {
   "cell_type": "code",
   "execution_count": 96,
   "id": "7a4db0d1",
   "metadata": {},
   "outputs": [
    {
     "data": {
      "text/plain": [
       "1    21279\n",
       "0    21279\n",
       "Name: Income, dtype: int64"
      ]
     },
     "execution_count": 96,
     "metadata": {},
     "output_type": "execute_result"
    }
   ],
   "source": [
    "df_up[\"Income\"].value_counts()"
   ]
  },
  {
   "cell_type": "markdown",
   "id": "dcc4715c",
   "metadata": {},
   "source": [
    "# Feature Scaling "
   ]
  },
  {
   "cell_type": "code",
   "execution_count": 97,
   "id": "3a95ee9a",
   "metadata": {},
   "outputs": [],
   "source": [
    "X=df_up.drop(\"Income\",axis=1)\n",
    "Y=df_up[[\"Income\"]]"
   ]
  },
  {
   "cell_type": "code",
   "execution_count": 98,
   "id": "a4f8c5fa",
   "metadata": {},
   "outputs": [],
   "source": [
    "from sklearn.model_selection import train_test_split\n",
    "x_train,x_test,y_train,y_test=train_test_split(X,Y,random_state=4,test_size=0.33)\n",
    "\n",
    "from sklearn.ensemble import RandomForestClassifier\n",
    "rf=RandomForestClassifier()"
   ]
  },
  {
   "cell_type": "code",
   "execution_count": 99,
   "id": "ff6315ef",
   "metadata": {},
   "outputs": [
    {
     "data": {
      "text/plain": [
       "RandomForestClassifier()"
      ]
     },
     "execution_count": 99,
     "metadata": {},
     "output_type": "execute_result"
    }
   ],
   "source": [
    "rf.fit(x_train,y_train)"
   ]
  },
  {
   "cell_type": "code",
   "execution_count": 100,
   "id": "c9e16211",
   "metadata": {},
   "outputs": [],
   "source": [
    "feature_imp=rf.feature_importances_"
   ]
  },
  {
   "cell_type": "code",
   "execution_count": 101,
   "id": "0acb20de",
   "metadata": {},
   "outputs": [
    {
     "data": {
      "text/plain": [
       "14"
      ]
     },
     "execution_count": 101,
     "metadata": {},
     "output_type": "execute_result"
    }
   ],
   "source": [
    "len(feature_imp)"
   ]
  },
  {
   "cell_type": "code",
   "execution_count": 102,
   "id": "8a1f327b",
   "metadata": {},
   "outputs": [
    {
     "name": "stdout",
     "output_type": "stream",
     "text": [
      "0 18.53\n",
      "1 3.67\n",
      "2 16.09\n",
      "3 3.85\n",
      "4 8.2\n",
      "5 10.78\n",
      "6 6.66\n",
      "7 13.13\n",
      "8 0.83\n",
      "9 1.6\n",
      "10 7.63\n",
      "11 0.03\n",
      "12 8.31\n",
      "13 0.7\n"
     ]
    }
   ],
   "source": [
    "for index, val in enumerate(feature_imp):\n",
    "    print(index,round((val * 100), 2))"
   ]
  },
  {
   "cell_type": "code",
   "execution_count": 103,
   "id": "24faa77c",
   "metadata": {},
   "outputs": [
    {
     "data": {
      "text/plain": [
       "array(['Age', 'Workclass', 'Fnlwgt', 'Education', 'Education_num',\n",
       "       'Marital_status', 'Occupation', 'Relationship', 'Race', 'Sex',\n",
       "       'Capital_gain', 'Capital_loss', 'Hours_per_week', 'Native_country'],\n",
       "      dtype=object)"
      ]
     },
     "execution_count": 103,
     "metadata": {},
     "output_type": "execute_result"
    }
   ],
   "source": [
    "X.columns.values"
   ]
  },
  {
   "cell_type": "markdown",
   "id": "5e5be369",
   "metadata": {},
   "source": [
    "From the above results of feature importance, features- Workclass,Education,Race,Sex, Capital_loss and Native_country have very less feature importances, hence removing the same"
   ]
  },
  {
   "cell_type": "code",
   "execution_count": 104,
   "id": "2b4b5297",
   "metadata": {},
   "outputs": [],
   "source": [
    "X_new=X.drop([\"Workclass\",\"Education\",\"Race\",\"Sex\",\"Capital_loss\",\"Native_country\"],axis=1)"
   ]
  },
  {
   "cell_type": "code",
   "execution_count": 105,
   "id": "5cd700fa",
   "metadata": {},
   "outputs": [],
   "source": [
    "#Scaling the features using Min Max Scaler\n",
    "from sklearn.preprocessing import MinMaxScaler\n",
    "\n",
    "scaler=MinMaxScaler()\n",
    "x=scaler.fit_transform(X_new)\n",
    "\n",
    "X_s=pd.DataFrame(x,columns=X_new.columns)"
   ]
  },
  {
   "cell_type": "code",
   "execution_count": 106,
   "id": "8bf48e64",
   "metadata": {},
   "outputs": [],
   "source": [
    "#Applying power transform\n",
    "from sklearn.preprocessing import power_transform\n",
    "Xt=power_transform(X_s)"
   ]
  },
  {
   "cell_type": "markdown",
   "id": "0ec01279",
   "metadata": {},
   "source": [
    "# Training Multiple Models"
   ]
  },
  {
   "cell_type": "code",
   "execution_count": 107,
   "id": "3e5fbdb8",
   "metadata": {},
   "outputs": [],
   "source": [
    "#Splitting data into Training and Testing Data\n",
    "from sklearn.model_selection import train_test_split\n",
    "from sklearn.linear_model import LogisticRegression\n",
    "from sklearn.ensemble import RandomForestClassifier\n",
    "from sklearn.neighbors import KNeighborsClassifier\n",
    "from sklearn.svm import SVC\n",
    "from sklearn.tree import DecisionTreeClassifier\n",
    "from sklearn.naive_bayes import GaussianNB\n",
    "from xgboost import XGBClassifier\n",
    "\n",
    "from sklearn.metrics import accuracy_score,confusion_matrix,classification_report,f1_score,roc_auc_score"
   ]
  },
  {
   "cell_type": "code",
   "execution_count": 108,
   "id": "34acbb35",
   "metadata": {},
   "outputs": [],
   "source": [
    "lr=LogisticRegression()\n",
    "rf=RandomForestClassifier()\n",
    "kn=KNeighborsClassifier(n_neighbors=3)\n",
    "sv=SVC()\n",
    "dt=DecisionTreeClassifier(criterion='entropy')\n",
    "gb=GaussianNB()\n",
    "xgb = XGBClassifier()\n",
    "\n",
    "lst=[lr,rf,kn,sv,dt,gb,xgb]"
   ]
  },
  {
   "cell_type": "code",
   "execution_count": 109,
   "id": "00dc1fb9",
   "metadata": {},
   "outputs": [
    {
     "name": "stdout",
     "output_type": "stream",
     "text": [
      "Model LogisticRegression() Random State- 0 Accuracy Score-Test 0.77 Accuracy Score-Train 0.78 F1 score-train 0.78 F1 score -test 0.77\n",
      "Model LogisticRegression() Random State- 1 Accuracy Score-Test 0.78 Accuracy Score-Train 0.78 F1 score-train 0.78 F1 score -test 0.78\n",
      "Model LogisticRegression() Random State- 2 Accuracy Score-Test 0.78 Accuracy Score-Train 0.78 F1 score-train 0.78 F1 score -test 0.78\n",
      "Model LogisticRegression() Random State- 3 Accuracy Score-Test 0.78 Accuracy Score-Train 0.78 F1 score-train 0.78 F1 score -test 0.78\n",
      "Model RandomForestClassifier() Random State- 0 Accuracy Score-Test 0.93 Accuracy Score-Train 1.0 F1 score-train 1.0 F1 score -test 0.93\n",
      "Model RandomForestClassifier() Random State- 1 Accuracy Score-Test 0.93 Accuracy Score-Train 1.0 F1 score-train 1.0 F1 score -test 0.93\n",
      "Model RandomForestClassifier() Random State- 2 Accuracy Score-Test 0.92 Accuracy Score-Train 1.0 F1 score-train 1.0 F1 score -test 0.92\n",
      "Model RandomForestClassifier() Random State- 3 Accuracy Score-Test 0.93 Accuracy Score-Train 1.0 F1 score-train 1.0 F1 score -test 0.93\n",
      "Model KNeighborsClassifier(n_neighbors=3) Random State- 0 Accuracy Score-Test 0.86 Accuracy Score-Train 0.92 F1 score-train 0.92 F1 score -test 0.86\n",
      "Model KNeighborsClassifier(n_neighbors=3) Random State- 1 Accuracy Score-Test 0.86 Accuracy Score-Train 0.92 F1 score-train 0.92 F1 score -test 0.86\n",
      "Model KNeighborsClassifier(n_neighbors=3) Random State- 2 Accuracy Score-Test 0.85 Accuracy Score-Train 0.92 F1 score-train 0.92 F1 score -test 0.85\n",
      "Model KNeighborsClassifier(n_neighbors=3) Random State- 3 Accuracy Score-Test 0.86 Accuracy Score-Train 0.92 F1 score-train 0.92 F1 score -test 0.86\n",
      "Model SVC() Random State- 0 Accuracy Score-Test 0.82 Accuracy Score-Train 0.83 F1 score-train 0.82 F1 score -test 0.82\n",
      "Model SVC() Random State- 1 Accuracy Score-Test 0.82 Accuracy Score-Train 0.82 F1 score-train 0.82 F1 score -test 0.82\n",
      "Model SVC() Random State- 2 Accuracy Score-Test 0.82 Accuracy Score-Train 0.82 F1 score-train 0.82 F1 score -test 0.82\n",
      "Model SVC() Random State- 3 Accuracy Score-Test 0.82 Accuracy Score-Train 0.82 F1 score-train 0.82 F1 score -test 0.82\n",
      "Model DecisionTreeClassifier(criterion='entropy') Random State- 0 Accuracy Score-Test 0.92 Accuracy Score-Train 1.0 F1 score-train 1.0 F1 score -test 0.92\n",
      "Model DecisionTreeClassifier(criterion='entropy') Random State- 1 Accuracy Score-Test 0.92 Accuracy Score-Train 1.0 F1 score-train 1.0 F1 score -test 0.92\n",
      "Model DecisionTreeClassifier(criterion='entropy') Random State- 2 Accuracy Score-Test 0.91 Accuracy Score-Train 1.0 F1 score-train 1.0 F1 score -test 0.91\n",
      "Model DecisionTreeClassifier(criterion='entropy') Random State- 3 Accuracy Score-Test 0.92 Accuracy Score-Train 1.0 F1 score-train 1.0 F1 score -test 0.92\n",
      "Model GaussianNB() Random State- 0 Accuracy Score-Test 0.78 Accuracy Score-Train 0.79 F1 score-train 0.79 F1 score -test 0.78\n",
      "Model GaussianNB() Random State- 1 Accuracy Score-Test 0.79 Accuracy Score-Train 0.78 F1 score-train 0.78 F1 score -test 0.79\n",
      "Model GaussianNB() Random State- 2 Accuracy Score-Test 0.78 Accuracy Score-Train 0.79 F1 score-train 0.79 F1 score -test 0.78\n",
      "Model GaussianNB() Random State- 3 Accuracy Score-Test 0.79 Accuracy Score-Train 0.78 F1 score-train 0.78 F1 score -test 0.79\n",
      "Model XGBClassifier(base_score=0.5, booster='gbtree', callbacks=None,\n",
      "              colsample_bylevel=1, colsample_bynode=1, colsample_bytree=1,\n",
      "              early_stopping_rounds=None, enable_categorical=False,\n",
      "              eval_metric=None, gamma=0, gpu_id=-1, grow_policy='depthwise',\n",
      "              importance_type=None, interaction_constraints='',\n",
      "              learning_rate=0.300000012, max_bin=256, max_cat_to_onehot=4,\n",
      "              max_delta_step=0, max_depth=6, max_leaves=0, min_child_weight=1,\n",
      "              missing=nan, monotone_constraints='()', n_estimators=100,\n",
      "              n_jobs=0, num_parallel_tree=1, predictor='auto', random_state=0,\n",
      "              reg_alpha=0, reg_lambda=1, ...) Random State- 0 Accuracy Score-Test 0.87 Accuracy Score-Train 0.9 F1 score-train 0.9 F1 score -test 0.87\n",
      "Model XGBClassifier(base_score=0.5, booster='gbtree', callbacks=None,\n",
      "              colsample_bylevel=1, colsample_bynode=1, colsample_bytree=1,\n",
      "              early_stopping_rounds=None, enable_categorical=False,\n",
      "              eval_metric=None, gamma=0, gpu_id=-1, grow_policy='depthwise',\n",
      "              importance_type=None, interaction_constraints='',\n",
      "              learning_rate=0.300000012, max_bin=256, max_cat_to_onehot=4,\n",
      "              max_delta_step=0, max_depth=6, max_leaves=0, min_child_weight=1,\n",
      "              missing=nan, monotone_constraints='()', n_estimators=100,\n",
      "              n_jobs=0, num_parallel_tree=1, predictor='auto', random_state=0,\n",
      "              reg_alpha=0, reg_lambda=1, ...) Random State- 1 Accuracy Score-Test 0.87 Accuracy Score-Train 0.9 F1 score-train 0.9 F1 score -test 0.87\n",
      "Model XGBClassifier(base_score=0.5, booster='gbtree', callbacks=None,\n",
      "              colsample_bylevel=1, colsample_bynode=1, colsample_bytree=1,\n",
      "              early_stopping_rounds=None, enable_categorical=False,\n",
      "              eval_metric=None, gamma=0, gpu_id=-1, grow_policy='depthwise',\n",
      "              importance_type=None, interaction_constraints='',\n",
      "              learning_rate=0.300000012, max_bin=256, max_cat_to_onehot=4,\n",
      "              max_delta_step=0, max_depth=6, max_leaves=0, min_child_weight=1,\n",
      "              missing=nan, monotone_constraints='()', n_estimators=100,\n",
      "              n_jobs=0, num_parallel_tree=1, predictor='auto', random_state=0,\n",
      "              reg_alpha=0, reg_lambda=1, ...) Random State- 2 Accuracy Score-Test 0.87 Accuracy Score-Train 0.9 F1 score-train 0.9 F1 score -test 0.87\n",
      "Model XGBClassifier(base_score=0.5, booster='gbtree', callbacks=None,\n",
      "              colsample_bylevel=1, colsample_bynode=1, colsample_bytree=1,\n",
      "              early_stopping_rounds=None, enable_categorical=False,\n",
      "              eval_metric=None, gamma=0, gpu_id=-1, grow_policy='depthwise',\n",
      "              importance_type=None, interaction_constraints='',\n",
      "              learning_rate=0.300000012, max_bin=256, max_cat_to_onehot=4,\n",
      "              max_delta_step=0, max_depth=6, max_leaves=0, min_child_weight=1,\n",
      "              missing=nan, monotone_constraints='()', n_estimators=100,\n",
      "              n_jobs=0, num_parallel_tree=1, predictor='auto', random_state=0,\n",
      "              reg_alpha=0, reg_lambda=1, ...) Random State- 3 Accuracy Score-Test 0.87 Accuracy Score-Train 0.9 F1 score-train 0.9 F1 score -test 0.87\n"
     ]
    }
   ],
   "source": [
    "for i1 in lst:\n",
    "    for i2 in range(0,4):\n",
    "        x_train,x_test,y_train,y_test=train_test_split(Xt,Y,random_state=i2,test_size=0.25)\n",
    "        i1.fit(x_train,y_train)\n",
    "        pred_test=i1.predict(x_test)\n",
    "        pred_train=i1.predict(x_train)\n",
    "        print(\"Model\",i1,\"Random State-\",i2,\"Accuracy Score-Test\",round(accuracy_score(y_test,pred_test),2),\"Accuracy Score-Train\",round(accuracy_score(y_train,pred_train),2),\"F1 score-train\",round(f1_score(y_train,pred_train,average='weighted'),2),\"F1 score -test\",round(f1_score(y_test,pred_test,average='weighted'),2))"
   ]
  },
  {
   "cell_type": "code",
   "execution_count": 111,
   "id": "0e70ed0c",
   "metadata": {},
   "outputs": [],
   "source": [
    "x_train,x_test,y_train,y_test=train_test_split(Xt,Y,random_state=3,test_size=0.25)"
   ]
  },
  {
   "cell_type": "markdown",
   "id": "1fa37ae9",
   "metadata": {},
   "source": [
    "# Logistic Regression"
   ]
  },
  {
   "cell_type": "code",
   "execution_count": 112,
   "id": "40e16534",
   "metadata": {},
   "outputs": [],
   "source": [
    "m1=lr.fit(x_train,y_train)\n",
    "pred_train=m1.predict(x_train)\n",
    "pred_test=m1.predict(x_test)"
   ]
  },
  {
   "cell_type": "code",
   "execution_count": 113,
   "id": "0eaaa925",
   "metadata": {},
   "outputs": [
    {
     "name": "stdout",
     "output_type": "stream",
     "text": [
      "78.0\n"
     ]
    }
   ],
   "source": [
    "print(round(accuracy_score(y_train,pred_train),2)*100)"
   ]
  },
  {
   "cell_type": "code",
   "execution_count": 114,
   "id": "fe644f80",
   "metadata": {},
   "outputs": [
    {
     "name": "stdout",
     "output_type": "stream",
     "text": [
      "78.0\n"
     ]
    }
   ],
   "source": [
    "print(round(accuracy_score(y_test,pred_test),2)*100)"
   ]
  },
  {
   "cell_type": "code",
   "execution_count": 115,
   "id": "e9d64e65",
   "metadata": {},
   "outputs": [
    {
     "name": "stdout",
     "output_type": "stream",
     "text": [
      "78.0\n"
     ]
    }
   ],
   "source": [
    "print(round(f1_score(y_train,pred_train,average='weighted'),2)*100)"
   ]
  },
  {
   "cell_type": "code",
   "execution_count": 116,
   "id": "4217c52f",
   "metadata": {},
   "outputs": [
    {
     "name": "stdout",
     "output_type": "stream",
     "text": [
      "78.0\n"
     ]
    }
   ],
   "source": [
    "print(round(f1_score(y_test,pred_test,average='weighted'),2)*100)"
   ]
  },
  {
   "cell_type": "code",
   "execution_count": 117,
   "id": "e8faca93",
   "metadata": {},
   "outputs": [
    {
     "name": "stdout",
     "output_type": "stream",
     "text": [
      "              precision    recall  f1-score   support\n",
      "\n",
      "           0       0.79      0.77      0.78      5338\n",
      "           1       0.77      0.80      0.78      5302\n",
      "\n",
      "    accuracy                           0.78     10640\n",
      "   macro avg       0.78      0.78      0.78     10640\n",
      "weighted avg       0.78      0.78      0.78     10640\n",
      "\n"
     ]
    }
   ],
   "source": [
    "print(classification_report(y_test,pred_test))"
   ]
  },
  {
   "cell_type": "code",
   "execution_count": 118,
   "id": "345e35b4",
   "metadata": {},
   "outputs": [],
   "source": [
    "from sklearn.model_selection import KFold\n",
    "from sklearn.model_selection import cross_val_score"
   ]
  },
  {
   "cell_type": "code",
   "execution_count": 119,
   "id": "4bbf639f",
   "metadata": {},
   "outputs": [],
   "source": [
    "cv=KFold(n_splits=10, random_state=1, shuffle=True)"
   ]
  },
  {
   "cell_type": "code",
   "execution_count": 120,
   "id": "1a943d13",
   "metadata": {},
   "outputs": [],
   "source": [
    "cv1=cross_val_score(m1,Xt,Y, scoring='accuracy', cv=cv)"
   ]
  },
  {
   "cell_type": "code",
   "execution_count": 121,
   "id": "dd6c87bf",
   "metadata": {},
   "outputs": [
    {
     "name": "stdout",
     "output_type": "stream",
     "text": [
      "78.0\n"
     ]
    }
   ],
   "source": [
    "print(round(cv1.mean(),2)*100)"
   ]
  },
  {
   "cell_type": "markdown",
   "id": "f804837e",
   "metadata": {},
   "source": [
    "# Random Forest Classifier"
   ]
  },
  {
   "cell_type": "code",
   "execution_count": 408,
   "id": "16beab4d",
   "metadata": {},
   "outputs": [],
   "source": [
    "m2=rf.fit(x_train,y_train)\n",
    "pred_train=m2.predict(x_train)\n",
    "pred_test=m2.predict(x_test)"
   ]
  },
  {
   "cell_type": "code",
   "execution_count": 409,
   "id": "6e960240",
   "metadata": {},
   "outputs": [
    {
     "name": "stdout",
     "output_type": "stream",
     "text": [
      "100.0\n"
     ]
    }
   ],
   "source": [
    "print(round(accuracy_score(y_train,pred_train),2)*100)"
   ]
  },
  {
   "cell_type": "code",
   "execution_count": 410,
   "id": "ad21787c",
   "metadata": {},
   "outputs": [
    {
     "name": "stdout",
     "output_type": "stream",
     "text": [
      "93.0\n"
     ]
    }
   ],
   "source": [
    "print(round(accuracy_score(y_test,pred_test),2)*100)"
   ]
  },
  {
   "cell_type": "code",
   "execution_count": 125,
   "id": "4f689a87",
   "metadata": {},
   "outputs": [
    {
     "name": "stdout",
     "output_type": "stream",
     "text": [
      "100.0\n"
     ]
    }
   ],
   "source": [
    "print(round(f1_score(y_train,pred_train),2)*100)"
   ]
  },
  {
   "cell_type": "code",
   "execution_count": 126,
   "id": "87834678",
   "metadata": {},
   "outputs": [
    {
     "name": "stdout",
     "output_type": "stream",
     "text": [
      "93.0\n"
     ]
    }
   ],
   "source": [
    "print(round(f1_score(y_test,pred_test,average='weighted'),2)*100)"
   ]
  },
  {
   "cell_type": "code",
   "execution_count": 127,
   "id": "b058ad68",
   "metadata": {},
   "outputs": [
    {
     "name": "stdout",
     "output_type": "stream",
     "text": [
      "              precision    recall  f1-score   support\n",
      "\n",
      "           0       0.98      0.88      0.93      5338\n",
      "           1       0.89      0.98      0.93      5302\n",
      "\n",
      "    accuracy                           0.93     10640\n",
      "   macro avg       0.93      0.93      0.93     10640\n",
      "weighted avg       0.93      0.93      0.93     10640\n",
      "\n"
     ]
    }
   ],
   "source": [
    "print(classification_report(y_test,pred_test))"
   ]
  },
  {
   "cell_type": "code",
   "execution_count": 131,
   "id": "347b87ff",
   "metadata": {},
   "outputs": [],
   "source": [
    "cv=KFold(n_splits=10, random_state=1, shuffle=True)\n",
    "cv1=cross_val_score(m2,Xt,Y, scoring='accuracy', cv=cv)"
   ]
  },
  {
   "cell_type": "code",
   "execution_count": 132,
   "id": "e0017a97",
   "metadata": {},
   "outputs": [
    {
     "name": "stdout",
     "output_type": "stream",
     "text": [
      "94.0\n"
     ]
    }
   ],
   "source": [
    "print(round(cv1.mean(),2)*100)"
   ]
  },
  {
   "cell_type": "code",
   "execution_count": 411,
   "id": "4b456fc7",
   "metadata": {},
   "outputs": [
    {
     "name": "stdout",
     "output_type": "stream",
     "text": [
      "93.0\n"
     ]
    }
   ],
   "source": [
    "print(round(roc_auc_score(y_test,pred_test),2)*100)"
   ]
  },
  {
   "cell_type": "code",
   "execution_count": 412,
   "id": "4818f8bf",
   "metadata": {},
   "outputs": [
    {
     "name": "stdout",
     "output_type": "stream",
     "text": [
      "[[4691  647]\n",
      " [ 118 5184]]\n"
     ]
    }
   ],
   "source": [
    "print(confusion_matrix(y_test,pred_test))"
   ]
  },
  {
   "cell_type": "markdown",
   "id": "f8bcda5c",
   "metadata": {},
   "source": [
    "# KNeighbors Classifier"
   ]
  },
  {
   "cell_type": "code",
   "execution_count": 133,
   "id": "7ec49b62",
   "metadata": {},
   "outputs": [],
   "source": [
    "m3=kn.fit(x_train,y_train)\n",
    "pred_train=m3.predict(x_train)\n",
    "pred_test=m3.predict(x_test)"
   ]
  },
  {
   "cell_type": "code",
   "execution_count": 134,
   "id": "029f15ab",
   "metadata": {},
   "outputs": [
    {
     "name": "stdout",
     "output_type": "stream",
     "text": [
      "92.0\n"
     ]
    }
   ],
   "source": [
    "print(round(accuracy_score(y_train,pred_train),2)*100)"
   ]
  },
  {
   "cell_type": "code",
   "execution_count": 135,
   "id": "021970e9",
   "metadata": {},
   "outputs": [
    {
     "name": "stdout",
     "output_type": "stream",
     "text": [
      "86.0\n"
     ]
    }
   ],
   "source": [
    "print(round(accuracy_score(y_test,pred_test),2)*100)"
   ]
  },
  {
   "cell_type": "code",
   "execution_count": 136,
   "id": "f701a823",
   "metadata": {},
   "outputs": [
    {
     "name": "stdout",
     "output_type": "stream",
     "text": [
      "93.0\n"
     ]
    }
   ],
   "source": [
    "print(round(f1_score(y_train,pred_train),2)*100)"
   ]
  },
  {
   "cell_type": "code",
   "execution_count": 137,
   "id": "718fc82e",
   "metadata": {},
   "outputs": [
    {
     "name": "stdout",
     "output_type": "stream",
     "text": [
      "87.0\n"
     ]
    }
   ],
   "source": [
    "print(round(f1_score(y_test,pred_test),2)*100)"
   ]
  },
  {
   "cell_type": "code",
   "execution_count": 138,
   "id": "32220f67",
   "metadata": {},
   "outputs": [
    {
     "name": "stdout",
     "output_type": "stream",
     "text": [
      "              precision    recall  f1-score   support\n",
      "\n",
      "           0       0.93      0.79      0.85      5338\n",
      "           1       0.82      0.94      0.87      5302\n",
      "\n",
      "    accuracy                           0.86     10640\n",
      "   macro avg       0.87      0.86      0.86     10640\n",
      "weighted avg       0.87      0.86      0.86     10640\n",
      "\n"
     ]
    }
   ],
   "source": [
    "print(classification_report(y_test,pred_test))"
   ]
  },
  {
   "cell_type": "code",
   "execution_count": 139,
   "id": "ed024fa8",
   "metadata": {},
   "outputs": [],
   "source": [
    "cv=KFold(n_splits=10, random_state=1, shuffle=True)\n",
    "cv1=cross_val_score(m3,Xt,Y, scoring='accuracy', cv=cv)\n"
   ]
  },
  {
   "cell_type": "code",
   "execution_count": 140,
   "id": "97518526",
   "metadata": {},
   "outputs": [
    {
     "name": "stdout",
     "output_type": "stream",
     "text": [
      "87.0\n"
     ]
    }
   ],
   "source": [
    "print(round(cv1.mean(),2)*100)"
   ]
  },
  {
   "cell_type": "markdown",
   "id": "2154710e",
   "metadata": {},
   "source": [
    "# SVC"
   ]
  },
  {
   "cell_type": "code",
   "execution_count": 141,
   "id": "2b826383",
   "metadata": {},
   "outputs": [],
   "source": [
    "m4=sv.fit(x_train,y_train)\n",
    "pred_train=m4.predict(x_train)\n",
    "pred_test=m4.predict(x_test)"
   ]
  },
  {
   "cell_type": "code",
   "execution_count": 142,
   "id": "3a9efabb",
   "metadata": {},
   "outputs": [
    {
     "name": "stdout",
     "output_type": "stream",
     "text": [
      "82.0\n"
     ]
    }
   ],
   "source": [
    "print(round(accuracy_score(y_train,pred_train),2)*100)"
   ]
  },
  {
   "cell_type": "code",
   "execution_count": 143,
   "id": "110694a6",
   "metadata": {},
   "outputs": [
    {
     "name": "stdout",
     "output_type": "stream",
     "text": [
      "82.0\n"
     ]
    }
   ],
   "source": [
    "print(round(accuracy_score(y_test,pred_test),2)*100)"
   ]
  },
  {
   "cell_type": "code",
   "execution_count": 144,
   "id": "bca09a91",
   "metadata": {},
   "outputs": [
    {
     "name": "stdout",
     "output_type": "stream",
     "text": [
      "83.0\n"
     ]
    }
   ],
   "source": [
    "print(round(f1_score(y_train,pred_train),2)*100)"
   ]
  },
  {
   "cell_type": "code",
   "execution_count": 145,
   "id": "6d7ac859",
   "metadata": {},
   "outputs": [
    {
     "name": "stdout",
     "output_type": "stream",
     "text": [
      "83.0\n"
     ]
    }
   ],
   "source": [
    "print(round(f1_score(y_test,pred_test),2)*100)"
   ]
  },
  {
   "cell_type": "code",
   "execution_count": 146,
   "id": "5e9c7a65",
   "metadata": {},
   "outputs": [
    {
     "name": "stdout",
     "output_type": "stream",
     "text": [
      "              precision    recall  f1-score   support\n",
      "\n",
      "           0       0.87      0.76      0.81      5338\n",
      "           1       0.78      0.89      0.83      5302\n",
      "\n",
      "    accuracy                           0.82     10640\n",
      "   macro avg       0.83      0.82      0.82     10640\n",
      "weighted avg       0.83      0.82      0.82     10640\n",
      "\n"
     ]
    }
   ],
   "source": [
    "print(classification_report(y_test,pred_test))"
   ]
  },
  {
   "cell_type": "code",
   "execution_count": 148,
   "id": "1e04e7c1",
   "metadata": {},
   "outputs": [],
   "source": [
    "cv=KFold(n_splits=10, random_state=1, shuffle=True)\n",
    "cv1=cross_val_score(m4,Xt,Y, scoring='accuracy', cv=cv)"
   ]
  },
  {
   "cell_type": "code",
   "execution_count": 149,
   "id": "2c110003",
   "metadata": {},
   "outputs": [
    {
     "name": "stdout",
     "output_type": "stream",
     "text": [
      "82.0\n"
     ]
    }
   ],
   "source": [
    "print(round(cv1.mean(),2)*100)"
   ]
  },
  {
   "cell_type": "markdown",
   "id": "18da79c5",
   "metadata": {},
   "source": [
    "# Decision Tree Classifier"
   ]
  },
  {
   "cell_type": "code",
   "execution_count": 150,
   "id": "4e9971da",
   "metadata": {},
   "outputs": [],
   "source": [
    "m5=dt.fit(x_train,y_train)\n",
    "pred_train=m5.predict(x_train)\n",
    "pred_test=m5.predict(x_test)"
   ]
  },
  {
   "cell_type": "code",
   "execution_count": 151,
   "id": "26ead8a7",
   "metadata": {},
   "outputs": [
    {
     "name": "stdout",
     "output_type": "stream",
     "text": [
      "100.0\n"
     ]
    }
   ],
   "source": [
    "print(round(accuracy_score(y_train,pred_train),2)*100)"
   ]
  },
  {
   "cell_type": "code",
   "execution_count": 152,
   "id": "451b07ee",
   "metadata": {},
   "outputs": [
    {
     "name": "stdout",
     "output_type": "stream",
     "text": [
      "92.0\n"
     ]
    }
   ],
   "source": [
    "print(round(accuracy_score(y_test,pred_test),2)*100)"
   ]
  },
  {
   "cell_type": "code",
   "execution_count": 153,
   "id": "da6b42d5",
   "metadata": {},
   "outputs": [
    {
     "name": "stdout",
     "output_type": "stream",
     "text": [
      "100.0\n"
     ]
    }
   ],
   "source": [
    "print(round(f1_score(y_train,pred_train),2)*100)"
   ]
  },
  {
   "cell_type": "code",
   "execution_count": 154,
   "id": "07140788",
   "metadata": {},
   "outputs": [
    {
     "name": "stdout",
     "output_type": "stream",
     "text": [
      "92.0\n"
     ]
    }
   ],
   "source": [
    "print(round(f1_score(y_test,pred_test),2)*100)"
   ]
  },
  {
   "cell_type": "code",
   "execution_count": 155,
   "id": "6d160521",
   "metadata": {},
   "outputs": [
    {
     "name": "stdout",
     "output_type": "stream",
     "text": [
      "              precision    recall  f1-score   support\n",
      "\n",
      "           0       0.97      0.87      0.91      5338\n",
      "           1       0.88      0.97      0.92      5302\n",
      "\n",
      "    accuracy                           0.92     10640\n",
      "   macro avg       0.92      0.92      0.92     10640\n",
      "weighted avg       0.92      0.92      0.92     10640\n",
      "\n"
     ]
    }
   ],
   "source": [
    "print(classification_report(y_test,pred_test))"
   ]
  },
  {
   "cell_type": "code",
   "execution_count": 156,
   "id": "76a474df",
   "metadata": {},
   "outputs": [],
   "source": [
    "cv=KFold(n_splits=10, random_state=1, shuffle=True)\n",
    "cv1=cross_val_score(m5,Xt,Y, scoring='accuracy', cv=cv)"
   ]
  },
  {
   "cell_type": "code",
   "execution_count": 157,
   "id": "b800439c",
   "metadata": {},
   "outputs": [
    {
     "name": "stdout",
     "output_type": "stream",
     "text": [
      "93.0\n"
     ]
    }
   ],
   "source": [
    "print(round(cv1.mean(),2)*100)"
   ]
  },
  {
   "cell_type": "markdown",
   "id": "11551b24",
   "metadata": {},
   "source": [
    "# Gaussian NB"
   ]
  },
  {
   "cell_type": "code",
   "execution_count": 158,
   "id": "0781e7b8",
   "metadata": {},
   "outputs": [],
   "source": [
    "m6=gb.fit(x_train,y_train)\n",
    "pred_train=m6.predict(x_train)\n",
    "pred_test=m4.predict(x_test)"
   ]
  },
  {
   "cell_type": "code",
   "execution_count": 159,
   "id": "201519ce",
   "metadata": {},
   "outputs": [
    {
     "name": "stdout",
     "output_type": "stream",
     "text": [
      "78.0\n"
     ]
    }
   ],
   "source": [
    "print(round(accuracy_score(y_train,pred_train),2)*100)"
   ]
  },
  {
   "cell_type": "code",
   "execution_count": 160,
   "id": "33bd73a9",
   "metadata": {},
   "outputs": [
    {
     "name": "stdout",
     "output_type": "stream",
     "text": [
      "82.0\n"
     ]
    }
   ],
   "source": [
    "print(round(accuracy_score(y_test,pred_test),2)*100)"
   ]
  },
  {
   "cell_type": "code",
   "execution_count": 161,
   "id": "dacfeeca",
   "metadata": {},
   "outputs": [
    {
     "name": "stdout",
     "output_type": "stream",
     "text": [
      "78.0\n"
     ]
    }
   ],
   "source": [
    "print(round(f1_score(y_train,pred_train),2)*100)"
   ]
  },
  {
   "cell_type": "code",
   "execution_count": 162,
   "id": "d2ffd632",
   "metadata": {},
   "outputs": [
    {
     "name": "stdout",
     "output_type": "stream",
     "text": [
      "83.0\n"
     ]
    }
   ],
   "source": [
    "print(round(f1_score(y_test,pred_test),2)*100)"
   ]
  },
  {
   "cell_type": "code",
   "execution_count": 163,
   "id": "eff95ffc",
   "metadata": {},
   "outputs": [
    {
     "name": "stdout",
     "output_type": "stream",
     "text": [
      "              precision    recall  f1-score   support\n",
      "\n",
      "           0       0.87      0.76      0.81      5338\n",
      "           1       0.78      0.89      0.83      5302\n",
      "\n",
      "    accuracy                           0.82     10640\n",
      "   macro avg       0.83      0.82      0.82     10640\n",
      "weighted avg       0.83      0.82      0.82     10640\n",
      "\n"
     ]
    }
   ],
   "source": [
    "print(classification_report(y_test,pred_test))"
   ]
  },
  {
   "cell_type": "code",
   "execution_count": 164,
   "id": "4c83e77a",
   "metadata": {},
   "outputs": [],
   "source": [
    "cv=KFold(n_splits=10, random_state=1, shuffle=True)\n",
    "cv1=cross_val_score(m6,Xt,Y, scoring='accuracy', cv=cv)"
   ]
  },
  {
   "cell_type": "code",
   "execution_count": 165,
   "id": "514b0795",
   "metadata": {},
   "outputs": [
    {
     "name": "stdout",
     "output_type": "stream",
     "text": [
      "78.0\n"
     ]
    }
   ],
   "source": [
    "print(round(cv1.mean(),2)*100)"
   ]
  },
  {
   "cell_type": "markdown",
   "id": "af27b21d",
   "metadata": {},
   "source": [
    "# XGB Classifier"
   ]
  },
  {
   "cell_type": "code",
   "execution_count": 166,
   "id": "c6c1efbc",
   "metadata": {},
   "outputs": [],
   "source": [
    "m7=xgb.fit(x_train,y_train)\n",
    "pred_train=m7.predict(x_train)\n",
    "pred_test=m7.predict(x_test)"
   ]
  },
  {
   "cell_type": "code",
   "execution_count": 167,
   "id": "f589bbcb",
   "metadata": {},
   "outputs": [
    {
     "name": "stdout",
     "output_type": "stream",
     "text": [
      "90.0\n"
     ]
    }
   ],
   "source": [
    "print(round(accuracy_score(y_train,pred_train),2)*100)"
   ]
  },
  {
   "cell_type": "code",
   "execution_count": 168,
   "id": "4a1dfdb0",
   "metadata": {},
   "outputs": [
    {
     "name": "stdout",
     "output_type": "stream",
     "text": [
      "87.0\n"
     ]
    }
   ],
   "source": [
    "print(round(accuracy_score(y_test,pred_test),2)*100)"
   ]
  },
  {
   "cell_type": "code",
   "execution_count": 169,
   "id": "646cc596",
   "metadata": {},
   "outputs": [
    {
     "name": "stdout",
     "output_type": "stream",
     "text": [
      "90.0\n"
     ]
    }
   ],
   "source": [
    "print(round(f1_score(y_train,pred_train),2)*100)"
   ]
  },
  {
   "cell_type": "code",
   "execution_count": 170,
   "id": "b0b3e59e",
   "metadata": {},
   "outputs": [
    {
     "name": "stdout",
     "output_type": "stream",
     "text": [
      "88.0\n"
     ]
    }
   ],
   "source": [
    "print(round(f1_score(y_test,pred_test),2)*100)"
   ]
  },
  {
   "cell_type": "code",
   "execution_count": 171,
   "id": "33426c60",
   "metadata": {},
   "outputs": [
    {
     "name": "stdout",
     "output_type": "stream",
     "text": [
      "              precision    recall  f1-score   support\n",
      "\n",
      "           0       0.91      0.83      0.87      5338\n",
      "           1       0.85      0.92      0.88      5302\n",
      "\n",
      "    accuracy                           0.87     10640\n",
      "   macro avg       0.88      0.88      0.87     10640\n",
      "weighted avg       0.88      0.87      0.87     10640\n",
      "\n"
     ]
    }
   ],
   "source": [
    "print(classification_report(y_test,pred_test))"
   ]
  },
  {
   "cell_type": "code",
   "execution_count": 172,
   "id": "8a58b1d2",
   "metadata": {},
   "outputs": [],
   "source": [
    "cv=KFold(n_splits=10, random_state=1, shuffle=True)\n",
    "cv1=cross_val_score(m7,Xt,Y, scoring='accuracy', cv=cv)"
   ]
  },
  {
   "cell_type": "code",
   "execution_count": 173,
   "id": "cd86aabd",
   "metadata": {},
   "outputs": [
    {
     "name": "stdout",
     "output_type": "stream",
     "text": [
      "87.0\n"
     ]
    }
   ],
   "source": [
    "print(round(cv1.mean(),2)*100)"
   ]
  },
  {
   "cell_type": "markdown",
   "id": "fa991546",
   "metadata": {},
   "source": [
    "#### From the above results, Random Forest Classifier model with random state-3 and test_size=0.25 is an effective model which has a Accuracy Score for training data-1 and Accuracy Score for testing data-0.93 and F1 score-0.93"
   ]
  },
  {
   "cell_type": "markdown",
   "id": "120a1bab",
   "metadata": {},
   "source": [
    "# Hyperparameter Tuning"
   ]
  },
  {
   "cell_type": "code",
   "execution_count": 314,
   "id": "73a025b9",
   "metadata": {},
   "outputs": [],
   "source": [
    "rf=RandomForestClassifier(n_estimators=50)"
   ]
  },
  {
   "cell_type": "code",
   "execution_count": 315,
   "id": "e5bf0e29",
   "metadata": {},
   "outputs": [
    {
     "data": {
      "text/plain": [
       "{'bootstrap': True,\n",
       " 'ccp_alpha': 0.0,\n",
       " 'class_weight': None,\n",
       " 'criterion': 'gini',\n",
       " 'max_depth': None,\n",
       " 'max_features': 'auto',\n",
       " 'max_leaf_nodes': None,\n",
       " 'max_samples': None,\n",
       " 'min_impurity_decrease': 0.0,\n",
       " 'min_samples_leaf': 1,\n",
       " 'min_samples_split': 2,\n",
       " 'min_weight_fraction_leaf': 0.0,\n",
       " 'n_estimators': 50,\n",
       " 'n_jobs': None,\n",
       " 'oob_score': False,\n",
       " 'random_state': None,\n",
       " 'verbose': 0,\n",
       " 'warm_start': False}"
      ]
     },
     "execution_count": 315,
     "metadata": {},
     "output_type": "execute_result"
    }
   ],
   "source": [
    "rf.get_params()"
   ]
  },
  {
   "cell_type": "code",
   "execution_count": 316,
   "id": "3f3f7b83",
   "metadata": {},
   "outputs": [],
   "source": [
    "from sklearn.model_selection import RandomizedSearchCV"
   ]
  },
  {
   "cell_type": "code",
   "execution_count": 413,
   "id": "3dafd281",
   "metadata": {},
   "outputs": [],
   "source": [
    "param_dist={\"max_depth\": [30,40,50,60,70,80],\n",
    "            \"criterion\": [\"gini\", \"entropy\",\"log_loss\"],\n",
    "            'ccp_alpha': [0.0,0.1,0.2],\n",
    "            \"n_jobs\":[1,2],\n",
    "             \"max_leaf_nodes\":[1,2,None]}"
   ]
  },
  {
   "cell_type": "code",
   "execution_count": 414,
   "id": "5e3f73ff",
   "metadata": {},
   "outputs": [],
   "source": [
    "samples=7 # number of random samples \n",
    "randomCV=RandomizedSearchCV(rf, param_distributions=param_dist, n_iter=samples,cv=3)"
   ]
  },
  {
   "cell_type": "code",
   "execution_count": 364,
   "id": "598fafb8",
   "metadata": {},
   "outputs": [],
   "source": [
    "final=randomCV.fit(x_train,y_train)"
   ]
  },
  {
   "cell_type": "code",
   "execution_count": 365,
   "id": "b223dbbd",
   "metadata": {
    "scrolled": true
   },
   "outputs": [
    {
     "name": "stdout",
     "output_type": "stream",
     "text": [
      "{'n_jobs': 1, 'max_leaf_nodes': None, 'max_depth': 70, 'criterion': 'entropy', 'ccp_alpha': 0.0}\n"
     ]
    }
   ],
   "source": [
    "print(final.best_params_)"
   ]
  },
  {
   "cell_type": "code",
   "execution_count": 393,
   "id": "b8e080ee",
   "metadata": {},
   "outputs": [],
   "source": [
    "pred1=final.predict(x_test)\n"
   ]
  },
  {
   "cell_type": "code",
   "execution_count": 367,
   "id": "3f1911bb",
   "metadata": {},
   "outputs": [],
   "source": [
    "pred2=final.predict(x_train)"
   ]
  },
  {
   "cell_type": "code",
   "execution_count": 368,
   "id": "4fd3ac9a",
   "metadata": {},
   "outputs": [
    {
     "name": "stdout",
     "output_type": "stream",
     "text": [
      "0.93\n"
     ]
    }
   ],
   "source": [
    "print(round(accuracy_score(y_test,pred1),2))"
   ]
  },
  {
   "cell_type": "code",
   "execution_count": 369,
   "id": "163f3e14",
   "metadata": {},
   "outputs": [
    {
     "name": "stdout",
     "output_type": "stream",
     "text": [
      "1.0\n"
     ]
    }
   ],
   "source": [
    "print(round(accuracy_score(y_train,pred2),2))"
   ]
  },
  {
   "cell_type": "code",
   "execution_count": 370,
   "id": "eb5049af",
   "metadata": {},
   "outputs": [
    {
     "name": "stdout",
     "output_type": "stream",
     "text": [
      "1.0\n"
     ]
    }
   ],
   "source": [
    "print(round(f1_score(y_train,pred2),2))"
   ]
  },
  {
   "cell_type": "code",
   "execution_count": 371,
   "id": "499901a9",
   "metadata": {},
   "outputs": [
    {
     "name": "stdout",
     "output_type": "stream",
     "text": [
      "0.93\n"
     ]
    }
   ],
   "source": [
    "print(round(f1_score(y_test,pred1),2))"
   ]
  },
  {
   "cell_type": "code",
   "execution_count": 372,
   "id": "cb64cc57",
   "metadata": {},
   "outputs": [
    {
     "name": "stdout",
     "output_type": "stream",
     "text": [
      "              precision    recall  f1-score   support\n",
      "\n",
      "           0       0.98      0.88      0.93      5338\n",
      "           1       0.89      0.98      0.93      5302\n",
      "\n",
      "    accuracy                           0.93     10640\n",
      "   macro avg       0.93      0.93      0.93     10640\n",
      "weighted avg       0.93      0.93      0.93     10640\n",
      "\n"
     ]
    }
   ],
   "source": [
    "print(classification_report(y_test,pred1))"
   ]
  },
  {
   "cell_type": "code",
   "execution_count": 385,
   "id": "79e46927",
   "metadata": {},
   "outputs": [
    {
     "name": "stdout",
     "output_type": "stream",
     "text": [
      "[[4699  639]\n",
      " [ 117 5185]]\n"
     ]
    }
   ],
   "source": [
    "print(confusion_matrix(y_test,pred1))"
   ]
  },
  {
   "cell_type": "code",
   "execution_count": 386,
   "id": "3ae84d13",
   "metadata": {},
   "outputs": [
    {
     "name": "stdout",
     "output_type": "stream",
     "text": [
      "93.0\n"
     ]
    }
   ],
   "source": [
    "print(round(roc_auc_score(y_test,pred1),2)*100)"
   ]
  },
  {
   "cell_type": "code",
   "execution_count": 387,
   "id": "ccc79abe",
   "metadata": {
    "scrolled": true
   },
   "outputs": [
    {
     "data": {
      "image/png": "[encoded data removed]",
      "text/plain": [
       "<Figure size 432x288 with 1 Axes>"
      ]
     },
     "metadata": {
      "needs_background": "light"
     },
     "output_type": "display_data"
    }
   ],
   "source": [
    "from sklearn import metrics\n",
    "metrics.plot_roc_curve(final,x_test,y_test)\n",
    "plt.show()"
   ]
  },
  {
   "cell_type": "markdown",
   "id": "fe65e791",
   "metadata": {},
   "source": [
    "# Saving the Model"
   ]
  },
  {
   "cell_type": "code",
   "execution_count": 388,
   "id": "0ac48e97",
   "metadata": {},
   "outputs": [],
   "source": [
    "import pickle\n",
    "pickle.dump(final, open('Census_classification', 'wb'))"
   ]
  },
  {
   "cell_type": "code",
   "execution_count": 407,
   "id": "c187180a",
   "metadata": {},
   "outputs": [],
   "source": [
    "pickled_model=pickle.load(open('Census_classification', 'rb'))\n",
    "a=pickled_model.predict(x_test)"
   ]
  },
  {
   "cell_type": "markdown",
   "id": "6fc2f8a8",
   "metadata": {},
   "source": [
    "# Results"
   ]
  },
  {
   "cell_type": "markdown",
   "id": "a8807d09",
   "metadata": {},
   "source": [
    "From the above results, the Random Forest Model before hyperparameter tuning  had a confusion matrix of\n",
    "[[4691  647]\n",
    " [ 118 5184]]\n",
    "\n",
    "After hyperparameter tuning, the confusion matrix is \n",
    "\n",
    "[[4699  639]\n",
    " [ 117 5185]]\n",
    " \n",
    "We can conclude that after hyperparamter tuning, the False positive has reduced from 647 to 639 and False negative has reduced from 118 to 117 and having an accuracy score of 93% on test data and 100% on training data, which implies the difference between the 2 are not much compared to other models. F1 score and ROC_AUC score both are 93%."
   ]
  }
 ],
 "metadata": {
  "kernelspec": {
   "display_name": "Python 3 (ipykernel)",
   "language": "python",
   "name": "python3"
  },
  "language_info": {
   "codemirror_mode": {
    "name": "ipython",
    "version": 3
   },
   "file_extension": ".py",
   "mimetype": "text/x-python",
   "name": "python",
   "nbconvert_exporter": "python",
   "pygments_lexer": "ipython3",
   "version": "3.9.12"
  }
 },
 "nbformat": 4,
 "nbformat_minor": 5
}
