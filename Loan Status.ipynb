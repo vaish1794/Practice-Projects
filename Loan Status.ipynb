{
 "cells": [
  {
   "cell_type": "code",
   "execution_count": 3,
   "id": "dd35c725",
   "metadata": {},
   "outputs": [],
   "source": [
    "#Importing the required libraries\n",
    "\n",
    "import pandas as pd\n",
    "import numpy as np\n",
    "import seaborn as sns\n",
    "import matplotlib.pyplot as plt\n",
    "%matplotlib inline\n",
    "import warnings\n",
    "warnings.filterwarnings('ignore')"
   ]
  },
  {
   "cell_type": "code",
   "execution_count": 4,
   "id": "b57a34bb",
   "metadata": {},
   "outputs": [],
   "source": [
    "#Loading the data\n",
    "df=pd.read_csv(\"https://raw.githubusercontent.com/dsrscientist/DSData/master/loan_prediction.csv\")"
   ]
  },
  {
   "cell_type": "code",
   "execution_count": 5,
   "id": "ba0ce3f2",
   "metadata": {},
   "outputs": [
    {
     "data": {
      "text/html": [
       "<div>\n",
       "<style scoped>\n",
       "    .dataframe tbody tr th:only-of-type {\n",
       "        vertical-align: middle;\n",
       "    }\n",
       "\n",
       "    .dataframe tbody tr th {\n",
       "        vertical-align: top;\n",
       "    }\n",
       "\n",
       "    .dataframe thead th {\n",
       "        text-align: right;\n",
       "    }\n",
       "</style>\n",
       "<table border=\"1\" class=\"dataframe\">\n",
       "  <thead>\n",
       "    <tr style=\"text-align: right;\">\n",
       "      <th></th>\n",
       "      <th>Loan_ID</th>\n",
       "      <th>Gender</th>\n",
       "      <th>Married</th>\n",
       "      <th>Dependents</th>\n",
       "      <th>Education</th>\n",
       "      <th>Self_Employed</th>\n",
       "      <th>ApplicantIncome</th>\n",
       "      <th>CoapplicantIncome</th>\n",
       "      <th>LoanAmount</th>\n",
       "      <th>Loan_Amount_Term</th>\n",
       "      <th>Credit_History</th>\n",
       "      <th>Property_Area</th>\n",
       "      <th>Loan_Status</th>\n",
       "    </tr>\n",
       "  </thead>\n",
       "  <tbody>\n",
       "    <tr>\n",
       "      <th>0</th>\n",
       "      <td>LP001002</td>\n",
       "      <td>Male</td>\n",
       "      <td>No</td>\n",
       "      <td>0</td>\n",
       "      <td>Graduate</td>\n",
       "      <td>No</td>\n",
       "      <td>5849</td>\n",
       "      <td>0.0</td>\n",
       "      <td>NaN</td>\n",
       "      <td>360.0</td>\n",
       "      <td>1.0</td>\n",
       "      <td>Urban</td>\n",
       "      <td>Y</td>\n",
       "    </tr>\n",
       "    <tr>\n",
       "      <th>1</th>\n",
       "      <td>LP001003</td>\n",
       "      <td>Male</td>\n",
       "      <td>Yes</td>\n",
       "      <td>1</td>\n",
       "      <td>Graduate</td>\n",
       "      <td>No</td>\n",
       "      <td>4583</td>\n",
       "      <td>1508.0</td>\n",
       "      <td>128.0</td>\n",
       "      <td>360.0</td>\n",
       "      <td>1.0</td>\n",
       "      <td>Rural</td>\n",
       "      <td>N</td>\n",
       "    </tr>\n",
       "    <tr>\n",
       "      <th>2</th>\n",
       "      <td>LP001005</td>\n",
       "      <td>Male</td>\n",
       "      <td>Yes</td>\n",
       "      <td>0</td>\n",
       "      <td>Graduate</td>\n",
       "      <td>Yes</td>\n",
       "      <td>3000</td>\n",
       "      <td>0.0</td>\n",
       "      <td>66.0</td>\n",
       "      <td>360.0</td>\n",
       "      <td>1.0</td>\n",
       "      <td>Urban</td>\n",
       "      <td>Y</td>\n",
       "    </tr>\n",
       "    <tr>\n",
       "      <th>3</th>\n",
       "      <td>LP001006</td>\n",
       "      <td>Male</td>\n",
       "      <td>Yes</td>\n",
       "      <td>0</td>\n",
       "      <td>Not Graduate</td>\n",
       "      <td>No</td>\n",
       "      <td>2583</td>\n",
       "      <td>2358.0</td>\n",
       "      <td>120.0</td>\n",
       "      <td>360.0</td>\n",
       "      <td>1.0</td>\n",
       "      <td>Urban</td>\n",
       "      <td>Y</td>\n",
       "    </tr>\n",
       "    <tr>\n",
       "      <th>4</th>\n",
       "      <td>LP001008</td>\n",
       "      <td>Male</td>\n",
       "      <td>No</td>\n",
       "      <td>0</td>\n",
       "      <td>Graduate</td>\n",
       "      <td>No</td>\n",
       "      <td>6000</td>\n",
       "      <td>0.0</td>\n",
       "      <td>141.0</td>\n",
       "      <td>360.0</td>\n",
       "      <td>1.0</td>\n",
       "      <td>Urban</td>\n",
       "      <td>Y</td>\n",
       "    </tr>\n",
       "    <tr>\n",
       "      <th>...</th>\n",
       "      <td>...</td>\n",
       "      <td>...</td>\n",
       "      <td>...</td>\n",
       "      <td>...</td>\n",
       "      <td>...</td>\n",
       "      <td>...</td>\n",
       "      <td>...</td>\n",
       "      <td>...</td>\n",
       "      <td>...</td>\n",
       "      <td>...</td>\n",
       "      <td>...</td>\n",
       "      <td>...</td>\n",
       "      <td>...</td>\n",
       "    </tr>\n",
       "    <tr>\n",
       "      <th>609</th>\n",
       "      <td>LP002978</td>\n",
       "      <td>Female</td>\n",
       "      <td>No</td>\n",
       "      <td>0</td>\n",
       "      <td>Graduate</td>\n",
       "      <td>No</td>\n",
       "      <td>2900</td>\n",
       "      <td>0.0</td>\n",
       "      <td>71.0</td>\n",
       "      <td>360.0</td>\n",
       "      <td>1.0</td>\n",
       "      <td>Rural</td>\n",
       "      <td>Y</td>\n",
       "    </tr>\n",
       "    <tr>\n",
       "      <th>610</th>\n",
       "      <td>LP002979</td>\n",
       "      <td>Male</td>\n",
       "      <td>Yes</td>\n",
       "      <td>3+</td>\n",
       "      <td>Graduate</td>\n",
       "      <td>No</td>\n",
       "      <td>4106</td>\n",
       "      <td>0.0</td>\n",
       "      <td>40.0</td>\n",
       "      <td>180.0</td>\n",
       "      <td>1.0</td>\n",
       "      <td>Rural</td>\n",
       "      <td>Y</td>\n",
       "    </tr>\n",
       "    <tr>\n",
       "      <th>611</th>\n",
       "      <td>LP002983</td>\n",
       "      <td>Male</td>\n",
       "      <td>Yes</td>\n",
       "      <td>1</td>\n",
       "      <td>Graduate</td>\n",
       "      <td>No</td>\n",
       "      <td>8072</td>\n",
       "      <td>240.0</td>\n",
       "      <td>253.0</td>\n",
       "      <td>360.0</td>\n",
       "      <td>1.0</td>\n",
       "      <td>Urban</td>\n",
       "      <td>Y</td>\n",
       "    </tr>\n",
       "    <tr>\n",
       "      <th>612</th>\n",
       "      <td>LP002984</td>\n",
       "      <td>Male</td>\n",
       "      <td>Yes</td>\n",
       "      <td>2</td>\n",
       "      <td>Graduate</td>\n",
       "      <td>No</td>\n",
       "      <td>7583</td>\n",
       "      <td>0.0</td>\n",
       "      <td>187.0</td>\n",
       "      <td>360.0</td>\n",
       "      <td>1.0</td>\n",
       "      <td>Urban</td>\n",
       "      <td>Y</td>\n",
       "    </tr>\n",
       "    <tr>\n",
       "      <th>613</th>\n",
       "      <td>LP002990</td>\n",
       "      <td>Female</td>\n",
       "      <td>No</td>\n",
       "      <td>0</td>\n",
       "      <td>Graduate</td>\n",
       "      <td>Yes</td>\n",
       "      <td>4583</td>\n",
       "      <td>0.0</td>\n",
       "      <td>133.0</td>\n",
       "      <td>360.0</td>\n",
       "      <td>0.0</td>\n",
       "      <td>Semiurban</td>\n",
       "      <td>N</td>\n",
       "    </tr>\n",
       "  </tbody>\n",
       "</table>\n",
       "<p>614 rows × 13 columns</p>\n",
       "</div>"
      ],
      "text/plain": [
       "      Loan_ID  Gender Married Dependents     Education Self_Employed  \\\n",
       "0    LP001002    Male      No          0      Graduate            No   \n",
       "1    LP001003    Male     Yes          1      Graduate            No   \n",
       "2    LP001005    Male     Yes          0      Graduate           Yes   \n",
       "3    LP001006    Male     Yes          0  Not Graduate            No   \n",
       "4    LP001008    Male      No          0      Graduate            No   \n",
       "..        ...     ...     ...        ...           ...           ...   \n",
       "609  LP002978  Female      No          0      Graduate            No   \n",
       "610  LP002979    Male     Yes         3+      Graduate            No   \n",
       "611  LP002983    Male     Yes          1      Graduate            No   \n",
       "612  LP002984    Male     Yes          2      Graduate            No   \n",
       "613  LP002990  Female      No          0      Graduate           Yes   \n",
       "\n",
       "     ApplicantIncome  CoapplicantIncome  LoanAmount  Loan_Amount_Term  \\\n",
       "0               5849                0.0         NaN             360.0   \n",
       "1               4583             1508.0       128.0             360.0   \n",
       "2               3000                0.0        66.0             360.0   \n",
       "3               2583             2358.0       120.0             360.0   \n",
       "4               6000                0.0       141.0             360.0   \n",
       "..               ...                ...         ...               ...   \n",
       "609             2900                0.0        71.0             360.0   \n",
       "610             4106                0.0        40.0             180.0   \n",
       "611             8072              240.0       253.0             360.0   \n",
       "612             7583                0.0       187.0             360.0   \n",
       "613             4583                0.0       133.0             360.0   \n",
       "\n",
       "     Credit_History Property_Area Loan_Status  \n",
       "0               1.0         Urban           Y  \n",
       "1               1.0         Rural           N  \n",
       "2               1.0         Urban           Y  \n",
       "3               1.0         Urban           Y  \n",
       "4               1.0         Urban           Y  \n",
       "..              ...           ...         ...  \n",
       "609             1.0         Rural           Y  \n",
       "610             1.0         Rural           Y  \n",
       "611             1.0         Urban           Y  \n",
       "612             1.0         Urban           Y  \n",
       "613             0.0     Semiurban           N  \n",
       "\n",
       "[614 rows x 13 columns]"
      ]
     },
     "execution_count": 5,
     "metadata": {},
     "output_type": "execute_result"
    }
   ],
   "source": [
    "df"
   ]
  },
  {
   "cell_type": "code",
   "execution_count": 4,
   "id": "4560c5de",
   "metadata": {},
   "outputs": [
    {
     "name": "stdout",
     "output_type": "stream",
     "text": [
      "<class 'pandas.core.frame.DataFrame'>\n",
      "RangeIndex: 614 entries, 0 to 613\n",
      "Data columns (total 13 columns):\n",
      " #   Column             Non-Null Count  Dtype  \n",
      "---  ------             --------------  -----  \n",
      " 0   Loan_ID            614 non-null    object \n",
      " 1   Gender             601 non-null    object \n",
      " 2   Married            611 non-null    object \n",
      " 3   Dependents         599 non-null    object \n",
      " 4   Education          614 non-null    object \n",
      " 5   Self_Employed      582 non-null    object \n",
      " 6   ApplicantIncome    614 non-null    int64  \n",
      " 7   CoapplicantIncome  614 non-null    float64\n",
      " 8   LoanAmount         592 non-null    float64\n",
      " 9   Loan_Amount_Term   600 non-null    float64\n",
      " 10  Credit_History     564 non-null    float64\n",
      " 11  Property_Area      614 non-null    object \n",
      " 12  Loan_Status        614 non-null    object \n",
      "dtypes: float64(4), int64(1), object(8)\n",
      "memory usage: 62.5+ KB\n"
     ]
    }
   ],
   "source": [
    "df.info()\n",
    "#The continuous features are- ApplicantIncome,CoapplicantIncome,LoanAmount,LoanAmount_Term,Credit_History\n",
    "#Categorical features are- Loan_ID,Gender,Married,Dependents,Education,Self_Employed,Property_Area,Loan_Status"
   ]
  },
  {
   "cell_type": "code",
   "execution_count": 5,
   "id": "d9853428",
   "metadata": {},
   "outputs": [
    {
     "data": {
      "text/plain": [
       "Loan_ID               0\n",
       "Gender               13\n",
       "Married               3\n",
       "Dependents           15\n",
       "Education             0\n",
       "Self_Employed        32\n",
       "ApplicantIncome       0\n",
       "CoapplicantIncome     0\n",
       "LoanAmount           22\n",
       "Loan_Amount_Term     14\n",
       "Credit_History       50\n",
       "Property_Area         0\n",
       "Loan_Status           0\n",
       "dtype: int64"
      ]
     },
     "execution_count": 5,
     "metadata": {},
     "output_type": "execute_result"
    }
   ],
   "source": [
    "df.isnull().sum()\n",
    "#From the below result, we can notice that the columns- Gender,Married,Dependents, Self_Employed, LoanAmount, Loan_Amount_Term,Credit_History have missing values\n"
   ]
  },
  {
   "cell_type": "markdown",
   "id": "0677ceb9",
   "metadata": {},
   "source": [
    "# Univariate Analysis"
   ]
  },
  {
   "cell_type": "code",
   "execution_count": 5,
   "id": "497a5150",
   "metadata": {},
   "outputs": [],
   "source": [
    "#Analyzing Continuous Features\n",
    "df_cont=df.select_dtypes(include=[\"int64\",\"float64\"])"
   ]
  },
  {
   "cell_type": "code",
   "execution_count": 10,
   "id": "dd6fb88f",
   "metadata": {},
   "outputs": [
    {
     "data": {
      "text/plain": [
       "120.0    20\n",
       "110.0    17\n",
       "100.0    15\n",
       "160.0    12\n",
       "187.0    12\n",
       "         ..\n",
       "240.0     1\n",
       "214.0     1\n",
       "59.0      1\n",
       "166.0     1\n",
       "253.0     1\n",
       "Name: LoanAmount, Length: 203, dtype: int64"
      ]
     },
     "execution_count": 10,
     "metadata": {},
     "output_type": "execute_result"
    }
   ],
   "source": [
    "df_cont[\"LoanAmount\"].value_counts()"
   ]
  },
  {
   "cell_type": "code",
   "execution_count": 6,
   "id": "59ce6ba0",
   "metadata": {},
   "outputs": [
    {
     "data": {
      "image/png": "[encoded data removed]",
      "text/plain": [
       "<Figure size 504x504 with 1 Axes>"
      ]
     },
     "metadata": {
      "needs_background": "light"
     },
     "output_type": "display_data"
    },
    {
     "data": {
      "image/png": "[encoded data removed]",
      "text/plain": [
       "<Figure size 504x504 with 1 Axes>"
      ]
     },
     "metadata": {
      "needs_background": "light"
     },
     "output_type": "display_data"
    },
    {
     "data": {
      "image/png": "[encoded data removed]",
      "text/plain": [
       "<Figure size 504x504 with 1 Axes>"
      ]
     },
     "metadata": {
      "needs_background": "light"
     },
     "output_type": "display_data"
    },
    {
     "data": {
      "image/png": "[encoded data removed]",
      "text/plain": [
       "<Figure size 504x504 with 1 Axes>"
      ]
     },
     "metadata": {
      "needs_background": "light"
     },
     "output_type": "display_data"
    },
    {
     "data": {
      "image/png": "[encoded data removed]",
      "text/plain": [
       "<Figure size 504x504 with 1 Axes>"
      ]
     },
     "metadata": {
      "needs_background": "light"
     },
     "output_type": "display_data"
    }
   ],
   "source": [
    "c1=df_cont.columns.values\n",
    "for i in c1:\n",
    "    plt.figure(figsize=(7,7))\n",
    "    sns.distplot(df_cont[i])\n",
    "    plt.xlabel(i)\n",
    "    plt.ylabel(\"Distribution\")\n",
    "    plt.title(\"Graphical Analysis of Continuous Feature Distributions\")\n",
    "    plt.show()\n",
    "    \n",
    "    #Applicant Income is a highly skewed feature where most values are from 0 to 20000\n",
    "    #Coapplicant Income had distribution from 0 to 12000\n",
    "    #The applicants in the database have apllied for a loan amount ranging till 700 but most of the values are ranging from 10 \n",
    "    #to 300 and small distributions around 400 and 600.\n",
    "    #Loan Amount Term has one high peak at 350 followed by one peak at 180 and 2 smaller peaks from 270-300 and 450-470\n",
    "    #Majority of the applicants have a credit history of 1.0"
   ]
  },
  {
   "cell_type": "code",
   "execution_count": 11,
   "id": "b5b4f440",
   "metadata": {},
   "outputs": [],
   "source": [
    "df[\"Gender\"]=df[\"Gender\"].astype(\"str\")\n",
    "df[\"Married\"]=df[\"Married\"].astype(\"str\")\n",
    "df[\"Dependents\"]=df[\"Dependents\"].astype(\"str\")\n",
    "df[\"Education\"]=df[\"Education\"].astype(\"str\")\n",
    "df[\"Self_Employed\"]=df[\"Self_Employed\"].astype(\"str\")\n",
    "df[\"Property_Area\"]=df[\"Property_Area\"].astype(\"str\")\n",
    "df[\"Loan_Status\"]=df[\"Loan_Status\"].astype(\"str\")"
   ]
  },
  {
   "cell_type": "code",
   "execution_count": 12,
   "id": "423ee704",
   "metadata": {
    "scrolled": true
   },
   "outputs": [
    {
     "data": {
      "text/plain": [
       "Text(0, 0.5, 'Distribution')"
      ]
     },
     "execution_count": 12,
     "metadata": {},
     "output_type": "execute_result"
    },
    {
     "data": {
      "image/png": "[encoded data removed]",
      "text/plain": [
       "<Figure size 432x288 with 1 Axes>"
      ]
     },
     "metadata": {
      "needs_background": "light"
     },
     "output_type": "display_data"
    }
   ],
   "source": [
    "plt.hist(df[\"Gender\"])\n",
    "plt.xlabel(\"Gender\")\n",
    "plt.ylabel(\"Distribution\")\n",
    "\n",
    "#Around 480 applicants are Male and 120 applicants are females, there are few null values which have to be catered."
   ]
  },
  {
   "cell_type": "code",
   "execution_count": 62,
   "id": "21129cc5",
   "metadata": {},
   "outputs": [
    {
     "data": {
      "text/plain": [
       "Text(0, 0.5, 'Distribution')"
      ]
     },
     "execution_count": 62,
     "metadata": {},
     "output_type": "execute_result"
    },
    {
     "data": {
      "image/png": "[encoded data removed]",
      "text/plain": [
       "<Figure size 432x288 with 1 Axes>"
      ]
     },
     "metadata": {
      "needs_background": "light"
     },
     "output_type": "display_data"
    }
   ],
   "source": [
    "plt.hist(df[\"Married\"])\n",
    "plt.xlabel(\"Married\")\n",
    "plt.ylabel(\"Distribution\")\n",
    "\n",
    "#Majority of the applicants are married and around 210 applicants are not married."
   ]
  },
  {
   "cell_type": "code",
   "execution_count": 63,
   "id": "36cfc1e0",
   "metadata": {},
   "outputs": [
    {
     "data": {
      "text/plain": [
       "Text(0, 0.5, 'Distribution')"
      ]
     },
     "execution_count": 63,
     "metadata": {},
     "output_type": "execute_result"
    },
    {
     "data": {
      "image/png": "[encoded data removed]",
      "text/plain": [
       "<Figure size 432x288 with 1 Axes>"
      ]
     },
     "metadata": {
      "needs_background": "light"
     },
     "output_type": "display_data"
    }
   ],
   "source": [
    "plt.hist(df[\"Dependents\"])\n",
    "plt.xlabel(\"Dependents\")\n",
    "plt.ylabel(\"Distribution\")\n",
    "\n",
    "#340 applicants do no have dependents, 100 applicants have a single dependent, 100 applicants have 2 dependents and few have 3+ dependents"
   ]
  },
  {
   "cell_type": "code",
   "execution_count": 64,
   "id": "952d69ab",
   "metadata": {},
   "outputs": [
    {
     "data": {
      "text/plain": [
       "Text(0, 0.5, 'Distribution')"
      ]
     },
     "execution_count": 64,
     "metadata": {},
     "output_type": "execute_result"
    },
    {
     "data": {
      "image/png": "[encoded data removed]",
      "text/plain": [
       "<Figure size 432x288 with 1 Axes>"
      ]
     },
     "metadata": {
      "needs_background": "light"
     },
     "output_type": "display_data"
    }
   ],
   "source": [
    "plt.hist(df[\"Education\"])\n",
    "plt.xlabel(\"Education\")\n",
    "plt.ylabel(\"Distribution\")\n",
    "\n",
    "#Applicants of around 480 are graduates and 140 are not graduates"
   ]
  },
  {
   "cell_type": "code",
   "execution_count": 65,
   "id": "a9e30396",
   "metadata": {},
   "outputs": [
    {
     "data": {
      "text/plain": [
       "Text(0, 0.5, 'Distribution')"
      ]
     },
     "execution_count": 65,
     "metadata": {},
     "output_type": "execute_result"
    },
    {
     "data": {
      "image/png": "[encoded data removed]",
      "text/plain": [
       "<Figure size 432x288 with 1 Axes>"
      ]
     },
     "metadata": {
      "needs_background": "light"
     },
     "output_type": "display_data"
    }
   ],
   "source": [
    "plt.hist(df[\"Self_Employed\"])\n",
    "plt.xlabel(\"Self_Employed\")\n",
    "plt.ylabel(\"Distribution\")\n",
    "\n",
    "#Many applicants are not self-employed and around 70 applicants are self-employed."
   ]
  },
  {
   "cell_type": "code",
   "execution_count": 66,
   "id": "75528965",
   "metadata": {},
   "outputs": [
    {
     "data": {
      "text/plain": [
       "Text(0, 0.5, 'Distribution')"
      ]
     },
     "execution_count": 66,
     "metadata": {},
     "output_type": "execute_result"
    },
    {
     "data": {
      "image/png": "[encoded data removed]",
      "text/plain": [
       "<Figure size 432x288 with 1 Axes>"
      ]
     },
     "metadata": {
      "needs_background": "light"
     },
     "output_type": "display_data"
    }
   ],
   "source": [
    "plt.hist(df[\"Property_Area\"])\n",
    "plt.xlabel(\"Property_Area\")\n",
    "plt.ylabel(\"Distribution\")\n",
    "\n",
    "#The applicants have properties mostly in semiurban areas followed by urban areas and rural areas."
   ]
  },
  {
   "cell_type": "code",
   "execution_count": 67,
   "id": "31ad75ad",
   "metadata": {},
   "outputs": [
    {
     "data": {
      "text/plain": [
       "Text(0, 0.5, 'Distribution')"
      ]
     },
     "execution_count": 67,
     "metadata": {},
     "output_type": "execute_result"
    },
    {
     "data": {
      "image/png": "[encoded data removed]",
      "text/plain": [
       "<Figure size 432x288 with 1 Axes>"
      ]
     },
     "metadata": {
      "needs_background": "light"
     },
     "output_type": "display_data"
    }
   ],
   "source": [
    "plt.hist(df[\"Loan_Status\"])\n",
    "plt.xlabel(\"Loan_Status\")\n",
    "plt.ylabel(\"Distribution\")\n",
    "\n",
    "#Approximately 420 applicant's loan status is positive and 180 applicant's loan status is negative."
   ]
  },
  {
   "cell_type": "markdown",
   "id": "4412037a",
   "metadata": {},
   "source": [
    "# Bivariate Analysis"
   ]
  },
  {
   "cell_type": "code",
   "execution_count": 81,
   "id": "a1f97701",
   "metadata": {},
   "outputs": [
    {
     "data": {
      "image/png": "[encoded data removed]",
      "text/plain": [
       "<Figure size 432x288 with 1 Axes>"
      ]
     },
     "metadata": {
      "needs_background": "light"
     },
     "output_type": "display_data"
    }
   ],
   "source": [
    "sns.barplot(x=df[\"ApplicantIncome\"],y=df[\"Loan_Status\"],data=df)\n",
    "plt.show()\n",
    "\n",
    "#Ther is equal share of positive loan status and negative loan status for income ranging from 0 to 5500"
   ]
  },
  {
   "cell_type": "code",
   "execution_count": 72,
   "id": "0b506aeb",
   "metadata": {},
   "outputs": [
    {
     "data": {
      "image/png": "[encoded data removed]",
      "text/plain": [
       "<Figure size 432x288 with 1 Axes>"
      ]
     },
     "metadata": {
      "needs_background": "light"
     },
     "output_type": "display_data"
    }
   ],
   "source": [
    "sns.barplot(x=df[\"CoapplicantIncome\"],y=df[\"Loan_Status\"],data=df)\n",
    "plt.show()\n",
    "\n",
    "#CoapplicantIncome from 1480 to 1890 have a higher positive loan status"
   ]
  },
  {
   "cell_type": "code",
   "execution_count": 79,
   "id": "71050516",
   "metadata": {},
   "outputs": [
    {
     "data": {
      "image/png": "[encoded data removed]",
      "text/plain": [
       "<Figure size 432x288 with 1 Axes>"
      ]
     },
     "metadata": {
      "needs_background": "light"
     },
     "output_type": "display_data"
    }
   ],
   "source": [
    "sns.barplot(x=df[\"LoanAmount\"],y=df[\"Loan_Status\"],data=df)\n",
    "plt.show()\n",
    "\n",
    "#When the loan amount is from 140-150 the loan status is positive "
   ]
  },
  {
   "cell_type": "code",
   "execution_count": 75,
   "id": "c821a16c",
   "metadata": {},
   "outputs": [
    {
     "data": {
      "image/png": "[encoded data removed]",
      "text/plain": [
       "<Figure size 432x288 with 1 Axes>"
      ]
     },
     "metadata": {
      "needs_background": "light"
     },
     "output_type": "display_data"
    }
   ],
   "source": [
    "sns.countplot(x=df[\"Loan_Amount_Term\"],hue=df[\"Loan_Status\"],data=df)\n",
    "plt.show()\n",
    "\n",
    "#Loan_Amount_Term of 360 has a more positive status than the other terms, for 180 loan amount term the status is positive than negative"
   ]
  },
  {
   "cell_type": "code",
   "execution_count": 82,
   "id": "598908aa",
   "metadata": {},
   "outputs": [
    {
     "data": {
      "image/png": "[encoded data removed]",
      "text/plain": [
       "<Figure size 432x288 with 1 Axes>"
      ]
     },
     "metadata": {
      "needs_background": "light"
     },
     "output_type": "display_data"
    }
   ],
   "source": [
    "sns.countplot(x=df[\"Credit_History\"],hue=df[\"Loan_Status\"],data=df)\n",
    "plt.show()\n",
    "\n",
    "#For Credit History 1 the loan status is positive than negative, when credit history is 0 tha loan status is negative than positive"
   ]
  },
  {
   "cell_type": "code",
   "execution_count": 84,
   "id": "5c89038a",
   "metadata": {},
   "outputs": [
    {
     "data": {
      "image/png": "[encoded data removed]",
      "text/plain": [
       "<Figure size 432x288 with 1 Axes>"
      ]
     },
     "metadata": {
      "needs_background": "light"
     },
     "output_type": "display_data"
    }
   ],
   "source": [
    "sns.countplot(x=df[\"Gender\"],hue=df[\"Loan_Status\"],data=df)\n",
    "plt.show()\n",
    "\n",
    "#Males have more positive loan status than women "
   ]
  },
  {
   "cell_type": "code",
   "execution_count": 86,
   "id": "04949deb",
   "metadata": {},
   "outputs": [
    {
     "data": {
      "image/png": "[encoded data removed]",
      "text/plain": [
       "<Figure size 432x288 with 1 Axes>"
      ]
     },
     "metadata": {
      "needs_background": "light"
     },
     "output_type": "display_data"
    }
   ],
   "source": [
    "sns.countplot(x=df[\"Married\"],hue=df[\"Loan_Status\"],data=df)\n",
    "plt.show()\n",
    "\n",
    "#Applicants who are married have higher chance of positive loan status assuming it is due to coapplicant's income support"
   ]
  },
  {
   "cell_type": "code",
   "execution_count": 87,
   "id": "f2f14840",
   "metadata": {},
   "outputs": [
    {
     "data": {
      "image/png": "[encoded data removed]",
      "text/plain": [
       "<Figure size 432x288 with 1 Axes>"
      ]
     },
     "metadata": {
      "needs_background": "light"
     },
     "output_type": "display_data"
    }
   ],
   "source": [
    "sns.countplot(x=df[\"Dependents\"],hue=df[\"Loan_Status\"],data=df)\n",
    "plt.show()\n",
    "\n",
    "#Applicants with no dependents have a higher loan positive status followed by applicants with 2 dependents and 1."
   ]
  },
  {
   "cell_type": "code",
   "execution_count": 88,
   "id": "fb6ae32b",
   "metadata": {},
   "outputs": [
    {
     "data": {
      "image/png": "[encoded data removed]",
      "text/plain": [
       "<Figure size 432x288 with 1 Axes>"
      ]
     },
     "metadata": {
      "needs_background": "light"
     },
     "output_type": "display_data"
    }
   ],
   "source": [
    "sns.countplot(x=df[\"Education\"],hue=df[\"Loan_Status\"],data=df)\n",
    "plt.show()\n",
    "\n",
    "#Graduates have a higher positive loan status than non-graduates, owing to the increase in employability."
   ]
  },
  {
   "cell_type": "code",
   "execution_count": 89,
   "id": "e765383f",
   "metadata": {},
   "outputs": [
    {
     "data": {
      "image/png": "[encoded data removed]",
      "text/plain": [
       "<Figure size 432x288 with 1 Axes>"
      ]
     },
     "metadata": {
      "needs_background": "light"
     },
     "output_type": "display_data"
    }
   ],
   "source": [
    "sns.countplot(x=df[\"Self_Employed\"],hue=df[\"Loan_Status\"],data=df)\n",
    "plt.show()\n",
    "\n",
    "#Applicants who are self-employed have very low chance of loan positive status than applicants who are not self-employeds"
   ]
  },
  {
   "cell_type": "code",
   "execution_count": 90,
   "id": "d0b736bf",
   "metadata": {},
   "outputs": [
    {
     "data": {
      "image/png": "[encoded data removed]",
      "text/plain": [
       "<Figure size 432x288 with 1 Axes>"
      ]
     },
     "metadata": {
      "needs_background": "light"
     },
     "output_type": "display_data"
    }
   ],
   "source": [
    "sns.countplot(x=df[\"Property_Area\"],hue=df[\"Loan_Status\"],data=df)\n",
    "plt.show()\n",
    "\n",
    "#Applicants who have a property in semiurban areas have better land value and indirectly have a positive effect on the loan status\n",
    "#followed by urban areas and rural areas."
   ]
  },
  {
   "cell_type": "markdown",
   "id": "be41780b",
   "metadata": {},
   "source": [
    "# Multivariate Analysis"
   ]
  },
  {
   "cell_type": "code",
   "execution_count": 93,
   "id": "030cc60d",
   "metadata": {},
   "outputs": [
    {
     "data": {
      "text/plain": [
       "Index(['Loan_ID', 'Gender', 'Married', 'Dependents', 'Education',\n",
       "       'Self_Employed', 'ApplicantIncome', 'CoapplicantIncome', 'LoanAmount',\n",
       "       'Loan_Amount_Term', 'Credit_History', 'Property_Area', 'Loan_Status'],\n",
       "      dtype='object')"
      ]
     },
     "execution_count": 93,
     "metadata": {},
     "output_type": "execute_result"
    }
   ],
   "source": [
    "df.columns"
   ]
  },
  {
   "cell_type": "code",
   "execution_count": 113,
   "id": "0df0228e",
   "metadata": {},
   "outputs": [
    {
     "data": {
      "text/plain": [
       "<AxesSubplot:xlabel='LoanAmount', ylabel='Married'>"
      ]
     },
     "execution_count": 113,
     "metadata": {},
     "output_type": "execute_result"
    },
    {
     "data": {
      "image/png": "[encoded data removed]",
      "text/plain": [
       "<Figure size 720x720 with 1 Axes>"
      ]
     },
     "metadata": {
      "needs_background": "light"
     },
     "output_type": "display_data"
    }
   ],
   "source": [
    "plt.figure(figsize=(10,10))\n",
    "sns.barplot(x=df['LoanAmount'],y=df['Married'],hue=df['Loan_Status'])\n",
    "\n",
    "#Married Applicants with high loan amount have less chance of positive loan status, there are nan values which will be catered to"
   ]
  },
  {
   "cell_type": "code",
   "execution_count": 114,
   "id": "aa8796e6",
   "metadata": {},
   "outputs": [
    {
     "data": {
      "text/plain": [
       "<AxesSubplot:xlabel='LoanAmount', ylabel='Gender'>"
      ]
     },
     "execution_count": 114,
     "metadata": {},
     "output_type": "execute_result"
    },
    {
     "data": {
      "image/png": "[encoded data removed]",
      "text/plain": [
       "<Figure size 720x720 with 1 Axes>"
      ]
     },
     "metadata": {
      "needs_background": "light"
     },
     "output_type": "display_data"
    }
   ],
   "source": [
    "plt.figure(figsize=(10,10))\n",
    "sns.barplot(x=df['LoanAmount'],y=df['Gender'],hue=df['Loan_Status'])\n",
    "\n",
    "#Males with high loan amount have less positive loan status than negative\n",
    "#Females have less loan amount compared to males and have almost equal positive and negative loan status"
   ]
  },
  {
   "cell_type": "code",
   "execution_count": 115,
   "id": "1483395a",
   "metadata": {},
   "outputs": [
    {
     "data": {
      "text/plain": [
       "<AxesSubplot:xlabel='LoanAmount', ylabel='Dependents'>"
      ]
     },
     "execution_count": 115,
     "metadata": {},
     "output_type": "execute_result"
    },
    {
     "data": {
      "image/png": "[encoded data removed]",
      "text/plain": [
       "<Figure size 720x720 with 1 Axes>"
      ]
     },
     "metadata": {
      "needs_background": "light"
     },
     "output_type": "display_data"
    }
   ],
   "source": [
    "plt.figure(figsize=(10,10))\n",
    "sns.barplot(x=df['LoanAmount'],y=df['Dependents'],hue=df['Loan_Status'])\n",
    "\n",
    "#Applicants with 0 dependents have less loan amount and higher negative status \n",
    "#Applicants with 3+ dependents have high loan amount and higher negative status followed by people with 1 dependents and 2 dependendents"
   ]
  },
  {
   "cell_type": "code",
   "execution_count": 117,
   "id": "55fbfdb6",
   "metadata": {},
   "outputs": [
    {
     "data": {
      "text/plain": [
       "<AxesSubplot:xlabel='LoanAmount', ylabel='Education'>"
      ]
     },
     "execution_count": 117,
     "metadata": {},
     "output_type": "execute_result"
    },
    {
     "data": {
      "image/png": "[encoded data removed]",
      "text/plain": [
       "<Figure size 720x720 with 1 Axes>"
      ]
     },
     "metadata": {
      "needs_background": "light"
     },
     "output_type": "display_data"
    }
   ],
   "source": [
    "plt.figure(figsize=(10,10))\n",
    "sns.barplot(x=df['LoanAmount'],y=df['Education'],hue=df['Loan_Status'])\n",
    "\n",
    "#Graduates have higher loan amount and higher negative status than positive status\n",
    "#Non-graduates have lower loan amount."
   ]
  },
  {
   "cell_type": "code",
   "execution_count": 118,
   "id": "085a3f75",
   "metadata": {},
   "outputs": [
    {
     "data": {
      "text/plain": [
       "<AxesSubplot:xlabel='LoanAmount', ylabel='Self_Employed'>"
      ]
     },
     "execution_count": 118,
     "metadata": {},
     "output_type": "execute_result"
    },
    {
     "data": {
      "image/png": "[encoded data removed]",
      "text/plain": [
       "<Figure size 720x720 with 1 Axes>"
      ]
     },
     "metadata": {
      "needs_background": "light"
     },
     "output_type": "display_data"
    }
   ],
   "source": [
    "plt.figure(figsize=(10,10))\n",
    "sns.barplot(x=df['LoanAmount'],y=df['Self_Employed'],hue=df['Loan_Status'])\n",
    "\n",
    "#Self-employed applicants have higher loan amount and higher negative status than positive status\n",
    "#Applicants who are not self-employed have lower loan amount and higher negative loan status than positive loan status "
   ]
  },
  {
   "cell_type": "code",
   "execution_count": 127,
   "id": "11c1ff70",
   "metadata": {},
   "outputs": [
    {
     "data": {
      "text/plain": [
       "<AxesSubplot:xlabel='LoanAmount', ylabel='ApplicantIncome'>"
      ]
     },
     "execution_count": 127,
     "metadata": {},
     "output_type": "execute_result"
    },
    {
     "data": {
      "image/png": "[encoded data removed]",
      "text/plain": [
       "<Figure size 504x504 with 1 Axes>"
      ]
     },
     "metadata": {
      "needs_background": "light"
     },
     "output_type": "display_data"
    }
   ],
   "source": [
    "plt.figure(figsize=(7,7))\n",
    "sns.scatterplot(x=df['LoanAmount'],y=df['ApplicantIncome'],hue=df['Loan_Status'])\n",
    "\n",
    "#When the loan amount and applicant income is less the positive loan status is high \n",
    "#There are few applicants with high loan amount and high income who have high positive status"
   ]
  },
  {
   "cell_type": "code",
   "execution_count": 128,
   "id": "32666389",
   "metadata": {},
   "outputs": [
    {
     "data": {
      "text/plain": [
       "<AxesSubplot:xlabel='LoanAmount', ylabel='CoapplicantIncome'>"
      ]
     },
     "execution_count": 128,
     "metadata": {},
     "output_type": "execute_result"
    },
    {
     "data": {
      "image/png": "[encoded data removed]",
      "text/plain": [
       "<Figure size 504x504 with 1 Axes>"
      ]
     },
     "metadata": {
      "needs_background": "light"
     },
     "output_type": "display_data"
    }
   ],
   "source": [
    "plt.figure(figsize=(7,7))\n",
    "sns.scatterplot(x=df['LoanAmount'],y=df['CoapplicantIncome'],hue=df['Loan_Status'])\n",
    "\n",
    "#For less loan amount and less coapplicant income the status is positive \n",
    "#There are few high loan amount with high coapplicant income the status negative"
   ]
  },
  {
   "cell_type": "code",
   "execution_count": 132,
   "id": "a28051ac",
   "metadata": {},
   "outputs": [
    {
     "data": {
      "text/plain": [
       "<AxesSubplot:xlabel='LoanAmount', ylabel='Credit_History'>"
      ]
     },
     "execution_count": 132,
     "metadata": {},
     "output_type": "execute_result"
    },
    {
     "data": {
      "image/png": "[encoded data removed]",
      "text/plain": [
       "<Figure size 504x504 with 1 Axes>"
      ]
     },
     "metadata": {
      "needs_background": "light"
     },
     "output_type": "display_data"
    }
   ],
   "source": [
    "plt.figure(figsize=(7,7))\n",
    "sns.scatterplot(x=df['LoanAmount'],y=df['Credit_History'],hue=df['Loan_Status'])\n",
    "\n",
    "#When loan amount is high for credit 1 the positive loan status is high \n",
    "#When the loan amount is less for credit 0 the status is negative"
   ]
  },
  {
   "cell_type": "code",
   "execution_count": 133,
   "id": "f03da3cb",
   "metadata": {},
   "outputs": [
    {
     "data": {
      "text/plain": [
       "<AxesSubplot:xlabel='LoanAmount', ylabel='Property_Area'>"
      ]
     },
     "execution_count": 133,
     "metadata": {},
     "output_type": "execute_result"
    },
    {
     "data": {
      "image/png": "[encoded data removed]",
      "text/plain": [
       "<Figure size 504x504 with 1 Axes>"
      ]
     },
     "metadata": {
      "needs_background": "light"
     },
     "output_type": "display_data"
    }
   ],
   "source": [
    "plt.figure(figsize=(7,7))\n",
    "sns.barplot(x=df['LoanAmount'],y=df['Property_Area'],hue=df['Loan_Status'])\n",
    "\n",
    "#Applicants with high loan amount who have property in rural areas have higher negative status followed by semi-urban and urban"
   ]
  },
  {
   "cell_type": "code",
   "execution_count": 134,
   "id": "9705baa0",
   "metadata": {},
   "outputs": [
    {
     "data": {
      "text/plain": [
       "<AxesSubplot:xlabel='LoanAmount', ylabel='Loan_Amount_Term'>"
      ]
     },
     "execution_count": 134,
     "metadata": {},
     "output_type": "execute_result"
    },
    {
     "data": {
      "image/png": "[encoded data removed]",
      "text/plain": [
       "<Figure size 504x504 with 1 Axes>"
      ]
     },
     "metadata": {
      "needs_background": "light"
     },
     "output_type": "display_data"
    }
   ],
   "source": [
    "plt.figure(figsize=(7,7))\n",
    "sns.scatterplot(x=df['LoanAmount'],y=df['Loan_Amount_Term'],hue=df['Loan_Status'])\n",
    "\n",
    "#When the loan amount is less and the loan amount term is high the negative status is high \n",
    "#For less loan amount and term 360 the positive status is high "
   ]
  },
  {
   "cell_type": "code",
   "execution_count": 202,
   "id": "365a8869",
   "metadata": {},
   "outputs": [
    {
     "data": {
      "image/png": "[encoded data removed]",
      "text/plain": [
       "<Figure size 2160x7200 with 4 Axes>"
      ]
     },
     "metadata": {
      "needs_background": "light"
     },
     "output_type": "display_data"
    }
   ],
   "source": [
    "columnlist=['ApplicantIncome', 'CoapplicantIncome', 'LoanAmount','Loan_Amount_Term']\n",
    "ncol=30\n",
    "nrows=14\n",
    "\n",
    "#Plotting box plots for the numerical features to check for outliers.\n",
    "plt.figure(figsize=(30,100))\n",
    "for i in range(0, len(columnlist)):\n",
    "    plt.subplot(nrows,ncol,i+1)\n",
    "    sns.boxplot(data=df[columnlist[i]])\n",
    "    plt.tight_layout()\n",
    "    \n",
    "    \n",
    "#From the below results, we can identify data points beyond the range"
   ]
  },
  {
   "cell_type": "markdown",
   "id": "fdcc11bb",
   "metadata": {},
   "source": [
    "# Summary of Data Analysis"
   ]
  },
  {
   "cell_type": "markdown",
   "id": "0f144f77",
   "metadata": {},
   "source": [
    "1. The given dataset has 614 rows and 13 columns.\n",
    "2. 8 rows are of object data type and 4 rows are of float data type and 1 row is integer data type.\n",
    "3. Among the 13 columns, Loan_ID is not required for model development since it is unique id for each loan application.\n",
    "4. Target is Loan_Status which has to be predicted using the 11 features.\n",
    "5. The columns with null values are -Gender, Married, Dependents, Self-Employed,Loan_Amount,Loan_Amount_Term,Credit_history.\n",
    "6. Otliers are present which has to be eliminated using z-score.\n",
    "7. The categorical features will be encoded."
   ]
  },
  {
   "cell_type": "markdown",
   "id": "fa1162c3",
   "metadata": {},
   "source": [
    "# Data Cleaning"
   ]
  },
  {
   "cell_type": "code",
   "execution_count": 6,
   "id": "39739cf7",
   "metadata": {},
   "outputs": [],
   "source": [
    "#Catering to the missing values\n",
    "df[\"Gender\"]=df[\"Gender\"].fillna(df[\"Gender\"].dropna().mode().values[0])\n",
    "df[\"Married\"]=df[\"Married\"].fillna(df[\"Married\"].dropna().mode().values[0])\n",
    "df[\"Dependents\"]=df[\"Dependents\"].fillna(df[\"Dependents\"].dropna().mode().values[0])\n",
    "df[\"Self_Employed\"]=df[\"Self_Employed\"].fillna(df[\"Self_Employed\"].dropna().mode().values[0])\n",
    "df[\"LoanAmount\"]=df[\"LoanAmount\"].fillna(df[\"LoanAmount\"].dropna().mean())\n",
    "df[\"Loan_Amount_Term\"]=df[\"Loan_Amount_Term\"].fillna(df[\"Loan_Amount_Term\"].dropna().mean())\n",
    "df[\"Credit_History\"]=df[\"Credit_History\"].fillna(df[\"Credit_History\"].dropna().mode().values[0])"
   ]
  },
  {
   "cell_type": "code",
   "execution_count": 7,
   "id": "5a35d2c0",
   "metadata": {},
   "outputs": [
    {
     "data": {
      "text/plain": [
       "Loan_ID              0\n",
       "Gender               0\n",
       "Married              0\n",
       "Dependents           0\n",
       "Education            0\n",
       "Self_Employed        0\n",
       "ApplicantIncome      0\n",
       "CoapplicantIncome    0\n",
       "LoanAmount           0\n",
       "Loan_Amount_Term     0\n",
       "Credit_History       0\n",
       "Property_Area        0\n",
       "Loan_Status          0\n",
       "dtype: int64"
      ]
     },
     "execution_count": 7,
     "metadata": {},
     "output_type": "execute_result"
    }
   ],
   "source": [
    "df.isnull().sum()"
   ]
  },
  {
   "cell_type": "code",
   "execution_count": 8,
   "id": "65c214b7",
   "metadata": {
    "scrolled": true
   },
   "outputs": [],
   "source": [
    "df.drop(\"Loan_ID\",axis=1,inplace=True)"
   ]
  },
  {
   "cell_type": "markdown",
   "id": "026afb32",
   "metadata": {},
   "source": [
    "# Encoding Categorical Columns"
   ]
  },
  {
   "cell_type": "code",
   "execution_count": 9,
   "id": "ea627df5",
   "metadata": {},
   "outputs": [],
   "source": [
    "cat=[i for i in df.columns if df[i].dtypes==\"object\"]"
   ]
  },
  {
   "cell_type": "code",
   "execution_count": 10,
   "id": "f293bc6a",
   "metadata": {},
   "outputs": [],
   "source": [
    "from sklearn.preprocessing import OrdinalEncoder\n",
    "oe=OrdinalEncoder()\n",
    "for i in cat:\n",
    "    df[i]=oe.fit_transform(df[i].values.reshape(-1,1))"
   ]
  },
  {
   "cell_type": "code",
   "execution_count": 11,
   "id": "f7334dd9",
   "metadata": {},
   "outputs": [
    {
     "data": {
      "image/png": "[encoded data removed]",
      "text/plain": [
       "<Figure size 2160x6480 with 12 Axes>"
      ]
     },
     "metadata": {
      "needs_background": "light"
     },
     "output_type": "display_data"
    }
   ],
   "source": [
    "#Plotting a box plot to check the outliers\n",
    "\n",
    "columnlist=df.columns.values\n",
    "\n",
    "ncol=30\n",
    "nrows=14\n",
    "\n",
    "#Plotting box plots for the features-Length,Diameter, Height, Whole Weight, Shucked Weight, Viscera Weight, Shell Weight\n",
    "plt.figure(figsize=(ncol, 3*ncol))\n",
    "for i in range(0, len(columnlist)):\n",
    "    plt.subplot(nrows,ncol,i+1)\n",
    "    sns.boxplot(data=df[columnlist[i]])\n",
    "    plt.tight_layout()"
   ]
  },
  {
   "cell_type": "code",
   "execution_count": 12,
   "id": "83586b0a",
   "metadata": {},
   "outputs": [],
   "source": [
    "#Checking Z-Score for Outliers\n",
    "from scipy import stats\n",
    "\n",
    "z1=abs(stats.zscore(df[columnlist]))"
   ]
  },
  {
   "cell_type": "code",
   "execution_count": 13,
   "id": "7bf7c98d",
   "metadata": {},
   "outputs": [
    {
     "data": {
      "text/plain": [
       "(array([  9,  14,  68,  94, 126, 130, 133, 155, 155, 171, 171, 177, 177,\n",
       "        183, 185, 242, 262, 278, 308, 313, 333, 333, 369, 402, 409, 417,\n",
       "        432, 443, 487, 495, 497, 506, 523, 525, 546, 561, 575, 581, 585,\n",
       "        600, 604], dtype=int64),\n",
       " array([6, 8, 8, 8, 5, 7, 8, 5, 7, 5, 7, 6, 7, 5, 5, 8, 8, 7, 7, 8, 5, 7,\n",
       "        7, 6, 5, 6, 7, 5, 7, 8, 8, 7, 7, 7, 8, 7, 8, 6, 8, 6, 7],\n",
       "       dtype=int64))"
      ]
     },
     "execution_count": 13,
     "metadata": {},
     "output_type": "execute_result"
    }
   ],
   "source": [
    "x=np.where(z1>3)\n",
    "x"
   ]
  },
  {
   "cell_type": "code",
   "execution_count": 14,
   "id": "92b41a0b",
   "metadata": {},
   "outputs": [],
   "source": [
    "df_z=df[(z1 < 3).all(axis=1)]"
   ]
  },
  {
   "cell_type": "code",
   "execution_count": 15,
   "id": "911fcb7a",
   "metadata": {},
   "outputs": [
    {
     "name": "stdout",
     "output_type": "stream",
     "text": [
      "(614, 12) (577, 12)\n"
     ]
    }
   ],
   "source": [
    "print(df.shape,df_z.shape)"
   ]
  },
  {
   "cell_type": "markdown",
   "id": "934c43d6",
   "metadata": {},
   "source": [
    "# Balancing the output"
   ]
  },
  {
   "cell_type": "code",
   "execution_count": 16,
   "id": "420a51ae",
   "metadata": {},
   "outputs": [
    {
     "data": {
      "text/plain": [
       "1.0    398\n",
       "0.0    179\n",
       "Name: Loan_Status, dtype: int64"
      ]
     },
     "execution_count": 16,
     "metadata": {},
     "output_type": "execute_result"
    }
   ],
   "source": [
    "df_z[\"Loan_Status\"].value_counts()"
   ]
  },
  {
   "cell_type": "code",
   "execution_count": 17,
   "id": "8b2b50c3",
   "metadata": {},
   "outputs": [],
   "source": [
    "from sklearn.utils import resample\n",
    "dfminor_output=df_z[(df_z[\"Loan_Status\"]==0)]\n",
    "dfmajor_output=df_z[(df_z[\"Loan_Status\"]==1)]\n",
    "dfmin_up=resample(dfminor_output,replace=True,n_samples=398,random_state=42)\n",
    "df_up=pd.concat([dfmin_up,dfmajor_output])"
   ]
  },
  {
   "cell_type": "code",
   "execution_count": 18,
   "id": "663f01fc",
   "metadata": {},
   "outputs": [
    {
     "data": {
      "text/plain": [
       "Loan_Status          1.000000\n",
       "Credit_History       0.526573\n",
       "Married              0.081108\n",
       "Property_Area        0.071508\n",
       "CoapplicantIncome    0.069893\n",
       "Gender               0.041043\n",
       "Dependents           0.009987\n",
       "Self_Employed       -0.011421\n",
       "ApplicantIncome     -0.016190\n",
       "Education           -0.030654\n",
       "LoanAmount          -0.045656\n",
       "Loan_Amount_Term    -0.059871\n",
       "Name: Loan_Status, dtype: float64"
      ]
     },
     "execution_count": 18,
     "metadata": {},
     "output_type": "execute_result"
    }
   ],
   "source": [
    "df_up.corr()[\"Loan_Status\"].sort_values(ascending=False)"
   ]
  },
  {
   "cell_type": "code",
   "execution_count": 26,
   "id": "3c726ea2",
   "metadata": {},
   "outputs": [
    {
     "data": {
      "text/html": [
       "<div>\n",
       "<style scoped>\n",
       "    .dataframe tbody tr th:only-of-type {\n",
       "        vertical-align: middle;\n",
       "    }\n",
       "\n",
       "    .dataframe tbody tr th {\n",
       "        vertical-align: top;\n",
       "    }\n",
       "\n",
       "    .dataframe thead th {\n",
       "        text-align: right;\n",
       "    }\n",
       "</style>\n",
       "<table border=\"1\" class=\"dataframe\">\n",
       "  <thead>\n",
       "    <tr style=\"text-align: right;\">\n",
       "      <th></th>\n",
       "      <th>Gender</th>\n",
       "      <th>Married</th>\n",
       "      <th>Dependents</th>\n",
       "      <th>Education</th>\n",
       "      <th>Self_Employed</th>\n",
       "      <th>ApplicantIncome</th>\n",
       "      <th>CoapplicantIncome</th>\n",
       "      <th>LoanAmount</th>\n",
       "      <th>Loan_Amount_Term</th>\n",
       "      <th>Credit_History</th>\n",
       "      <th>Property_Area</th>\n",
       "      <th>Loan_Status</th>\n",
       "    </tr>\n",
       "  </thead>\n",
       "  <tbody>\n",
       "    <tr>\n",
       "      <th>367</th>\n",
       "      <td>1.0</td>\n",
       "      <td>0.0</td>\n",
       "      <td>0.0</td>\n",
       "      <td>0.0</td>\n",
       "      <td>0.0</td>\n",
       "      <td>5124</td>\n",
       "      <td>0.0</td>\n",
       "      <td>124.000000</td>\n",
       "      <td>342.0</td>\n",
       "      <td>0.0</td>\n",
       "      <td>0.0</td>\n",
       "      <td>0.0</td>\n",
       "    </tr>\n",
       "    <tr>\n",
       "      <th>340</th>\n",
       "      <td>1.0</td>\n",
       "      <td>1.0</td>\n",
       "      <td>3.0</td>\n",
       "      <td>1.0</td>\n",
       "      <td>0.0</td>\n",
       "      <td>2647</td>\n",
       "      <td>1587.0</td>\n",
       "      <td>173.000000</td>\n",
       "      <td>360.0</td>\n",
       "      <td>1.0</td>\n",
       "      <td>0.0</td>\n",
       "      <td>0.0</td>\n",
       "    </tr>\n",
       "    <tr>\n",
       "      <th>48</th>\n",
       "      <td>0.0</td>\n",
       "      <td>1.0</td>\n",
       "      <td>0.0</td>\n",
       "      <td>0.0</td>\n",
       "      <td>0.0</td>\n",
       "      <td>2645</td>\n",
       "      <td>3440.0</td>\n",
       "      <td>120.000000</td>\n",
       "      <td>360.0</td>\n",
       "      <td>0.0</td>\n",
       "      <td>2.0</td>\n",
       "      <td>0.0</td>\n",
       "    </tr>\n",
       "    <tr>\n",
       "      <th>387</th>\n",
       "      <td>1.0</td>\n",
       "      <td>1.0</td>\n",
       "      <td>0.0</td>\n",
       "      <td>1.0</td>\n",
       "      <td>0.0</td>\n",
       "      <td>3010</td>\n",
       "      <td>3136.0</td>\n",
       "      <td>146.412162</td>\n",
       "      <td>360.0</td>\n",
       "      <td>0.0</td>\n",
       "      <td>2.0</td>\n",
       "      <td>0.0</td>\n",
       "    </tr>\n",
       "    <tr>\n",
       "      <th>251</th>\n",
       "      <td>0.0</td>\n",
       "      <td>0.0</td>\n",
       "      <td>2.0</td>\n",
       "      <td>0.0</td>\n",
       "      <td>0.0</td>\n",
       "      <td>3427</td>\n",
       "      <td>0.0</td>\n",
       "      <td>138.000000</td>\n",
       "      <td>360.0</td>\n",
       "      <td>1.0</td>\n",
       "      <td>2.0</td>\n",
       "      <td>0.0</td>\n",
       "    </tr>\n",
       "    <tr>\n",
       "      <th>...</th>\n",
       "      <td>...</td>\n",
       "      <td>...</td>\n",
       "      <td>...</td>\n",
       "      <td>...</td>\n",
       "      <td>...</td>\n",
       "      <td>...</td>\n",
       "      <td>...</td>\n",
       "      <td>...</td>\n",
       "      <td>...</td>\n",
       "      <td>...</td>\n",
       "      <td>...</td>\n",
       "      <td>...</td>\n",
       "    </tr>\n",
       "    <tr>\n",
       "      <th>608</th>\n",
       "      <td>1.0</td>\n",
       "      <td>1.0</td>\n",
       "      <td>0.0</td>\n",
       "      <td>0.0</td>\n",
       "      <td>0.0</td>\n",
       "      <td>3232</td>\n",
       "      <td>1950.0</td>\n",
       "      <td>108.000000</td>\n",
       "      <td>360.0</td>\n",
       "      <td>1.0</td>\n",
       "      <td>0.0</td>\n",
       "      <td>1.0</td>\n",
       "    </tr>\n",
       "    <tr>\n",
       "      <th>609</th>\n",
       "      <td>0.0</td>\n",
       "      <td>0.0</td>\n",
       "      <td>0.0</td>\n",
       "      <td>0.0</td>\n",
       "      <td>0.0</td>\n",
       "      <td>2900</td>\n",
       "      <td>0.0</td>\n",
       "      <td>71.000000</td>\n",
       "      <td>360.0</td>\n",
       "      <td>1.0</td>\n",
       "      <td>0.0</td>\n",
       "      <td>1.0</td>\n",
       "    </tr>\n",
       "    <tr>\n",
       "      <th>610</th>\n",
       "      <td>1.0</td>\n",
       "      <td>1.0</td>\n",
       "      <td>3.0</td>\n",
       "      <td>0.0</td>\n",
       "      <td>0.0</td>\n",
       "      <td>4106</td>\n",
       "      <td>0.0</td>\n",
       "      <td>40.000000</td>\n",
       "      <td>180.0</td>\n",
       "      <td>1.0</td>\n",
       "      <td>0.0</td>\n",
       "      <td>1.0</td>\n",
       "    </tr>\n",
       "    <tr>\n",
       "      <th>611</th>\n",
       "      <td>1.0</td>\n",
       "      <td>1.0</td>\n",
       "      <td>1.0</td>\n",
       "      <td>0.0</td>\n",
       "      <td>0.0</td>\n",
       "      <td>8072</td>\n",
       "      <td>240.0</td>\n",
       "      <td>253.000000</td>\n",
       "      <td>360.0</td>\n",
       "      <td>1.0</td>\n",
       "      <td>2.0</td>\n",
       "      <td>1.0</td>\n",
       "    </tr>\n",
       "    <tr>\n",
       "      <th>612</th>\n",
       "      <td>1.0</td>\n",
       "      <td>1.0</td>\n",
       "      <td>2.0</td>\n",
       "      <td>0.0</td>\n",
       "      <td>0.0</td>\n",
       "      <td>7583</td>\n",
       "      <td>0.0</td>\n",
       "      <td>187.000000</td>\n",
       "      <td>360.0</td>\n",
       "      <td>1.0</td>\n",
       "      <td>2.0</td>\n",
       "      <td>1.0</td>\n",
       "    </tr>\n",
       "  </tbody>\n",
       "</table>\n",
       "<p>775 rows × 12 columns</p>\n",
       "</div>"
      ],
      "text/plain": [
       "     Gender  Married  Dependents  Education  Self_Employed  ApplicantIncome  \\\n",
       "367     1.0      0.0         0.0        0.0            0.0             5124   \n",
       "340     1.0      1.0         3.0        1.0            0.0             2647   \n",
       "48      0.0      1.0         0.0        0.0            0.0             2645   \n",
       "387     1.0      1.0         0.0        1.0            0.0             3010   \n",
       "251     0.0      0.0         2.0        0.0            0.0             3427   \n",
       "..      ...      ...         ...        ...            ...              ...   \n",
       "608     1.0      1.0         0.0        0.0            0.0             3232   \n",
       "609     0.0      0.0         0.0        0.0            0.0             2900   \n",
       "610     1.0      1.0         3.0        0.0            0.0             4106   \n",
       "611     1.0      1.0         1.0        0.0            0.0             8072   \n",
       "612     1.0      1.0         2.0        0.0            0.0             7583   \n",
       "\n",
       "     CoapplicantIncome  LoanAmount  Loan_Amount_Term  Credit_History  \\\n",
       "367                0.0  124.000000             342.0             0.0   \n",
       "340             1587.0  173.000000             360.0             1.0   \n",
       "48              3440.0  120.000000             360.0             0.0   \n",
       "387             3136.0  146.412162             360.0             0.0   \n",
       "251                0.0  138.000000             360.0             1.0   \n",
       "..                 ...         ...               ...             ...   \n",
       "608             1950.0  108.000000             360.0             1.0   \n",
       "609                0.0   71.000000             360.0             1.0   \n",
       "610                0.0   40.000000             180.0             1.0   \n",
       "611              240.0  253.000000             360.0             1.0   \n",
       "612                0.0  187.000000             360.0             1.0   \n",
       "\n",
       "     Property_Area  Loan_Status  \n",
       "367            0.0          0.0  \n",
       "340            0.0          0.0  \n",
       "48             2.0          0.0  \n",
       "387            2.0          0.0  \n",
       "251            2.0          0.0  \n",
       "..             ...          ...  \n",
       "608            0.0          1.0  \n",
       "609            0.0          1.0  \n",
       "610            0.0          1.0  \n",
       "611            2.0          1.0  \n",
       "612            2.0          1.0  \n",
       "\n",
       "[775 rows x 12 columns]"
      ]
     },
     "execution_count": 26,
     "metadata": {},
     "output_type": "execute_result"
    }
   ],
   "source": [
    "df_up"
   ]
  },
  {
   "cell_type": "code",
   "execution_count": 19,
   "id": "645d7222",
   "metadata": {
    "scrolled": true
   },
   "outputs": [
    {
     "data": {
      "text/plain": [
       "Index(['Gender', 'Married', 'Dependents', 'Education', 'Self_Employed',\n",
       "       'ApplicantIncome', 'CoapplicantIncome', 'LoanAmount',\n",
       "       'Loan_Amount_Term', 'Credit_History', 'Property_Area', 'Loan_Status'],\n",
       "      dtype='object')"
      ]
     },
     "execution_count": 19,
     "metadata": {},
     "output_type": "execute_result"
    }
   ],
   "source": [
    "df_up.columns"
   ]
  },
  {
   "cell_type": "code",
   "execution_count": 20,
   "id": "6d18058e",
   "metadata": {},
   "outputs": [],
   "source": [
    "df_f=df_up.copy()"
   ]
  },
  {
   "cell_type": "code",
   "execution_count": 21,
   "id": "443dae98",
   "metadata": {},
   "outputs": [],
   "source": [
    "#Splitting features and target\n",
    "X=df_f.drop(\"Loan_Status\",axis=1)\n",
    "Y=df_f[[\"Loan_Status\"]]"
   ]
  },
  {
   "cell_type": "code",
   "execution_count": 22,
   "id": "df74361e",
   "metadata": {},
   "outputs": [
    {
     "name": "stdout",
     "output_type": "stream",
     "text": [
      "              feature        VIF\n",
      "0              Gender   5.867757\n",
      "1             Married   3.623333\n",
      "2          Dependents   1.794001\n",
      "3           Education   1.306738\n",
      "4       Self_Employed   1.231385\n",
      "5     ApplicantIncome   5.532640\n",
      "6   CoapplicantIncome   2.438037\n",
      "7          LoanAmount  11.316455\n",
      "8    Loan_Amount_Term  10.696957\n",
      "9      Credit_History   4.122631\n",
      "10      Property_Area   2.442841\n"
     ]
    }
   ],
   "source": [
    "#Checking the Variance Inflation Factor\n",
    "from statsmodels.stats.outliers_influence import variance_inflation_factor\n",
    "# VIF dataframe\n",
    "vif_data = pd.DataFrame()\n",
    "vif_data[\"feature\"]=X.columns\n",
    "\n",
    "# calculating VIF for each feature\n",
    "\n",
    "vif_data[\"VIF\"] = [variance_inflation_factor(X.values, i)\n",
    "                          for i in range(len(X.columns))]\n",
    "\n",
    "print(vif_data)"
   ]
  },
  {
   "cell_type": "code",
   "execution_count": 23,
   "id": "9a15eb67",
   "metadata": {},
   "outputs": [],
   "source": [
    "#Scaling Data\n",
    "from sklearn.preprocessing import StandardScaler\n",
    "sc=StandardScaler()\n",
    "Xnew=sc.fit_transform(X)\n",
    "\n",
    "X_s=pd.DataFrame(Xnew,columns=X.columns)"
   ]
  },
  {
   "cell_type": "code",
   "execution_count": 24,
   "id": "526f5404",
   "metadata": {},
   "outputs": [],
   "source": [
    "#Applying power transform\n",
    "from sklearn.preprocessing import power_transform\n",
    "Xt=power_transform(X_s)\n",
    "\n",
    "X_pt=pd.DataFrame(Xt,columns=X_s.columns)"
   ]
  },
  {
   "cell_type": "code",
   "execution_count": 25,
   "id": "ea55fccc",
   "metadata": {},
   "outputs": [],
   "source": [
    "from sklearn.model_selection import train_test_split\n",
    "x_train,x_test,y_train,y_test=train_test_split(X_pt,Y,random_state=4,test_size=0.33)\n",
    "\n",
    "from sklearn.ensemble import RandomForestClassifier"
   ]
  },
  {
   "cell_type": "code",
   "execution_count": 26,
   "id": "f4949b92",
   "metadata": {},
   "outputs": [],
   "source": [
    "rf=RandomForestClassifier()\n"
   ]
  },
  {
   "cell_type": "code",
   "execution_count": 27,
   "id": "34f905c7",
   "metadata": {},
   "outputs": [
    {
     "data": {
      "image/png": "[encoded data removed]",
      "text/plain": [
       "<Figure size 720x576 with 1 Axes>"
      ]
     },
     "metadata": {
      "needs_background": "light"
     },
     "output_type": "display_data"
    }
   ],
   "source": [
    "model=rf.fit(x_train,y_train)\n",
    "\n",
    "#plot graph of feature importances for better visualization\n",
    "feat_importances = pd.Series(model.feature_importances_, index=X_pt.columns)\n",
    "plt.figure(figsize=(10,8))\n",
    "feat_importances.nlargest(10).plot(kind='barh')\n",
    "plt.show()"
   ]
  },
  {
   "cell_type": "code",
   "execution_count": 28,
   "id": "5d3ec401",
   "metadata": {},
   "outputs": [
    {
     "data": {
      "text/plain": [
       "ApplicantIncome      0.218793\n",
       "LoanAmount           0.211289\n",
       "Credit_History       0.198532\n",
       "CoapplicantIncome    0.122338\n",
       "Property_Area        0.068094\n",
       "Dependents           0.055008\n",
       "Loan_Amount_Term     0.034456\n",
       "Married              0.029975\n",
       "Education            0.021693\n",
       "Self_Employed        0.019940\n",
       "Gender               0.019881\n",
       "dtype: float64"
      ]
     },
     "execution_count": 28,
     "metadata": {},
     "output_type": "execute_result"
    }
   ],
   "source": [
    "feat_importances.nlargest(11)"
   ]
  },
  {
   "cell_type": "code",
   "execution_count": 29,
   "id": "b4a130b5",
   "metadata": {},
   "outputs": [
    {
     "data": {
      "text/html": [
       "<div>\n",
       "<style scoped>\n",
       "    .dataframe tbody tr th:only-of-type {\n",
       "        vertical-align: middle;\n",
       "    }\n",
       "\n",
       "    .dataframe tbody tr th {\n",
       "        vertical-align: top;\n",
       "    }\n",
       "\n",
       "    .dataframe thead th {\n",
       "        text-align: right;\n",
       "    }\n",
       "</style>\n",
       "<table border=\"1\" class=\"dataframe\">\n",
       "  <thead>\n",
       "    <tr style=\"text-align: right;\">\n",
       "      <th></th>\n",
       "      <th>Gender</th>\n",
       "      <th>Married</th>\n",
       "      <th>Dependents</th>\n",
       "      <th>Education</th>\n",
       "      <th>Self_Employed</th>\n",
       "      <th>ApplicantIncome</th>\n",
       "      <th>CoapplicantIncome</th>\n",
       "      <th>LoanAmount</th>\n",
       "      <th>Loan_Amount_Term</th>\n",
       "      <th>Credit_History</th>\n",
       "      <th>Property_Area</th>\n",
       "    </tr>\n",
       "  </thead>\n",
       "  <tbody>\n",
       "    <tr>\n",
       "      <th>0</th>\n",
       "      <td>0.495678</td>\n",
       "      <td>-1.331735</td>\n",
       "      <td>-0.794269</td>\n",
       "      <td>-0.521119</td>\n",
       "      <td>-0.376878</td>\n",
       "      <td>1.433795</td>\n",
       "      <td>1.504009</td>\n",
       "      <td>2.259738</td>\n",
       "      <td>0.094460</td>\n",
       "      <td>0.561874</td>\n",
       "      <td>-1.226043</td>\n",
       "    </tr>\n",
       "    <tr>\n",
       "      <th>1</th>\n",
       "      <td>0.495678</td>\n",
       "      <td>-1.331735</td>\n",
       "      <td>-0.794269</td>\n",
       "      <td>1.918946</td>\n",
       "      <td>-0.376878</td>\n",
       "      <td>-1.427369</td>\n",
       "      <td>-0.971871</td>\n",
       "      <td>0.351093</td>\n",
       "      <td>0.094460</td>\n",
       "      <td>0.561874</td>\n",
       "      <td>1.248533</td>\n",
       "    </tr>\n",
       "    <tr>\n",
       "      <th>2</th>\n",
       "      <td>0.495678</td>\n",
       "      <td>0.750900</td>\n",
       "      <td>-0.794269</td>\n",
       "      <td>-0.521119</td>\n",
       "      <td>-0.376878</td>\n",
       "      <td>-1.587871</td>\n",
       "      <td>0.351614</td>\n",
       "      <td>-0.632122</td>\n",
       "      <td>-0.302528</td>\n",
       "      <td>-1.779758</td>\n",
       "      <td>1.248533</td>\n",
       "    </tr>\n",
       "    <tr>\n",
       "      <th>3</th>\n",
       "      <td>-2.017440</td>\n",
       "      <td>-1.331735</td>\n",
       "      <td>0.820737</td>\n",
       "      <td>-0.521119</td>\n",
       "      <td>-0.376878</td>\n",
       "      <td>0.399159</td>\n",
       "      <td>-0.971871</td>\n",
       "      <td>-1.128444</td>\n",
       "      <td>0.094460</td>\n",
       "      <td>0.561874</td>\n",
       "      <td>0.023643</td>\n",
       "    </tr>\n",
       "    <tr>\n",
       "      <th>4</th>\n",
       "      <td>0.495678</td>\n",
       "      <td>0.750900</td>\n",
       "      <td>-0.794269</td>\n",
       "      <td>-0.521119</td>\n",
       "      <td>-0.376878</td>\n",
       "      <td>-0.424579</td>\n",
       "      <td>-0.971871</td>\n",
       "      <td>0.727411</td>\n",
       "      <td>0.094460</td>\n",
       "      <td>0.561874</td>\n",
       "      <td>-1.226043</td>\n",
       "    </tr>\n",
       "    <tr>\n",
       "      <th>...</th>\n",
       "      <td>...</td>\n",
       "      <td>...</td>\n",
       "      <td>...</td>\n",
       "      <td>...</td>\n",
       "      <td>...</td>\n",
       "      <td>...</td>\n",
       "      <td>...</td>\n",
       "      <td>...</td>\n",
       "      <td>...</td>\n",
       "      <td>...</td>\n",
       "      <td>...</td>\n",
       "    </tr>\n",
       "    <tr>\n",
       "      <th>791</th>\n",
       "      <td>0.495678</td>\n",
       "      <td>0.750900</td>\n",
       "      <td>-0.794269</td>\n",
       "      <td>-0.521119</td>\n",
       "      <td>-0.376878</td>\n",
       "      <td>-0.437006</td>\n",
       "      <td>0.722626</td>\n",
       "      <td>-0.438368</td>\n",
       "      <td>0.094460</td>\n",
       "      <td>0.561874</td>\n",
       "      <td>-1.226043</td>\n",
       "    </tr>\n",
       "    <tr>\n",
       "      <th>792</th>\n",
       "      <td>-2.017440</td>\n",
       "      <td>-1.331735</td>\n",
       "      <td>-0.794269</td>\n",
       "      <td>-0.521119</td>\n",
       "      <td>-0.376878</td>\n",
       "      <td>-0.676661</td>\n",
       "      <td>-0.971871</td>\n",
       "      <td>-1.409031</td>\n",
       "      <td>0.094460</td>\n",
       "      <td>0.561874</td>\n",
       "      <td>-1.226043</td>\n",
       "    </tr>\n",
       "    <tr>\n",
       "      <th>793</th>\n",
       "      <td>0.495678</td>\n",
       "      <td>0.750900</td>\n",
       "      <td>1.634335</td>\n",
       "      <td>-0.521119</td>\n",
       "      <td>-0.376878</td>\n",
       "      <td>0.100042</td>\n",
       "      <td>-0.971871</td>\n",
       "      <td>-2.357577</td>\n",
       "      <td>-2.624919</td>\n",
       "      <td>0.561874</td>\n",
       "      <td>-1.226043</td>\n",
       "    </tr>\n",
       "    <tr>\n",
       "      <th>794</th>\n",
       "      <td>0.495678</td>\n",
       "      <td>0.750900</td>\n",
       "      <td>0.820737</td>\n",
       "      <td>-0.521119</td>\n",
       "      <td>-0.376878</td>\n",
       "      <td>1.317430</td>\n",
       "      <td>-0.676348</td>\n",
       "      <td>1.735496</td>\n",
       "      <td>0.094460</td>\n",
       "      <td>0.561874</td>\n",
       "      <td>1.248533</td>\n",
       "    </tr>\n",
       "    <tr>\n",
       "      <th>795</th>\n",
       "      <td>0.495678</td>\n",
       "      <td>0.750900</td>\n",
       "      <td>1.359898</td>\n",
       "      <td>-0.521119</td>\n",
       "      <td>-0.376878</td>\n",
       "      <td>1.224226</td>\n",
       "      <td>-0.971871</td>\n",
       "      <td>0.965956</td>\n",
       "      <td>0.094460</td>\n",
       "      <td>0.561874</td>\n",
       "      <td>1.248533</td>\n",
       "    </tr>\n",
       "  </tbody>\n",
       "</table>\n",
       "<p>796 rows × 11 columns</p>\n",
       "</div>"
      ],
      "text/plain": [
       "       Gender   Married  Dependents  Education  Self_Employed  \\\n",
       "0    0.495678 -1.331735   -0.794269  -0.521119      -0.376878   \n",
       "1    0.495678 -1.331735   -0.794269   1.918946      -0.376878   \n",
       "2    0.495678  0.750900   -0.794269  -0.521119      -0.376878   \n",
       "3   -2.017440 -1.331735    0.820737  -0.521119      -0.376878   \n",
       "4    0.495678  0.750900   -0.794269  -0.521119      -0.376878   \n",
       "..        ...       ...         ...        ...            ...   \n",
       "791  0.495678  0.750900   -0.794269  -0.521119      -0.376878   \n",
       "792 -2.017440 -1.331735   -0.794269  -0.521119      -0.376878   \n",
       "793  0.495678  0.750900    1.634335  -0.521119      -0.376878   \n",
       "794  0.495678  0.750900    0.820737  -0.521119      -0.376878   \n",
       "795  0.495678  0.750900    1.359898  -0.521119      -0.376878   \n",
       "\n",
       "     ApplicantIncome  CoapplicantIncome  LoanAmount  Loan_Amount_Term  \\\n",
       "0           1.433795           1.504009    2.259738          0.094460   \n",
       "1          -1.427369          -0.971871    0.351093          0.094460   \n",
       "2          -1.587871           0.351614   -0.632122         -0.302528   \n",
       "3           0.399159          -0.971871   -1.128444          0.094460   \n",
       "4          -0.424579          -0.971871    0.727411          0.094460   \n",
       "..               ...                ...         ...               ...   \n",
       "791        -0.437006           0.722626   -0.438368          0.094460   \n",
       "792        -0.676661          -0.971871   -1.409031          0.094460   \n",
       "793         0.100042          -0.971871   -2.357577         -2.624919   \n",
       "794         1.317430          -0.676348    1.735496          0.094460   \n",
       "795         1.224226          -0.971871    0.965956          0.094460   \n",
       "\n",
       "     Credit_History  Property_Area  \n",
       "0          0.561874      -1.226043  \n",
       "1          0.561874       1.248533  \n",
       "2         -1.779758       1.248533  \n",
       "3          0.561874       0.023643  \n",
       "4          0.561874      -1.226043  \n",
       "..              ...            ...  \n",
       "791        0.561874      -1.226043  \n",
       "792        0.561874      -1.226043  \n",
       "793        0.561874      -1.226043  \n",
       "794        0.561874       1.248533  \n",
       "795        0.561874       1.248533  \n",
       "\n",
       "[796 rows x 11 columns]"
      ]
     },
     "execution_count": 29,
     "metadata": {},
     "output_type": "execute_result"
    }
   ],
   "source": [
    "X_pt"
   ]
  },
  {
   "cell_type": "code",
   "execution_count": 316,
   "id": "f666a454",
   "metadata": {},
   "outputs": [
    {
     "data": {
      "text/plain": [
       "Index(['Married', 'Dependents', 'Education', 'Self_Employed',\n",
       "       'ApplicantIncome', 'CoapplicantIncome', 'LoanAmount', 'Credit_History',\n",
       "       'Property_Area'],\n",
       "      dtype='object')"
      ]
     },
     "execution_count": 316,
     "metadata": {},
     "output_type": "execute_result"
    }
   ],
   "source": [
    "X_final.columns"
   ]
  },
  {
   "cell_type": "code",
   "execution_count": 30,
   "id": "19c585f8",
   "metadata": {},
   "outputs": [
    {
     "name": "stdout",
     "output_type": "stream",
     "text": [
      "             feature       VIF\n",
      "0            Married  1.273572\n",
      "1         Dependents  1.200229\n",
      "2          Education  1.059448\n",
      "3      Self_Employed  1.080258\n",
      "4    ApplicantIncome  1.785423\n",
      "5  CoapplicantIncome  1.600954\n",
      "6         LoanAmount  1.691525\n",
      "7     Credit_History  1.015008\n",
      "8      Property_Area  1.046292\n"
     ]
    }
   ],
   "source": [
    "# Removing features- Loan_Amount_Term because of the high VIF from the above result\n",
    "\n",
    "X_final=X_pt.drop(columns=[\"Loan_Amount_Term\",\"Gender\"],axis=1)\n",
    "\n",
    "# VIF dataframe\n",
    "vif_data = pd.DataFrame()\n",
    "vif_data[\"feature\"] = X_final.columns\n",
    "\n",
    "# calculating VIF for each feature\n",
    "\n",
    "vif_data[\"VIF\"] = [variance_inflation_factor(X_final.values, i)\n",
    "                          for i in range(len(X_final.columns))]\n",
    "\n",
    "print(vif_data)\n"
   ]
  },
  {
   "cell_type": "markdown",
   "id": "4d3ab01d",
   "metadata": {},
   "source": [
    "# Training Multiple Models"
   ]
  },
  {
   "cell_type": "code",
   "execution_count": 31,
   "id": "4957db5a",
   "metadata": {},
   "outputs": [],
   "source": [
    "#Splitting data into Training and Testing Data\n",
    "from sklearn.model_selection import train_test_split\n",
    "\n",
    "from sklearn.linear_model import LogisticRegression\n",
    "from sklearn.ensemble import RandomForestClassifier\n",
    "from sklearn.neighbors import KNeighborsClassifier\n",
    "from sklearn.svm import SVC\n",
    "from sklearn.tree import DecisionTreeClassifier\n",
    "from sklearn.naive_bayes import GaussianNB\n",
    "from xgboost import XGBClassifier\n",
    "\n",
    "from sklearn.metrics import accuracy_score,confusion_matrix,classification_report,f1_score,roc_auc_score"
   ]
  },
  {
   "cell_type": "code",
   "execution_count": 32,
   "id": "91b0f732",
   "metadata": {},
   "outputs": [],
   "source": [
    "lr=LogisticRegression()\n",
    "rf=RandomForestClassifier()\n",
    "kn=KNeighborsClassifier(n_neighbors=3)\n",
    "sv=SVC()\n",
    "dt=DecisionTreeClassifier(criterion='entropy')\n",
    "gb=GaussianNB()\n",
    "xgb = XGBClassifier()\n",
    "\n",
    "lst=[lr,rf,kn,sv,dt,gb,xgb]"
   ]
  },
  {
   "cell_type": "code",
   "execution_count": 33,
   "id": "2b14e9b5",
   "metadata": {},
   "outputs": [
    {
     "data": {
      "text/html": [
       "<div>\n",
       "<style scoped>\n",
       "    .dataframe tbody tr th:only-of-type {\n",
       "        vertical-align: middle;\n",
       "    }\n",
       "\n",
       "    .dataframe tbody tr th {\n",
       "        vertical-align: top;\n",
       "    }\n",
       "\n",
       "    .dataframe thead th {\n",
       "        text-align: right;\n",
       "    }\n",
       "</style>\n",
       "<table border=\"1\" class=\"dataframe\">\n",
       "  <thead>\n",
       "    <tr style=\"text-align: right;\">\n",
       "      <th></th>\n",
       "      <th>Model</th>\n",
       "      <th>Random State</th>\n",
       "      <th>Accuracy Score-Test</th>\n",
       "      <th>Accuracy Score-Train</th>\n",
       "      <th>F1 Score</th>\n",
       "      <th>Roc_Auc Score</th>\n",
       "    </tr>\n",
       "  </thead>\n",
       "  <tbody>\n",
       "    <tr>\n",
       "      <th>0</th>\n",
       "      <td>LogisticRegression()</td>\n",
       "      <td>0</td>\n",
       "      <td>74.06</td>\n",
       "      <td>74.33</td>\n",
       "      <td>78.17</td>\n",
       "      <td>0.74</td>\n",
       "    </tr>\n",
       "    <tr>\n",
       "      <th>1</th>\n",
       "      <td>LogisticRegression()</td>\n",
       "      <td>1</td>\n",
       "      <td>74.48</td>\n",
       "      <td>73.43</td>\n",
       "      <td>77.49</td>\n",
       "      <td>0.75</td>\n",
       "    </tr>\n",
       "    <tr>\n",
       "      <th>2</th>\n",
       "      <td>LogisticRegression()</td>\n",
       "      <td>2</td>\n",
       "      <td>75.73</td>\n",
       "      <td>73.79</td>\n",
       "      <td>79.72</td>\n",
       "      <td>0.75</td>\n",
       "    </tr>\n",
       "    <tr>\n",
       "      <th>3</th>\n",
       "      <td>LogisticRegression()</td>\n",
       "      <td>3</td>\n",
       "      <td>67.36</td>\n",
       "      <td>73.97</td>\n",
       "      <td>72.54</td>\n",
       "      <td>0.69</td>\n",
       "    </tr>\n",
       "    <tr>\n",
       "      <th>4</th>\n",
       "      <td>LogisticRegression()</td>\n",
       "      <td>4</td>\n",
       "      <td>78.66</td>\n",
       "      <td>73.97</td>\n",
       "      <td>81.18</td>\n",
       "      <td>0.79</td>\n",
       "    </tr>\n",
       "    <tr>\n",
       "      <th>5</th>\n",
       "      <td>(DecisionTreeClassifier(max_features='auto', r...</td>\n",
       "      <td>0</td>\n",
       "      <td>90.38</td>\n",
       "      <td>100.00</td>\n",
       "      <td>89.96</td>\n",
       "      <td>0.90</td>\n",
       "    </tr>\n",
       "    <tr>\n",
       "      <th>6</th>\n",
       "      <td>(DecisionTreeClassifier(max_features='auto', r...</td>\n",
       "      <td>1</td>\n",
       "      <td>90.38</td>\n",
       "      <td>100.00</td>\n",
       "      <td>90.04</td>\n",
       "      <td>0.90</td>\n",
       "    </tr>\n",
       "    <tr>\n",
       "      <th>7</th>\n",
       "      <td>(DecisionTreeClassifier(max_features='auto', r...</td>\n",
       "      <td>2</td>\n",
       "      <td>87.45</td>\n",
       "      <td>100.00</td>\n",
       "      <td>87.70</td>\n",
       "      <td>0.88</td>\n",
       "    </tr>\n",
       "    <tr>\n",
       "      <th>8</th>\n",
       "      <td>(DecisionTreeClassifier(max_features='auto', r...</td>\n",
       "      <td>3</td>\n",
       "      <td>88.28</td>\n",
       "      <td>100.00</td>\n",
       "      <td>87.72</td>\n",
       "      <td>0.88</td>\n",
       "    </tr>\n",
       "    <tr>\n",
       "      <th>9</th>\n",
       "      <td>(DecisionTreeClassifier(max_features='auto', r...</td>\n",
       "      <td>4</td>\n",
       "      <td>92.05</td>\n",
       "      <td>100.00</td>\n",
       "      <td>91.70</td>\n",
       "      <td>0.92</td>\n",
       "    </tr>\n",
       "    <tr>\n",
       "      <th>10</th>\n",
       "      <td>KNeighborsClassifier(n_neighbors=3)</td>\n",
       "      <td>0</td>\n",
       "      <td>82.85</td>\n",
       "      <td>88.51</td>\n",
       "      <td>81.94</td>\n",
       "      <td>0.83</td>\n",
       "    </tr>\n",
       "    <tr>\n",
       "      <th>11</th>\n",
       "      <td>KNeighborsClassifier(n_neighbors=3)</td>\n",
       "      <td>1</td>\n",
       "      <td>81.17</td>\n",
       "      <td>90.31</td>\n",
       "      <td>80.18</td>\n",
       "      <td>0.81</td>\n",
       "    </tr>\n",
       "    <tr>\n",
       "      <th>12</th>\n",
       "      <td>KNeighborsClassifier(n_neighbors=3)</td>\n",
       "      <td>2</td>\n",
       "      <td>76.99</td>\n",
       "      <td>89.77</td>\n",
       "      <td>77.37</td>\n",
       "      <td>0.77</td>\n",
       "    </tr>\n",
       "    <tr>\n",
       "      <th>13</th>\n",
       "      <td>KNeighborsClassifier(n_neighbors=3)</td>\n",
       "      <td>3</td>\n",
       "      <td>77.41</td>\n",
       "      <td>88.51</td>\n",
       "      <td>76.11</td>\n",
       "      <td>0.77</td>\n",
       "    </tr>\n",
       "    <tr>\n",
       "      <th>14</th>\n",
       "      <td>KNeighborsClassifier(n_neighbors=3)</td>\n",
       "      <td>4</td>\n",
       "      <td>77.82</td>\n",
       "      <td>88.51</td>\n",
       "      <td>77.06</td>\n",
       "      <td>0.78</td>\n",
       "    </tr>\n",
       "    <tr>\n",
       "      <th>15</th>\n",
       "      <td>SVC()</td>\n",
       "      <td>0</td>\n",
       "      <td>77.41</td>\n",
       "      <td>79.89</td>\n",
       "      <td>79.85</td>\n",
       "      <td>0.77</td>\n",
       "    </tr>\n",
       "    <tr>\n",
       "      <th>16</th>\n",
       "      <td>SVC()</td>\n",
       "      <td>1</td>\n",
       "      <td>76.99</td>\n",
       "      <td>82.76</td>\n",
       "      <td>79.55</td>\n",
       "      <td>0.77</td>\n",
       "    </tr>\n",
       "    <tr>\n",
       "      <th>17</th>\n",
       "      <td>SVC()</td>\n",
       "      <td>2</td>\n",
       "      <td>77.82</td>\n",
       "      <td>83.12</td>\n",
       "      <td>80.44</td>\n",
       "      <td>0.77</td>\n",
       "    </tr>\n",
       "    <tr>\n",
       "      <th>18</th>\n",
       "      <td>SVC()</td>\n",
       "      <td>3</td>\n",
       "      <td>74.48</td>\n",
       "      <td>84.56</td>\n",
       "      <td>76.08</td>\n",
       "      <td>0.75</td>\n",
       "    </tr>\n",
       "    <tr>\n",
       "      <th>19</th>\n",
       "      <td>SVC()</td>\n",
       "      <td>4</td>\n",
       "      <td>78.66</td>\n",
       "      <td>80.79</td>\n",
       "      <td>80.31</td>\n",
       "      <td>0.79</td>\n",
       "    </tr>\n",
       "    <tr>\n",
       "      <th>20</th>\n",
       "      <td>DecisionTreeClassifier(criterion='entropy')</td>\n",
       "      <td>0</td>\n",
       "      <td>87.03</td>\n",
       "      <td>100.00</td>\n",
       "      <td>85.71</td>\n",
       "      <td>0.87</td>\n",
       "    </tr>\n",
       "    <tr>\n",
       "      <th>21</th>\n",
       "      <td>DecisionTreeClassifier(criterion='entropy')</td>\n",
       "      <td>1</td>\n",
       "      <td>85.36</td>\n",
       "      <td>100.00</td>\n",
       "      <td>83.57</td>\n",
       "      <td>0.85</td>\n",
       "    </tr>\n",
       "    <tr>\n",
       "      <th>22</th>\n",
       "      <td>DecisionTreeClassifier(criterion='entropy')</td>\n",
       "      <td>2</td>\n",
       "      <td>82.43</td>\n",
       "      <td>100.00</td>\n",
       "      <td>81.74</td>\n",
       "      <td>0.83</td>\n",
       "    </tr>\n",
       "    <tr>\n",
       "      <th>23</th>\n",
       "      <td>DecisionTreeClassifier(criterion='entropy')</td>\n",
       "      <td>3</td>\n",
       "      <td>88.28</td>\n",
       "      <td>100.00</td>\n",
       "      <td>87.27</td>\n",
       "      <td>0.88</td>\n",
       "    </tr>\n",
       "    <tr>\n",
       "      <th>24</th>\n",
       "      <td>DecisionTreeClassifier(criterion='entropy')</td>\n",
       "      <td>4</td>\n",
       "      <td>84.94</td>\n",
       "      <td>100.00</td>\n",
       "      <td>83.64</td>\n",
       "      <td>0.85</td>\n",
       "    </tr>\n",
       "    <tr>\n",
       "      <th>25</th>\n",
       "      <td>GaussianNB()</td>\n",
       "      <td>0</td>\n",
       "      <td>73.22</td>\n",
       "      <td>72.53</td>\n",
       "      <td>78.08</td>\n",
       "      <td>0.73</td>\n",
       "    </tr>\n",
       "    <tr>\n",
       "      <th>26</th>\n",
       "      <td>GaussianNB()</td>\n",
       "      <td>1</td>\n",
       "      <td>74.06</td>\n",
       "      <td>72.53</td>\n",
       "      <td>78.47</td>\n",
       "      <td>0.74</td>\n",
       "    </tr>\n",
       "    <tr>\n",
       "      <th>27</th>\n",
       "      <td>GaussianNB()</td>\n",
       "      <td>2</td>\n",
       "      <td>71.55</td>\n",
       "      <td>70.74</td>\n",
       "      <td>76.39</td>\n",
       "      <td>0.71</td>\n",
       "    </tr>\n",
       "    <tr>\n",
       "      <th>28</th>\n",
       "      <td>GaussianNB()</td>\n",
       "      <td>3</td>\n",
       "      <td>69.04</td>\n",
       "      <td>73.79</td>\n",
       "      <td>74.48</td>\n",
       "      <td>0.70</td>\n",
       "    </tr>\n",
       "    <tr>\n",
       "      <th>29</th>\n",
       "      <td>GaussianNB()</td>\n",
       "      <td>4</td>\n",
       "      <td>76.99</td>\n",
       "      <td>71.10</td>\n",
       "      <td>80.97</td>\n",
       "      <td>0.77</td>\n",
       "    </tr>\n",
       "    <tr>\n",
       "      <th>30</th>\n",
       "      <td>XGBClassifier(base_score=0.5, booster='gbtree'...</td>\n",
       "      <td>0</td>\n",
       "      <td>87.87</td>\n",
       "      <td>100.00</td>\n",
       "      <td>86.88</td>\n",
       "      <td>0.88</td>\n",
       "    </tr>\n",
       "    <tr>\n",
       "      <th>31</th>\n",
       "      <td>XGBClassifier(base_score=0.5, booster='gbtree'...</td>\n",
       "      <td>1</td>\n",
       "      <td>87.45</td>\n",
       "      <td>100.00</td>\n",
       "      <td>86.61</td>\n",
       "      <td>0.87</td>\n",
       "    </tr>\n",
       "    <tr>\n",
       "      <th>32</th>\n",
       "      <td>XGBClassifier(base_score=0.5, booster='gbtree'...</td>\n",
       "      <td>2</td>\n",
       "      <td>87.03</td>\n",
       "      <td>100.00</td>\n",
       "      <td>87.35</td>\n",
       "      <td>0.87</td>\n",
       "    </tr>\n",
       "    <tr>\n",
       "      <th>33</th>\n",
       "      <td>XGBClassifier(base_score=0.5, booster='gbtree'...</td>\n",
       "      <td>3</td>\n",
       "      <td>87.87</td>\n",
       "      <td>100.00</td>\n",
       "      <td>87.11</td>\n",
       "      <td>0.88</td>\n",
       "    </tr>\n",
       "    <tr>\n",
       "      <th>34</th>\n",
       "      <td>XGBClassifier(base_score=0.5, booster='gbtree'...</td>\n",
       "      <td>4</td>\n",
       "      <td>88.28</td>\n",
       "      <td>100.00</td>\n",
       "      <td>87.16</td>\n",
       "      <td>0.88</td>\n",
       "    </tr>\n",
       "  </tbody>\n",
       "</table>\n",
       "</div>"
      ],
      "text/plain": [
       "                                                Model  Random State  \\\n",
       "0                                LogisticRegression()             0   \n",
       "1                                LogisticRegression()             1   \n",
       "2                                LogisticRegression()             2   \n",
       "3                                LogisticRegression()             3   \n",
       "4                                LogisticRegression()             4   \n",
       "5   (DecisionTreeClassifier(max_features='auto', r...             0   \n",
       "6   (DecisionTreeClassifier(max_features='auto', r...             1   \n",
       "7   (DecisionTreeClassifier(max_features='auto', r...             2   \n",
       "8   (DecisionTreeClassifier(max_features='auto', r...             3   \n",
       "9   (DecisionTreeClassifier(max_features='auto', r...             4   \n",
       "10                KNeighborsClassifier(n_neighbors=3)             0   \n",
       "11                KNeighborsClassifier(n_neighbors=3)             1   \n",
       "12                KNeighborsClassifier(n_neighbors=3)             2   \n",
       "13                KNeighborsClassifier(n_neighbors=3)             3   \n",
       "14                KNeighborsClassifier(n_neighbors=3)             4   \n",
       "15                                              SVC()             0   \n",
       "16                                              SVC()             1   \n",
       "17                                              SVC()             2   \n",
       "18                                              SVC()             3   \n",
       "19                                              SVC()             4   \n",
       "20        DecisionTreeClassifier(criterion='entropy')             0   \n",
       "21        DecisionTreeClassifier(criterion='entropy')             1   \n",
       "22        DecisionTreeClassifier(criterion='entropy')             2   \n",
       "23        DecisionTreeClassifier(criterion='entropy')             3   \n",
       "24        DecisionTreeClassifier(criterion='entropy')             4   \n",
       "25                                       GaussianNB()             0   \n",
       "26                                       GaussianNB()             1   \n",
       "27                                       GaussianNB()             2   \n",
       "28                                       GaussianNB()             3   \n",
       "29                                       GaussianNB()             4   \n",
       "30  XGBClassifier(base_score=0.5, booster='gbtree'...             0   \n",
       "31  XGBClassifier(base_score=0.5, booster='gbtree'...             1   \n",
       "32  XGBClassifier(base_score=0.5, booster='gbtree'...             2   \n",
       "33  XGBClassifier(base_score=0.5, booster='gbtree'...             3   \n",
       "34  XGBClassifier(base_score=0.5, booster='gbtree'...             4   \n",
       "\n",
       "    Accuracy Score-Test  Accuracy Score-Train  F1 Score  Roc_Auc Score  \n",
       "0                 74.06                 74.33     78.17           0.74  \n",
       "1                 74.48                 73.43     77.49           0.75  \n",
       "2                 75.73                 73.79     79.72           0.75  \n",
       "3                 67.36                 73.97     72.54           0.69  \n",
       "4                 78.66                 73.97     81.18           0.79  \n",
       "5                 90.38                100.00     89.96           0.90  \n",
       "6                 90.38                100.00     90.04           0.90  \n",
       "7                 87.45                100.00     87.70           0.88  \n",
       "8                 88.28                100.00     87.72           0.88  \n",
       "9                 92.05                100.00     91.70           0.92  \n",
       "10                82.85                 88.51     81.94           0.83  \n",
       "11                81.17                 90.31     80.18           0.81  \n",
       "12                76.99                 89.77     77.37           0.77  \n",
       "13                77.41                 88.51     76.11           0.77  \n",
       "14                77.82                 88.51     77.06           0.78  \n",
       "15                77.41                 79.89     79.85           0.77  \n",
       "16                76.99                 82.76     79.55           0.77  \n",
       "17                77.82                 83.12     80.44           0.77  \n",
       "18                74.48                 84.56     76.08           0.75  \n",
       "19                78.66                 80.79     80.31           0.79  \n",
       "20                87.03                100.00     85.71           0.87  \n",
       "21                85.36                100.00     83.57           0.85  \n",
       "22                82.43                100.00     81.74           0.83  \n",
       "23                88.28                100.00     87.27           0.88  \n",
       "24                84.94                100.00     83.64           0.85  \n",
       "25                73.22                 72.53     78.08           0.73  \n",
       "26                74.06                 72.53     78.47           0.74  \n",
       "27                71.55                 70.74     76.39           0.71  \n",
       "28                69.04                 73.79     74.48           0.70  \n",
       "29                76.99                 71.10     80.97           0.77  \n",
       "30                87.87                100.00     86.88           0.88  \n",
       "31                87.45                100.00     86.61           0.87  \n",
       "32                87.03                100.00     87.35           0.87  \n",
       "33                87.87                100.00     87.11           0.88  \n",
       "34                88.28                100.00     87.16           0.88  "
      ]
     },
     "execution_count": 33,
     "metadata": {},
     "output_type": "execute_result"
    }
   ],
   "source": [
    "model=[]\n",
    "acc_score_train=[]\n",
    "acc_score_test=[]\n",
    "F1s=[]\n",
    "rocauc=[]\n",
    "random=[]\n",
    "\n",
    "\n",
    "for i1 in lst:\n",
    "    for i2 in range(0,5):\n",
    "        x_train,x_test,y_train,y_test=train_test_split(Xt,Y,random_state=i2,test_size=0.30)\n",
    "        i1.fit(x_train,y_train)\n",
    "        pred_test=i1.predict(x_test)\n",
    "        pred_train=i1.predict(x_train)\n",
    "        model.append(i1)\n",
    "        acc_score_test.append(round(accuracy_score(y_test,pred_test)*100,2))\n",
    "        acc_score_train.append(round(accuracy_score(y_train,pred_train)*100,2))\n",
    "        F1s.append(round(f1_score(y_test,pred_test)*100,2))\n",
    "        rocauc.append(round(roc_auc_score(y_test,pred_test),2))\n",
    "        random.append(i2)\n",
    "#Creating Dataframe of comparison between different models and their respective scores\n",
    "\n",
    "modeldata=pd.DataFrame({\"Model\":model,\"Random State\":random,\"Accuracy Score-Test\":acc_score_test,\"Accuracy Score-Train\":acc_score_train,\"F1 Score\":F1s,\"Roc_Auc Score\":rocauc})\n",
    "modeldata     "
   ]
  },
  {
   "cell_type": "code",
   "execution_count": 58,
   "id": "2610f16a",
   "metadata": {},
   "outputs": [],
   "source": [
    "x_train,x_test,y_train,y_test=train_test_split(Xt,Y,random_state=4,test_size=0.30)"
   ]
  },
  {
   "cell_type": "markdown",
   "id": "2a5d94e7",
   "metadata": {},
   "source": [
    "# Logistic Regression"
   ]
  },
  {
   "cell_type": "code",
   "execution_count": 59,
   "id": "6d037dad",
   "metadata": {},
   "outputs": [],
   "source": [
    "m1=lr.fit(x_train,y_train)\n",
    "pred_train=m1.predict(x_train)\n",
    "pred_test=m1.predict(x_test)"
   ]
  },
  {
   "cell_type": "code",
   "execution_count": 60,
   "id": "83dc0031",
   "metadata": {},
   "outputs": [
    {
     "name": "stdout",
     "output_type": "stream",
     "text": [
      "74.0\n"
     ]
    }
   ],
   "source": [
    "print(round(accuracy_score(y_train,pred_train),2)*100)"
   ]
  },
  {
   "cell_type": "code",
   "execution_count": 61,
   "id": "709de541",
   "metadata": {},
   "outputs": [
    {
     "name": "stdout",
     "output_type": "stream",
     "text": [
      "79.0\n"
     ]
    }
   ],
   "source": [
    "print(round(accuracy_score(y_test,pred_test),2)*100)"
   ]
  },
  {
   "cell_type": "code",
   "execution_count": 62,
   "id": "4fcdb41b",
   "metadata": {},
   "outputs": [
    {
     "name": "stdout",
     "output_type": "stream",
     "text": [
      "78.0\n"
     ]
    }
   ],
   "source": [
    "print(round(f1_score(y_train,pred_train),2)*100)"
   ]
  },
  {
   "cell_type": "code",
   "execution_count": 63,
   "id": "6c132769",
   "metadata": {},
   "outputs": [
    {
     "name": "stdout",
     "output_type": "stream",
     "text": [
      "81.0\n"
     ]
    }
   ],
   "source": [
    "print(round(f1_score(y_test,pred_test),2)*100)"
   ]
  },
  {
   "cell_type": "code",
   "execution_count": 64,
   "id": "184f44d3",
   "metadata": {},
   "outputs": [
    {
     "name": "stdout",
     "output_type": "stream",
     "text": [
      "              precision    recall  f1-score   support\n",
      "\n",
      "         0.0       0.92      0.64      0.75       122\n",
      "         1.0       0.71      0.94      0.81       117\n",
      "\n",
      "    accuracy                           0.79       239\n",
      "   macro avg       0.82      0.79      0.78       239\n",
      "weighted avg       0.82      0.79      0.78       239\n",
      "\n"
     ]
    }
   ],
   "source": [
    "print(classification_report(y_test,pred_test))"
   ]
  },
  {
   "cell_type": "code",
   "execution_count": 65,
   "id": "eeb0bb7f",
   "metadata": {},
   "outputs": [],
   "source": [
    "from sklearn.model_selection import KFold\n",
    "from sklearn.model_selection import cross_val_score"
   ]
  },
  {
   "cell_type": "code",
   "execution_count": 66,
   "id": "39ea0078",
   "metadata": {},
   "outputs": [],
   "source": [
    "cv=KFold(n_splits=10, random_state=1, shuffle=True)"
   ]
  },
  {
   "cell_type": "code",
   "execution_count": 67,
   "id": "3d705f9c",
   "metadata": {},
   "outputs": [],
   "source": [
    "cv1=cross_val_score(m1,Xt,Y, scoring='accuracy', cv=cv)"
   ]
  },
  {
   "cell_type": "code",
   "execution_count": 68,
   "id": "07e4b04d",
   "metadata": {},
   "outputs": [
    {
     "name": "stdout",
     "output_type": "stream",
     "text": [
      "73.0\n"
     ]
    }
   ],
   "source": [
    "print(round(cv1.mean(),2)*100)"
   ]
  },
  {
   "cell_type": "markdown",
   "id": "27d4693b",
   "metadata": {},
   "source": [
    "# Random Forest Classifier"
   ]
  },
  {
   "cell_type": "code",
   "execution_count": 81,
   "id": "cf00fdb0",
   "metadata": {},
   "outputs": [],
   "source": [
    "m2=rf.fit(x_train,y_train)\n",
    "pred_train=m2.predict(x_train)\n",
    "pred_test=m2.predict(x_test)"
   ]
  },
  {
   "cell_type": "code",
   "execution_count": 82,
   "id": "44261200",
   "metadata": {},
   "outputs": [
    {
     "name": "stdout",
     "output_type": "stream",
     "text": [
      "100.0\n"
     ]
    }
   ],
   "source": [
    "print(round(accuracy_score(y_train,pred_train),2)*100)"
   ]
  },
  {
   "cell_type": "code",
   "execution_count": 83,
   "id": "b49e4dc2",
   "metadata": {},
   "outputs": [
    {
     "name": "stdout",
     "output_type": "stream",
     "text": [
      "92.0\n"
     ]
    }
   ],
   "source": [
    "print(round(accuracy_score(y_test,pred_test),2)*100)"
   ]
  },
  {
   "cell_type": "code",
   "execution_count": 84,
   "id": "0fca5d63",
   "metadata": {},
   "outputs": [
    {
     "name": "stdout",
     "output_type": "stream",
     "text": [
      "100.0\n"
     ]
    }
   ],
   "source": [
    "print(round(f1_score(y_train,pred_train),2)*100)"
   ]
  },
  {
   "cell_type": "code",
   "execution_count": 85,
   "id": "0ab60cf0",
   "metadata": {},
   "outputs": [
    {
     "name": "stdout",
     "output_type": "stream",
     "text": [
      "92.0\n"
     ]
    }
   ],
   "source": [
    "print(round(f1_score(y_test,pred_test),2)*100)"
   ]
  },
  {
   "cell_type": "code",
   "execution_count": 86,
   "id": "12c14fca",
   "metadata": {},
   "outputs": [
    {
     "name": "stdout",
     "output_type": "stream",
     "text": [
      "              precision    recall  f1-score   support\n",
      "\n",
      "         0.0       0.92      0.93      0.93       122\n",
      "         1.0       0.93      0.91      0.92       117\n",
      "\n",
      "    accuracy                           0.92       239\n",
      "   macro avg       0.92      0.92      0.92       239\n",
      "weighted avg       0.92      0.92      0.92       239\n",
      "\n"
     ]
    }
   ],
   "source": [
    "print(classification_report(y_test,pred_test))"
   ]
  },
  {
   "cell_type": "code",
   "execution_count": 87,
   "id": "1e2acd19",
   "metadata": {},
   "outputs": [
    {
     "name": "stdout",
     "output_type": "stream",
     "text": [
      "[[114   8]\n",
      " [ 10 107]]\n"
     ]
    }
   ],
   "source": [
    "print(confusion_matrix(y_test,pred_test))"
   ]
  },
  {
   "cell_type": "code",
   "execution_count": 88,
   "id": "67354bc4",
   "metadata": {},
   "outputs": [],
   "source": [
    "cv=KFold(n_splits=10, random_state=1, shuffle=True)\n",
    "cv1=cross_val_score(m2,Xt,Y, scoring='accuracy', cv=cv)"
   ]
  },
  {
   "cell_type": "code",
   "execution_count": 89,
   "id": "4ed4e542",
   "metadata": {},
   "outputs": [
    {
     "name": "stdout",
     "output_type": "stream",
     "text": [
      "93.0\n"
     ]
    }
   ],
   "source": [
    "print(round(cv1.mean(),2)*100)"
   ]
  },
  {
   "cell_type": "markdown",
   "id": "0a4be71f",
   "metadata": {},
   "source": [
    "# K Neihbors Classifier"
   ]
  },
  {
   "cell_type": "code",
   "execution_count": 66,
   "id": "8eeb3887",
   "metadata": {},
   "outputs": [],
   "source": [
    "m3=kn.fit(x_train,y_train)\n",
    "pred_train=m3.predict(x_train)\n",
    "pred_test=m3.predict(x_test)"
   ]
  },
  {
   "cell_type": "code",
   "execution_count": 67,
   "id": "a04e32f1",
   "metadata": {},
   "outputs": [
    {
     "name": "stdout",
     "output_type": "stream",
     "text": [
      "89.0\n"
     ]
    }
   ],
   "source": [
    "print(round(accuracy_score(y_train,pred_train),2)*100)"
   ]
  },
  {
   "cell_type": "code",
   "execution_count": 68,
   "id": "174abdae",
   "metadata": {},
   "outputs": [
    {
     "name": "stdout",
     "output_type": "stream",
     "text": [
      "81.0\n"
     ]
    }
   ],
   "source": [
    "print(round(accuracy_score(y_test,pred_test),2)*100)"
   ]
  },
  {
   "cell_type": "code",
   "execution_count": 70,
   "id": "45768d80",
   "metadata": {},
   "outputs": [
    {
     "name": "stdout",
     "output_type": "stream",
     "text": [
      "88.0\n"
     ]
    }
   ],
   "source": [
    "print(round(f1_score(y_train,pred_train),2)*100)"
   ]
  },
  {
   "cell_type": "code",
   "execution_count": 71,
   "id": "29830a58",
   "metadata": {},
   "outputs": [
    {
     "name": "stdout",
     "output_type": "stream",
     "text": [
      "79.0\n"
     ]
    }
   ],
   "source": [
    "print(round(f1_score(y_test,pred_test),2)*100)"
   ]
  },
  {
   "cell_type": "code",
   "execution_count": 72,
   "id": "dbbf4b9e",
   "metadata": {},
   "outputs": [
    {
     "name": "stdout",
     "output_type": "stream",
     "text": [
      "              precision    recall  f1-score   support\n",
      "\n",
      "         0.0       0.81      0.84      0.83       124\n",
      "         1.0       0.81      0.78      0.79       109\n",
      "\n",
      "    accuracy                           0.81       233\n",
      "   macro avg       0.81      0.81      0.81       233\n",
      "weighted avg       0.81      0.81      0.81       233\n",
      "\n"
     ]
    }
   ],
   "source": [
    "print(classification_report(y_test,pred_test))"
   ]
  },
  {
   "cell_type": "code",
   "execution_count": 73,
   "id": "b8e7af5e",
   "metadata": {},
   "outputs": [],
   "source": [
    "cv=KFold(n_splits=10, random_state=1, shuffle=True)\n",
    "cv1=cross_val_score(m3,Xt,Y, scoring='accuracy', cv=cv)"
   ]
  },
  {
   "cell_type": "code",
   "execution_count": 74,
   "id": "84cb3147",
   "metadata": {},
   "outputs": [
    {
     "name": "stdout",
     "output_type": "stream",
     "text": [
      "78.0\n"
     ]
    }
   ],
   "source": [
    "print(round(cv1.mean(),2)*100)"
   ]
  },
  {
   "cell_type": "markdown",
   "id": "54ce25e8",
   "metadata": {},
   "source": [
    "# SVC"
   ]
  },
  {
   "cell_type": "code",
   "execution_count": 75,
   "id": "ef655e9f",
   "metadata": {},
   "outputs": [],
   "source": [
    "m4=sv.fit(x_train,y_train)\n",
    "pred_train=m4.predict(x_train)\n",
    "pred_test=m4.predict(x_test)"
   ]
  },
  {
   "cell_type": "code",
   "execution_count": 76,
   "id": "1bdab854",
   "metadata": {},
   "outputs": [
    {
     "name": "stdout",
     "output_type": "stream",
     "text": [
      "82.0\n"
     ]
    }
   ],
   "source": [
    "print(round(accuracy_score(y_train,pred_train),2)*100)"
   ]
  },
  {
   "cell_type": "code",
   "execution_count": 77,
   "id": "7316d94c",
   "metadata": {},
   "outputs": [
    {
     "name": "stdout",
     "output_type": "stream",
     "text": [
      "80.0\n"
     ]
    }
   ],
   "source": [
    "print(round(accuracy_score(y_test,pred_test),2)*100)"
   ]
  },
  {
   "cell_type": "code",
   "execution_count": 79,
   "id": "9fc026ba",
   "metadata": {},
   "outputs": [
    {
     "name": "stdout",
     "output_type": "stream",
     "text": [
      "84.0\n"
     ]
    }
   ],
   "source": [
    "print(round(f1_score(y_train,pred_train),2)*100)"
   ]
  },
  {
   "cell_type": "code",
   "execution_count": 80,
   "id": "dec2ce66",
   "metadata": {},
   "outputs": [
    {
     "name": "stdout",
     "output_type": "stream",
     "text": [
      "82.0\n"
     ]
    }
   ],
   "source": [
    "print(round(f1_score(y_test,pred_test),2)*100)"
   ]
  },
  {
   "cell_type": "code",
   "execution_count": 81,
   "id": "1b61e231",
   "metadata": {},
   "outputs": [
    {
     "name": "stdout",
     "output_type": "stream",
     "text": [
      "              precision    recall  f1-score   support\n",
      "\n",
      "         0.0       0.95      0.65      0.78       124\n",
      "         1.0       0.71      0.96      0.82       109\n",
      "\n",
      "    accuracy                           0.80       233\n",
      "   macro avg       0.83      0.81      0.80       233\n",
      "weighted avg       0.84      0.80      0.79       233\n",
      "\n"
     ]
    }
   ],
   "source": [
    "print(classification_report(y_test,pred_test))"
   ]
  },
  {
   "cell_type": "code",
   "execution_count": 82,
   "id": "4c79e48c",
   "metadata": {},
   "outputs": [],
   "source": [
    "cv=KFold(n_splits=10, random_state=1, shuffle=True)\n",
    "cv1=cross_val_score(m4,Xt,Y, scoring='accuracy', cv=cv)"
   ]
  },
  {
   "cell_type": "code",
   "execution_count": 83,
   "id": "1244f294",
   "metadata": {},
   "outputs": [
    {
     "name": "stdout",
     "output_type": "stream",
     "text": [
      "77.0\n"
     ]
    }
   ],
   "source": [
    "print(round(cv1.mean(),2)*100)"
   ]
  },
  {
   "cell_type": "markdown",
   "id": "e6054c0c",
   "metadata": {},
   "source": [
    "# Decision Tree Classifier"
   ]
  },
  {
   "cell_type": "code",
   "execution_count": 84,
   "id": "7edfef58",
   "metadata": {},
   "outputs": [],
   "source": [
    "m5=dt.fit(x_train,y_train)\n",
    "pred_train=m5.predict(x_train)\n",
    "pred_test=m5.predict(x_test)"
   ]
  },
  {
   "cell_type": "code",
   "execution_count": 85,
   "id": "d067d730",
   "metadata": {},
   "outputs": [
    {
     "name": "stdout",
     "output_type": "stream",
     "text": [
      "100.0\n"
     ]
    }
   ],
   "source": [
    "print(round(accuracy_score(y_train,pred_train),2)*100)"
   ]
  },
  {
   "cell_type": "code",
   "execution_count": 86,
   "id": "f2175253",
   "metadata": {},
   "outputs": [
    {
     "name": "stdout",
     "output_type": "stream",
     "text": [
      "87.0\n"
     ]
    }
   ],
   "source": [
    "print(round(accuracy_score(y_test,pred_test),2)*100)"
   ]
  },
  {
   "cell_type": "code",
   "execution_count": 88,
   "id": "2b173a23",
   "metadata": {},
   "outputs": [
    {
     "name": "stdout",
     "output_type": "stream",
     "text": [
      "100.0\n"
     ]
    }
   ],
   "source": [
    "print(round(f1_score(y_train,pred_train),2)*100)"
   ]
  },
  {
   "cell_type": "code",
   "execution_count": 90,
   "id": "92556fab",
   "metadata": {},
   "outputs": [
    {
     "name": "stdout",
     "output_type": "stream",
     "text": [
      "85.0\n"
     ]
    }
   ],
   "source": [
    "print(round(f1_score(y_test,pred_test),2)*100)"
   ]
  },
  {
   "cell_type": "code",
   "execution_count": 91,
   "id": "caab337a",
   "metadata": {},
   "outputs": [
    {
     "name": "stdout",
     "output_type": "stream",
     "text": [
      "              precision    recall  f1-score   support\n",
      "\n",
      "         0.0       0.83      0.96      0.89       124\n",
      "         1.0       0.94      0.77      0.85       109\n",
      "\n",
      "    accuracy                           0.87       233\n",
      "   macro avg       0.89      0.87      0.87       233\n",
      "weighted avg       0.88      0.87      0.87       233\n",
      "\n"
     ]
    }
   ],
   "source": [
    "print(classification_report(y_test,pred_test))"
   ]
  },
  {
   "cell_type": "code",
   "execution_count": 92,
   "id": "06e43815",
   "metadata": {},
   "outputs": [],
   "source": [
    "cv=KFold(n_splits=10, random_state=1, shuffle=True)\n",
    "cv1=cross_val_score(m5,Xt,Y, scoring='accuracy', cv=cv)"
   ]
  },
  {
   "cell_type": "code",
   "execution_count": 93,
   "id": "30e8f2f9",
   "metadata": {},
   "outputs": [
    {
     "name": "stdout",
     "output_type": "stream",
     "text": [
      "89.0\n"
     ]
    }
   ],
   "source": [
    "print(round(cv1.mean(),2)*100)"
   ]
  },
  {
   "cell_type": "markdown",
   "id": "380b86ac",
   "metadata": {},
   "source": [
    "# Gaussian NB"
   ]
  },
  {
   "cell_type": "code",
   "execution_count": 104,
   "id": "be767eb8",
   "metadata": {},
   "outputs": [],
   "source": [
    "m6=gb.fit(x_train,y_train)\n",
    "pred_train=m6.predict(x_train)\n",
    "pred_test=m6.predict(x_test)"
   ]
  },
  {
   "cell_type": "code",
   "execution_count": 105,
   "id": "069b5c04",
   "metadata": {},
   "outputs": [
    {
     "name": "stdout",
     "output_type": "stream",
     "text": [
      "75.0\n"
     ]
    }
   ],
   "source": [
    "print(round(accuracy_score(y_train,pred_train),2)*100)"
   ]
  },
  {
   "cell_type": "code",
   "execution_count": 106,
   "id": "d075201c",
   "metadata": {},
   "outputs": [
    {
     "name": "stdout",
     "output_type": "stream",
     "text": [
      "76.0\n"
     ]
    }
   ],
   "source": [
    "print(round(accuracy_score(y_test,pred_test),2)*100)"
   ]
  },
  {
   "cell_type": "code",
   "execution_count": 107,
   "id": "04e8cf42",
   "metadata": {},
   "outputs": [
    {
     "name": "stdout",
     "output_type": "stream",
     "text": [
      "79.0\n"
     ]
    }
   ],
   "source": [
    "print(round(f1_score(y_train,pred_train),2)*100)"
   ]
  },
  {
   "cell_type": "code",
   "execution_count": 108,
   "id": "cd63a3b1",
   "metadata": {},
   "outputs": [
    {
     "name": "stdout",
     "output_type": "stream",
     "text": [
      "79.0\n"
     ]
    }
   ],
   "source": [
    "print(round(f1_score(y_test,pred_test),2)*100)"
   ]
  },
  {
   "cell_type": "code",
   "execution_count": 109,
   "id": "a0939d36",
   "metadata": {},
   "outputs": [
    {
     "name": "stdout",
     "output_type": "stream",
     "text": [
      "              precision    recall  f1-score   support\n",
      "\n",
      "         0.0       0.94      0.59      0.72       124\n",
      "         1.0       0.67      0.95      0.79       109\n",
      "\n",
      "    accuracy                           0.76       233\n",
      "   macro avg       0.80      0.77      0.76       233\n",
      "weighted avg       0.81      0.76      0.75       233\n",
      "\n"
     ]
    }
   ],
   "source": [
    "print(classification_report(y_test,pred_test))"
   ]
  },
  {
   "cell_type": "code",
   "execution_count": 102,
   "id": "968c17d7",
   "metadata": {},
   "outputs": [],
   "source": [
    "cv=KFold(n_splits=10, random_state=1, shuffle=True)\n",
    "cv1=cross_val_score(m6,Xt,Y, scoring='accuracy', cv=cv)"
   ]
  },
  {
   "cell_type": "code",
   "execution_count": 103,
   "id": "bec9bdea",
   "metadata": {},
   "outputs": [
    {
     "name": "stdout",
     "output_type": "stream",
     "text": [
      "73.0\n"
     ]
    }
   ],
   "source": [
    "print(round(cv1.mean(),2)*100)"
   ]
  },
  {
   "cell_type": "markdown",
   "id": "87c0edfe",
   "metadata": {},
   "source": [
    "# XGBoost Classifier"
   ]
  },
  {
   "cell_type": "code",
   "execution_count": 52,
   "id": "8c801b21",
   "metadata": {},
   "outputs": [],
   "source": [
    "m7=xgb.fit(x_train,y_train)\n",
    "pred_train=m7.predict(x_train)\n",
    "pred_test=m7.predict(x_test)"
   ]
  },
  {
   "cell_type": "code",
   "execution_count": 53,
   "id": "d242c73c",
   "metadata": {},
   "outputs": [
    {
     "name": "stdout",
     "output_type": "stream",
     "text": [
      "100.0\n"
     ]
    }
   ],
   "source": [
    "print(round(accuracy_score(y_train,pred_train),2)*100)"
   ]
  },
  {
   "cell_type": "code",
   "execution_count": 54,
   "id": "e9b2813b",
   "metadata": {},
   "outputs": [
    {
     "name": "stdout",
     "output_type": "stream",
     "text": [
      "88.0\n"
     ]
    }
   ],
   "source": [
    "print(round(accuracy_score(y_test,pred_test),2)*100)"
   ]
  },
  {
   "cell_type": "code",
   "execution_count": 55,
   "id": "f0b7c5c9",
   "metadata": {},
   "outputs": [
    {
     "name": "stdout",
     "output_type": "stream",
     "text": [
      "100.0\n"
     ]
    }
   ],
   "source": [
    "print(round(f1_score(y_train,pred_train),2)*100)"
   ]
  },
  {
   "cell_type": "code",
   "execution_count": 56,
   "id": "457026f2",
   "metadata": {},
   "outputs": [
    {
     "name": "stdout",
     "output_type": "stream",
     "text": [
      "87.0\n"
     ]
    }
   ],
   "source": [
    "print(round(f1_score(y_test,pred_test),2)*100)"
   ]
  },
  {
   "cell_type": "code",
   "execution_count": 57,
   "id": "7494944f",
   "metadata": {},
   "outputs": [
    {
     "name": "stdout",
     "output_type": "stream",
     "text": [
      "              precision    recall  f1-score   support\n",
      "\n",
      "         0.0       0.83      0.95      0.89       120\n",
      "         1.0       0.94      0.81      0.87       119\n",
      "\n",
      "    accuracy                           0.88       239\n",
      "   macro avg       0.89      0.88      0.88       239\n",
      "weighted avg       0.89      0.88      0.88       239\n",
      "\n"
     ]
    }
   ],
   "source": [
    "print(classification_report(y_test,pred_test))"
   ]
  },
  {
   "cell_type": "code",
   "execution_count": 116,
   "id": "bb2ea97f",
   "metadata": {},
   "outputs": [],
   "source": [
    "cv=KFold(n_splits=10, random_state=1, shuffle=True)\n",
    "cv1=cross_val_score(m7,Xt,Y, scoring='accuracy', cv=cv)"
   ]
  },
  {
   "cell_type": "code",
   "execution_count": 117,
   "id": "d563da5b",
   "metadata": {},
   "outputs": [
    {
     "name": "stdout",
     "output_type": "stream",
     "text": [
      "92.0\n"
     ]
    }
   ],
   "source": [
    "print(round(cv1.mean(),2)*100)"
   ]
  },
  {
   "cell_type": "markdown",
   "id": "7f93b7ad",
   "metadata": {},
   "source": [
    "#### From the above results, the Random Forest Classifier Model with random state-4 and test-size-0.30 has an accuracy score for test data- 92 and train data- 100 and F1 score-92 which is an effective model compared to other models.The model has achieved a cross validation score of 93.Hence, we will be performing hyperparameter tuning on the Random Forest Classifier Model."
   ]
  },
  {
   "cell_type": "markdown",
   "id": "a1556a14",
   "metadata": {},
   "source": [
    "# Hyperparamter Tuning"
   ]
  },
  {
   "cell_type": "code",
   "execution_count": 244,
   "id": "997d4de4",
   "metadata": {},
   "outputs": [],
   "source": [
    "from sklearn.model_selection import RandomizedSearchCV"
   ]
  },
  {
   "cell_type": "code",
   "execution_count": 317,
   "id": "a5c7a730",
   "metadata": {},
   "outputs": [],
   "source": [
    "rf=RandomForestClassifier(n_estimators=30)"
   ]
  },
  {
   "cell_type": "code",
   "execution_count": 318,
   "id": "cf544a19",
   "metadata": {},
   "outputs": [
    {
     "data": {
      "text/plain": [
       "{'bootstrap': True,\n",
       " 'ccp_alpha': 0.0,\n",
       " 'class_weight': None,\n",
       " 'criterion': 'gini',\n",
       " 'max_depth': None,\n",
       " 'max_features': 'auto',\n",
       " 'max_leaf_nodes': None,\n",
       " 'max_samples': None,\n",
       " 'min_impurity_decrease': 0.0,\n",
       " 'min_samples_leaf': 1,\n",
       " 'min_samples_split': 2,\n",
       " 'min_weight_fraction_leaf': 0.0,\n",
       " 'n_estimators': 30,\n",
       " 'n_jobs': None,\n",
       " 'oob_score': False,\n",
       " 'random_state': None,\n",
       " 'verbose': 0,\n",
       " 'warm_start': False}"
      ]
     },
     "execution_count": 318,
     "metadata": {},
     "output_type": "execute_result"
    }
   ],
   "source": [
    "rf.get_params()"
   ]
  },
  {
   "cell_type": "code",
   "execution_count": 337,
   "id": "189c7eef",
   "metadata": {},
   "outputs": [],
   "source": [
    "param_dist={\"max_depth\": [20,30,40,50],\n",
    "            \"criterion\": [\"gini\", \"entropy\",\"log_loss\"],\n",
    "            'ccp_alpha': [0.0,0.1,0.2],\n",
    "            \"n_jobs\":[1,2],}"
   ]
  },
  {
   "cell_type": "code",
   "execution_count": 338,
   "id": "5654e9dc",
   "metadata": {},
   "outputs": [],
   "source": [
    "samples=7  # number of random samples \n",
    "randomCV=RandomizedSearchCV(rf, param_distributions=param_dist,n_iter=samples,cv=3)"
   ]
  },
  {
   "cell_type": "code",
   "execution_count": 339,
   "id": "386a028a",
   "metadata": {},
   "outputs": [],
   "source": [
    "final=randomCV.fit(x_train,y_train)"
   ]
  },
  {
   "cell_type": "code",
   "execution_count": 340,
   "id": "37c072e1",
   "metadata": {},
   "outputs": [
    {
     "name": "stdout",
     "output_type": "stream",
     "text": [
      "{'n_jobs': 2, 'max_depth': 50, 'criterion': 'entropy', 'ccp_alpha': 0.0}\n"
     ]
    }
   ],
   "source": [
    "print(final.best_params_)"
   ]
  },
  {
   "cell_type": "code",
   "execution_count": 341,
   "id": "182174eb",
   "metadata": {},
   "outputs": [],
   "source": [
    "pred1=final.predict(x_test)\n",
    "pred2=final.predict(x_train)"
   ]
  },
  {
   "cell_type": "code",
   "execution_count": 342,
   "id": "2e2b1dd9",
   "metadata": {},
   "outputs": [
    {
     "name": "stdout",
     "output_type": "stream",
     "text": [
      "100.0\n"
     ]
    }
   ],
   "source": [
    "print(round(accuracy_score(y_train,pred2),2)*100)"
   ]
  },
  {
   "cell_type": "code",
   "execution_count": 343,
   "id": "eff389b8",
   "metadata": {},
   "outputs": [
    {
     "name": "stdout",
     "output_type": "stream",
     "text": [
      "94.0\n"
     ]
    }
   ],
   "source": [
    "print(round(accuracy_score(y_test,pred1),2)*100)"
   ]
  },
  {
   "cell_type": "code",
   "execution_count": 344,
   "id": "8853114b",
   "metadata": {},
   "outputs": [
    {
     "name": "stdout",
     "output_type": "stream",
     "text": [
      "100.0\n"
     ]
    }
   ],
   "source": [
    "print(round(f1_score(y_train,pred2),2)*100)"
   ]
  },
  {
   "cell_type": "code",
   "execution_count": 345,
   "id": "dd19c6d5",
   "metadata": {},
   "outputs": [
    {
     "name": "stdout",
     "output_type": "stream",
     "text": [
      "94.0\n"
     ]
    }
   ],
   "source": [
    "print(round(f1_score(y_test,pred1),2)*100)"
   ]
  },
  {
   "cell_type": "code",
   "execution_count": 346,
   "id": "d75bb71a",
   "metadata": {},
   "outputs": [
    {
     "name": "stdout",
     "output_type": "stream",
     "text": [
      "              precision    recall  f1-score   support\n",
      "\n",
      "         0.0       0.94      0.93      0.94       122\n",
      "         1.0       0.93      0.94      0.94       117\n",
      "\n",
      "    accuracy                           0.94       239\n",
      "   macro avg       0.94      0.94      0.94       239\n",
      "weighted avg       0.94      0.94      0.94       239\n",
      "\n"
     ]
    }
   ],
   "source": [
    "print(classification_report(y_test,pred1))"
   ]
  },
  {
   "cell_type": "code",
   "execution_count": 347,
   "id": "3ccc2df5",
   "metadata": {},
   "outputs": [
    {
     "name": "stdout",
     "output_type": "stream",
     "text": [
      "94.0\n"
     ]
    }
   ],
   "source": [
    "print(round(roc_auc_score(y_test,pred1),2)*100)"
   ]
  },
  {
   "cell_type": "code",
   "execution_count": 348,
   "id": "4150dfc7",
   "metadata": {},
   "outputs": [
    {
     "name": "stdout",
     "output_type": "stream",
     "text": [
      "[[114   8]\n",
      " [  7 110]]\n"
     ]
    }
   ],
   "source": [
    "print(confusion_matrix(y_test,pred1))"
   ]
  },
  {
   "cell_type": "code",
   "execution_count": 349,
   "id": "f3b07be9",
   "metadata": {},
   "outputs": [],
   "source": [
    "from sklearn import metrics"
   ]
  },
  {
   "cell_type": "code",
   "execution_count": 350,
   "id": "a66f38ec",
   "metadata": {},
   "outputs": [
    {
     "data": {
      "image/png": "[encoded data removed]",
      "text/plain": [
       "<Figure size 432x288 with 1 Axes>"
      ]
     },
     "metadata": {
      "needs_background": "light"
     },
     "output_type": "display_data"
    }
   ],
   "source": [
    "metrics.plot_roc_curve(final,x_test,y_test)\n",
    "plt.show()"
   ]
  },
  {
   "cell_type": "markdown",
   "id": "426961c0",
   "metadata": {},
   "source": [
    "The developed model after hyperparameter tuning has reduced false negatives. Before tuning it was 10 and after tuning it is 7 and True negatives improved from 107 to 110 and improved accuracy score of 94%"
   ]
  },
  {
   "cell_type": "markdown",
   "id": "61c1675d",
   "metadata": {},
   "source": [
    "# Saving Model"
   ]
  },
  {
   "cell_type": "code",
   "execution_count": 214,
   "id": "e344ddfd",
   "metadata": {},
   "outputs": [],
   "source": [
    "import pickle\n",
    "pickle.dump(final, open('Loan_Status', 'wb'))"
   ]
  },
  {
   "cell_type": "code",
   "execution_count": 216,
   "id": "67e2dd00",
   "metadata": {},
   "outputs": [],
   "source": [
    "pickled_model=pickle.load(open('Loan_Status', 'rb'))\n",
    "a=pickled_model.predict(x_test)"
   ]
  }
 ],
 "metadata": {
  "kernelspec": {
   "display_name": "Python 3 (ipykernel)",
   "language": "python",
   "name": "python3"
  },
  "language_info": {
   "codemirror_mode": {
    "name": "ipython",
    "version": 3
   },
   "file_extension": ".py",
   "mimetype": "text/x-python",
   "name": "python",
   "nbconvert_exporter": "python",
   "pygments_lexer": "ipython3",
   "version": "3.9.12"
  }
 },
 "nbformat": 4,
 "nbformat_minor": 5
}
