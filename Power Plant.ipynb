{
 "cells": [
  {
   "cell_type": "code",
   "execution_count": 14,
   "id": "fb335a19",
   "metadata": {},
   "outputs": [],
   "source": [
    "#Importing the required libraries\n",
    "import pandas as pd\n",
    "import numpy as np\n",
    "import seaborn as sns\n",
    "import matplotlib.pyplot as plt\n",
    "import warnings\n",
    "warnings.filterwarnings('ignore')\n",
    "%matplotlib inline\n"
   ]
  },
  {
   "cell_type": "code",
   "execution_count": 196,
   "id": "5e697988",
   "metadata": {},
   "outputs": [],
   "source": [
    "#Loading the data\n",
    "df=pd.read_csv(\"https://raw.githubusercontent.com/wri/global-power-plant-database/master/source_databases_csv/database_IND.csv\")"
   ]
  },
  {
   "cell_type": "code",
   "execution_count": 16,
   "id": "936ad447",
   "metadata": {},
   "outputs": [
    {
     "data": {
      "text/html": [
       "<div>\n",
       "<style scoped>\n",
       "    .dataframe tbody tr th:only-of-type {\n",
       "        vertical-align: middle;\n",
       "    }\n",
       "\n",
       "    .dataframe tbody tr th {\n",
       "        vertical-align: top;\n",
       "    }\n",
       "\n",
       "    .dataframe thead th {\n",
       "        text-align: right;\n",
       "    }\n",
       "</style>\n",
       "<table border=\"1\" class=\"dataframe\">\n",
       "  <thead>\n",
       "    <tr style=\"text-align: right;\">\n",
       "      <th></th>\n",
       "      <th>country</th>\n",
       "      <th>country_long</th>\n",
       "      <th>name</th>\n",
       "      <th>gppd_idnr</th>\n",
       "      <th>capacity_mw</th>\n",
       "      <th>latitude</th>\n",
       "      <th>longitude</th>\n",
       "      <th>primary_fuel</th>\n",
       "      <th>other_fuel1</th>\n",
       "      <th>other_fuel2</th>\n",
       "      <th>...</th>\n",
       "      <th>year_of_capacity_data</th>\n",
       "      <th>generation_gwh_2013</th>\n",
       "      <th>generation_gwh_2014</th>\n",
       "      <th>generation_gwh_2015</th>\n",
       "      <th>generation_gwh_2016</th>\n",
       "      <th>generation_gwh_2017</th>\n",
       "      <th>generation_gwh_2018</th>\n",
       "      <th>generation_gwh_2019</th>\n",
       "      <th>generation_data_source</th>\n",
       "      <th>estimated_generation_gwh</th>\n",
       "    </tr>\n",
       "  </thead>\n",
       "  <tbody>\n",
       "    <tr>\n",
       "      <th>0</th>\n",
       "      <td>IND</td>\n",
       "      <td>India</td>\n",
       "      <td>ACME Solar Tower</td>\n",
       "      <td>WRI1020239</td>\n",
       "      <td>2.5</td>\n",
       "      <td>28.1839</td>\n",
       "      <td>73.2407</td>\n",
       "      <td>Solar</td>\n",
       "      <td>NaN</td>\n",
       "      <td>NaN</td>\n",
       "      <td>...</td>\n",
       "      <td>NaN</td>\n",
       "      <td>NaN</td>\n",
       "      <td>NaN</td>\n",
       "      <td>NaN</td>\n",
       "      <td>NaN</td>\n",
       "      <td>NaN</td>\n",
       "      <td>NaN</td>\n",
       "      <td>NaN</td>\n",
       "      <td>NaN</td>\n",
       "      <td>NaN</td>\n",
       "    </tr>\n",
       "    <tr>\n",
       "      <th>1</th>\n",
       "      <td>IND</td>\n",
       "      <td>India</td>\n",
       "      <td>ADITYA CEMENT WORKS</td>\n",
       "      <td>WRI1019881</td>\n",
       "      <td>98.0</td>\n",
       "      <td>24.7663</td>\n",
       "      <td>74.6090</td>\n",
       "      <td>Coal</td>\n",
       "      <td>NaN</td>\n",
       "      <td>NaN</td>\n",
       "      <td>...</td>\n",
       "      <td>NaN</td>\n",
       "      <td>NaN</td>\n",
       "      <td>NaN</td>\n",
       "      <td>NaN</td>\n",
       "      <td>NaN</td>\n",
       "      <td>NaN</td>\n",
       "      <td>NaN</td>\n",
       "      <td>NaN</td>\n",
       "      <td>NaN</td>\n",
       "      <td>NaN</td>\n",
       "    </tr>\n",
       "    <tr>\n",
       "      <th>2</th>\n",
       "      <td>IND</td>\n",
       "      <td>India</td>\n",
       "      <td>AES Saurashtra Windfarms</td>\n",
       "      <td>WRI1026669</td>\n",
       "      <td>39.2</td>\n",
       "      <td>21.9038</td>\n",
       "      <td>69.3732</td>\n",
       "      <td>Wind</td>\n",
       "      <td>NaN</td>\n",
       "      <td>NaN</td>\n",
       "      <td>...</td>\n",
       "      <td>NaN</td>\n",
       "      <td>NaN</td>\n",
       "      <td>NaN</td>\n",
       "      <td>NaN</td>\n",
       "      <td>NaN</td>\n",
       "      <td>NaN</td>\n",
       "      <td>NaN</td>\n",
       "      <td>NaN</td>\n",
       "      <td>NaN</td>\n",
       "      <td>NaN</td>\n",
       "    </tr>\n",
       "    <tr>\n",
       "      <th>3</th>\n",
       "      <td>IND</td>\n",
       "      <td>India</td>\n",
       "      <td>AGARTALA GT</td>\n",
       "      <td>IND0000001</td>\n",
       "      <td>135.0</td>\n",
       "      <td>23.8712</td>\n",
       "      <td>91.3602</td>\n",
       "      <td>Gas</td>\n",
       "      <td>NaN</td>\n",
       "      <td>NaN</td>\n",
       "      <td>...</td>\n",
       "      <td>2019.0</td>\n",
       "      <td>NaN</td>\n",
       "      <td>617.789264</td>\n",
       "      <td>843.747000</td>\n",
       "      <td>886.004428</td>\n",
       "      <td>663.774500</td>\n",
       "      <td>626.239128</td>\n",
       "      <td>NaN</td>\n",
       "      <td>Central Electricity Authority</td>\n",
       "      <td>NaN</td>\n",
       "    </tr>\n",
       "    <tr>\n",
       "      <th>4</th>\n",
       "      <td>IND</td>\n",
       "      <td>India</td>\n",
       "      <td>AKALTARA TPP</td>\n",
       "      <td>IND0000002</td>\n",
       "      <td>1800.0</td>\n",
       "      <td>21.9603</td>\n",
       "      <td>82.4091</td>\n",
       "      <td>Coal</td>\n",
       "      <td>Oil</td>\n",
       "      <td>NaN</td>\n",
       "      <td>...</td>\n",
       "      <td>2019.0</td>\n",
       "      <td>NaN</td>\n",
       "      <td>3035.550000</td>\n",
       "      <td>5916.370000</td>\n",
       "      <td>6243.000000</td>\n",
       "      <td>5385.579736</td>\n",
       "      <td>7279.000000</td>\n",
       "      <td>NaN</td>\n",
       "      <td>Central Electricity Authority</td>\n",
       "      <td>NaN</td>\n",
       "    </tr>\n",
       "    <tr>\n",
       "      <th>...</th>\n",
       "      <td>...</td>\n",
       "      <td>...</td>\n",
       "      <td>...</td>\n",
       "      <td>...</td>\n",
       "      <td>...</td>\n",
       "      <td>...</td>\n",
       "      <td>...</td>\n",
       "      <td>...</td>\n",
       "      <td>...</td>\n",
       "      <td>...</td>\n",
       "      <td>...</td>\n",
       "      <td>...</td>\n",
       "      <td>...</td>\n",
       "      <td>...</td>\n",
       "      <td>...</td>\n",
       "      <td>...</td>\n",
       "      <td>...</td>\n",
       "      <td>...</td>\n",
       "      <td>...</td>\n",
       "      <td>...</td>\n",
       "      <td>...</td>\n",
       "    </tr>\n",
       "    <tr>\n",
       "      <th>902</th>\n",
       "      <td>IND</td>\n",
       "      <td>India</td>\n",
       "      <td>YERMARUS TPP</td>\n",
       "      <td>IND0000513</td>\n",
       "      <td>1600.0</td>\n",
       "      <td>16.2949</td>\n",
       "      <td>77.3568</td>\n",
       "      <td>Coal</td>\n",
       "      <td>Oil</td>\n",
       "      <td>NaN</td>\n",
       "      <td>...</td>\n",
       "      <td>2019.0</td>\n",
       "      <td>NaN</td>\n",
       "      <td>NaN</td>\n",
       "      <td>0.994875</td>\n",
       "      <td>233.596650</td>\n",
       "      <td>865.400000</td>\n",
       "      <td>686.500000</td>\n",
       "      <td>NaN</td>\n",
       "      <td>Central Electricity Authority</td>\n",
       "      <td>NaN</td>\n",
       "    </tr>\n",
       "    <tr>\n",
       "      <th>903</th>\n",
       "      <td>IND</td>\n",
       "      <td>India</td>\n",
       "      <td>Yelesandra Solar Power Plant</td>\n",
       "      <td>WRI1026222</td>\n",
       "      <td>3.0</td>\n",
       "      <td>12.8932</td>\n",
       "      <td>78.1654</td>\n",
       "      <td>Solar</td>\n",
       "      <td>NaN</td>\n",
       "      <td>NaN</td>\n",
       "      <td>...</td>\n",
       "      <td>NaN</td>\n",
       "      <td>NaN</td>\n",
       "      <td>NaN</td>\n",
       "      <td>NaN</td>\n",
       "      <td>NaN</td>\n",
       "      <td>NaN</td>\n",
       "      <td>NaN</td>\n",
       "      <td>NaN</td>\n",
       "      <td>NaN</td>\n",
       "      <td>NaN</td>\n",
       "    </tr>\n",
       "    <tr>\n",
       "      <th>904</th>\n",
       "      <td>IND</td>\n",
       "      <td>India</td>\n",
       "      <td>Yelisirur wind power project</td>\n",
       "      <td>WRI1026776</td>\n",
       "      <td>25.5</td>\n",
       "      <td>15.2758</td>\n",
       "      <td>75.5811</td>\n",
       "      <td>Wind</td>\n",
       "      <td>NaN</td>\n",
       "      <td>NaN</td>\n",
       "      <td>...</td>\n",
       "      <td>NaN</td>\n",
       "      <td>NaN</td>\n",
       "      <td>NaN</td>\n",
       "      <td>NaN</td>\n",
       "      <td>NaN</td>\n",
       "      <td>NaN</td>\n",
       "      <td>NaN</td>\n",
       "      <td>NaN</td>\n",
       "      <td>NaN</td>\n",
       "      <td>NaN</td>\n",
       "    </tr>\n",
       "    <tr>\n",
       "      <th>905</th>\n",
       "      <td>IND</td>\n",
       "      <td>India</td>\n",
       "      <td>ZAWAR MINES</td>\n",
       "      <td>WRI1019901</td>\n",
       "      <td>80.0</td>\n",
       "      <td>24.3500</td>\n",
       "      <td>73.7477</td>\n",
       "      <td>Coal</td>\n",
       "      <td>NaN</td>\n",
       "      <td>NaN</td>\n",
       "      <td>...</td>\n",
       "      <td>NaN</td>\n",
       "      <td>NaN</td>\n",
       "      <td>NaN</td>\n",
       "      <td>NaN</td>\n",
       "      <td>NaN</td>\n",
       "      <td>NaN</td>\n",
       "      <td>NaN</td>\n",
       "      <td>NaN</td>\n",
       "      <td>NaN</td>\n",
       "      <td>NaN</td>\n",
       "    </tr>\n",
       "    <tr>\n",
       "      <th>906</th>\n",
       "      <td>IND</td>\n",
       "      <td>India</td>\n",
       "      <td>iEnergy Theni Wind Farm</td>\n",
       "      <td>WRI1026761</td>\n",
       "      <td>16.5</td>\n",
       "      <td>9.9344</td>\n",
       "      <td>77.4768</td>\n",
       "      <td>Wind</td>\n",
       "      <td>NaN</td>\n",
       "      <td>NaN</td>\n",
       "      <td>...</td>\n",
       "      <td>NaN</td>\n",
       "      <td>NaN</td>\n",
       "      <td>NaN</td>\n",
       "      <td>NaN</td>\n",
       "      <td>NaN</td>\n",
       "      <td>NaN</td>\n",
       "      <td>NaN</td>\n",
       "      <td>NaN</td>\n",
       "      <td>NaN</td>\n",
       "      <td>NaN</td>\n",
       "    </tr>\n",
       "  </tbody>\n",
       "</table>\n",
       "<p>907 rows × 27 columns</p>\n",
       "</div>"
      ],
      "text/plain": [
       "    country country_long                          name   gppd_idnr  \\\n",
       "0       IND        India              ACME Solar Tower  WRI1020239   \n",
       "1       IND        India           ADITYA CEMENT WORKS  WRI1019881   \n",
       "2       IND        India      AES Saurashtra Windfarms  WRI1026669   \n",
       "3       IND        India                   AGARTALA GT  IND0000001   \n",
       "4       IND        India                  AKALTARA TPP  IND0000002   \n",
       "..      ...          ...                           ...         ...   \n",
       "902     IND        India                  YERMARUS TPP  IND0000513   \n",
       "903     IND        India  Yelesandra Solar Power Plant  WRI1026222   \n",
       "904     IND        India  Yelisirur wind power project  WRI1026776   \n",
       "905     IND        India                   ZAWAR MINES  WRI1019901   \n",
       "906     IND        India       iEnergy Theni Wind Farm  WRI1026761   \n",
       "\n",
       "     capacity_mw  latitude  longitude primary_fuel other_fuel1 other_fuel2  \\\n",
       "0            2.5   28.1839    73.2407        Solar         NaN         NaN   \n",
       "1           98.0   24.7663    74.6090         Coal         NaN         NaN   \n",
       "2           39.2   21.9038    69.3732         Wind         NaN         NaN   \n",
       "3          135.0   23.8712    91.3602          Gas         NaN         NaN   \n",
       "4         1800.0   21.9603    82.4091         Coal         Oil         NaN   \n",
       "..           ...       ...        ...          ...         ...         ...   \n",
       "902       1600.0   16.2949    77.3568         Coal         Oil         NaN   \n",
       "903          3.0   12.8932    78.1654        Solar         NaN         NaN   \n",
       "904         25.5   15.2758    75.5811         Wind         NaN         NaN   \n",
       "905         80.0   24.3500    73.7477         Coal         NaN         NaN   \n",
       "906         16.5    9.9344    77.4768         Wind         NaN         NaN   \n",
       "\n",
       "     ...  year_of_capacity_data  generation_gwh_2013 generation_gwh_2014  \\\n",
       "0    ...                    NaN                  NaN                 NaN   \n",
       "1    ...                    NaN                  NaN                 NaN   \n",
       "2    ...                    NaN                  NaN                 NaN   \n",
       "3    ...                 2019.0                  NaN          617.789264   \n",
       "4    ...                 2019.0                  NaN         3035.550000   \n",
       "..   ...                    ...                  ...                 ...   \n",
       "902  ...                 2019.0                  NaN                 NaN   \n",
       "903  ...                    NaN                  NaN                 NaN   \n",
       "904  ...                    NaN                  NaN                 NaN   \n",
       "905  ...                    NaN                  NaN                 NaN   \n",
       "906  ...                    NaN                  NaN                 NaN   \n",
       "\n",
       "    generation_gwh_2015 generation_gwh_2016 generation_gwh_2017  \\\n",
       "0                   NaN                 NaN                 NaN   \n",
       "1                   NaN                 NaN                 NaN   \n",
       "2                   NaN                 NaN                 NaN   \n",
       "3            843.747000          886.004428          663.774500   \n",
       "4           5916.370000         6243.000000         5385.579736   \n",
       "..                  ...                 ...                 ...   \n",
       "902            0.994875          233.596650          865.400000   \n",
       "903                 NaN                 NaN                 NaN   \n",
       "904                 NaN                 NaN                 NaN   \n",
       "905                 NaN                 NaN                 NaN   \n",
       "906                 NaN                 NaN                 NaN   \n",
       "\n",
       "     generation_gwh_2018  generation_gwh_2019         generation_data_source  \\\n",
       "0                    NaN                  NaN                            NaN   \n",
       "1                    NaN                  NaN                            NaN   \n",
       "2                    NaN                  NaN                            NaN   \n",
       "3             626.239128                  NaN  Central Electricity Authority   \n",
       "4            7279.000000                  NaN  Central Electricity Authority   \n",
       "..                   ...                  ...                            ...   \n",
       "902           686.500000                  NaN  Central Electricity Authority   \n",
       "903                  NaN                  NaN                            NaN   \n",
       "904                  NaN                  NaN                            NaN   \n",
       "905                  NaN                  NaN                            NaN   \n",
       "906                  NaN                  NaN                            NaN   \n",
       "\n",
       "     estimated_generation_gwh  \n",
       "0                         NaN  \n",
       "1                         NaN  \n",
       "2                         NaN  \n",
       "3                         NaN  \n",
       "4                         NaN  \n",
       "..                        ...  \n",
       "902                       NaN  \n",
       "903                       NaN  \n",
       "904                       NaN  \n",
       "905                       NaN  \n",
       "906                       NaN  \n",
       "\n",
       "[907 rows x 27 columns]"
      ]
     },
     "execution_count": 16,
     "metadata": {},
     "output_type": "execute_result"
    }
   ],
   "source": [
    "df"
   ]
  },
  {
   "cell_type": "code",
   "execution_count": 44,
   "id": "d0ce550e",
   "metadata": {},
   "outputs": [
    {
     "name": "stdout",
     "output_type": "stream",
     "text": [
      "<class 'pandas.core.frame.DataFrame'>\n",
      "RangeIndex: 907 entries, 0 to 906\n",
      "Data columns (total 27 columns):\n",
      " #   Column                    Non-Null Count  Dtype  \n",
      "---  ------                    --------------  -----  \n",
      " 0   country                   907 non-null    object \n",
      " 1   country_long              907 non-null    object \n",
      " 2   name                      907 non-null    object \n",
      " 3   gppd_idnr                 907 non-null    object \n",
      " 4   capacity_mw               907 non-null    float64\n",
      " 5   latitude                  861 non-null    float64\n",
      " 6   longitude                 861 non-null    float64\n",
      " 7   primary_fuel              907 non-null    object \n",
      " 8   other_fuel1               198 non-null    object \n",
      " 9   other_fuel2               1 non-null      object \n",
      " 10  other_fuel3               0 non-null      float64\n",
      " 11  commissioning_year        527 non-null    float64\n",
      " 12  owner                     342 non-null    object \n",
      " 13  source                    907 non-null    object \n",
      " 14  url                       907 non-null    object \n",
      " 15  geolocation_source        888 non-null    object \n",
      " 16  wepp_id                   0 non-null      float64\n",
      " 17  year_of_capacity_data     519 non-null    float64\n",
      " 18  generation_gwh_2013       0 non-null      float64\n",
      " 19  generation_gwh_2014       398 non-null    float64\n",
      " 20  generation_gwh_2015       422 non-null    float64\n",
      " 21  generation_gwh_2016       434 non-null    float64\n",
      " 22  generation_gwh_2017       440 non-null    float64\n",
      " 23  generation_gwh_2018       448 non-null    float64\n",
      " 24  generation_gwh_2019       0 non-null      float64\n",
      " 25  generation_data_source    449 non-null    object \n",
      " 26  estimated_generation_gwh  0 non-null      float64\n",
      "dtypes: float64(15), object(12)\n",
      "memory usage: 191.4+ KB\n"
     ]
    }
   ],
   "source": [
    "df.info()"
   ]
  },
  {
   "cell_type": "code",
   "execution_count": 17,
   "id": "2201f708",
   "metadata": {},
   "outputs": [
    {
     "data": {
      "text/html": [
       "<div>\n",
       "<style scoped>\n",
       "    .dataframe tbody tr th:only-of-type {\n",
       "        vertical-align: middle;\n",
       "    }\n",
       "\n",
       "    .dataframe tbody tr th {\n",
       "        vertical-align: top;\n",
       "    }\n",
       "\n",
       "    .dataframe thead th {\n",
       "        text-align: right;\n",
       "    }\n",
       "</style>\n",
       "<table border=\"1\" class=\"dataframe\">\n",
       "  <thead>\n",
       "    <tr style=\"text-align: right;\">\n",
       "      <th></th>\n",
       "      <th>capacity_mw</th>\n",
       "      <th>latitude</th>\n",
       "      <th>longitude</th>\n",
       "      <th>other_fuel3</th>\n",
       "      <th>commissioning_year</th>\n",
       "      <th>wepp_id</th>\n",
       "      <th>year_of_capacity_data</th>\n",
       "      <th>generation_gwh_2013</th>\n",
       "      <th>generation_gwh_2014</th>\n",
       "      <th>generation_gwh_2015</th>\n",
       "      <th>generation_gwh_2016</th>\n",
       "      <th>generation_gwh_2017</th>\n",
       "      <th>generation_gwh_2018</th>\n",
       "      <th>generation_gwh_2019</th>\n",
       "      <th>estimated_generation_gwh</th>\n",
       "    </tr>\n",
       "  </thead>\n",
       "  <tbody>\n",
       "    <tr>\n",
       "      <th>count</th>\n",
       "      <td>907.000000</td>\n",
       "      <td>861.000000</td>\n",
       "      <td>861.000000</td>\n",
       "      <td>0.0</td>\n",
       "      <td>527.000000</td>\n",
       "      <td>0.0</td>\n",
       "      <td>519.0</td>\n",
       "      <td>0.0</td>\n",
       "      <td>398.000000</td>\n",
       "      <td>422.000000</td>\n",
       "      <td>434.000000</td>\n",
       "      <td>440.000000</td>\n",
       "      <td>448.000000</td>\n",
       "      <td>0.0</td>\n",
       "      <td>0.0</td>\n",
       "    </tr>\n",
       "    <tr>\n",
       "      <th>mean</th>\n",
       "      <td>326.223755</td>\n",
       "      <td>21.197918</td>\n",
       "      <td>77.464907</td>\n",
       "      <td>NaN</td>\n",
       "      <td>1997.091082</td>\n",
       "      <td>NaN</td>\n",
       "      <td>2019.0</td>\n",
       "      <td>NaN</td>\n",
       "      <td>2431.823590</td>\n",
       "      <td>2428.226946</td>\n",
       "      <td>2467.936859</td>\n",
       "      <td>2547.759305</td>\n",
       "      <td>2600.804099</td>\n",
       "      <td>NaN</td>\n",
       "      <td>NaN</td>\n",
       "    </tr>\n",
       "    <tr>\n",
       "      <th>std</th>\n",
       "      <td>590.085456</td>\n",
       "      <td>6.239612</td>\n",
       "      <td>4.939316</td>\n",
       "      <td>NaN</td>\n",
       "      <td>17.082868</td>\n",
       "      <td>NaN</td>\n",
       "      <td>0.0</td>\n",
       "      <td>NaN</td>\n",
       "      <td>4026.440035</td>\n",
       "      <td>4194.596959</td>\n",
       "      <td>4162.884308</td>\n",
       "      <td>4196.991169</td>\n",
       "      <td>4314.880456</td>\n",
       "      <td>NaN</td>\n",
       "      <td>NaN</td>\n",
       "    </tr>\n",
       "    <tr>\n",
       "      <th>min</th>\n",
       "      <td>0.000000</td>\n",
       "      <td>8.168900</td>\n",
       "      <td>68.644700</td>\n",
       "      <td>NaN</td>\n",
       "      <td>1927.000000</td>\n",
       "      <td>NaN</td>\n",
       "      <td>2019.0</td>\n",
       "      <td>NaN</td>\n",
       "      <td>0.000000</td>\n",
       "      <td>0.000000</td>\n",
       "      <td>0.000000</td>\n",
       "      <td>0.000000</td>\n",
       "      <td>0.000000</td>\n",
       "      <td>NaN</td>\n",
       "      <td>NaN</td>\n",
       "    </tr>\n",
       "    <tr>\n",
       "      <th>25%</th>\n",
       "      <td>16.725000</td>\n",
       "      <td>16.773900</td>\n",
       "      <td>74.256200</td>\n",
       "      <td>NaN</td>\n",
       "      <td>1988.000000</td>\n",
       "      <td>NaN</td>\n",
       "      <td>2019.0</td>\n",
       "      <td>NaN</td>\n",
       "      <td>223.557672</td>\n",
       "      <td>176.381063</td>\n",
       "      <td>188.285252</td>\n",
       "      <td>177.874930</td>\n",
       "      <td>193.378250</td>\n",
       "      <td>NaN</td>\n",
       "      <td>NaN</td>\n",
       "    </tr>\n",
       "    <tr>\n",
       "      <th>50%</th>\n",
       "      <td>59.200000</td>\n",
       "      <td>21.780000</td>\n",
       "      <td>76.719500</td>\n",
       "      <td>NaN</td>\n",
       "      <td>2001.000000</td>\n",
       "      <td>NaN</td>\n",
       "      <td>2019.0</td>\n",
       "      <td>NaN</td>\n",
       "      <td>801.123775</td>\n",
       "      <td>711.181225</td>\n",
       "      <td>737.205450</td>\n",
       "      <td>817.977250</td>\n",
       "      <td>751.644375</td>\n",
       "      <td>NaN</td>\n",
       "      <td>NaN</td>\n",
       "    </tr>\n",
       "    <tr>\n",
       "      <th>75%</th>\n",
       "      <td>385.250000</td>\n",
       "      <td>25.512400</td>\n",
       "      <td>79.440800</td>\n",
       "      <td>NaN</td>\n",
       "      <td>2012.000000</td>\n",
       "      <td>NaN</td>\n",
       "      <td>2019.0</td>\n",
       "      <td>NaN</td>\n",
       "      <td>3035.306250</td>\n",
       "      <td>3084.121250</td>\n",
       "      <td>3282.861313</td>\n",
       "      <td>3275.690475</td>\n",
       "      <td>3143.535900</td>\n",
       "      <td>NaN</td>\n",
       "      <td>NaN</td>\n",
       "    </tr>\n",
       "    <tr>\n",
       "      <th>max</th>\n",
       "      <td>4760.000000</td>\n",
       "      <td>34.649000</td>\n",
       "      <td>95.408000</td>\n",
       "      <td>NaN</td>\n",
       "      <td>2018.000000</td>\n",
       "      <td>NaN</td>\n",
       "      <td>2019.0</td>\n",
       "      <td>NaN</td>\n",
       "      <td>28127.000000</td>\n",
       "      <td>30539.000000</td>\n",
       "      <td>30015.000000</td>\n",
       "      <td>35116.000000</td>\n",
       "      <td>35136.000000</td>\n",
       "      <td>NaN</td>\n",
       "      <td>NaN</td>\n",
       "    </tr>\n",
       "  </tbody>\n",
       "</table>\n",
       "</div>"
      ],
      "text/plain": [
       "       capacity_mw    latitude   longitude  other_fuel3  commissioning_year  \\\n",
       "count   907.000000  861.000000  861.000000          0.0          527.000000   \n",
       "mean    326.223755   21.197918   77.464907          NaN         1997.091082   \n",
       "std     590.085456    6.239612    4.939316          NaN           17.082868   \n",
       "min       0.000000    8.168900   68.644700          NaN         1927.000000   \n",
       "25%      16.725000   16.773900   74.256200          NaN         1988.000000   \n",
       "50%      59.200000   21.780000   76.719500          NaN         2001.000000   \n",
       "75%     385.250000   25.512400   79.440800          NaN         2012.000000   \n",
       "max    4760.000000   34.649000   95.408000          NaN         2018.000000   \n",
       "\n",
       "       wepp_id  year_of_capacity_data  generation_gwh_2013  \\\n",
       "count      0.0                  519.0                  0.0   \n",
       "mean       NaN                 2019.0                  NaN   \n",
       "std        NaN                    0.0                  NaN   \n",
       "min        NaN                 2019.0                  NaN   \n",
       "25%        NaN                 2019.0                  NaN   \n",
       "50%        NaN                 2019.0                  NaN   \n",
       "75%        NaN                 2019.0                  NaN   \n",
       "max        NaN                 2019.0                  NaN   \n",
       "\n",
       "       generation_gwh_2014  generation_gwh_2015  generation_gwh_2016  \\\n",
       "count           398.000000           422.000000           434.000000   \n",
       "mean           2431.823590          2428.226946          2467.936859   \n",
       "std            4026.440035          4194.596959          4162.884308   \n",
       "min               0.000000             0.000000             0.000000   \n",
       "25%             223.557672           176.381063           188.285252   \n",
       "50%             801.123775           711.181225           737.205450   \n",
       "75%            3035.306250          3084.121250          3282.861313   \n",
       "max           28127.000000         30539.000000         30015.000000   \n",
       "\n",
       "       generation_gwh_2017  generation_gwh_2018  generation_gwh_2019  \\\n",
       "count           440.000000           448.000000                  0.0   \n",
       "mean           2547.759305          2600.804099                  NaN   \n",
       "std            4196.991169          4314.880456                  NaN   \n",
       "min               0.000000             0.000000                  NaN   \n",
       "25%             177.874930           193.378250                  NaN   \n",
       "50%             817.977250           751.644375                  NaN   \n",
       "75%            3275.690475          3143.535900                  NaN   \n",
       "max           35116.000000         35136.000000                  NaN   \n",
       "\n",
       "       estimated_generation_gwh  \n",
       "count                       0.0  \n",
       "mean                        NaN  \n",
       "std                         NaN  \n",
       "min                         NaN  \n",
       "25%                         NaN  \n",
       "50%                         NaN  \n",
       "75%                         NaN  \n",
       "max                         NaN  "
      ]
     },
     "execution_count": 17,
     "metadata": {},
     "output_type": "execute_result"
    }
   ],
   "source": [
    "df.describe()"
   ]
  },
  {
   "cell_type": "code",
   "execution_count": 37,
   "id": "c28b04ae",
   "metadata": {},
   "outputs": [
    {
     "data": {
      "text/plain": [
       "country                       0\n",
       "country_long                  0\n",
       "name                          0\n",
       "gppd_idnr                     0\n",
       "capacity_mw                   0\n",
       "latitude                     46\n",
       "longitude                    46\n",
       "primary_fuel                  0\n",
       "other_fuel1                 709\n",
       "other_fuel2                 906\n",
       "other_fuel3                 907\n",
       "commissioning_year          380\n",
       "owner                       565\n",
       "source                        0\n",
       "url                           0\n",
       "geolocation_source           19\n",
       "wepp_id                     907\n",
       "year_of_capacity_data       388\n",
       "generation_gwh_2013         907\n",
       "generation_gwh_2014         509\n",
       "generation_gwh_2015         485\n",
       "generation_gwh_2016         473\n",
       "generation_gwh_2017         467\n",
       "generation_gwh_2018         459\n",
       "generation_gwh_2019         907\n",
       "generation_data_source      458\n",
       "estimated_generation_gwh    907\n",
       "dtype: int64"
      ]
     },
     "execution_count": 37,
     "metadata": {},
     "output_type": "execute_result"
    }
   ],
   "source": [
    "df.isnull().sum()"
   ]
  },
  {
   "cell_type": "markdown",
   "id": "5f55e512",
   "metadata": {},
   "source": [
    "# Univariate Analysis"
   ]
  },
  {
   "cell_type": "code",
   "execution_count": 38,
   "id": "4462fe9a",
   "metadata": {},
   "outputs": [
    {
     "data": {
      "text/plain": [
       "Index(['country', 'country_long', 'name', 'gppd_idnr', 'capacity_mw',\n",
       "       'latitude', 'longitude', 'primary_fuel', 'other_fuel1', 'other_fuel2',\n",
       "       'other_fuel3', 'commissioning_year', 'owner', 'source', 'url',\n",
       "       'geolocation_source', 'wepp_id', 'year_of_capacity_data',\n",
       "       'generation_gwh_2013', 'generation_gwh_2014', 'generation_gwh_2015',\n",
       "       'generation_gwh_2016', 'generation_gwh_2017', 'generation_gwh_2018',\n",
       "       'generation_gwh_2019', 'generation_data_source',\n",
       "       'estimated_generation_gwh'],\n",
       "      dtype='object')"
      ]
     },
     "execution_count": 38,
     "metadata": {},
     "output_type": "execute_result"
    }
   ],
   "source": [
    "df.columns"
   ]
  },
  {
   "cell_type": "code",
   "execution_count": 39,
   "id": "5d3eafc6",
   "metadata": {
    "scrolled": true
   },
   "outputs": [
    {
     "data": {
      "image/png": "[encoded data removed]",
      "text/plain": [
       "<Figure size 576x576 with 1 Axes>"
      ]
     },
     "metadata": {
      "needs_background": "light"
     },
     "output_type": "display_data"
    }
   ],
   "source": [
    "plt.figure(figsize=(8,8))\n",
    "plt.hist(df[\"capacity_mw\"])\n",
    "plt.show()\n",
    "\n",
    "#Capacity in mw has maximum distribution from 0-500 and then from 500-1500."
   ]
  },
  {
   "cell_type": "code",
   "execution_count": 21,
   "id": "5561c050",
   "metadata": {},
   "outputs": [
    {
     "data": {
      "image/png": "[encoded data removed]",
      "text/plain": [
       "<Figure size 576x576 with 1 Axes>"
      ]
     },
     "metadata": {
      "needs_background": "light"
     },
     "output_type": "display_data"
    }
   ],
   "source": [
    "plt.figure(figsize=(8,8))\n",
    "plt.hist(df[\"latitude\"])\n",
    "plt.show()\n",
    "\n",
    "#The latitude of the power plants are mostly from 22 to 25"
   ]
  },
  {
   "cell_type": "code",
   "execution_count": 22,
   "id": "e110cd4c",
   "metadata": {
    "scrolled": true
   },
   "outputs": [
    {
     "data": {
      "image/png": "[encoded data removed]",
      "text/plain": [
       "<Figure size 576x576 with 1 Axes>"
      ]
     },
     "metadata": {
      "needs_background": "light"
     },
     "output_type": "display_data"
    }
   ],
   "source": [
    "plt.figure(figsize=(8,8))\n",
    "plt.hist(df[\"longitude\"])\n",
    "plt.show()\n",
    "\n",
    "#approximately 300 power plants have longitude from 73 to 78"
   ]
  },
  {
   "cell_type": "code",
   "execution_count": 23,
   "id": "dc6a6829",
   "metadata": {},
   "outputs": [
    {
     "data": {
      "image/png": "[encoded data removed]",
      "text/plain": [
       "<Figure size 576x576 with 1 Axes>"
      ]
     },
     "metadata": {
      "needs_background": "light"
     },
     "output_type": "display_data"
    }
   ],
   "source": [
    "plt.figure(figsize=(8,8))\n",
    "plt.hist(df[\"primary_fuel\"])\n",
    "plt.show()\n",
    "\n",
    "#260 power plants have primary fuel as Coal followed by Hydro,Solar,Wind,Gas,Biomass, oil and lastly nuclear"
   ]
  },
  {
   "cell_type": "code",
   "execution_count": 24,
   "id": "21d689c4",
   "metadata": {},
   "outputs": [
    {
     "data": {
      "image/png": "[encoded data removed]",
      "text/plain": [
       "<Figure size 360x360 with 1 Axes>"
      ]
     },
     "metadata": {
      "needs_background": "light"
     },
     "output_type": "display_data"
    }
   ],
   "source": [
    "plt.figure(figsize=(5,5))\n",
    "plt.hist(df[\"year_of_capacity_data\"])\n",
    "plt.show()\n",
    "\n",
    "#Year of capacity data is the year the capacity information of the plant was reported, and from the below graph 2019 was the year\n",
    "#in which the power plants had the year_of_capacity_data"
   ]
  },
  {
   "cell_type": "code",
   "execution_count": 25,
   "id": "2ef0ddbf",
   "metadata": {},
   "outputs": [
    {
     "data": {
      "image/png": "[encoded data removed]",
      "text/plain": [
       "<Figure size 360x360 with 1 Axes>"
      ]
     },
     "metadata": {
      "needs_background": "light"
     },
     "output_type": "display_data"
    }
   ],
   "source": [
    "plt.figure(figsize=(5,5))\n",
    "plt.hist(df[\"commissioning_year\"])\n",
    "plt.show()\n",
    "\n",
    "#Commissioning year- year of plant operation, from the results below, 175 plants had commissioning year from 2010 to 2020\n",
    "#followed by 2000 to 2010,1992-2000"
   ]
  },
  {
   "cell_type": "code",
   "execution_count": 27,
   "id": "d7d2b21a",
   "metadata": {},
   "outputs": [
    {
     "data": {
      "image/png": "[encoded data removed]",
      "text/plain": [
       "<Figure size 576x576 with 1 Axes>"
      ]
     },
     "metadata": {
      "needs_background": "light"
     },
     "output_type": "display_data"
    }
   ],
   "source": [
    "df[\"geolocation_source\"]=df[\"geolocation_source\"].astype(\"str\")\n",
    "plt.figure(figsize=(8,8))\n",
    "plt.hist(df[\"geolocation_source\"])\n",
    "plt.show()\n",
    "\n",
    "#Geolocation Source is an attribute for geolocation information,760 plants have WRI as geolocation source followed by \n",
    "#Industry About\n",
    "#There are null values which will be catered to"
   ]
  },
  {
   "cell_type": "code",
   "execution_count": 28,
   "id": "3be52b66",
   "metadata": {},
   "outputs": [
    {
     "data": {
      "image/png": "[encoded data removed]",
      "text/plain": [
       "<Figure size 576x576 with 1 Axes>"
      ]
     },
     "metadata": {
      "needs_background": "light"
     },
     "output_type": "display_data"
    }
   ],
   "source": [
    "df[\"generation_data_source\"]=df[\"generation_data_source\"].astype(\"str\")\n",
    "plt.figure(figsize=(8,8))\n",
    "plt.hist(df[\"generation_data_source\"])\n",
    "plt.show()\n",
    "\n",
    "#Generation data source provides reported generation information, there are huge number of Null values.\n",
    "#450 plants have Central Electricity Authority."
   ]
  },
  {
   "cell_type": "markdown",
   "id": "341d4f2a",
   "metadata": {},
   "source": [
    "From the database, we can notice that columns- country,country_long,name,gppd_idnr,source and url are not neccesary since all the power plants are located in India and owner,wepp_id and source are unique for each power plant, hence removing these columns. \n",
    "\n",
    "Columns-other_fuel1,other_fuel2,other_fuel3,commissioning_year,year_of_capacity_data, generation_data_source have a huge amount(almost half of the total dataset) of null values which might not be appropriate to fill hence removing these columns.\n",
    "\n",
    "Columns-'generation_gwh_2013', 'generation_gwh_2014', 'generation_gwh_2015','generation_gwh_2016', 'generation_gwh_2017', 'generation_gwh_2018','generation_gwh_2019' are sparsely populated  and they denote the electricity generated in gigawatt-hourse for the respective years.\n",
    "\n",
    "Column-\"estimated_generation_gwh\" has only NaN values which is not helpfull in developing the model, which has to be dropped."
   ]
  },
  {
   "cell_type": "code",
   "execution_count": 104,
   "id": "6e82f90f",
   "metadata": {},
   "outputs": [
    {
     "data": {
      "text/plain": [
       "Index(['country', 'country_long', 'name', 'gppd_idnr', 'capacity_mw',\n",
       "       'latitude', 'longitude', 'primary_fuel', 'other_fuel1', 'other_fuel2',\n",
       "       'other_fuel3', 'commissioning_year', 'owner', 'source', 'url',\n",
       "       'geolocation_source', 'wepp_id', 'year_of_capacity_data',\n",
       "       'generation_gwh_2013', 'generation_gwh_2014', 'generation_gwh_2015',\n",
       "       'generation_gwh_2016', 'generation_gwh_2017', 'generation_gwh_2018',\n",
       "       'generation_gwh_2019', 'generation_data_source',\n",
       "       'estimated_generation_gwh'],\n",
       "      dtype='object')"
      ]
     },
     "execution_count": 104,
     "metadata": {},
     "output_type": "execute_result"
    }
   ],
   "source": [
    "df.columns"
   ]
  },
  {
   "cell_type": "code",
   "execution_count": 220,
   "id": "647455a2",
   "metadata": {},
   "outputs": [
    {
     "data": {
      "text/html": [
       "<div>\n",
       "<style scoped>\n",
       "    .dataframe tbody tr th:only-of-type {\n",
       "        vertical-align: middle;\n",
       "    }\n",
       "\n",
       "    .dataframe tbody tr th {\n",
       "        vertical-align: top;\n",
       "    }\n",
       "\n",
       "    .dataframe thead th {\n",
       "        text-align: right;\n",
       "    }\n",
       "</style>\n",
       "<table border=\"1\" class=\"dataframe\">\n",
       "  <thead>\n",
       "    <tr style=\"text-align: right;\">\n",
       "      <th></th>\n",
       "      <th>country</th>\n",
       "      <th>country_long</th>\n",
       "      <th>name</th>\n",
       "      <th>gppd_idnr</th>\n",
       "      <th>capacity_mw</th>\n",
       "      <th>latitude</th>\n",
       "      <th>longitude</th>\n",
       "      <th>primary_fuel</th>\n",
       "      <th>other_fuel1</th>\n",
       "      <th>other_fuel2</th>\n",
       "      <th>...</th>\n",
       "      <th>year_of_capacity_data</th>\n",
       "      <th>generation_gwh_2013</th>\n",
       "      <th>generation_gwh_2014</th>\n",
       "      <th>generation_gwh_2015</th>\n",
       "      <th>generation_gwh_2016</th>\n",
       "      <th>generation_gwh_2017</th>\n",
       "      <th>generation_gwh_2018</th>\n",
       "      <th>generation_gwh_2019</th>\n",
       "      <th>generation_data_source</th>\n",
       "      <th>estimated_generation_gwh</th>\n",
       "    </tr>\n",
       "  </thead>\n",
       "  <tbody>\n",
       "    <tr>\n",
       "      <th>0</th>\n",
       "      <td>IND</td>\n",
       "      <td>India</td>\n",
       "      <td>ACME Solar Tower</td>\n",
       "      <td>WRI1020239</td>\n",
       "      <td>2.5</td>\n",
       "      <td>28.1839</td>\n",
       "      <td>73.2407</td>\n",
       "      <td>Solar</td>\n",
       "      <td>NaN</td>\n",
       "      <td>NaN</td>\n",
       "      <td>...</td>\n",
       "      <td>NaN</td>\n",
       "      <td>NaN</td>\n",
       "      <td>NaN</td>\n",
       "      <td>NaN</td>\n",
       "      <td>NaN</td>\n",
       "      <td>NaN</td>\n",
       "      <td>NaN</td>\n",
       "      <td>NaN</td>\n",
       "      <td>NaN</td>\n",
       "      <td>NaN</td>\n",
       "    </tr>\n",
       "    <tr>\n",
       "      <th>1</th>\n",
       "      <td>IND</td>\n",
       "      <td>India</td>\n",
       "      <td>ADITYA CEMENT WORKS</td>\n",
       "      <td>WRI1019881</td>\n",
       "      <td>98.0</td>\n",
       "      <td>24.7663</td>\n",
       "      <td>74.6090</td>\n",
       "      <td>Coal</td>\n",
       "      <td>NaN</td>\n",
       "      <td>NaN</td>\n",
       "      <td>...</td>\n",
       "      <td>NaN</td>\n",
       "      <td>NaN</td>\n",
       "      <td>NaN</td>\n",
       "      <td>NaN</td>\n",
       "      <td>NaN</td>\n",
       "      <td>NaN</td>\n",
       "      <td>NaN</td>\n",
       "      <td>NaN</td>\n",
       "      <td>NaN</td>\n",
       "      <td>NaN</td>\n",
       "    </tr>\n",
       "    <tr>\n",
       "      <th>2</th>\n",
       "      <td>IND</td>\n",
       "      <td>India</td>\n",
       "      <td>AES Saurashtra Windfarms</td>\n",
       "      <td>WRI1026669</td>\n",
       "      <td>39.2</td>\n",
       "      <td>21.9038</td>\n",
       "      <td>69.3732</td>\n",
       "      <td>Wind</td>\n",
       "      <td>NaN</td>\n",
       "      <td>NaN</td>\n",
       "      <td>...</td>\n",
       "      <td>NaN</td>\n",
       "      <td>NaN</td>\n",
       "      <td>NaN</td>\n",
       "      <td>NaN</td>\n",
       "      <td>NaN</td>\n",
       "      <td>NaN</td>\n",
       "      <td>NaN</td>\n",
       "      <td>NaN</td>\n",
       "      <td>NaN</td>\n",
       "      <td>NaN</td>\n",
       "    </tr>\n",
       "    <tr>\n",
       "      <th>3</th>\n",
       "      <td>IND</td>\n",
       "      <td>India</td>\n",
       "      <td>AGARTALA GT</td>\n",
       "      <td>IND0000001</td>\n",
       "      <td>135.0</td>\n",
       "      <td>23.8712</td>\n",
       "      <td>91.3602</td>\n",
       "      <td>Gas</td>\n",
       "      <td>NaN</td>\n",
       "      <td>NaN</td>\n",
       "      <td>...</td>\n",
       "      <td>2019.0</td>\n",
       "      <td>NaN</td>\n",
       "      <td>617.789264</td>\n",
       "      <td>843.747</td>\n",
       "      <td>886.004428</td>\n",
       "      <td>663.774500</td>\n",
       "      <td>626.239128</td>\n",
       "      <td>NaN</td>\n",
       "      <td>Central Electricity Authority</td>\n",
       "      <td>NaN</td>\n",
       "    </tr>\n",
       "    <tr>\n",
       "      <th>4</th>\n",
       "      <td>IND</td>\n",
       "      <td>India</td>\n",
       "      <td>AKALTARA TPP</td>\n",
       "      <td>IND0000002</td>\n",
       "      <td>1800.0</td>\n",
       "      <td>21.9603</td>\n",
       "      <td>82.4091</td>\n",
       "      <td>Coal</td>\n",
       "      <td>Oil</td>\n",
       "      <td>NaN</td>\n",
       "      <td>...</td>\n",
       "      <td>2019.0</td>\n",
       "      <td>NaN</td>\n",
       "      <td>3035.550000</td>\n",
       "      <td>5916.370</td>\n",
       "      <td>6243.000000</td>\n",
       "      <td>5385.579736</td>\n",
       "      <td>7279.000000</td>\n",
       "      <td>NaN</td>\n",
       "      <td>Central Electricity Authority</td>\n",
       "      <td>NaN</td>\n",
       "    </tr>\n",
       "  </tbody>\n",
       "</table>\n",
       "<p>5 rows × 27 columns</p>\n",
       "</div>"
      ],
      "text/plain": [
       "  country country_long                      name   gppd_idnr  capacity_mw  \\\n",
       "0     IND        India          ACME Solar Tower  WRI1020239          2.5   \n",
       "1     IND        India       ADITYA CEMENT WORKS  WRI1019881         98.0   \n",
       "2     IND        India  AES Saurashtra Windfarms  WRI1026669         39.2   \n",
       "3     IND        India               AGARTALA GT  IND0000001        135.0   \n",
       "4     IND        India              AKALTARA TPP  IND0000002       1800.0   \n",
       "\n",
       "   latitude  longitude primary_fuel other_fuel1 other_fuel2  ...  \\\n",
       "0   28.1839    73.2407        Solar         NaN         NaN  ...   \n",
       "1   24.7663    74.6090         Coal         NaN         NaN  ...   \n",
       "2   21.9038    69.3732         Wind         NaN         NaN  ...   \n",
       "3   23.8712    91.3602          Gas         NaN         NaN  ...   \n",
       "4   21.9603    82.4091         Coal         Oil         NaN  ...   \n",
       "\n",
       "   year_of_capacity_data  generation_gwh_2013 generation_gwh_2014  \\\n",
       "0                    NaN                  NaN                 NaN   \n",
       "1                    NaN                  NaN                 NaN   \n",
       "2                    NaN                  NaN                 NaN   \n",
       "3                 2019.0                  NaN          617.789264   \n",
       "4                 2019.0                  NaN         3035.550000   \n",
       "\n",
       "  generation_gwh_2015 generation_gwh_2016 generation_gwh_2017  \\\n",
       "0                 NaN                 NaN                 NaN   \n",
       "1                 NaN                 NaN                 NaN   \n",
       "2                 NaN                 NaN                 NaN   \n",
       "3             843.747          886.004428          663.774500   \n",
       "4            5916.370         6243.000000         5385.579736   \n",
       "\n",
       "   generation_gwh_2018  generation_gwh_2019         generation_data_source  \\\n",
       "0                  NaN                  NaN                            NaN   \n",
       "1                  NaN                  NaN                            NaN   \n",
       "2                  NaN                  NaN                            NaN   \n",
       "3           626.239128                  NaN  Central Electricity Authority   \n",
       "4          7279.000000                  NaN  Central Electricity Authority   \n",
       "\n",
       "   estimated_generation_gwh  \n",
       "0                       NaN  \n",
       "1                       NaN  \n",
       "2                       NaN  \n",
       "3                       NaN  \n",
       "4                       NaN  \n",
       "\n",
       "[5 rows x 27 columns]"
      ]
     },
     "execution_count": 220,
     "metadata": {},
     "output_type": "execute_result"
    }
   ],
   "source": [
    "df.head(5)"
   ]
  },
  {
   "cell_type": "code",
   "execution_count": 197,
   "id": "79bc4576",
   "metadata": {},
   "outputs": [],
   "source": [
    "df_new=df.drop(['country', 'country_long', 'name', 'gppd_idnr','other_fuel1', 'other_fuel2','other_fuel3','owner','source','url',\"wepp_id\",'generation_gwh_2013', 'generation_gwh_2014', 'generation_gwh_2015','generation_gwh_2016', 'generation_gwh_2017', 'generation_gwh_2018','generation_gwh_2019','estimated_generation_gwh','year_of_capacity_data','commissioning_year','generation_data_source'],axis=1)"
   ]
  },
  {
   "cell_type": "code",
   "execution_count": 198,
   "id": "56893a6e",
   "metadata": {},
   "outputs": [
    {
     "data": {
      "text/html": [
       "<div>\n",
       "<style scoped>\n",
       "    .dataframe tbody tr th:only-of-type {\n",
       "        vertical-align: middle;\n",
       "    }\n",
       "\n",
       "    .dataframe tbody tr th {\n",
       "        vertical-align: top;\n",
       "    }\n",
       "\n",
       "    .dataframe thead th {\n",
       "        text-align: right;\n",
       "    }\n",
       "</style>\n",
       "<table border=\"1\" class=\"dataframe\">\n",
       "  <thead>\n",
       "    <tr style=\"text-align: right;\">\n",
       "      <th></th>\n",
       "      <th>capacity_mw</th>\n",
       "      <th>latitude</th>\n",
       "      <th>longitude</th>\n",
       "      <th>primary_fuel</th>\n",
       "      <th>geolocation_source</th>\n",
       "    </tr>\n",
       "  </thead>\n",
       "  <tbody>\n",
       "    <tr>\n",
       "      <th>0</th>\n",
       "      <td>2.5</td>\n",
       "      <td>28.1839</td>\n",
       "      <td>73.2407</td>\n",
       "      <td>Solar</td>\n",
       "      <td>National Renewable Energy Laboratory</td>\n",
       "    </tr>\n",
       "    <tr>\n",
       "      <th>1</th>\n",
       "      <td>98.0</td>\n",
       "      <td>24.7663</td>\n",
       "      <td>74.6090</td>\n",
       "      <td>Coal</td>\n",
       "      <td>WRI</td>\n",
       "    </tr>\n",
       "    <tr>\n",
       "      <th>2</th>\n",
       "      <td>39.2</td>\n",
       "      <td>21.9038</td>\n",
       "      <td>69.3732</td>\n",
       "      <td>Wind</td>\n",
       "      <td>WRI</td>\n",
       "    </tr>\n",
       "    <tr>\n",
       "      <th>3</th>\n",
       "      <td>135.0</td>\n",
       "      <td>23.8712</td>\n",
       "      <td>91.3602</td>\n",
       "      <td>Gas</td>\n",
       "      <td>WRI</td>\n",
       "    </tr>\n",
       "    <tr>\n",
       "      <th>4</th>\n",
       "      <td>1800.0</td>\n",
       "      <td>21.9603</td>\n",
       "      <td>82.4091</td>\n",
       "      <td>Coal</td>\n",
       "      <td>WRI</td>\n",
       "    </tr>\n",
       "    <tr>\n",
       "      <th>...</th>\n",
       "      <td>...</td>\n",
       "      <td>...</td>\n",
       "      <td>...</td>\n",
       "      <td>...</td>\n",
       "      <td>...</td>\n",
       "    </tr>\n",
       "    <tr>\n",
       "      <th>902</th>\n",
       "      <td>1600.0</td>\n",
       "      <td>16.2949</td>\n",
       "      <td>77.3568</td>\n",
       "      <td>Coal</td>\n",
       "      <td>WRI</td>\n",
       "    </tr>\n",
       "    <tr>\n",
       "      <th>903</th>\n",
       "      <td>3.0</td>\n",
       "      <td>12.8932</td>\n",
       "      <td>78.1654</td>\n",
       "      <td>Solar</td>\n",
       "      <td>Industry About</td>\n",
       "    </tr>\n",
       "    <tr>\n",
       "      <th>904</th>\n",
       "      <td>25.5</td>\n",
       "      <td>15.2758</td>\n",
       "      <td>75.5811</td>\n",
       "      <td>Wind</td>\n",
       "      <td>WRI</td>\n",
       "    </tr>\n",
       "    <tr>\n",
       "      <th>905</th>\n",
       "      <td>80.0</td>\n",
       "      <td>24.3500</td>\n",
       "      <td>73.7477</td>\n",
       "      <td>Coal</td>\n",
       "      <td>WRI</td>\n",
       "    </tr>\n",
       "    <tr>\n",
       "      <th>906</th>\n",
       "      <td>16.5</td>\n",
       "      <td>9.9344</td>\n",
       "      <td>77.4768</td>\n",
       "      <td>Wind</td>\n",
       "      <td>WRI</td>\n",
       "    </tr>\n",
       "  </tbody>\n",
       "</table>\n",
       "<p>907 rows × 5 columns</p>\n",
       "</div>"
      ],
      "text/plain": [
       "     capacity_mw  latitude  longitude primary_fuel  \\\n",
       "0            2.5   28.1839    73.2407        Solar   \n",
       "1           98.0   24.7663    74.6090         Coal   \n",
       "2           39.2   21.9038    69.3732         Wind   \n",
       "3          135.0   23.8712    91.3602          Gas   \n",
       "4         1800.0   21.9603    82.4091         Coal   \n",
       "..           ...       ...        ...          ...   \n",
       "902       1600.0   16.2949    77.3568         Coal   \n",
       "903          3.0   12.8932    78.1654        Solar   \n",
       "904         25.5   15.2758    75.5811         Wind   \n",
       "905         80.0   24.3500    73.7477         Coal   \n",
       "906         16.5    9.9344    77.4768         Wind   \n",
       "\n",
       "                       geolocation_source  \n",
       "0    National Renewable Energy Laboratory  \n",
       "1                                     WRI  \n",
       "2                                     WRI  \n",
       "3                                     WRI  \n",
       "4                                     WRI  \n",
       "..                                    ...  \n",
       "902                                   WRI  \n",
       "903                        Industry About  \n",
       "904                                   WRI  \n",
       "905                                   WRI  \n",
       "906                                   WRI  \n",
       "\n",
       "[907 rows x 5 columns]"
      ]
     },
     "execution_count": 198,
     "metadata": {},
     "output_type": "execute_result"
    }
   ],
   "source": [
    "df_new"
   ]
  },
  {
   "cell_type": "code",
   "execution_count": 53,
   "id": "0d2cc2b4",
   "metadata": {
    "scrolled": true
   },
   "outputs": [
    {
     "data": {
      "text/plain": [
       "(907, 5)"
      ]
     },
     "execution_count": 53,
     "metadata": {},
     "output_type": "execute_result"
    }
   ],
   "source": [
    "df_new.shape"
   ]
  },
  {
   "cell_type": "code",
   "execution_count": 199,
   "id": "4d239fe7",
   "metadata": {},
   "outputs": [
    {
     "data": {
      "text/plain": [
       "capacity_mw            0\n",
       "latitude              46\n",
       "longitude             46\n",
       "primary_fuel           0\n",
       "geolocation_source    19\n",
       "dtype: int64"
      ]
     },
     "execution_count": 199,
     "metadata": {},
     "output_type": "execute_result"
    }
   ],
   "source": [
    "df_new.isnull().sum()"
   ]
  },
  {
   "cell_type": "markdown",
   "id": "0785cc85",
   "metadata": {},
   "source": [
    "# Filling the missing values"
   ]
  },
  {
   "cell_type": "code",
   "execution_count": 200,
   "id": "2736b732",
   "metadata": {},
   "outputs": [],
   "source": [
    "#Catering to the missing values\n",
    "df_new[\"latitude\"]=df_new[\"latitude\"].fillna(df_new[\"latitude\"].dropna().mean())\n"
   ]
  },
  {
   "cell_type": "code",
   "execution_count": 201,
   "id": "fcb94fd8",
   "metadata": {},
   "outputs": [],
   "source": [
    "df_new[\"longitude\"]=df_new[\"longitude\"].fillna(df_new[\"longitude\"].dropna().mean())\n"
   ]
  },
  {
   "cell_type": "code",
   "execution_count": 202,
   "id": "a174451a",
   "metadata": {},
   "outputs": [],
   "source": [
    "df_new[\"geolocation_source\"]=df_new[\"geolocation_source\"].fillna(df_new[\"geolocation_source\"].dropna().mode().values[0])"
   ]
  },
  {
   "cell_type": "code",
   "execution_count": 203,
   "id": "3a999509",
   "metadata": {},
   "outputs": [
    {
     "data": {
      "text/plain": [
       "capacity_mw           0\n",
       "latitude              0\n",
       "longitude             0\n",
       "primary_fuel          0\n",
       "geolocation_source    0\n",
       "dtype: int64"
      ]
     },
     "execution_count": 203,
     "metadata": {},
     "output_type": "execute_result"
    }
   ],
   "source": [
    "df_new.isnull().sum()"
   ]
  },
  {
   "cell_type": "markdown",
   "id": "7bd8f7b0",
   "metadata": {},
   "source": [
    "# Encoding the categorical columns"
   ]
  },
  {
   "cell_type": "code",
   "execution_count": 204,
   "id": "dc0645f4",
   "metadata": {},
   "outputs": [],
   "source": [
    "df_en=[i for i in df_new.columns if df_new[i].dtypes=='object']"
   ]
  },
  {
   "cell_type": "code",
   "execution_count": 205,
   "id": "3d0bc971",
   "metadata": {},
   "outputs": [],
   "source": [
    "from sklearn.preprocessing import OrdinalEncoder\n",
    "encode=OrdinalEncoder()"
   ]
  },
  {
   "cell_type": "code",
   "execution_count": 206,
   "id": "1385a07a",
   "metadata": {},
   "outputs": [],
   "source": [
    "for i in df_en:\n",
    "    df_new[i]=encode.fit_transform(df_new[i].values.reshape(-1,1))\n"
   ]
  },
  {
   "cell_type": "code",
   "execution_count": 207,
   "id": "a8b06705",
   "metadata": {},
   "outputs": [
    {
     "data": {
      "text/html": [
       "<div>\n",
       "<style scoped>\n",
       "    .dataframe tbody tr th:only-of-type {\n",
       "        vertical-align: middle;\n",
       "    }\n",
       "\n",
       "    .dataframe tbody tr th {\n",
       "        vertical-align: top;\n",
       "    }\n",
       "\n",
       "    .dataframe thead th {\n",
       "        text-align: right;\n",
       "    }\n",
       "</style>\n",
       "<table border=\"1\" class=\"dataframe\">\n",
       "  <thead>\n",
       "    <tr style=\"text-align: right;\">\n",
       "      <th></th>\n",
       "      <th>capacity_mw</th>\n",
       "      <th>latitude</th>\n",
       "      <th>longitude</th>\n",
       "      <th>primary_fuel</th>\n",
       "      <th>geolocation_source</th>\n",
       "    </tr>\n",
       "  </thead>\n",
       "  <tbody>\n",
       "    <tr>\n",
       "      <th>0</th>\n",
       "      <td>2.5</td>\n",
       "      <td>28.1839</td>\n",
       "      <td>73.2407</td>\n",
       "      <td>6.0</td>\n",
       "      <td>1.0</td>\n",
       "    </tr>\n",
       "    <tr>\n",
       "      <th>1</th>\n",
       "      <td>98.0</td>\n",
       "      <td>24.7663</td>\n",
       "      <td>74.6090</td>\n",
       "      <td>1.0</td>\n",
       "      <td>2.0</td>\n",
       "    </tr>\n",
       "    <tr>\n",
       "      <th>2</th>\n",
       "      <td>39.2</td>\n",
       "      <td>21.9038</td>\n",
       "      <td>69.3732</td>\n",
       "      <td>7.0</td>\n",
       "      <td>2.0</td>\n",
       "    </tr>\n",
       "    <tr>\n",
       "      <th>3</th>\n",
       "      <td>135.0</td>\n",
       "      <td>23.8712</td>\n",
       "      <td>91.3602</td>\n",
       "      <td>2.0</td>\n",
       "      <td>2.0</td>\n",
       "    </tr>\n",
       "    <tr>\n",
       "      <th>4</th>\n",
       "      <td>1800.0</td>\n",
       "      <td>21.9603</td>\n",
       "      <td>82.4091</td>\n",
       "      <td>1.0</td>\n",
       "      <td>2.0</td>\n",
       "    </tr>\n",
       "    <tr>\n",
       "      <th>...</th>\n",
       "      <td>...</td>\n",
       "      <td>...</td>\n",
       "      <td>...</td>\n",
       "      <td>...</td>\n",
       "      <td>...</td>\n",
       "    </tr>\n",
       "    <tr>\n",
       "      <th>902</th>\n",
       "      <td>1600.0</td>\n",
       "      <td>16.2949</td>\n",
       "      <td>77.3568</td>\n",
       "      <td>1.0</td>\n",
       "      <td>2.0</td>\n",
       "    </tr>\n",
       "    <tr>\n",
       "      <th>903</th>\n",
       "      <td>3.0</td>\n",
       "      <td>12.8932</td>\n",
       "      <td>78.1654</td>\n",
       "      <td>6.0</td>\n",
       "      <td>0.0</td>\n",
       "    </tr>\n",
       "    <tr>\n",
       "      <th>904</th>\n",
       "      <td>25.5</td>\n",
       "      <td>15.2758</td>\n",
       "      <td>75.5811</td>\n",
       "      <td>7.0</td>\n",
       "      <td>2.0</td>\n",
       "    </tr>\n",
       "    <tr>\n",
       "      <th>905</th>\n",
       "      <td>80.0</td>\n",
       "      <td>24.3500</td>\n",
       "      <td>73.7477</td>\n",
       "      <td>1.0</td>\n",
       "      <td>2.0</td>\n",
       "    </tr>\n",
       "    <tr>\n",
       "      <th>906</th>\n",
       "      <td>16.5</td>\n",
       "      <td>9.9344</td>\n",
       "      <td>77.4768</td>\n",
       "      <td>7.0</td>\n",
       "      <td>2.0</td>\n",
       "    </tr>\n",
       "  </tbody>\n",
       "</table>\n",
       "<p>907 rows × 5 columns</p>\n",
       "</div>"
      ],
      "text/plain": [
       "     capacity_mw  latitude  longitude  primary_fuel  geolocation_source\n",
       "0            2.5   28.1839    73.2407           6.0                 1.0\n",
       "1           98.0   24.7663    74.6090           1.0                 2.0\n",
       "2           39.2   21.9038    69.3732           7.0                 2.0\n",
       "3          135.0   23.8712    91.3602           2.0                 2.0\n",
       "4         1800.0   21.9603    82.4091           1.0                 2.0\n",
       "..           ...       ...        ...           ...                 ...\n",
       "902       1600.0   16.2949    77.3568           1.0                 2.0\n",
       "903          3.0   12.8932    78.1654           6.0                 0.0\n",
       "904         25.5   15.2758    75.5811           7.0                 2.0\n",
       "905         80.0   24.3500    73.7477           1.0                 2.0\n",
       "906         16.5    9.9344    77.4768           7.0                 2.0\n",
       "\n",
       "[907 rows x 5 columns]"
      ]
     },
     "execution_count": 207,
     "metadata": {},
     "output_type": "execute_result"
    }
   ],
   "source": [
    "df_new"
   ]
  },
  {
   "cell_type": "markdown",
   "id": "737bce49",
   "metadata": {},
   "source": [
    "# Checking for Outliers"
   ]
  },
  {
   "cell_type": "code",
   "execution_count": 208,
   "id": "2d1b5fac",
   "metadata": {},
   "outputs": [
    {
     "data": {
      "text/plain": [
       "capacity_mw              AxesSubplot(0.125,0.125;0.133621x0.755)\n",
       "latitude              AxesSubplot(0.285345,0.125;0.133621x0.755)\n",
       "longitude              AxesSubplot(0.44569,0.125;0.133621x0.755)\n",
       "primary_fuel          AxesSubplot(0.606034,0.125;0.133621x0.755)\n",
       "geolocation_source    AxesSubplot(0.766379,0.125;0.133621x0.755)\n",
       "dtype: object"
      ]
     },
     "execution_count": 208,
     "metadata": {},
     "output_type": "execute_result"
    },
    {
     "data": {
      "image/png": "[encoded data removed]",
      "text/plain": [
       "<Figure size 1080x1080 with 5 Axes>"
      ]
     },
     "metadata": {
      "needs_background": "light"
     },
     "output_type": "display_data"
    }
   ],
   "source": [
    "df_new.plot(kind='box',subplots=True,figsize=(15,15))\n",
    "\n",
    "#From the below box plots there are many points beyond the range which may or may not be an outlier,\n",
    "#Z-score is utlised to eliminate the outliers"
   ]
  },
  {
   "cell_type": "code",
   "execution_count": 209,
   "id": "fc78f117",
   "metadata": {},
   "outputs": [],
   "source": [
    "#Checking Z-Score for Outliers\n",
    "from scipy import stats\n",
    "clist=df_new.columns.values\n",
    "\n",
    "z1=abs(stats.zscore(df_new[clist]))"
   ]
  },
  {
   "cell_type": "code",
   "execution_count": 210,
   "id": "42634ed6",
   "metadata": {},
   "outputs": [
    {
     "data": {
      "text/plain": [
       "(array([ 15, 143, 147, 179, 183, 209, 244, 308, 323, 333, 340, 360, 363,\n",
       "        364, 375, 416, 427, 482, 493, 494, 499, 519, 546, 577, 638, 648,\n",
       "        657, 695, 726, 767, 786, 788, 808, 818, 847, 880], dtype=int64),\n",
       " array([0, 0, 0, 2, 2, 0, 2, 0, 2, 2, 2, 2, 0, 0, 0, 2, 2, 0, 0, 0, 2, 2,\n",
       "        2, 2, 2, 0, 0, 0, 0, 0, 0, 0, 0, 2, 2, 0], dtype=int64))"
      ]
     },
     "execution_count": 210,
     "metadata": {},
     "output_type": "execute_result"
    }
   ],
   "source": [
    "x=np.where(z1>3)\n",
    "x"
   ]
  },
  {
   "cell_type": "code",
   "execution_count": 211,
   "id": "9994abf5",
   "metadata": {},
   "outputs": [],
   "source": [
    "df_z=df_new[(z1 < 3).all(axis=1)]"
   ]
  },
  {
   "cell_type": "code",
   "execution_count": 212,
   "id": "c3891f3f",
   "metadata": {
    "scrolled": true
   },
   "outputs": [
    {
     "name": "stdout",
     "output_type": "stream",
     "text": [
      "(907, 5) (871, 5)\n"
     ]
    }
   ],
   "source": [
    "print(df_new.shape,df_z.shape)"
   ]
  },
  {
   "cell_type": "code",
   "execution_count": 243,
   "id": "e7218805",
   "metadata": {},
   "outputs": [
    {
     "name": "stdout",
     "output_type": "stream",
     "text": [
      "3.97\n"
     ]
    }
   ],
   "source": [
    "#%data loss\n",
    "a=(df_new.shape[0]-df_z.shape[0])/df_new.shape[0]\n",
    "print(round(a*100,2))"
   ]
  },
  {
   "cell_type": "code",
   "execution_count": 213,
   "id": "c09065e4",
   "metadata": {},
   "outputs": [
    {
     "data": {
      "text/plain": [
       "capacity_mw              AxesSubplot(0.125,0.125;0.133621x0.755)\n",
       "latitude              AxesSubplot(0.285345,0.125;0.133621x0.755)\n",
       "longitude              AxesSubplot(0.44569,0.125;0.133621x0.755)\n",
       "primary_fuel          AxesSubplot(0.606034,0.125;0.133621x0.755)\n",
       "geolocation_source    AxesSubplot(0.766379,0.125;0.133621x0.755)\n",
       "dtype: object"
      ]
     },
     "execution_count": 213,
     "metadata": {},
     "output_type": "execute_result"
    },
    {
     "data": {
      "image/png": "[encoded data removed]",
      "text/plain": [
       "<Figure size 1080x1080 with 5 Axes>"
      ]
     },
     "metadata": {
      "needs_background": "light"
     },
     "output_type": "display_data"
    }
   ],
   "source": [
    "df_z.plot(kind='box',subplots=True,figsize=(15,15))\n",
    "\n",
    "#Below box plots are plotted after removing the outliers."
   ]
  },
  {
   "cell_type": "code",
   "execution_count": 214,
   "id": "3767588a",
   "metadata": {},
   "outputs": [
    {
     "data": {
      "text/plain": [
       "capacity_mw           1.000000\n",
       "longitude             0.258125\n",
       "geolocation_source    0.232721\n",
       "latitude              0.047020\n",
       "primary_fuel         -0.400460\n",
       "Name: capacity_mw, dtype: float64"
      ]
     },
     "execution_count": 214,
     "metadata": {},
     "output_type": "execute_result"
    }
   ],
   "source": [
    "df_z.corr()[\"capacity_mw\"].sort_values(ascending=False)"
   ]
  },
  {
   "cell_type": "code",
   "execution_count": 215,
   "id": "90a02592",
   "metadata": {},
   "outputs": [
    {
     "data": {
      "text/plain": [
       "<AxesSubplot:>"
      ]
     },
     "execution_count": 215,
     "metadata": {},
     "output_type": "execute_result"
    },
    {
     "data": {
      "image/png": "[encoded data removed]",
      "text/plain": [
       "<Figure size 720x720 with 2 Axes>"
      ]
     },
     "metadata": {
      "needs_background": "light"
     },
     "output_type": "display_data"
    }
   ],
   "source": [
    "#Checking Correlation by plotting heatmap\n",
    "plt.figure(figsize=(10,10))\n",
    "sns.heatmap(df_z.corr(),annot=True)"
   ]
  },
  {
   "cell_type": "markdown",
   "id": "affee4f4",
   "metadata": {},
   "source": [
    "# Splitting Features and Target"
   ]
  },
  {
   "cell_type": "markdown",
   "id": "5538a743",
   "metadata": {},
   "source": [
    "#### Task 1-Predicting Capacity_mw"
   ]
  },
  {
   "cell_type": "code",
   "execution_count": 216,
   "id": "2542f840",
   "metadata": {},
   "outputs": [],
   "source": [
    "Xtag=df_new[[\"longitude\",\"geolocation_source\",\"latitude\",\"primary_fuel\"]]\n",
    "Ytag=df_new[[\"capacity_mw\"]]"
   ]
  },
  {
   "cell_type": "code",
   "execution_count": 217,
   "id": "fe27e3d9",
   "metadata": {},
   "outputs": [
    {
     "name": "stdout",
     "output_type": "stream",
     "text": [
      "              feature        VIF\n",
      "0           longitude  32.736219\n",
      "1  geolocation_source  10.264333\n",
      "2            latitude  13.387013\n",
      "3        primary_fuel   3.437996\n"
     ]
    }
   ],
   "source": [
    "#Checking the Variance Inflation Factor\n",
    "from statsmodels.stats.outliers_influence import variance_inflation_factor\n",
    "# VIF dataframe\n",
    "vif_data = pd.DataFrame()\n",
    "vif_data[\"feature\"]=Xtag.columns\n",
    "\n",
    "# calculating VIF for each feature\n",
    "\n",
    "vif_data[\"VIF\"] = [variance_inflation_factor(Xtag.values, i)\n",
    "                          for i in range(len(Xtag.columns))]\n",
    "\n",
    "print(vif_data)\n"
   ]
  },
  {
   "cell_type": "code",
   "execution_count": 218,
   "id": "d863f7b9",
   "metadata": {},
   "outputs": [],
   "source": [
    "#Scaling the features\n",
    "\n",
    "from sklearn.preprocessing import MinMaxScaler\n",
    "\n",
    "scaler=MinMaxScaler()\n",
    "X_s=scaler.fit_transform(Xtag)"
   ]
  },
  {
   "cell_type": "code",
   "execution_count": 220,
   "id": "67e6ac44",
   "metadata": {},
   "outputs": [],
   "source": [
    "#Applying power transform\n",
    "from sklearn.preprocessing import power_transform\n",
    "\n",
    "Xpt=power_transform(X_s)\n"
   ]
  },
  {
   "cell_type": "code",
   "execution_count": 221,
   "id": "cd16b0ef",
   "metadata": {},
   "outputs": [],
   "source": [
    "from sklearn.model_selection import train_test_split\n",
    "\n",
    "from sklearn.linear_model import LinearRegression\n",
    "\n",
    "from sklearn.ensemble import RandomForestRegressor\n",
    "\n",
    "from sklearn.tree import DecisionTreeRegressor\n",
    "\n",
    "from sklearn.neighbors import KNeighborsRegressor\n",
    "\n",
    "from sklearn.svm import SVR\n",
    "\n",
    "from sklearn.ensemble import GradientBoostingRegressor\n",
    "\n",
    "from xgboost import XGBRegressor\n",
    "\n",
    "from sklearn.ensemble import AdaBoostRegressor\n",
    "\n",
    "\n",
    "from sklearn.metrics import r2_score,mean_absolute_error,mean_squared_error"
   ]
  },
  {
   "cell_type": "code",
   "execution_count": 222,
   "id": "eff602be",
   "metadata": {},
   "outputs": [],
   "source": [
    "lr=LinearRegression()\n",
    "\n",
    "dt=DecisionTreeRegressor()\n",
    "\n",
    "rf=RandomForestRegressor()\n",
    "\n",
    "kn=KNeighborsRegressor(n_neighbors=3)\n",
    "\n",
    "sv=SVR()\n",
    "\n",
    "gb=GradientBoostingRegressor()\n",
    "\n",
    "x=XGBRegressor()\n",
    "\n",
    "ab=AdaBoostRegressor()\n",
    "\n",
    "\n",
    "lst=[lr,dt,rf,kn,sv,gb,x,ab]"
   ]
  },
  {
   "cell_type": "code",
   "execution_count": 223,
   "id": "a602ce67",
   "metadata": {},
   "outputs": [
    {
     "name": "stdout",
     "output_type": "stream",
     "text": [
      "Model: LinearRegression() random state 0 has r2 score-test 0.15 and r2 score-train 0.15\n",
      "Model: LinearRegression() random state 1 has r2 score-test 0.1 and r2 score-train 0.18\n",
      "Model: LinearRegression() random state 2 has r2 score-test 0.15 and r2 score-train 0.15\n",
      "Model: LinearRegression() random state 3 has r2 score-test 0.19 and r2 score-train 0.14\n",
      "Model: LinearRegression() random state 4 has r2 score-test 0.08 and r2 score-train 0.16\n",
      "Model: DecisionTreeRegressor() random state 0 has r2 score-test 0.07 and r2 score-train 0.99\n",
      "Model: DecisionTreeRegressor() random state 1 has r2 score-test -0.1 and r2 score-train 0.99\n",
      "Model: DecisionTreeRegressor() random state 2 has r2 score-test 0.17 and r2 score-train 0.99\n",
      "Model: DecisionTreeRegressor() random state 3 has r2 score-test -0.21 and r2 score-train 0.99\n",
      "Model: DecisionTreeRegressor() random state 4 has r2 score-test -0.25 and r2 score-train 1.0\n",
      "Model: RandomForestRegressor() random state 0 has r2 score-test 0.33 and r2 score-train 0.9\n",
      "Model: RandomForestRegressor() random state 1 has r2 score-test 0.27 and r2 score-train 0.9\n",
      "Model: RandomForestRegressor() random state 2 has r2 score-test 0.3 and r2 score-train 0.91\n",
      "Model: RandomForestRegressor() random state 3 has r2 score-test 0.1 and r2 score-train 0.92\n",
      "Model: RandomForestRegressor() random state 4 has r2 score-test 0.23 and r2 score-train 0.91\n",
      "Model: KNeighborsRegressor(n_neighbors=3) random state 0 has r2 score-test 0.28 and r2 score-train 0.62\n",
      "Model: KNeighborsRegressor(n_neighbors=3) random state 1 has r2 score-test 0.19 and r2 score-train 0.69\n",
      "Model: KNeighborsRegressor(n_neighbors=3) random state 2 has r2 score-test 0.09 and r2 score-train 0.63\n",
      "Model: KNeighborsRegressor(n_neighbors=3) random state 3 has r2 score-test 0.04 and r2 score-train 0.71\n",
      "Model: KNeighborsRegressor(n_neighbors=3) random state 4 has r2 score-test 0.35 and r2 score-train 0.65\n",
      "Model: SVR() random state 0 has r2 score-test -0.17 and r2 score-train -0.16\n",
      "Model: SVR() random state 1 has r2 score-test -0.14 and r2 score-train -0.18\n",
      "Model: SVR() random state 2 has r2 score-test -0.19 and r2 score-train -0.14\n",
      "Model: SVR() random state 3 has r2 score-test -0.21 and r2 score-train -0.15\n",
      "Model: SVR() random state 4 has r2 score-test -0.08 and r2 score-train -0.16\n",
      "Model: GradientBoostingRegressor() random state 0 has r2 score-test 0.26 and r2 score-train 0.7\n",
      "Model: GradientBoostingRegressor() random state 1 has r2 score-test 0.29 and r2 score-train 0.71\n",
      "Model: GradientBoostingRegressor() random state 2 has r2 score-test 0.31 and r2 score-train 0.75\n",
      "Model: GradientBoostingRegressor() random state 3 has r2 score-test 0.03 and r2 score-train 0.77\n",
      "Model: GradientBoostingRegressor() random state 4 has r2 score-test 0.14 and r2 score-train 0.74\n",
      "Model: XGBRegressor(base_score=0.5, booster='gbtree', callbacks=None,\n",
      "             colsample_bylevel=1, colsample_bynode=1, colsample_bytree=1,\n",
      "             early_stopping_rounds=None, enable_categorical=False,\n",
      "             eval_metric=None, gamma=0, gpu_id=-1, grow_policy='depthwise',\n",
      "             importance_type=None, interaction_constraints='',\n",
      "             learning_rate=0.300000012, max_bin=256, max_cat_to_onehot=4,\n",
      "             max_delta_step=0, max_depth=6, max_leaves=0, min_child_weight=1,\n",
      "             missing=nan, monotone_constraints='()', n_estimators=100, n_jobs=0,\n",
      "             num_parallel_tree=1, predictor='auto', random_state=0, reg_alpha=0,\n",
      "             reg_lambda=1, ...) random state 0 has r2 score-test 0.25 and r2 score-train 0.99\n",
      "Model: XGBRegressor(base_score=0.5, booster='gbtree', callbacks=None,\n",
      "             colsample_bylevel=1, colsample_bynode=1, colsample_bytree=1,\n",
      "             early_stopping_rounds=None, enable_categorical=False,\n",
      "             eval_metric=None, gamma=0, gpu_id=-1, grow_policy='depthwise',\n",
      "             importance_type=None, interaction_constraints='',\n",
      "             learning_rate=0.300000012, max_bin=256, max_cat_to_onehot=4,\n",
      "             max_delta_step=0, max_depth=6, max_leaves=0, min_child_weight=1,\n",
      "             missing=nan, monotone_constraints='()', n_estimators=100, n_jobs=0,\n",
      "             num_parallel_tree=1, predictor='auto', random_state=0, reg_alpha=0,\n",
      "             reg_lambda=1, ...) random state 1 has r2 score-test 0.16 and r2 score-train 0.99\n",
      "Model: XGBRegressor(base_score=0.5, booster='gbtree', callbacks=None,\n",
      "             colsample_bylevel=1, colsample_bynode=1, colsample_bytree=1,\n",
      "             early_stopping_rounds=None, enable_categorical=False,\n",
      "             eval_metric=None, gamma=0, gpu_id=-1, grow_policy='depthwise',\n",
      "             importance_type=None, interaction_constraints='',\n",
      "             learning_rate=0.300000012, max_bin=256, max_cat_to_onehot=4,\n",
      "             max_delta_step=0, max_depth=6, max_leaves=0, min_child_weight=1,\n",
      "             missing=nan, monotone_constraints='()', n_estimators=100, n_jobs=0,\n",
      "             num_parallel_tree=1, predictor='auto', random_state=0, reg_alpha=0,\n",
      "             reg_lambda=1, ...) random state 2 has r2 score-test 0.12 and r2 score-train 0.99\n",
      "Model: XGBRegressor(base_score=0.5, booster='gbtree', callbacks=None,\n",
      "             colsample_bylevel=1, colsample_bynode=1, colsample_bytree=1,\n",
      "             early_stopping_rounds=None, enable_categorical=False,\n",
      "             eval_metric=None, gamma=0, gpu_id=-1, grow_policy='depthwise',\n",
      "             importance_type=None, interaction_constraints='',\n",
      "             learning_rate=0.300000012, max_bin=256, max_cat_to_onehot=4,\n",
      "             max_delta_step=0, max_depth=6, max_leaves=0, min_child_weight=1,\n",
      "             missing=nan, monotone_constraints='()', n_estimators=100, n_jobs=0,\n",
      "             num_parallel_tree=1, predictor='auto', random_state=0, reg_alpha=0,\n",
      "             reg_lambda=1, ...) random state 3 has r2 score-test -0.01 and r2 score-train 0.99\n",
      "Model: XGBRegressor(base_score=0.5, booster='gbtree', callbacks=None,\n",
      "             colsample_bylevel=1, colsample_bynode=1, colsample_bytree=1,\n",
      "             early_stopping_rounds=None, enable_categorical=False,\n",
      "             eval_metric=None, gamma=0, gpu_id=-1, grow_policy='depthwise',\n",
      "             importance_type=None, interaction_constraints='',\n",
      "             learning_rate=0.300000012, max_bin=256, max_cat_to_onehot=4,\n",
      "             max_delta_step=0, max_depth=6, max_leaves=0, min_child_weight=1,\n",
      "             missing=nan, monotone_constraints='()', n_estimators=100, n_jobs=0,\n",
      "             num_parallel_tree=1, predictor='auto', random_state=0, reg_alpha=0,\n",
      "             reg_lambda=1, ...) random state 4 has r2 score-test 0.02 and r2 score-train 0.99\n",
      "Model: AdaBoostRegressor() random state 0 has r2 score-test 0.31 and r2 score-train 0.34\n",
      "Model: AdaBoostRegressor() random state 1 has r2 score-test 0.15 and r2 score-train 0.36\n",
      "Model: AdaBoostRegressor() random state 2 has r2 score-test -0.73 and r2 score-train -0.08\n",
      "Model: AdaBoostRegressor() random state 3 has r2 score-test -0.56 and r2 score-train 0.15\n",
      "Model: AdaBoostRegressor() random state 4 has r2 score-test -0.48 and r2 score-train 0.11\n"
     ]
    }
   ],
   "source": [
    "for i1 in lst:\n",
    "    for i2 in range(0,5):\n",
    "        x_train,x_test,y_train,y_test=train_test_split(Xpt,Ytag,random_state=i2,test_size=0.33)\n",
    "        i1.fit(x_train,y_train)\n",
    "        pred_test=i1.predict(x_test)\n",
    "        pred_train=i1.predict(x_train)     \n",
    "        print(\"Model:\",i1,\"random state\",i2,\"has r2 score-test\",round(r2_score(y_test,pred_test),2),\"and r2 score-train\",round(r2_score(y_train,pred_train),2))\n",
    "        "
   ]
  },
  {
   "cell_type": "markdown",
   "id": "b283679c",
   "metadata": {},
   "source": [
    "After training multiple models, we can observe that there is a lot of error in the model and assuming due to the huge amount of missing data and hence insufficient features.K Neighbors Regressor for random state- 4 and test_size= 0.33 seems to be a better model compared to other model results because of the less difference in r2 score of train and test data."
   ]
  },
  {
   "cell_type": "code",
   "execution_count": 224,
   "id": "7cc3bd56",
   "metadata": {},
   "outputs": [],
   "source": [
    "x_train,x_test,y_train,y_test=train_test_split(Xtag,Ytag,random_state=4,test_size=0.33)"
   ]
  },
  {
   "cell_type": "code",
   "execution_count": 225,
   "id": "86c64e19",
   "metadata": {},
   "outputs": [],
   "source": [
    "m1=kn.fit(x_train,y_train)\n",
    "pred_train=m1.predict(x_train)\n",
    "pred_test=m1.predict(x_test)"
   ]
  },
  {
   "cell_type": "code",
   "execution_count": 226,
   "id": "19055da8",
   "metadata": {},
   "outputs": [
    {
     "name": "stdout",
     "output_type": "stream",
     "text": [
      "32.86\n"
     ]
    }
   ],
   "source": [
    "print(round(r2_score(y_test,pred_test)*100,2))"
   ]
  },
  {
   "cell_type": "code",
   "execution_count": 227,
   "id": "42ba4582",
   "metadata": {},
   "outputs": [
    {
     "name": "stdout",
     "output_type": "stream",
     "text": [
      "63.33\n"
     ]
    }
   ],
   "source": [
    "print(round(r2_score(y_train,pred_train)*100,2))"
   ]
  },
  {
   "cell_type": "markdown",
   "id": "24de75e2",
   "metadata": {},
   "source": [
    "#### Cross Validation Score"
   ]
  },
  {
   "cell_type": "code",
   "execution_count": 228,
   "id": "0d6a633c",
   "metadata": {},
   "outputs": [
    {
     "name": "stdout",
     "output_type": "stream",
     "text": [
      "29.44\n"
     ]
    }
   ],
   "source": [
    "from sklearn.model_selection import KFold\n",
    "from sklearn.model_selection import cross_val_score\n",
    "\n",
    "cv=KFold(n_splits=5, random_state=4, shuffle=True)\n",
    "cv1=cross_val_score(m1,Xtag,Ytag,cv=cv)\n",
    "score1=cv1.mean()\n",
    "print(round(score1*100,2))"
   ]
  },
  {
   "cell_type": "markdown",
   "id": "d3646613",
   "metadata": {},
   "source": [
    "#### Hyperparamter Tuning "
   ]
  },
  {
   "cell_type": "code",
   "execution_count": 229,
   "id": "db66976e",
   "metadata": {},
   "outputs": [
    {
     "data": {
      "text/plain": [
       "{'algorithm': 'auto',\n",
       " 'leaf_size': 30,\n",
       " 'metric': 'minkowski',\n",
       " 'metric_params': None,\n",
       " 'n_jobs': None,\n",
       " 'n_neighbors': 3,\n",
       " 'p': 2,\n",
       " 'weights': 'uniform'}"
      ]
     },
     "execution_count": 229,
     "metadata": {},
     "output_type": "execute_result"
    }
   ],
   "source": [
    "kn.get_params()"
   ]
  },
  {
   "cell_type": "code",
   "execution_count": 230,
   "id": "77d749ae",
   "metadata": {},
   "outputs": [],
   "source": [
    "from sklearn.model_selection import RandomizedSearchCV"
   ]
  },
  {
   "cell_type": "code",
   "execution_count": 231,
   "id": "48e038b8",
   "metadata": {},
   "outputs": [],
   "source": [
    "param_dist={\"algorithm\": [\"auto\",\"ball_tree\",\"kd_tree\",\"brute\"],\"leaf_size\":[30,40,50],\"weights\":[\"uniform\",\"distance\"]}"
   ]
  },
  {
   "cell_type": "code",
   "execution_count": 232,
   "id": "6e116e9f",
   "metadata": {},
   "outputs": [],
   "source": [
    "samples=5\n",
    "randomcv=RandomizedSearchCV(m1,param_distributions=param_dist,n_iter=samples,cv=3)"
   ]
  },
  {
   "cell_type": "code",
   "execution_count": 233,
   "id": "08489ce1",
   "metadata": {},
   "outputs": [
    {
     "name": "stdout",
     "output_type": "stream",
     "text": [
      "{'weights': 'distance', 'leaf_size': 40, 'algorithm': 'kd_tree'}\n"
     ]
    }
   ],
   "source": [
    "final=randomcv.fit(x_train,y_train)\n",
    "print(final.best_params_)"
   ]
  },
  {
   "cell_type": "code",
   "execution_count": 234,
   "id": "adba5334",
   "metadata": {},
   "outputs": [],
   "source": [
    "pred1=final.predict(x_train)\n",
    "pred2=final.predict(x_test)"
   ]
  },
  {
   "cell_type": "code",
   "execution_count": 235,
   "id": "32c46bdd",
   "metadata": {},
   "outputs": [
    {
     "name": "stdout",
     "output_type": "stream",
     "text": [
      "30.12\n"
     ]
    }
   ],
   "source": [
    "print(round(r2_score(y_test,pred2)*100,2))"
   ]
  },
  {
   "cell_type": "code",
   "execution_count": 236,
   "id": "f650e194",
   "metadata": {},
   "outputs": [
    {
     "name": "stdout",
     "output_type": "stream",
     "text": [
      "99.59\n"
     ]
    }
   ],
   "source": [
    "print(round(r2_score(y_train,pred1)*100,2))"
   ]
  },
  {
   "cell_type": "markdown",
   "id": "1e312f9a",
   "metadata": {},
   "source": [
    "From the above results, we can conclude that Kneigbors model had training R2 score of 63% and testing R2 score of 32 % and cross-validation score of 30%. After hyperparamter tuning, the training R2 score has improved to 100%."
   ]
  },
  {
   "cell_type": "markdown",
   "id": "159db33c",
   "metadata": {},
   "source": [
    "### Task 2- Predicting Primary-Fuel"
   ]
  },
  {
   "cell_type": "code",
   "execution_count": 146,
   "id": "479aa48d",
   "metadata": {},
   "outputs": [
    {
     "data": {
      "text/html": [
       "<div>\n",
       "<style scoped>\n",
       "    .dataframe tbody tr th:only-of-type {\n",
       "        vertical-align: middle;\n",
       "    }\n",
       "\n",
       "    .dataframe tbody tr th {\n",
       "        vertical-align: top;\n",
       "    }\n",
       "\n",
       "    .dataframe thead th {\n",
       "        text-align: right;\n",
       "    }\n",
       "</style>\n",
       "<table border=\"1\" class=\"dataframe\">\n",
       "  <thead>\n",
       "    <tr style=\"text-align: right;\">\n",
       "      <th></th>\n",
       "      <th>capacity_mw</th>\n",
       "      <th>latitude</th>\n",
       "      <th>longitude</th>\n",
       "      <th>primary_fuel</th>\n",
       "      <th>geolocation_source</th>\n",
       "    </tr>\n",
       "  </thead>\n",
       "  <tbody>\n",
       "    <tr>\n",
       "      <th>0</th>\n",
       "      <td>2.5</td>\n",
       "      <td>28.1839</td>\n",
       "      <td>73.2407</td>\n",
       "      <td>6.0</td>\n",
       "      <td>1.0</td>\n",
       "    </tr>\n",
       "    <tr>\n",
       "      <th>1</th>\n",
       "      <td>98.0</td>\n",
       "      <td>24.7663</td>\n",
       "      <td>74.6090</td>\n",
       "      <td>1.0</td>\n",
       "      <td>2.0</td>\n",
       "    </tr>\n",
       "    <tr>\n",
       "      <th>2</th>\n",
       "      <td>39.2</td>\n",
       "      <td>21.9038</td>\n",
       "      <td>69.3732</td>\n",
       "      <td>7.0</td>\n",
       "      <td>2.0</td>\n",
       "    </tr>\n",
       "    <tr>\n",
       "      <th>3</th>\n",
       "      <td>135.0</td>\n",
       "      <td>23.8712</td>\n",
       "      <td>91.3602</td>\n",
       "      <td>2.0</td>\n",
       "      <td>2.0</td>\n",
       "    </tr>\n",
       "    <tr>\n",
       "      <th>4</th>\n",
       "      <td>1800.0</td>\n",
       "      <td>21.9603</td>\n",
       "      <td>82.4091</td>\n",
       "      <td>1.0</td>\n",
       "      <td>2.0</td>\n",
       "    </tr>\n",
       "    <tr>\n",
       "      <th>...</th>\n",
       "      <td>...</td>\n",
       "      <td>...</td>\n",
       "      <td>...</td>\n",
       "      <td>...</td>\n",
       "      <td>...</td>\n",
       "    </tr>\n",
       "    <tr>\n",
       "      <th>902</th>\n",
       "      <td>1600.0</td>\n",
       "      <td>16.2949</td>\n",
       "      <td>77.3568</td>\n",
       "      <td>1.0</td>\n",
       "      <td>2.0</td>\n",
       "    </tr>\n",
       "    <tr>\n",
       "      <th>903</th>\n",
       "      <td>3.0</td>\n",
       "      <td>12.8932</td>\n",
       "      <td>78.1654</td>\n",
       "      <td>6.0</td>\n",
       "      <td>0.0</td>\n",
       "    </tr>\n",
       "    <tr>\n",
       "      <th>904</th>\n",
       "      <td>25.5</td>\n",
       "      <td>15.2758</td>\n",
       "      <td>75.5811</td>\n",
       "      <td>7.0</td>\n",
       "      <td>2.0</td>\n",
       "    </tr>\n",
       "    <tr>\n",
       "      <th>905</th>\n",
       "      <td>80.0</td>\n",
       "      <td>24.3500</td>\n",
       "      <td>73.7477</td>\n",
       "      <td>1.0</td>\n",
       "      <td>2.0</td>\n",
       "    </tr>\n",
       "    <tr>\n",
       "      <th>906</th>\n",
       "      <td>16.5</td>\n",
       "      <td>9.9344</td>\n",
       "      <td>77.4768</td>\n",
       "      <td>7.0</td>\n",
       "      <td>2.0</td>\n",
       "    </tr>\n",
       "  </tbody>\n",
       "</table>\n",
       "<p>871 rows × 5 columns</p>\n",
       "</div>"
      ],
      "text/plain": [
       "     capacity_mw  latitude  longitude  primary_fuel  geolocation_source\n",
       "0            2.5   28.1839    73.2407           6.0                 1.0\n",
       "1           98.0   24.7663    74.6090           1.0                 2.0\n",
       "2           39.2   21.9038    69.3732           7.0                 2.0\n",
       "3          135.0   23.8712    91.3602           2.0                 2.0\n",
       "4         1800.0   21.9603    82.4091           1.0                 2.0\n",
       "..           ...       ...        ...           ...                 ...\n",
       "902       1600.0   16.2949    77.3568           1.0                 2.0\n",
       "903          3.0   12.8932    78.1654           6.0                 0.0\n",
       "904         25.5   15.2758    75.5811           7.0                 2.0\n",
       "905         80.0   24.3500    73.7477           1.0                 2.0\n",
       "906         16.5    9.9344    77.4768           7.0                 2.0\n",
       "\n",
       "[871 rows x 5 columns]"
      ]
     },
     "execution_count": 146,
     "metadata": {},
     "output_type": "execute_result"
    }
   ],
   "source": [
    "df_z"
   ]
  },
  {
   "cell_type": "code",
   "execution_count": 147,
   "id": "9046a44e",
   "metadata": {},
   "outputs": [],
   "source": [
    "X1=df_new[[\"longitude\",\"geolocation_source\",\"latitude\",\"capacity_mw\"]]\n",
    "Y1=df_new[[\"primary_fuel\"]]"
   ]
  },
  {
   "cell_type": "code",
   "execution_count": 153,
   "id": "6bfd076e",
   "metadata": {},
   "outputs": [
    {
     "data": {
      "text/plain": [
       "primary_fuel\n",
       "1.0             258\n",
       "3.0             251\n",
       "6.0             127\n",
       "7.0             123\n",
       "2.0              69\n",
       "0.0              50\n",
       "5.0              20\n",
       "4.0               9\n",
       "dtype: int64"
      ]
     },
     "execution_count": 153,
     "metadata": {},
     "output_type": "execute_result"
    }
   ],
   "source": [
    "Y1.value_counts()"
   ]
  },
  {
   "cell_type": "code",
   "execution_count": 154,
   "id": "11bc81df",
   "metadata": {},
   "outputs": [],
   "source": [
    "#Scaling the features\n",
    "\n",
    "from sklearn.preprocessing import MinMaxScaler\n",
    "\n",
    "scaler=MinMaxScaler()\n",
    "X_s=scaler.fit_transform(X1)"
   ]
  },
  {
   "cell_type": "code",
   "execution_count": 155,
   "id": "b5f667cd",
   "metadata": {},
   "outputs": [],
   "source": [
    "#Applying power transform\n",
    "from sklearn.preprocessing import power_transform\n",
    "\n",
    "Xpt=power_transform(X_s)"
   ]
  },
  {
   "cell_type": "code",
   "execution_count": 156,
   "id": "3b9caa45",
   "metadata": {},
   "outputs": [],
   "source": [
    "#Splitting data into Training and Testing Data\n",
    "\n",
    "from sklearn.model_selection import train_test_split\n",
    "from sklearn.linear_model import LogisticRegression\n",
    "from sklearn.ensemble import RandomForestClassifier\n",
    "from sklearn.neighbors import KNeighborsClassifier\n",
    "from sklearn.svm import SVC\n",
    "from sklearn.tree import DecisionTreeClassifier\n",
    "from sklearn.naive_bayes import GaussianNB\n",
    "from xgboost import XGBClassifier\n",
    "\n",
    "from sklearn.metrics import accuracy_score,confusion_matrix,classification_report,f1_score,roc_auc_score"
   ]
  },
  {
   "cell_type": "code",
   "execution_count": 157,
   "id": "949f47c1",
   "metadata": {},
   "outputs": [],
   "source": [
    "lr=LogisticRegression()\n",
    "rf=RandomForestClassifier()\n",
    "kn=KNeighborsClassifier(n_neighbors=3)\n",
    "sv=SVC()\n",
    "dt=DecisionTreeClassifier(criterion='entropy')\n",
    "gb=GaussianNB()\n",
    "xgb = XGBClassifier()\n",
    "\n",
    "lst=[lr,rf,kn,sv,dt,gb,xgb]"
   ]
  },
  {
   "cell_type": "code",
   "execution_count": 159,
   "id": "15256196",
   "metadata": {},
   "outputs": [
    {
     "name": "stdout",
     "output_type": "stream",
     "text": [
      "Model LogisticRegression() Random State- 0 Accuracy Score-Test 0.59 Accuracy Score-Train 0.57 F1 score-train 0.53 F1 score -test 0.56\n",
      "Model LogisticRegression() Random State- 1 Accuracy Score-Test 0.56 Accuracy Score-Train 0.57 F1 score-train 0.53 F1 score -test 0.52\n",
      "Model LogisticRegression() Random State- 2 Accuracy Score-Test 0.53 Accuracy Score-Train 0.59 F1 score-train 0.55 F1 score -test 0.48\n",
      "Model LogisticRegression() Random State- 3 Accuracy Score-Test 0.56 Accuracy Score-Train 0.57 F1 score-train 0.52 F1 score -test 0.52\n",
      "Model RandomForestClassifier() Random State- 0 Accuracy Score-Test 0.74 Accuracy Score-Train 1.0 F1 score-train 1.0 F1 score -test 0.74\n",
      "Model RandomForestClassifier() Random State- 1 Accuracy Score-Test 0.71 Accuracy Score-Train 1.0 F1 score-train 1.0 F1 score -test 0.71\n",
      "Model RandomForestClassifier() Random State- 2 Accuracy Score-Test 0.73 Accuracy Score-Train 1.0 F1 score-train 1.0 F1 score -test 0.72\n",
      "Model RandomForestClassifier() Random State- 3 Accuracy Score-Test 0.71 Accuracy Score-Train 1.0 F1 score-train 1.0 F1 score -test 0.71\n",
      "Model KNeighborsClassifier(n_neighbors=3) Random State- 0 Accuracy Score-Test 0.68 Accuracy Score-Train 0.84 F1 score-train 0.83 F1 score -test 0.69\n",
      "Model KNeighborsClassifier(n_neighbors=3) Random State- 1 Accuracy Score-Test 0.68 Accuracy Score-Train 0.84 F1 score-train 0.83 F1 score -test 0.68\n",
      "Model KNeighborsClassifier(n_neighbors=3) Random State- 2 Accuracy Score-Test 0.71 Accuracy Score-Train 0.83 F1 score-train 0.83 F1 score -test 0.7\n",
      "Model KNeighborsClassifier(n_neighbors=3) Random State- 3 Accuracy Score-Test 0.67 Accuracy Score-Train 0.84 F1 score-train 0.83 F1 score -test 0.67\n",
      "Model SVC() Random State- 0 Accuracy Score-Test 0.59 Accuracy Score-Train 0.64 F1 score-train 0.58 F1 score -test 0.55\n",
      "Model SVC() Random State- 1 Accuracy Score-Test 0.57 Accuracy Score-Train 0.64 F1 score-train 0.6 F1 score -test 0.53\n",
      "Model SVC() Random State- 2 Accuracy Score-Test 0.59 Accuracy Score-Train 0.65 F1 score-train 0.6 F1 score -test 0.54\n",
      "Model SVC() Random State- 3 Accuracy Score-Test 0.6 Accuracy Score-Train 0.65 F1 score-train 0.61 F1 score -test 0.56\n",
      "Model DecisionTreeClassifier(criterion='entropy') Random State- 0 Accuracy Score-Test 0.68 Accuracy Score-Train 1.0 F1 score-train 1.0 F1 score -test 0.68\n",
      "Model DecisionTreeClassifier(criterion='entropy') Random State- 1 Accuracy Score-Test 0.68 Accuracy Score-Train 1.0 F1 score-train 1.0 F1 score -test 0.67\n",
      "Model DecisionTreeClassifier(criterion='entropy') Random State- 2 Accuracy Score-Test 0.7 Accuracy Score-Train 1.0 F1 score-train 1.0 F1 score -test 0.69\n",
      "Model DecisionTreeClassifier(criterion='entropy') Random State- 3 Accuracy Score-Test 0.65 Accuracy Score-Train 1.0 F1 score-train 1.0 F1 score -test 0.65\n",
      "Model GaussianNB() Random State- 0 Accuracy Score-Test 0.56 Accuracy Score-Train 0.6 F1 score-train 0.58 F1 score -test 0.55\n",
      "Model GaussianNB() Random State- 1 Accuracy Score-Test 0.58 Accuracy Score-Train 0.61 F1 score-train 0.58 F1 score -test 0.57\n",
      "Model GaussianNB() Random State- 2 Accuracy Score-Test 0.6 Accuracy Score-Train 0.59 F1 score-train 0.57 F1 score -test 0.57\n",
      "Model GaussianNB() Random State- 3 Accuracy Score-Test 0.56 Accuracy Score-Train 0.6 F1 score-train 0.58 F1 score -test 0.55\n",
      "Model XGBClassifier(base_score=0.5, booster='gbtree', callbacks=None,\n",
      "              colsample_bylevel=1, colsample_bynode=1, colsample_bytree=1,\n",
      "              early_stopping_rounds=None, enable_categorical=False,\n",
      "              eval_metric=None, gamma=0, gpu_id=-1, grow_policy='depthwise',\n",
      "              importance_type=None, interaction_constraints='',\n",
      "              learning_rate=0.300000012, max_bin=256, max_cat_to_onehot=4,\n",
      "              max_delta_step=0, max_depth=6, max_leaves=0, min_child_weight=1,\n",
      "              missing=nan, monotone_constraints='()', n_estimators=100,\n",
      "              n_jobs=0, num_parallel_tree=1, objective='multi:softprob',\n",
      "              predictor='auto', random_state=0, reg_alpha=0, ...) Random State- 0 Accuracy Score-Test 0.73 Accuracy Score-Train 1.0 F1 score-train 1.0 F1 score -test 0.72\n",
      "Model XGBClassifier(base_score=0.5, booster='gbtree', callbacks=None,\n",
      "              colsample_bylevel=1, colsample_bynode=1, colsample_bytree=1,\n",
      "              early_stopping_rounds=None, enable_categorical=False,\n",
      "              eval_metric=None, gamma=0, gpu_id=-1, grow_policy='depthwise',\n",
      "              importance_type=None, interaction_constraints='',\n",
      "              learning_rate=0.300000012, max_bin=256, max_cat_to_onehot=4,\n",
      "              max_delta_step=0, max_depth=6, max_leaves=0, min_child_weight=1,\n",
      "              missing=nan, monotone_constraints='()', n_estimators=100,\n",
      "              n_jobs=0, num_parallel_tree=1, objective='multi:softprob',\n",
      "              predictor='auto', random_state=0, reg_alpha=0, ...) Random State- 1 Accuracy Score-Test 0.7 Accuracy Score-Train 1.0 F1 score-train 1.0 F1 score -test 0.7\n",
      "Model XGBClassifier(base_score=0.5, booster='gbtree', callbacks=None,\n",
      "              colsample_bylevel=1, colsample_bynode=1, colsample_bytree=1,\n",
      "              early_stopping_rounds=None, enable_categorical=False,\n",
      "              eval_metric=None, gamma=0, gpu_id=-1, grow_policy='depthwise',\n",
      "              importance_type=None, interaction_constraints='',\n",
      "              learning_rate=0.300000012, max_bin=256, max_cat_to_onehot=4,\n",
      "              max_delta_step=0, max_depth=6, max_leaves=0, min_child_weight=1,\n",
      "              missing=nan, monotone_constraints='()', n_estimators=100,\n",
      "              n_jobs=0, num_parallel_tree=1, objective='multi:softprob',\n",
      "              predictor='auto', random_state=0, reg_alpha=0, ...) Random State- 2 Accuracy Score-Test 0.74 Accuracy Score-Train 1.0 F1 score-train 1.0 F1 score -test 0.73\n",
      "Model XGBClassifier(base_score=0.5, booster='gbtree', callbacks=None,\n",
      "              colsample_bylevel=1, colsample_bynode=1, colsample_bytree=1,\n",
      "              early_stopping_rounds=None, enable_categorical=False,\n",
      "              eval_metric=None, gamma=0, gpu_id=-1, grow_policy='depthwise',\n",
      "              importance_type=None, interaction_constraints='',\n",
      "              learning_rate=0.300000012, max_bin=256, max_cat_to_onehot=4,\n",
      "              max_delta_step=0, max_depth=6, max_leaves=0, min_child_weight=1,\n",
      "              missing=nan, monotone_constraints='()', n_estimators=100,\n",
      "              n_jobs=0, num_parallel_tree=1, objective='multi:softprob',\n",
      "              predictor='auto', random_state=0, reg_alpha=0, ...) Random State- 3 Accuracy Score-Test 0.73 Accuracy Score-Train 1.0 F1 score-train 1.0 F1 score -test 0.73\n"
     ]
    }
   ],
   "source": [
    "for i1 in lst:\n",
    "    for i2 in range(0,4):\n",
    "        x_train,x_test,y_train,y_test=train_test_split(Xpt,Y1,random_state=i2,test_size=0.25)\n",
    "        i1.fit(x_train,y_train)\n",
    "        pred_test=i1.predict(x_test)\n",
    "        pred_train=i1.predict(x_train)\n",
    "        print(\"Model\",i1,\"Random State-\",i2,\"Accuracy Score-Test\",round(accuracy_score(y_test,pred_test),2),\"Accuracy Score-Train\",round(accuracy_score(y_train,pred_train),2),\"F1 score-train\",round(f1_score(y_train,pred_train,average=\"weighted\"),2),\"F1 score -test\",round(f1_score(y_test,pred_test,average=\"weighted\"),2))"
   ]
  },
  {
   "cell_type": "markdown",
   "id": "cd359962",
   "metadata": {},
   "source": [
    "From the above results, KNN classifier model has efficient results random state-2 and test size-0.25 compared to other models.\n",
    "\n",
    "Model KNeighborsClassifier(n_neighbors=3) Random State- 2 Accuracy Score-Test 0.71 Accuracy Score-Train 0.83 F1 score-train 0.83 F1 score -test 0.7\n",
    "\n",
    "The difference between training and test accuracy score is less compared to other models. "
   ]
  },
  {
   "cell_type": "code",
   "execution_count": 160,
   "id": "c20bf824",
   "metadata": {},
   "outputs": [],
   "source": [
    "x_train,x_test,y_train,y_test=train_test_split(Xpt,Y1,random_state=2,test_size=0.25)"
   ]
  },
  {
   "cell_type": "code",
   "execution_count": 162,
   "id": "510c88b0",
   "metadata": {},
   "outputs": [],
   "source": [
    "model_c=kn.fit(x_train,y_train)\n",
    "pred_train=model_c.predict(x_train)\n",
    "pred_test=model_c.predict(x_test)"
   ]
  },
  {
   "cell_type": "code",
   "execution_count": 163,
   "id": "c67e9f1c",
   "metadata": {},
   "outputs": [
    {
     "name": "stdout",
     "output_type": "stream",
     "text": [
      "83.0\n"
     ]
    }
   ],
   "source": [
    "print(round(accuracy_score(y_train,pred_train),2)*100)"
   ]
  },
  {
   "cell_type": "code",
   "execution_count": 164,
   "id": "bfc542a1",
   "metadata": {},
   "outputs": [
    {
     "name": "stdout",
     "output_type": "stream",
     "text": [
      "71.0\n"
     ]
    }
   ],
   "source": [
    "print(round(accuracy_score(y_test,pred_test),2)*100)"
   ]
  },
  {
   "cell_type": "code",
   "execution_count": 165,
   "id": "4e1ba4f8",
   "metadata": {},
   "outputs": [
    {
     "name": "stdout",
     "output_type": "stream",
     "text": [
      "83.0\n"
     ]
    }
   ],
   "source": [
    "print(round(f1_score(y_train,pred_train,average='weighted'),2)*100)"
   ]
  },
  {
   "cell_type": "code",
   "execution_count": 166,
   "id": "e88c59b0",
   "metadata": {},
   "outputs": [
    {
     "name": "stdout",
     "output_type": "stream",
     "text": [
      "70.0\n"
     ]
    }
   ],
   "source": [
    "print(round(f1_score(y_test,pred_test,average='weighted'),2)*100)"
   ]
  },
  {
   "cell_type": "code",
   "execution_count": 167,
   "id": "4f3b69e1",
   "metadata": {},
   "outputs": [
    {
     "name": "stdout",
     "output_type": "stream",
     "text": [
      "              precision    recall  f1-score   support\n",
      "\n",
      "         0.0       0.61      0.73      0.67        15\n",
      "         1.0       0.73      0.81      0.77        69\n",
      "         2.0       0.53      0.43      0.47        21\n",
      "         3.0       0.68      0.63      0.65        57\n",
      "         4.0       0.00      0.00      0.00         5\n",
      "         5.0       0.25      0.25      0.25         4\n",
      "         6.0       0.96      0.96      0.96        28\n",
      "         7.0       0.70      0.75      0.72        28\n",
      "\n",
      "    accuracy                           0.71       227\n",
      "   macro avg       0.56      0.57      0.56       227\n",
      "weighted avg       0.69      0.71      0.70       227\n",
      "\n"
     ]
    }
   ],
   "source": [
    "print(classification_report(y_test,pred_test))"
   ]
  },
  {
   "cell_type": "markdown",
   "id": "5bd6adf5",
   "metadata": {},
   "source": [
    "#### Cross-Validation "
   ]
  },
  {
   "cell_type": "code",
   "execution_count": 168,
   "id": "0c352da3",
   "metadata": {},
   "outputs": [],
   "source": [
    "cv=KFold(n_splits=10, random_state=2, shuffle=True)\n",
    "cv1=cross_val_score(model_c,Xpt,Y1, scoring='accuracy', cv=cv)"
   ]
  },
  {
   "cell_type": "code",
   "execution_count": 169,
   "id": "b799ee2a",
   "metadata": {},
   "outputs": [
    {
     "name": "stdout",
     "output_type": "stream",
     "text": [
      "70.0\n"
     ]
    }
   ],
   "source": [
    "print(round(cv1.mean(),2)*100)"
   ]
  },
  {
   "cell_type": "markdown",
   "id": "0222a794",
   "metadata": {},
   "source": [
    "### Hyperparameter Tuning"
   ]
  },
  {
   "cell_type": "code",
   "execution_count": 171,
   "id": "fbf095ac",
   "metadata": {},
   "outputs": [],
   "source": [
    "from sklearn.model_selection import RandomizedSearchCV"
   ]
  },
  {
   "cell_type": "code",
   "execution_count": 178,
   "id": "c40423ff",
   "metadata": {},
   "outputs": [],
   "source": [
    "kn=KNeighborsClassifier()"
   ]
  },
  {
   "cell_type": "code",
   "execution_count": 179,
   "id": "813d6952",
   "metadata": {},
   "outputs": [
    {
     "data": {
      "text/plain": [
       "{'algorithm': 'auto',\n",
       " 'leaf_size': 30,\n",
       " 'metric': 'minkowski',\n",
       " 'metric_params': None,\n",
       " 'n_jobs': None,\n",
       " 'n_neighbors': 5,\n",
       " 'p': 2,\n",
       " 'weights': 'uniform'}"
      ]
     },
     "execution_count": 179,
     "metadata": {},
     "output_type": "execute_result"
    }
   ],
   "source": [
    "kn.get_params()"
   ]
  },
  {
   "cell_type": "code",
   "execution_count": 180,
   "id": "d51434fb",
   "metadata": {},
   "outputs": [],
   "source": [
    "param_dist={\"algorithm\": [\"auto\",\"ball_tree\",\"kd_tree\",\"brute\"],\"leaf_size\":[30,40,50],\"weights\":[\"uniform\",\"distance\"]}"
   ]
  },
  {
   "cell_type": "code",
   "execution_count": 181,
   "id": "052354b8",
   "metadata": {},
   "outputs": [],
   "source": [
    "samples=5  # number of random samples \n",
    "randomCV=RandomizedSearchCV(kn, param_distributions=param_dist, n_iter=samples,cv=3)"
   ]
  },
  {
   "cell_type": "code",
   "execution_count": 182,
   "id": "3a780f39",
   "metadata": {},
   "outputs": [],
   "source": [
    "final=randomCV.fit(x_train,y_train)"
   ]
  },
  {
   "cell_type": "code",
   "execution_count": 183,
   "id": "861bde33",
   "metadata": {},
   "outputs": [
    {
     "name": "stdout",
     "output_type": "stream",
     "text": [
      "{'weights': 'distance', 'leaf_size': 40, 'algorithm': 'auto'}\n"
     ]
    }
   ],
   "source": [
    "print(final.best_params_)"
   ]
  },
  {
   "cell_type": "code",
   "execution_count": 184,
   "id": "c23a6b95",
   "metadata": {},
   "outputs": [],
   "source": [
    "pred1=final.predict(x_test)\n",
    "pred2=final.predict(x_train)"
   ]
  },
  {
   "cell_type": "code",
   "execution_count": 187,
   "id": "5501edad",
   "metadata": {},
   "outputs": [
    {
     "name": "stdout",
     "output_type": "stream",
     "text": [
      "70.93\n"
     ]
    }
   ],
   "source": [
    "print(round(accuracy_score(y_test,pred1)*100,2))"
   ]
  },
  {
   "cell_type": "code",
   "execution_count": 188,
   "id": "4b3e3c44",
   "metadata": {},
   "outputs": [
    {
     "name": "stdout",
     "output_type": "stream",
     "text": [
      "99.56\n"
     ]
    }
   ],
   "source": [
    "print(round(accuracy_score(y_train,pred2)*100,2))"
   ]
  },
  {
   "cell_type": "code",
   "execution_count": 190,
   "id": "4b861f7d",
   "metadata": {},
   "outputs": [
    {
     "name": "stdout",
     "output_type": "stream",
     "text": [
      "69.98\n"
     ]
    }
   ],
   "source": [
    "print(round(f1_score(y_test,pred1,average='weighted')*100,2))"
   ]
  },
  {
   "cell_type": "code",
   "execution_count": 191,
   "id": "e6dd6c0d",
   "metadata": {},
   "outputs": [
    {
     "name": "stdout",
     "output_type": "stream",
     "text": [
      "99.56\n"
     ]
    }
   ],
   "source": [
    "print(round(f1_score(y_train,pred2,average='weighted')*100,2))"
   ]
  },
  {
   "cell_type": "code",
   "execution_count": 192,
   "id": "2cffbaa9",
   "metadata": {},
   "outputs": [
    {
     "name": "stdout",
     "output_type": "stream",
     "text": [
      "              precision    recall  f1-score   support\n",
      "\n",
      "         0.0       0.71      0.67      0.69        15\n",
      "         1.0       0.74      0.75      0.75        69\n",
      "         2.0       0.50      0.38      0.43        21\n",
      "         3.0       0.68      0.68      0.68        57\n",
      "         4.0       0.00      0.00      0.00         5\n",
      "         5.0       0.17      0.25      0.20         4\n",
      "         6.0       0.96      0.96      0.96        28\n",
      "         7.0       0.67      0.86      0.75        28\n",
      "\n",
      "    accuracy                           0.71       227\n",
      "   macro avg       0.55      0.57      0.56       227\n",
      "weighted avg       0.70      0.71      0.70       227\n",
      "\n"
     ]
    }
   ],
   "source": [
    "print(classification_report(y_test,pred1))"
   ]
  },
  {
   "cell_type": "code",
   "execution_count": 193,
   "id": "5ae471ba",
   "metadata": {},
   "outputs": [
    {
     "name": "stdout",
     "output_type": "stream",
     "text": [
      "[[10  2  0  0  0  0  0  3]\n",
      " [ 1 52  5  8  0  1  1  1]\n",
      " [ 0  3  8  5  0  3  0  2]\n",
      " [ 3  9  1 39  0  0  0  5]\n",
      " [ 0  2  1  2  0  0  0  0]\n",
      " [ 0  1  1  1  0  1  0  0]\n",
      " [ 0  0  0  0  0  0 27  1]\n",
      " [ 0  1  0  2  0  1  0 24]]\n"
     ]
    }
   ],
   "source": [
    "print(confusion_matrix(y_test,pred1))"
   ]
  },
  {
   "cell_type": "markdown",
   "id": "4c533d58",
   "metadata": {},
   "source": [
    "From the above classification model, the Training accuracy score has been improved after hyperparameter tuning. Without tuning score for training is 83% and after tuning it is improved to 99%."
   ]
  }
 ],
 "metadata": {
  "kernelspec": {
   "display_name": "Python 3 (ipykernel)",
   "language": "python",
   "name": "python3"
  },
  "language_info": {
   "codemirror_mode": {
    "name": "ipython",
    "version": 3
   },
   "file_extension": ".py",
   "mimetype": "text/x-python",
   "name": "python",
   "nbconvert_exporter": "python",
   "pygments_lexer": "ipython3",
   "version": "3.9.12"
  }
 },
 "nbformat": 4,
 "nbformat_minor": 5
}
