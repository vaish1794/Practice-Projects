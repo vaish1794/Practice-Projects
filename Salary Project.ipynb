{
 "cells": [
  {
   "cell_type": "code",
   "execution_count": 1,
   "id": "e3330882",
   "metadata": {},
   "outputs": [],
   "source": [
    "#Importing the neccesary modules\n",
    "import matplotlib.pyplot as plt\n",
    "import pandas as pd\n",
    "import numpy as np\n",
    "import seaborn as sns\n",
    "from sklearn.linear_model import LinearRegression\n",
    "from sklearn.model_selection import train_test_split"
   ]
  },
  {
   "cell_type": "code",
   "execution_count": 79,
   "id": "5d50dcf7",
   "metadata": {},
   "outputs": [],
   "source": [
    "#Loading the data\n",
    "data=pd.read_csv(\"https://raw.githubusercontent.com/dsrscientist/dataset3/main/Salaries.csv\")"
   ]
  },
  {
   "cell_type": "code",
   "execution_count": 80,
   "id": "2221d7a6",
   "metadata": {},
   "outputs": [
    {
     "data": {
      "text/html": [
       "<div>\n",
       "<style scoped>\n",
       "    .dataframe tbody tr th:only-of-type {\n",
       "        vertical-align: middle;\n",
       "    }\n",
       "\n",
       "    .dataframe tbody tr th {\n",
       "        vertical-align: top;\n",
       "    }\n",
       "\n",
       "    .dataframe thead th {\n",
       "        text-align: right;\n",
       "    }\n",
       "</style>\n",
       "<table border=\"1\" class=\"dataframe\">\n",
       "  <thead>\n",
       "    <tr style=\"text-align: right;\">\n",
       "      <th></th>\n",
       "      <th>rank</th>\n",
       "      <th>discipline</th>\n",
       "      <th>yrs.since.phd</th>\n",
       "      <th>yrs.service</th>\n",
       "      <th>sex</th>\n",
       "      <th>salary</th>\n",
       "    </tr>\n",
       "  </thead>\n",
       "  <tbody>\n",
       "    <tr>\n",
       "      <th>0</th>\n",
       "      <td>Prof</td>\n",
       "      <td>B</td>\n",
       "      <td>19</td>\n",
       "      <td>18</td>\n",
       "      <td>Male</td>\n",
       "      <td>139750</td>\n",
       "    </tr>\n",
       "    <tr>\n",
       "      <th>1</th>\n",
       "      <td>Prof</td>\n",
       "      <td>B</td>\n",
       "      <td>20</td>\n",
       "      <td>16</td>\n",
       "      <td>Male</td>\n",
       "      <td>173200</td>\n",
       "    </tr>\n",
       "    <tr>\n",
       "      <th>2</th>\n",
       "      <td>AsstProf</td>\n",
       "      <td>B</td>\n",
       "      <td>4</td>\n",
       "      <td>3</td>\n",
       "      <td>Male</td>\n",
       "      <td>79750</td>\n",
       "    </tr>\n",
       "    <tr>\n",
       "      <th>3</th>\n",
       "      <td>Prof</td>\n",
       "      <td>B</td>\n",
       "      <td>45</td>\n",
       "      <td>39</td>\n",
       "      <td>Male</td>\n",
       "      <td>115000</td>\n",
       "    </tr>\n",
       "    <tr>\n",
       "      <th>4</th>\n",
       "      <td>Prof</td>\n",
       "      <td>B</td>\n",
       "      <td>40</td>\n",
       "      <td>41</td>\n",
       "      <td>Male</td>\n",
       "      <td>141500</td>\n",
       "    </tr>\n",
       "    <tr>\n",
       "      <th>...</th>\n",
       "      <td>...</td>\n",
       "      <td>...</td>\n",
       "      <td>...</td>\n",
       "      <td>...</td>\n",
       "      <td>...</td>\n",
       "      <td>...</td>\n",
       "    </tr>\n",
       "    <tr>\n",
       "      <th>392</th>\n",
       "      <td>Prof</td>\n",
       "      <td>A</td>\n",
       "      <td>33</td>\n",
       "      <td>30</td>\n",
       "      <td>Male</td>\n",
       "      <td>103106</td>\n",
       "    </tr>\n",
       "    <tr>\n",
       "      <th>393</th>\n",
       "      <td>Prof</td>\n",
       "      <td>A</td>\n",
       "      <td>31</td>\n",
       "      <td>19</td>\n",
       "      <td>Male</td>\n",
       "      <td>150564</td>\n",
       "    </tr>\n",
       "    <tr>\n",
       "      <th>394</th>\n",
       "      <td>Prof</td>\n",
       "      <td>A</td>\n",
       "      <td>42</td>\n",
       "      <td>25</td>\n",
       "      <td>Male</td>\n",
       "      <td>101738</td>\n",
       "    </tr>\n",
       "    <tr>\n",
       "      <th>395</th>\n",
       "      <td>Prof</td>\n",
       "      <td>A</td>\n",
       "      <td>25</td>\n",
       "      <td>15</td>\n",
       "      <td>Male</td>\n",
       "      <td>95329</td>\n",
       "    </tr>\n",
       "    <tr>\n",
       "      <th>396</th>\n",
       "      <td>AsstProf</td>\n",
       "      <td>A</td>\n",
       "      <td>8</td>\n",
       "      <td>4</td>\n",
       "      <td>Male</td>\n",
       "      <td>81035</td>\n",
       "    </tr>\n",
       "  </tbody>\n",
       "</table>\n",
       "<p>397 rows × 6 columns</p>\n",
       "</div>"
      ],
      "text/plain": [
       "         rank discipline  yrs.since.phd  yrs.service   sex  salary\n",
       "0        Prof          B             19           18  Male  139750\n",
       "1        Prof          B             20           16  Male  173200\n",
       "2    AsstProf          B              4            3  Male   79750\n",
       "3        Prof          B             45           39  Male  115000\n",
       "4        Prof          B             40           41  Male  141500\n",
       "..        ...        ...            ...          ...   ...     ...\n",
       "392      Prof          A             33           30  Male  103106\n",
       "393      Prof          A             31           19  Male  150564\n",
       "394      Prof          A             42           25  Male  101738\n",
       "395      Prof          A             25           15  Male   95329\n",
       "396  AsstProf          A              8            4  Male   81035\n",
       "\n",
       "[397 rows x 6 columns]"
      ]
     },
     "execution_count": 80,
     "metadata": {},
     "output_type": "execute_result"
    }
   ],
   "source": [
    "data"
   ]
  },
  {
   "cell_type": "code",
   "execution_count": 4,
   "id": "5878a13d",
   "metadata": {},
   "outputs": [
    {
     "data": {
      "text/plain": [
       "array(['B', 'A'], dtype=object)"
      ]
     },
     "execution_count": 4,
     "metadata": {},
     "output_type": "execute_result"
    }
   ],
   "source": [
    "#Categorical Variables- Discipline,Rank and Sex\n",
    "#Continuous Variables-Yrs.Since.PhD and Yrs.Service\n",
    "#Target is Salary\n",
    "data[\"discipline\"].unique()"
   ]
  },
  {
   "cell_type": "code",
   "execution_count": 5,
   "id": "796bbcd4",
   "metadata": {},
   "outputs": [
    {
     "data": {
      "text/plain": [
       "array(['Prof', 'AsstProf', 'AssocProf'], dtype=object)"
      ]
     },
     "execution_count": 5,
     "metadata": {},
     "output_type": "execute_result"
    }
   ],
   "source": [
    "data[\"rank\"].unique()"
   ]
  },
  {
   "cell_type": "code",
   "execution_count": 6,
   "id": "efdaeea1",
   "metadata": {},
   "outputs": [
    {
     "data": {
      "text/plain": [
       "array(['Male', 'Female'], dtype=object)"
      ]
     },
     "execution_count": 6,
     "metadata": {},
     "output_type": "execute_result"
    }
   ],
   "source": [
    "data[\"sex\"].unique()"
   ]
  },
  {
   "cell_type": "code",
   "execution_count": 7,
   "id": "0c450df3",
   "metadata": {},
   "outputs": [
    {
     "data": {
      "text/html": [
       "<div>\n",
       "<style scoped>\n",
       "    .dataframe tbody tr th:only-of-type {\n",
       "        vertical-align: middle;\n",
       "    }\n",
       "\n",
       "    .dataframe tbody tr th {\n",
       "        vertical-align: top;\n",
       "    }\n",
       "\n",
       "    .dataframe thead th {\n",
       "        text-align: right;\n",
       "    }\n",
       "</style>\n",
       "<table border=\"1\" class=\"dataframe\">\n",
       "  <thead>\n",
       "    <tr style=\"text-align: right;\">\n",
       "      <th></th>\n",
       "      <th>yrs.since.phd</th>\n",
       "      <th>yrs.service</th>\n",
       "      <th>salary</th>\n",
       "    </tr>\n",
       "  </thead>\n",
       "  <tbody>\n",
       "    <tr>\n",
       "      <th>count</th>\n",
       "      <td>397.000000</td>\n",
       "      <td>397.000000</td>\n",
       "      <td>397.000000</td>\n",
       "    </tr>\n",
       "    <tr>\n",
       "      <th>mean</th>\n",
       "      <td>22.314861</td>\n",
       "      <td>17.614610</td>\n",
       "      <td>113706.458438</td>\n",
       "    </tr>\n",
       "    <tr>\n",
       "      <th>std</th>\n",
       "      <td>12.887003</td>\n",
       "      <td>13.006024</td>\n",
       "      <td>30289.038695</td>\n",
       "    </tr>\n",
       "    <tr>\n",
       "      <th>min</th>\n",
       "      <td>1.000000</td>\n",
       "      <td>0.000000</td>\n",
       "      <td>57800.000000</td>\n",
       "    </tr>\n",
       "    <tr>\n",
       "      <th>25%</th>\n",
       "      <td>12.000000</td>\n",
       "      <td>7.000000</td>\n",
       "      <td>91000.000000</td>\n",
       "    </tr>\n",
       "    <tr>\n",
       "      <th>50%</th>\n",
       "      <td>21.000000</td>\n",
       "      <td>16.000000</td>\n",
       "      <td>107300.000000</td>\n",
       "    </tr>\n",
       "    <tr>\n",
       "      <th>75%</th>\n",
       "      <td>32.000000</td>\n",
       "      <td>27.000000</td>\n",
       "      <td>134185.000000</td>\n",
       "    </tr>\n",
       "    <tr>\n",
       "      <th>max</th>\n",
       "      <td>56.000000</td>\n",
       "      <td>60.000000</td>\n",
       "      <td>231545.000000</td>\n",
       "    </tr>\n",
       "  </tbody>\n",
       "</table>\n",
       "</div>"
      ],
      "text/plain": [
       "       yrs.since.phd  yrs.service         salary\n",
       "count     397.000000   397.000000     397.000000\n",
       "mean       22.314861    17.614610  113706.458438\n",
       "std        12.887003    13.006024   30289.038695\n",
       "min         1.000000     0.000000   57800.000000\n",
       "25%        12.000000     7.000000   91000.000000\n",
       "50%        21.000000    16.000000  107300.000000\n",
       "75%        32.000000    27.000000  134185.000000\n",
       "max        56.000000    60.000000  231545.000000"
      ]
     },
     "execution_count": 7,
     "metadata": {},
     "output_type": "execute_result"
    }
   ],
   "source": [
    "#Statistical Summary of the data\n",
    "data.describe()"
   ]
  },
  {
   "cell_type": "code",
   "execution_count": 8,
   "id": "1316c557",
   "metadata": {},
   "outputs": [
    {
     "data": {
      "text/plain": [
       "0"
      ]
     },
     "execution_count": 8,
     "metadata": {},
     "output_type": "execute_result"
    }
   ],
   "source": [
    "#Check for null values\n",
    "data.isnull().sum().sum()"
   ]
  },
  {
   "cell_type": "code",
   "execution_count": 9,
   "id": "60a3bad1",
   "metadata": {},
   "outputs": [
    {
     "data": {
      "image/png": "[encoded data removed]",
      "text/plain": [
       "<Figure size 432x288 with 1 Axes>"
      ]
     },
     "metadata": {
      "needs_background": "light"
     },
     "output_type": "display_data"
    }
   ],
   "source": [
    "#Checking the variation of features w.r.t target\n",
    "plt.scatter(x=data[\"yrs.service\"],y=data[\"salary\"])\n",
    "plt.xlabel(\"Years of Service\")\n",
    "plt.ylabel(\"Salary\")\n",
    "plt.show()"
   ]
  },
  {
   "cell_type": "code",
   "execution_count": 10,
   "id": "600a14aa",
   "metadata": {},
   "outputs": [
    {
     "data": {
      "image/png": "[encoded data removed]",
      "text/plain": [
       "<Figure size 432x288 with 1 Axes>"
      ]
     },
     "metadata": {
      "needs_background": "light"
     },
     "output_type": "display_data"
    }
   ],
   "source": [
    "plt.scatter(x=data[\"yrs.since.phd\"],y=data[\"salary\"])\n",
    "plt.xlabel(\"Years Since Phd\")\n",
    "plt.ylabel(\"Salary\")\n",
    "plt.show()"
   ]
  },
  {
   "cell_type": "code",
   "execution_count": 11,
   "id": "840e2132",
   "metadata": {},
   "outputs": [
    {
     "data": {
      "image/png": "[encoded data removed]",
      "text/plain": [
       "<Figure size 432x288 with 1 Axes>"
      ]
     },
     "metadata": {
      "needs_background": "light"
     },
     "output_type": "display_data"
    }
   ],
   "source": [
    "plt.scatter(x=data[\"sex\"],y=data[\"salary\"])\n",
    "plt.xlabel(\"Sex\")\n",
    "plt.ylabel(\"Salary\")\n",
    "plt.show()"
   ]
  },
  {
   "cell_type": "code",
   "execution_count": 12,
   "id": "b444e1bf",
   "metadata": {},
   "outputs": [
    {
     "data": {
      "image/png": "[encoded data removed]",
      "text/plain": [
       "<Figure size 432x288 with 1 Axes>"
      ]
     },
     "metadata": {
      "needs_background": "light"
     },
     "output_type": "display_data"
    }
   ],
   "source": [
    "plt.scatter(x=data[\"discipline\"],y=data[\"salary\"])\n",
    "plt.xlabel(\"Discipline\")\n",
    "plt.ylabel(\"Salary\")\n",
    "plt.show()"
   ]
  },
  {
   "cell_type": "code",
   "execution_count": 13,
   "id": "c02b3862",
   "metadata": {},
   "outputs": [
    {
     "data": {
      "image/png": "[encoded data removed]",
      "text/plain": [
       "<Figure size 432x288 with 1 Axes>"
      ]
     },
     "metadata": {
      "needs_background": "light"
     },
     "output_type": "display_data"
    }
   ],
   "source": [
    "plt.scatter(x=data[\"rank\"],y=data[\"salary\"])\n",
    "plt.xlabel(\"Rank\")\n",
    "plt.ylabel(\"Salary\")\n",
    "plt.show()"
   ]
  },
  {
   "cell_type": "code",
   "execution_count": 14,
   "id": "0d8010c2",
   "metadata": {},
   "outputs": [
    {
     "data": {
      "text/plain": [
       "yrs.service      0.334745\n",
       "yrs.since.phd    0.419231\n",
       "salary           1.000000\n",
       "Name: salary, dtype: float64"
      ]
     },
     "execution_count": 14,
     "metadata": {},
     "output_type": "execute_result"
    }
   ],
   "source": [
    "#Checking the correlation of the data\n",
    "data.corr()[\"salary\"].sort_values()"
   ]
  },
  {
   "cell_type": "code",
   "execution_count": 15,
   "id": "0b5eb565",
   "metadata": {},
   "outputs": [
    {
     "data": {
      "text/plain": [
       "<AxesSubplot:>"
      ]
     },
     "execution_count": 15,
     "metadata": {},
     "output_type": "execute_result"
    },
    {
     "data": {
      "image/png": "[encoded data removed]",
      "text/plain": [
       "<Figure size 288x288 with 2 Axes>"
      ]
     },
     "metadata": {
      "needs_background": "light"
     },
     "output_type": "display_data"
    }
   ],
   "source": [
    "#Visualising the correlation using heatmap\n",
    "plt.figure(figsize=(4,4)) \n",
    "sns.heatmap(data.corr(), annot=True, linewidth=0.5, linecolor=\"black\", fmt=\".2f\")"
   ]
  },
  {
   "cell_type": "code",
   "execution_count": 17,
   "id": "9bec6eb0",
   "metadata": {},
   "outputs": [
    {
     "data": {
      "text/plain": [
       "<AxesSubplot:>"
      ]
     },
     "execution_count": 17,
     "metadata": {},
     "output_type": "execute_result"
    },
    {
     "data": {
      "image/png": "[encoded data removed]",
      "text/plain": [
       "<Figure size 720x720 with 2 Axes>"
      ]
     },
     "metadata": {
      "needs_background": "light"
     },
     "output_type": "display_data"
    }
   ],
   "source": [
    "plt.figure(figsize=(10,10)) \n",
    "sns.heatmap(round(data.describe()[1:].transpose(),2),linewidth=2,annot=True,fmt=\".2f\")"
   ]
  },
  {
   "cell_type": "code",
   "execution_count": 18,
   "id": "2631766a",
   "metadata": {},
   "outputs": [
    {
     "data": {
      "text/plain": [
       "<AxesSubplot:>"
      ]
     },
     "execution_count": 18,
     "metadata": {},
     "output_type": "execute_result"
    },
    {
     "data": {
      "image/png": "[encoded data removed]",
      "text/plain": [
       "<Figure size 432x288 with 1 Axes>"
      ]
     },
     "metadata": {
      "needs_background": "light"
     },
     "output_type": "display_data"
    }
   ],
   "source": [
    "#CHeck the outliers-box plot of features\n",
    "import warnings\n",
    "warnings.filterwarnings(\"ignore\")\n",
    "\n",
    "data1=data[[\"yrs.since.phd\",\"yrs.service\"]]\n",
    "\n",
    "data1.plot.box(grid=\"True\")\n",
    "#Feature-\"yrs.service has outliers\""
   ]
  },
  {
   "cell_type": "code",
   "execution_count": 19,
   "id": "1cd47d4f",
   "metadata": {},
   "outputs": [
    {
     "data": {
      "text/plain": [
       "yrs.since.phd    0.300880\n",
       "yrs.service      0.650569\n",
       "salary           0.714568\n",
       "dtype: float64"
      ]
     },
     "execution_count": 19,
     "metadata": {},
     "output_type": "execute_result"
    }
   ],
   "source": [
    "data.skew()"
   ]
  },
  {
   "cell_type": "code",
   "execution_count": 20,
   "id": "ea59c70b",
   "metadata": {},
   "outputs": [
    {
     "data": {
      "text/plain": [
       "<AxesSubplot:xlabel='yrs.service', ylabel='Density'>"
      ]
     },
     "execution_count": 20,
     "metadata": {},
     "output_type": "execute_result"
    },
    {
     "data": {
      "image/png": "[encoded data removed]",
      "text/plain": [
       "<Figure size 432x288 with 1 Axes>"
      ]
     },
     "metadata": {
      "needs_background": "light"
     },
     "output_type": "display_data"
    }
   ],
   "source": [
    "#Checking normal distributions of the features\n",
    "sns.distplot(data[\"yrs.service\"])"
   ]
  },
  {
   "cell_type": "code",
   "execution_count": 21,
   "id": "5e309974",
   "metadata": {},
   "outputs": [
    {
     "data": {
      "text/plain": [
       "<AxesSubplot:xlabel='yrs.since.phd', ylabel='Density'>"
      ]
     },
     "execution_count": 21,
     "metadata": {},
     "output_type": "execute_result"
    },
    {
     "data": {
      "image/png": "[encoded data removed]",
      "text/plain": [
       "<Figure size 432x288 with 1 Axes>"
      ]
     },
     "metadata": {
      "needs_background": "light"
     },
     "output_type": "display_data"
    }
   ],
   "source": [
    "sns.distplot(data[\"yrs.since.phd\"])"
   ]
  },
  {
   "cell_type": "code",
   "execution_count": 22,
   "id": "01675f5b",
   "metadata": {},
   "outputs": [
    {
     "data": {
      "text/plain": [
       "yrs.service      0.334745\n",
       "yrs.since.phd    0.419231\n",
       "salary           1.000000\n",
       "Name: salary, dtype: float64"
      ]
     },
     "execution_count": 22,
     "metadata": {},
     "output_type": "execute_result"
    }
   ],
   "source": [
    "#DATA CLEANING\n",
    "data.corr()[\"salary\"].sort_values()"
   ]
  },
  {
   "cell_type": "code",
   "execution_count": 24,
   "id": "28308ca7",
   "metadata": {},
   "outputs": [],
   "source": [
    "#Removing Outliers using IQR proximity rule (Z-score)\n",
    "from scipy import stats\n",
    "z1=abs(stats.zscore(data[\"yrs.service\"]))"
   ]
  },
  {
   "cell_type": "code",
   "execution_count": 25,
   "id": "951ae37d",
   "metadata": {},
   "outputs": [
    {
     "data": {
      "text/plain": [
       "0      0.029669\n",
       "1      0.124300\n",
       "2      1.125098\n",
       "3      1.646343\n",
       "4      1.800312\n",
       "         ...   \n",
       "392    0.953483\n",
       "393    0.106654\n",
       "394    0.568560\n",
       "395    0.201284\n",
       "396    1.048113\n",
       "Name: yrs.service, Length: 397, dtype: float64"
      ]
     },
     "execution_count": 25,
     "metadata": {},
     "output_type": "execute_result"
    }
   ],
   "source": [
    "z1"
   ]
  },
  {
   "cell_type": "code",
   "execution_count": 26,
   "id": "1c9b54ac",
   "metadata": {},
   "outputs": [
    {
     "data": {
      "text/plain": [
       "(array([131, 330], dtype=int64),)"
      ]
     },
     "execution_count": 26,
     "metadata": {},
     "output_type": "execute_result"
    }
   ],
   "source": [
    "#Location of Outliers\n",
    "np.where(z1>3)"
   ]
  },
  {
   "cell_type": "code",
   "execution_count": 81,
   "id": "babb435e",
   "metadata": {},
   "outputs": [],
   "source": [
    "#Removing Outliers\n",
    "data_new=data[(np.abs(stats.zscore(data[\"yrs.service\"])) < 3)]"
   ]
  },
  {
   "cell_type": "code",
   "execution_count": 28,
   "id": "b2e922b4",
   "metadata": {},
   "outputs": [
    {
     "data": {
      "text/html": [
       "<div>\n",
       "<style scoped>\n",
       "    .dataframe tbody tr th:only-of-type {\n",
       "        vertical-align: middle;\n",
       "    }\n",
       "\n",
       "    .dataframe tbody tr th {\n",
       "        vertical-align: top;\n",
       "    }\n",
       "\n",
       "    .dataframe thead th {\n",
       "        text-align: right;\n",
       "    }\n",
       "</style>\n",
       "<table border=\"1\" class=\"dataframe\">\n",
       "  <thead>\n",
       "    <tr style=\"text-align: right;\">\n",
       "      <th></th>\n",
       "      <th>rank</th>\n",
       "      <th>discipline</th>\n",
       "      <th>yrs.since.phd</th>\n",
       "      <th>yrs.service</th>\n",
       "      <th>sex</th>\n",
       "      <th>salary</th>\n",
       "    </tr>\n",
       "  </thead>\n",
       "  <tbody>\n",
       "    <tr>\n",
       "      <th>0</th>\n",
       "      <td>Prof</td>\n",
       "      <td>B</td>\n",
       "      <td>19</td>\n",
       "      <td>18</td>\n",
       "      <td>Male</td>\n",
       "      <td>139750</td>\n",
       "    </tr>\n",
       "    <tr>\n",
       "      <th>1</th>\n",
       "      <td>Prof</td>\n",
       "      <td>B</td>\n",
       "      <td>20</td>\n",
       "      <td>16</td>\n",
       "      <td>Male</td>\n",
       "      <td>173200</td>\n",
       "    </tr>\n",
       "    <tr>\n",
       "      <th>2</th>\n",
       "      <td>AsstProf</td>\n",
       "      <td>B</td>\n",
       "      <td>4</td>\n",
       "      <td>3</td>\n",
       "      <td>Male</td>\n",
       "      <td>79750</td>\n",
       "    </tr>\n",
       "    <tr>\n",
       "      <th>3</th>\n",
       "      <td>Prof</td>\n",
       "      <td>B</td>\n",
       "      <td>45</td>\n",
       "      <td>39</td>\n",
       "      <td>Male</td>\n",
       "      <td>115000</td>\n",
       "    </tr>\n",
       "    <tr>\n",
       "      <th>4</th>\n",
       "      <td>Prof</td>\n",
       "      <td>B</td>\n",
       "      <td>40</td>\n",
       "      <td>41</td>\n",
       "      <td>Male</td>\n",
       "      <td>141500</td>\n",
       "    </tr>\n",
       "    <tr>\n",
       "      <th>...</th>\n",
       "      <td>...</td>\n",
       "      <td>...</td>\n",
       "      <td>...</td>\n",
       "      <td>...</td>\n",
       "      <td>...</td>\n",
       "      <td>...</td>\n",
       "    </tr>\n",
       "    <tr>\n",
       "      <th>392</th>\n",
       "      <td>Prof</td>\n",
       "      <td>A</td>\n",
       "      <td>33</td>\n",
       "      <td>30</td>\n",
       "      <td>Male</td>\n",
       "      <td>103106</td>\n",
       "    </tr>\n",
       "    <tr>\n",
       "      <th>393</th>\n",
       "      <td>Prof</td>\n",
       "      <td>A</td>\n",
       "      <td>31</td>\n",
       "      <td>19</td>\n",
       "      <td>Male</td>\n",
       "      <td>150564</td>\n",
       "    </tr>\n",
       "    <tr>\n",
       "      <th>394</th>\n",
       "      <td>Prof</td>\n",
       "      <td>A</td>\n",
       "      <td>42</td>\n",
       "      <td>25</td>\n",
       "      <td>Male</td>\n",
       "      <td>101738</td>\n",
       "    </tr>\n",
       "    <tr>\n",
       "      <th>395</th>\n",
       "      <td>Prof</td>\n",
       "      <td>A</td>\n",
       "      <td>25</td>\n",
       "      <td>15</td>\n",
       "      <td>Male</td>\n",
       "      <td>95329</td>\n",
       "    </tr>\n",
       "    <tr>\n",
       "      <th>396</th>\n",
       "      <td>AsstProf</td>\n",
       "      <td>A</td>\n",
       "      <td>8</td>\n",
       "      <td>4</td>\n",
       "      <td>Male</td>\n",
       "      <td>81035</td>\n",
       "    </tr>\n",
       "  </tbody>\n",
       "</table>\n",
       "<p>395 rows × 6 columns</p>\n",
       "</div>"
      ],
      "text/plain": [
       "         rank discipline  yrs.since.phd  yrs.service   sex  salary\n",
       "0        Prof          B             19           18  Male  139750\n",
       "1        Prof          B             20           16  Male  173200\n",
       "2    AsstProf          B              4            3  Male   79750\n",
       "3        Prof          B             45           39  Male  115000\n",
       "4        Prof          B             40           41  Male  141500\n",
       "..        ...        ...            ...          ...   ...     ...\n",
       "392      Prof          A             33           30  Male  103106\n",
       "393      Prof          A             31           19  Male  150564\n",
       "394      Prof          A             42           25  Male  101738\n",
       "395      Prof          A             25           15  Male   95329\n",
       "396  AsstProf          A              8            4  Male   81035\n",
       "\n",
       "[395 rows x 6 columns]"
      ]
     },
     "execution_count": 28,
     "metadata": {},
     "output_type": "execute_result"
    }
   ],
   "source": [
    "data_new"
   ]
  },
  {
   "cell_type": "code",
   "execution_count": 82,
   "id": "a99eb176",
   "metadata": {},
   "outputs": [],
   "source": [
    "#Encoding the categorical features\n",
    "col=[\"rank\",\"discipline\",\"sex\"]\n",
    "df_encode=(pd.get_dummies(data_new[[\"rank\",\"discipline\",\"sex\"]],drop_first=\"True\"))\n",
    "df= data_new.drop(col,axis = 1)\n",
    "df = df_encode.join(df)"
   ]
  },
  {
   "cell_type": "code",
   "execution_count": 83,
   "id": "9cedddef",
   "metadata": {},
   "outputs": [
    {
     "data": {
      "text/html": [
       "<div>\n",
       "<style scoped>\n",
       "    .dataframe tbody tr th:only-of-type {\n",
       "        vertical-align: middle;\n",
       "    }\n",
       "\n",
       "    .dataframe tbody tr th {\n",
       "        vertical-align: top;\n",
       "    }\n",
       "\n",
       "    .dataframe thead th {\n",
       "        text-align: right;\n",
       "    }\n",
       "</style>\n",
       "<table border=\"1\" class=\"dataframe\">\n",
       "  <thead>\n",
       "    <tr style=\"text-align: right;\">\n",
       "      <th></th>\n",
       "      <th>rank_AsstProf</th>\n",
       "      <th>rank_Prof</th>\n",
       "      <th>discipline_B</th>\n",
       "      <th>sex_Male</th>\n",
       "      <th>yrs.since.phd</th>\n",
       "      <th>yrs.service</th>\n",
       "      <th>salary</th>\n",
       "    </tr>\n",
       "  </thead>\n",
       "  <tbody>\n",
       "    <tr>\n",
       "      <th>0</th>\n",
       "      <td>0</td>\n",
       "      <td>1</td>\n",
       "      <td>1</td>\n",
       "      <td>1</td>\n",
       "      <td>19</td>\n",
       "      <td>18</td>\n",
       "      <td>139750</td>\n",
       "    </tr>\n",
       "    <tr>\n",
       "      <th>1</th>\n",
       "      <td>0</td>\n",
       "      <td>1</td>\n",
       "      <td>1</td>\n",
       "      <td>1</td>\n",
       "      <td>20</td>\n",
       "      <td>16</td>\n",
       "      <td>173200</td>\n",
       "    </tr>\n",
       "    <tr>\n",
       "      <th>2</th>\n",
       "      <td>1</td>\n",
       "      <td>0</td>\n",
       "      <td>1</td>\n",
       "      <td>1</td>\n",
       "      <td>4</td>\n",
       "      <td>3</td>\n",
       "      <td>79750</td>\n",
       "    </tr>\n",
       "    <tr>\n",
       "      <th>3</th>\n",
       "      <td>0</td>\n",
       "      <td>1</td>\n",
       "      <td>1</td>\n",
       "      <td>1</td>\n",
       "      <td>45</td>\n",
       "      <td>39</td>\n",
       "      <td>115000</td>\n",
       "    </tr>\n",
       "    <tr>\n",
       "      <th>4</th>\n",
       "      <td>0</td>\n",
       "      <td>1</td>\n",
       "      <td>1</td>\n",
       "      <td>1</td>\n",
       "      <td>40</td>\n",
       "      <td>41</td>\n",
       "      <td>141500</td>\n",
       "    </tr>\n",
       "    <tr>\n",
       "      <th>...</th>\n",
       "      <td>...</td>\n",
       "      <td>...</td>\n",
       "      <td>...</td>\n",
       "      <td>...</td>\n",
       "      <td>...</td>\n",
       "      <td>...</td>\n",
       "      <td>...</td>\n",
       "    </tr>\n",
       "    <tr>\n",
       "      <th>392</th>\n",
       "      <td>0</td>\n",
       "      <td>1</td>\n",
       "      <td>0</td>\n",
       "      <td>1</td>\n",
       "      <td>33</td>\n",
       "      <td>30</td>\n",
       "      <td>103106</td>\n",
       "    </tr>\n",
       "    <tr>\n",
       "      <th>393</th>\n",
       "      <td>0</td>\n",
       "      <td>1</td>\n",
       "      <td>0</td>\n",
       "      <td>1</td>\n",
       "      <td>31</td>\n",
       "      <td>19</td>\n",
       "      <td>150564</td>\n",
       "    </tr>\n",
       "    <tr>\n",
       "      <th>394</th>\n",
       "      <td>0</td>\n",
       "      <td>1</td>\n",
       "      <td>0</td>\n",
       "      <td>1</td>\n",
       "      <td>42</td>\n",
       "      <td>25</td>\n",
       "      <td>101738</td>\n",
       "    </tr>\n",
       "    <tr>\n",
       "      <th>395</th>\n",
       "      <td>0</td>\n",
       "      <td>1</td>\n",
       "      <td>0</td>\n",
       "      <td>1</td>\n",
       "      <td>25</td>\n",
       "      <td>15</td>\n",
       "      <td>95329</td>\n",
       "    </tr>\n",
       "    <tr>\n",
       "      <th>396</th>\n",
       "      <td>1</td>\n",
       "      <td>0</td>\n",
       "      <td>0</td>\n",
       "      <td>1</td>\n",
       "      <td>8</td>\n",
       "      <td>4</td>\n",
       "      <td>81035</td>\n",
       "    </tr>\n",
       "  </tbody>\n",
       "</table>\n",
       "<p>395 rows × 7 columns</p>\n",
       "</div>"
      ],
      "text/plain": [
       "     rank_AsstProf  rank_Prof  discipline_B  sex_Male  yrs.since.phd  \\\n",
       "0                0          1             1         1             19   \n",
       "1                0          1             1         1             20   \n",
       "2                1          0             1         1              4   \n",
       "3                0          1             1         1             45   \n",
       "4                0          1             1         1             40   \n",
       "..             ...        ...           ...       ...            ...   \n",
       "392              0          1             0         1             33   \n",
       "393              0          1             0         1             31   \n",
       "394              0          1             0         1             42   \n",
       "395              0          1             0         1             25   \n",
       "396              1          0             0         1              8   \n",
       "\n",
       "     yrs.service  salary  \n",
       "0             18  139750  \n",
       "1             16  173200  \n",
       "2              3   79750  \n",
       "3             39  115000  \n",
       "4             41  141500  \n",
       "..           ...     ...  \n",
       "392           30  103106  \n",
       "393           19  150564  \n",
       "394           25  101738  \n",
       "395           15   95329  \n",
       "396            4   81035  \n",
       "\n",
       "[395 rows x 7 columns]"
      ]
     },
     "execution_count": 83,
     "metadata": {},
     "output_type": "execute_result"
    }
   ],
   "source": [
    "df"
   ]
  },
  {
   "cell_type": "code",
   "execution_count": 84,
   "id": "c8fe5ef0",
   "metadata": {},
   "outputs": [],
   "source": [
    "#Splitting features and target\n",
    "X=df.iloc[:,:-1]  #independent\n",
    "Y=df.iloc[:,-1]  #dependent\n"
   ]
  },
  {
   "cell_type": "code",
   "execution_count": 85,
   "id": "96cd6edd",
   "metadata": {},
   "outputs": [
    {
     "name": "stdout",
     "output_type": "stream",
     "text": [
      "17.40759493670886 22.162025316455697\n"
     ]
    }
   ],
   "source": [
    "a=np.mean(X[\"yrs.service\"])\n",
    "b=np.mean(X[\"yrs.since.phd\"])\n",
    "print(a,b)"
   ]
  },
  {
   "cell_type": "code",
   "execution_count": 86,
   "id": "ef79ed27",
   "metadata": {},
   "outputs": [],
   "source": [
    "#Power tranform for normal distribution of features\n",
    "from sklearn.preprocessing import power_transform\n",
    "\n",
    "X=power_transform(X,method=\"yeo-johnson\")\n"
   ]
  },
  {
   "cell_type": "code",
   "execution_count": 87,
   "id": "aad7ba5d",
   "metadata": {},
   "outputs": [],
   "source": [
    "#scaling the data before feeding it to the model\n",
    "from sklearn.preprocessing import StandardScaler\n",
    "sc=StandardScaler()\n",
    "X=sc.fit_transform(X)\n"
   ]
  },
  {
   "cell_type": "code",
   "execution_count": 88,
   "id": "5e15d973",
   "metadata": {},
   "outputs": [
    {
     "data": {
      "text/plain": [
       "1.199228246008608e-17"
      ]
     },
     "execution_count": 88,
     "metadata": {},
     "output_type": "execute_result"
    }
   ],
   "source": [
    "X.mean()"
   ]
  },
  {
   "cell_type": "code",
   "execution_count": 89,
   "id": "1dc6c9f2",
   "metadata": {},
   "outputs": [
    {
     "data": {
      "text/plain": [
       "1.0"
      ]
     },
     "execution_count": 89,
     "metadata": {},
     "output_type": "execute_result"
    }
   ],
   "source": [
    "X.std()"
   ]
  },
  {
   "cell_type": "code",
   "execution_count": 90,
   "id": "86f66851",
   "metadata": {},
   "outputs": [],
   "source": [
    "# Importing neccesary modules for Linear Regression\n",
    "from sklearn.model_selection import train_test_split\n",
    "from sklearn.linear_model import LinearRegression\n",
    "from sklearn.metrics import r2_score"
   ]
  },
  {
   "cell_type": "code",
   "execution_count": 91,
   "id": "1ebf3e5f",
   "metadata": {},
   "outputs": [],
   "source": [
    "lr=LinearRegression()"
   ]
  },
  {
   "cell_type": "code",
   "execution_count": 92,
   "id": "69fbc737",
   "metadata": {},
   "outputs": [],
   "source": [
    "#Splitting data into train and test\n",
    "\n",
    "x_train,x_test,y_train,y_test=train_test_split(X,Y,test_size=0.20,random_state=2000)"
   ]
  },
  {
   "cell_type": "code",
   "execution_count": 93,
   "id": "674c3e24",
   "metadata": {},
   "outputs": [
    {
     "data": {
      "text/plain": [
       "LinearRegression()"
      ]
     },
     "execution_count": 93,
     "metadata": {},
     "output_type": "execute_result"
    }
   ],
   "source": [
    "#Training the model\n",
    "lr.fit(x_train,y_train)"
   ]
  },
  {
   "cell_type": "code",
   "execution_count": 98,
   "id": "16853ae9",
   "metadata": {},
   "outputs": [
    {
     "name": "stdout",
     "output_type": "stream",
     "text": [
      "0.45054053996846066\n"
     ]
    }
   ],
   "source": [
    "#Testing the model\n",
    "pred_train=lr.predict(x_train)\n",
    "pred_test=lr.predict(x_test)\n",
    "print(r2_score(y_test,pred_test))\n",
    "\n",
    "#R2_score of 45%"
   ]
  },
  {
   "cell_type": "code",
   "execution_count": 109,
   "id": "5fdcc194",
   "metadata": {},
   "outputs": [
    {
     "data": {
      "image/png": "[encoded data removed]",
      "text/plain": [
       "<Figure size 720x720 with 1 Axes>"
      ]
     },
     "metadata": {
      "needs_background": "light"
     },
     "output_type": "display_data"
    }
   ],
   "source": [
    "#Plotting the Predicted and Test Data\n",
    "plt.figure(figsize=(10,10))\n",
    "plt.scatter(y_test, pred_test, c='crimson')\n",
    "plt.yscale('log')\n",
    "plt.xscale('log')\n",
    "\n",
    "p1 = max(max(pred_test,), max(y_test))\n",
    "p2 = min(min(pred_test,), min(y_test))\n",
    "plt.plot([p1, p2], [p1, p2], 'b-')\n",
    "plt.xlabel('True Values', fontsize=15)\n",
    "plt.ylabel('Predictions', fontsize=15)\n",
    "plt.axis('equal')\n",
    "plt.show()"
   ]
  },
  {
   "cell_type": "code",
   "execution_count": null,
   "id": "c70b65ed",
   "metadata": {},
   "outputs": [],
   "source": []
  }
 ],
 "metadata": {
  "kernelspec": {
   "display_name": "Python 3 (ipykernel)",
   "language": "python",
   "name": "python3"
  },
  "language_info": {
   "codemirror_mode": {
    "name": "ipython",
    "version": 3
   },
   "file_extension": ".py",
   "mimetype": "text/x-python",
   "name": "python",
   "nbconvert_exporter": "python",
   "pygments_lexer": "ipython3",
   "version": "3.9.7"
  }
 },
 "nbformat": 4,
 "nbformat_minor": 5
}
