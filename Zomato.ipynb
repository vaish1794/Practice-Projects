{
 "cells": [
  {
   "cell_type": "code",
   "execution_count": 1,
   "id": "766f7620",
   "metadata": {},
   "outputs": [],
   "source": [
    "#Importing the required libraries\n",
    "\n",
    "import pandas as pd\n",
    "import numpy as np\n",
    "import seaborn as sns\n",
    "import matplotlib.pyplot as plt\n",
    "import warnings\n",
    "warnings.filterwarnings(\"ignore\")"
   ]
  },
  {
   "cell_type": "code",
   "execution_count": 90,
   "id": "10c1f4da",
   "metadata": {},
   "outputs": [],
   "source": [
    "d1=pd.read_csv(\"https://raw.githubusercontent.com/dsrscientist/dataset4/main/zomato.csv\",encoding=\"ISO-8859-1\")\n",
    "d2=pd.read_csv(\"Country-Code.csv\")"
   ]
  },
  {
   "cell_type": "code",
   "execution_count": 91,
   "id": "a737e22a",
   "metadata": {},
   "outputs": [],
   "source": [
    "df=pd.merge(d1,d2)"
   ]
  },
  {
   "cell_type": "code",
   "execution_count": 92,
   "id": "f66b2ecc",
   "metadata": {},
   "outputs": [
    {
     "data": {
      "text/html": [
       "<div>\n",
       "<style scoped>\n",
       "    .dataframe tbody tr th:only-of-type {\n",
       "        vertical-align: middle;\n",
       "    }\n",
       "\n",
       "    .dataframe tbody tr th {\n",
       "        vertical-align: top;\n",
       "    }\n",
       "\n",
       "    .dataframe thead th {\n",
       "        text-align: right;\n",
       "    }\n",
       "</style>\n",
       "<table border=\"1\" class=\"dataframe\">\n",
       "  <thead>\n",
       "    <tr style=\"text-align: right;\">\n",
       "      <th></th>\n",
       "      <th>Restaurant ID</th>\n",
       "      <th>Restaurant Name</th>\n",
       "      <th>Country Code</th>\n",
       "      <th>City</th>\n",
       "      <th>Address</th>\n",
       "      <th>Locality</th>\n",
       "      <th>Locality Verbose</th>\n",
       "      <th>Longitude</th>\n",
       "      <th>Latitude</th>\n",
       "      <th>Cuisines</th>\n",
       "      <th>...</th>\n",
       "      <th>Has Table booking</th>\n",
       "      <th>Has Online delivery</th>\n",
       "      <th>Is delivering now</th>\n",
       "      <th>Switch to order menu</th>\n",
       "      <th>Price range</th>\n",
       "      <th>Aggregate rating</th>\n",
       "      <th>Rating color</th>\n",
       "      <th>Rating text</th>\n",
       "      <th>Votes</th>\n",
       "      <th>Country</th>\n",
       "    </tr>\n",
       "  </thead>\n",
       "  <tbody>\n",
       "    <tr>\n",
       "      <th>0</th>\n",
       "      <td>6317637</td>\n",
       "      <td>Le Petit Souffle</td>\n",
       "      <td>162</td>\n",
       "      <td>Makati City</td>\n",
       "      <td>Third Floor, Century City Mall, Kalayaan Avenu...</td>\n",
       "      <td>Century City Mall, Poblacion, Makati City</td>\n",
       "      <td>Century City Mall, Poblacion, Makati City, Mak...</td>\n",
       "      <td>121.027535</td>\n",
       "      <td>14.565443</td>\n",
       "      <td>French, Japanese, Desserts</td>\n",
       "      <td>...</td>\n",
       "      <td>Yes</td>\n",
       "      <td>No</td>\n",
       "      <td>No</td>\n",
       "      <td>No</td>\n",
       "      <td>3</td>\n",
       "      <td>4.8</td>\n",
       "      <td>Dark Green</td>\n",
       "      <td>Excellent</td>\n",
       "      <td>314</td>\n",
       "      <td>Phillipines</td>\n",
       "    </tr>\n",
       "    <tr>\n",
       "      <th>1</th>\n",
       "      <td>6304287</td>\n",
       "      <td>Izakaya Kikufuji</td>\n",
       "      <td>162</td>\n",
       "      <td>Makati City</td>\n",
       "      <td>Little Tokyo, 2277 Chino Roces Avenue, Legaspi...</td>\n",
       "      <td>Little Tokyo, Legaspi Village, Makati City</td>\n",
       "      <td>Little Tokyo, Legaspi Village, Makati City, Ma...</td>\n",
       "      <td>121.014101</td>\n",
       "      <td>14.553708</td>\n",
       "      <td>Japanese</td>\n",
       "      <td>...</td>\n",
       "      <td>Yes</td>\n",
       "      <td>No</td>\n",
       "      <td>No</td>\n",
       "      <td>No</td>\n",
       "      <td>3</td>\n",
       "      <td>4.5</td>\n",
       "      <td>Dark Green</td>\n",
       "      <td>Excellent</td>\n",
       "      <td>591</td>\n",
       "      <td>Phillipines</td>\n",
       "    </tr>\n",
       "    <tr>\n",
       "      <th>2</th>\n",
       "      <td>6300002</td>\n",
       "      <td>Heat - Edsa Shangri-La</td>\n",
       "      <td>162</td>\n",
       "      <td>Mandaluyong City</td>\n",
       "      <td>Edsa Shangri-La, 1 Garden Way, Ortigas, Mandal...</td>\n",
       "      <td>Edsa Shangri-La, Ortigas, Mandaluyong City</td>\n",
       "      <td>Edsa Shangri-La, Ortigas, Mandaluyong City, Ma...</td>\n",
       "      <td>121.056831</td>\n",
       "      <td>14.581404</td>\n",
       "      <td>Seafood, Asian, Filipino, Indian</td>\n",
       "      <td>...</td>\n",
       "      <td>Yes</td>\n",
       "      <td>No</td>\n",
       "      <td>No</td>\n",
       "      <td>No</td>\n",
       "      <td>4</td>\n",
       "      <td>4.4</td>\n",
       "      <td>Green</td>\n",
       "      <td>Very Good</td>\n",
       "      <td>270</td>\n",
       "      <td>Phillipines</td>\n",
       "    </tr>\n",
       "    <tr>\n",
       "      <th>3</th>\n",
       "      <td>6318506</td>\n",
       "      <td>Ooma</td>\n",
       "      <td>162</td>\n",
       "      <td>Mandaluyong City</td>\n",
       "      <td>Third Floor, Mega Fashion Hall, SM Megamall, O...</td>\n",
       "      <td>SM Megamall, Ortigas, Mandaluyong City</td>\n",
       "      <td>SM Megamall, Ortigas, Mandaluyong City, Mandal...</td>\n",
       "      <td>121.056475</td>\n",
       "      <td>14.585318</td>\n",
       "      <td>Japanese, Sushi</td>\n",
       "      <td>...</td>\n",
       "      <td>No</td>\n",
       "      <td>No</td>\n",
       "      <td>No</td>\n",
       "      <td>No</td>\n",
       "      <td>4</td>\n",
       "      <td>4.9</td>\n",
       "      <td>Dark Green</td>\n",
       "      <td>Excellent</td>\n",
       "      <td>365</td>\n",
       "      <td>Phillipines</td>\n",
       "    </tr>\n",
       "    <tr>\n",
       "      <th>4</th>\n",
       "      <td>6314302</td>\n",
       "      <td>Sambo Kojin</td>\n",
       "      <td>162</td>\n",
       "      <td>Mandaluyong City</td>\n",
       "      <td>Third Floor, Mega Atrium, SM Megamall, Ortigas...</td>\n",
       "      <td>SM Megamall, Ortigas, Mandaluyong City</td>\n",
       "      <td>SM Megamall, Ortigas, Mandaluyong City, Mandal...</td>\n",
       "      <td>121.057508</td>\n",
       "      <td>14.584450</td>\n",
       "      <td>Japanese, Korean</td>\n",
       "      <td>...</td>\n",
       "      <td>Yes</td>\n",
       "      <td>No</td>\n",
       "      <td>No</td>\n",
       "      <td>No</td>\n",
       "      <td>4</td>\n",
       "      <td>4.8</td>\n",
       "      <td>Dark Green</td>\n",
       "      <td>Excellent</td>\n",
       "      <td>229</td>\n",
       "      <td>Phillipines</td>\n",
       "    </tr>\n",
       "    <tr>\n",
       "      <th>...</th>\n",
       "      <td>...</td>\n",
       "      <td>...</td>\n",
       "      <td>...</td>\n",
       "      <td>...</td>\n",
       "      <td>...</td>\n",
       "      <td>...</td>\n",
       "      <td>...</td>\n",
       "      <td>...</td>\n",
       "      <td>...</td>\n",
       "      <td>...</td>\n",
       "      <td>...</td>\n",
       "      <td>...</td>\n",
       "      <td>...</td>\n",
       "      <td>...</td>\n",
       "      <td>...</td>\n",
       "      <td>...</td>\n",
       "      <td>...</td>\n",
       "      <td>...</td>\n",
       "      <td>...</td>\n",
       "      <td>...</td>\n",
       "      <td>...</td>\n",
       "    </tr>\n",
       "    <tr>\n",
       "      <th>9546</th>\n",
       "      <td>5915730</td>\n",
       "      <td>NamlÛ± Gurme</td>\n",
       "      <td>208</td>\n",
       "      <td>ÛÁstanbul</td>\n",
       "      <td>Kemankeô Karamustafa Paôa Mahallesi, RÛ±htÛ±...</td>\n",
       "      <td>Karakí_y</td>\n",
       "      <td>Karakí_y, ÛÁstanbul</td>\n",
       "      <td>28.977392</td>\n",
       "      <td>41.022793</td>\n",
       "      <td>Turkish</td>\n",
       "      <td>...</td>\n",
       "      <td>No</td>\n",
       "      <td>No</td>\n",
       "      <td>No</td>\n",
       "      <td>No</td>\n",
       "      <td>3</td>\n",
       "      <td>4.1</td>\n",
       "      <td>Green</td>\n",
       "      <td>Very Good</td>\n",
       "      <td>788</td>\n",
       "      <td>Turkey</td>\n",
       "    </tr>\n",
       "    <tr>\n",
       "      <th>9547</th>\n",
       "      <td>5908749</td>\n",
       "      <td>Ceviz AÛôacÛ±</td>\n",
       "      <td>208</td>\n",
       "      <td>ÛÁstanbul</td>\n",
       "      <td>Koôuyolu Mahallesi, Muhittin íìstí_ndaÛô Cadd...</td>\n",
       "      <td>Koôuyolu</td>\n",
       "      <td>Koôuyolu, ÛÁstanbul</td>\n",
       "      <td>29.041297</td>\n",
       "      <td>41.009847</td>\n",
       "      <td>World Cuisine, Patisserie, Cafe</td>\n",
       "      <td>...</td>\n",
       "      <td>No</td>\n",
       "      <td>No</td>\n",
       "      <td>No</td>\n",
       "      <td>No</td>\n",
       "      <td>3</td>\n",
       "      <td>4.2</td>\n",
       "      <td>Green</td>\n",
       "      <td>Very Good</td>\n",
       "      <td>1034</td>\n",
       "      <td>Turkey</td>\n",
       "    </tr>\n",
       "    <tr>\n",
       "      <th>9548</th>\n",
       "      <td>5915807</td>\n",
       "      <td>Huqqa</td>\n",
       "      <td>208</td>\n",
       "      <td>ÛÁstanbul</td>\n",
       "      <td>Kuruí_eôme Mahallesi, Muallim Naci Caddesi, N...</td>\n",
       "      <td>Kuruí_eôme</td>\n",
       "      <td>Kuruí_eôme, ÛÁstanbul</td>\n",
       "      <td>29.034640</td>\n",
       "      <td>41.055817</td>\n",
       "      <td>Italian, World Cuisine</td>\n",
       "      <td>...</td>\n",
       "      <td>No</td>\n",
       "      <td>No</td>\n",
       "      <td>No</td>\n",
       "      <td>No</td>\n",
       "      <td>4</td>\n",
       "      <td>3.7</td>\n",
       "      <td>Yellow</td>\n",
       "      <td>Good</td>\n",
       "      <td>661</td>\n",
       "      <td>Turkey</td>\n",
       "    </tr>\n",
       "    <tr>\n",
       "      <th>9549</th>\n",
       "      <td>5916112</td>\n",
       "      <td>Aôôk Kahve</td>\n",
       "      <td>208</td>\n",
       "      <td>ÛÁstanbul</td>\n",
       "      <td>Kuruí_eôme Mahallesi, Muallim Naci Caddesi, N...</td>\n",
       "      <td>Kuruí_eôme</td>\n",
       "      <td>Kuruí_eôme, ÛÁstanbul</td>\n",
       "      <td>29.036019</td>\n",
       "      <td>41.057979</td>\n",
       "      <td>Restaurant Cafe</td>\n",
       "      <td>...</td>\n",
       "      <td>No</td>\n",
       "      <td>No</td>\n",
       "      <td>No</td>\n",
       "      <td>No</td>\n",
       "      <td>4</td>\n",
       "      <td>4.0</td>\n",
       "      <td>Green</td>\n",
       "      <td>Very Good</td>\n",
       "      <td>901</td>\n",
       "      <td>Turkey</td>\n",
       "    </tr>\n",
       "    <tr>\n",
       "      <th>9550</th>\n",
       "      <td>5927402</td>\n",
       "      <td>Walter's Coffee Roastery</td>\n",
       "      <td>208</td>\n",
       "      <td>ÛÁstanbul</td>\n",
       "      <td>CafeaÛôa Mahallesi, BademaltÛ± Sokak, No 21/B,...</td>\n",
       "      <td>Moda</td>\n",
       "      <td>Moda, ÛÁstanbul</td>\n",
       "      <td>29.026016</td>\n",
       "      <td>40.984776</td>\n",
       "      <td>Cafe</td>\n",
       "      <td>...</td>\n",
       "      <td>No</td>\n",
       "      <td>No</td>\n",
       "      <td>No</td>\n",
       "      <td>No</td>\n",
       "      <td>2</td>\n",
       "      <td>4.0</td>\n",
       "      <td>Green</td>\n",
       "      <td>Very Good</td>\n",
       "      <td>591</td>\n",
       "      <td>Turkey</td>\n",
       "    </tr>\n",
       "  </tbody>\n",
       "</table>\n",
       "<p>9551 rows × 22 columns</p>\n",
       "</div>"
      ],
      "text/plain": [
       "      Restaurant ID           Restaurant Name  Country Code              City  \\\n",
       "0           6317637          Le Petit Souffle           162       Makati City   \n",
       "1           6304287          Izakaya Kikufuji           162       Makati City   \n",
       "2           6300002    Heat - Edsa Shangri-La           162  Mandaluyong City   \n",
       "3           6318506                      Ooma           162  Mandaluyong City   \n",
       "4           6314302               Sambo Kojin           162  Mandaluyong City   \n",
       "...             ...                       ...           ...               ...   \n",
       "9546        5915730              NamlÛ± Gurme           208         ÛÁstanbul   \n",
       "9547        5908749             Ceviz AÛôacÛ±           208         ÛÁstanbul   \n",
       "9548        5915807                     Huqqa           208         ÛÁstanbul   \n",
       "9549        5916112              Aôôk Kahve           208         ÛÁstanbul   \n",
       "9550        5927402  Walter's Coffee Roastery           208         ÛÁstanbul   \n",
       "\n",
       "                                                Address  \\\n",
       "0     Third Floor, Century City Mall, Kalayaan Avenu...   \n",
       "1     Little Tokyo, 2277 Chino Roces Avenue, Legaspi...   \n",
       "2     Edsa Shangri-La, 1 Garden Way, Ortigas, Mandal...   \n",
       "3     Third Floor, Mega Fashion Hall, SM Megamall, O...   \n",
       "4     Third Floor, Mega Atrium, SM Megamall, Ortigas...   \n",
       "...                                                 ...   \n",
       "9546  Kemankeô Karamustafa Paôa Mahallesi, RÛ±htÛ±...   \n",
       "9547  Koôuyolu Mahallesi, Muhittin íìstí_ndaÛô Cadd...   \n",
       "9548  Kuruí_eôme Mahallesi, Muallim Naci Caddesi, N...   \n",
       "9549  Kuruí_eôme Mahallesi, Muallim Naci Caddesi, N...   \n",
       "9550  CafeaÛôa Mahallesi, BademaltÛ± Sokak, No 21/B,...   \n",
       "\n",
       "                                        Locality  \\\n",
       "0      Century City Mall, Poblacion, Makati City   \n",
       "1     Little Tokyo, Legaspi Village, Makati City   \n",
       "2     Edsa Shangri-La, Ortigas, Mandaluyong City   \n",
       "3         SM Megamall, Ortigas, Mandaluyong City   \n",
       "4         SM Megamall, Ortigas, Mandaluyong City   \n",
       "...                                          ...   \n",
       "9546                                    Karakí_y   \n",
       "9547                                   Koôuyolu   \n",
       "9548                                 Kuruí_eôme   \n",
       "9549                                 Kuruí_eôme   \n",
       "9550                                        Moda   \n",
       "\n",
       "                                       Locality Verbose   Longitude  \\\n",
       "0     Century City Mall, Poblacion, Makati City, Mak...  121.027535   \n",
       "1     Little Tokyo, Legaspi Village, Makati City, Ma...  121.014101   \n",
       "2     Edsa Shangri-La, Ortigas, Mandaluyong City, Ma...  121.056831   \n",
       "3     SM Megamall, Ortigas, Mandaluyong City, Mandal...  121.056475   \n",
       "4     SM Megamall, Ortigas, Mandaluyong City, Mandal...  121.057508   \n",
       "...                                                 ...         ...   \n",
       "9546                                Karakí_y, ÛÁstanbul   28.977392   \n",
       "9547                               Koôuyolu, ÛÁstanbul   29.041297   \n",
       "9548                             Kuruí_eôme, ÛÁstanbul   29.034640   \n",
       "9549                             Kuruí_eôme, ÛÁstanbul   29.036019   \n",
       "9550                                    Moda, ÛÁstanbul   29.026016   \n",
       "\n",
       "       Latitude                          Cuisines  ...  Has Table booking  \\\n",
       "0     14.565443        French, Japanese, Desserts  ...                Yes   \n",
       "1     14.553708                          Japanese  ...                Yes   \n",
       "2     14.581404  Seafood, Asian, Filipino, Indian  ...                Yes   \n",
       "3     14.585318                   Japanese, Sushi  ...                 No   \n",
       "4     14.584450                  Japanese, Korean  ...                Yes   \n",
       "...         ...                               ...  ...                ...   \n",
       "9546  41.022793                           Turkish  ...                 No   \n",
       "9547  41.009847   World Cuisine, Patisserie, Cafe  ...                 No   \n",
       "9548  41.055817            Italian, World Cuisine  ...                 No   \n",
       "9549  41.057979                   Restaurant Cafe  ...                 No   \n",
       "9550  40.984776                              Cafe  ...                 No   \n",
       "\n",
       "     Has Online delivery Is delivering now Switch to order menu Price range  \\\n",
       "0                     No                No                   No           3   \n",
       "1                     No                No                   No           3   \n",
       "2                     No                No                   No           4   \n",
       "3                     No                No                   No           4   \n",
       "4                     No                No                   No           4   \n",
       "...                  ...               ...                  ...         ...   \n",
       "9546                  No                No                   No           3   \n",
       "9547                  No                No                   No           3   \n",
       "9548                  No                No                   No           4   \n",
       "9549                  No                No                   No           4   \n",
       "9550                  No                No                   No           2   \n",
       "\n",
       "     Aggregate rating  Rating color  Rating text Votes      Country  \n",
       "0                 4.8    Dark Green    Excellent   314  Phillipines  \n",
       "1                 4.5    Dark Green    Excellent   591  Phillipines  \n",
       "2                 4.4         Green    Very Good   270  Phillipines  \n",
       "3                 4.9    Dark Green    Excellent   365  Phillipines  \n",
       "4                 4.8    Dark Green    Excellent   229  Phillipines  \n",
       "...               ...           ...          ...   ...          ...  \n",
       "9546              4.1         Green    Very Good   788       Turkey  \n",
       "9547              4.2         Green    Very Good  1034       Turkey  \n",
       "9548              3.7        Yellow         Good   661       Turkey  \n",
       "9549              4.0         Green    Very Good   901       Turkey  \n",
       "9550              4.0         Green    Very Good   591       Turkey  \n",
       "\n",
       "[9551 rows x 22 columns]"
      ]
     },
     "execution_count": 92,
     "metadata": {},
     "output_type": "execute_result"
    }
   ],
   "source": [
    "df"
   ]
  },
  {
   "cell_type": "code",
   "execution_count": 17,
   "id": "0787e847",
   "metadata": {},
   "outputs": [
    {
     "name": "stdout",
     "output_type": "stream",
     "text": [
      "<class 'pandas.core.frame.DataFrame'>\n",
      "Int64Index: 9551 entries, 0 to 9550\n",
      "Data columns (total 22 columns):\n",
      " #   Column                Non-Null Count  Dtype  \n",
      "---  ------                --------------  -----  \n",
      " 0   Restaurant ID         9551 non-null   int64  \n",
      " 1   Restaurant Name       9551 non-null   object \n",
      " 2   Country Code          9551 non-null   int64  \n",
      " 3   City                  9551 non-null   object \n",
      " 4   Address               9551 non-null   object \n",
      " 5   Locality              9551 non-null   object \n",
      " 6   Locality Verbose      9551 non-null   object \n",
      " 7   Longitude             9551 non-null   float64\n",
      " 8   Latitude              9551 non-null   float64\n",
      " 9   Cuisines              9542 non-null   object \n",
      " 10  Average Cost for two  9551 non-null   int64  \n",
      " 11  Currency              9551 non-null   object \n",
      " 12  Has Table booking     9551 non-null   object \n",
      " 13  Has Online delivery   9551 non-null   object \n",
      " 14  Is delivering now     9551 non-null   object \n",
      " 15  Switch to order menu  9551 non-null   object \n",
      " 16  Price range           9551 non-null   int64  \n",
      " 17  Aggregate rating      9551 non-null   float64\n",
      " 18  Rating color          9551 non-null   object \n",
      " 19  Rating text           9551 non-null   object \n",
      " 20  Votes                 9551 non-null   int64  \n",
      " 21  Country               9551 non-null   object \n",
      "dtypes: float64(3), int64(5), object(14)\n",
      "memory usage: 1.7+ MB\n"
     ]
    }
   ],
   "source": [
    "df.info()"
   ]
  },
  {
   "cell_type": "code",
   "execution_count": 22,
   "id": "1c6b1a81",
   "metadata": {},
   "outputs": [
    {
     "data": {
      "text/html": [
       "<div>\n",
       "<style scoped>\n",
       "    .dataframe tbody tr th:only-of-type {\n",
       "        vertical-align: middle;\n",
       "    }\n",
       "\n",
       "    .dataframe tbody tr th {\n",
       "        vertical-align: top;\n",
       "    }\n",
       "\n",
       "    .dataframe thead th {\n",
       "        text-align: right;\n",
       "    }\n",
       "</style>\n",
       "<table border=\"1\" class=\"dataframe\">\n",
       "  <thead>\n",
       "    <tr style=\"text-align: right;\">\n",
       "      <th></th>\n",
       "      <th>Restaurant ID</th>\n",
       "      <th>Country Code</th>\n",
       "      <th>Longitude</th>\n",
       "      <th>Latitude</th>\n",
       "      <th>Average Cost for two</th>\n",
       "      <th>Price range</th>\n",
       "      <th>Aggregate rating</th>\n",
       "      <th>Votes</th>\n",
       "    </tr>\n",
       "  </thead>\n",
       "  <tbody>\n",
       "    <tr>\n",
       "      <th>count</th>\n",
       "      <td>9.551000e+03</td>\n",
       "      <td>9551.000000</td>\n",
       "      <td>9551.000000</td>\n",
       "      <td>9551.000000</td>\n",
       "      <td>9551.000000</td>\n",
       "      <td>9551.000000</td>\n",
       "      <td>9551.000000</td>\n",
       "      <td>9551.000000</td>\n",
       "    </tr>\n",
       "    <tr>\n",
       "      <th>mean</th>\n",
       "      <td>9.051128e+06</td>\n",
       "      <td>18.365616</td>\n",
       "      <td>64.126574</td>\n",
       "      <td>25.854381</td>\n",
       "      <td>1199.210763</td>\n",
       "      <td>1.804837</td>\n",
       "      <td>2.666370</td>\n",
       "      <td>156.909748</td>\n",
       "    </tr>\n",
       "    <tr>\n",
       "      <th>std</th>\n",
       "      <td>8.791521e+06</td>\n",
       "      <td>56.750546</td>\n",
       "      <td>41.467058</td>\n",
       "      <td>11.007935</td>\n",
       "      <td>16121.183073</td>\n",
       "      <td>0.905609</td>\n",
       "      <td>1.516378</td>\n",
       "      <td>430.169145</td>\n",
       "    </tr>\n",
       "    <tr>\n",
       "      <th>min</th>\n",
       "      <td>5.300000e+01</td>\n",
       "      <td>1.000000</td>\n",
       "      <td>-157.948486</td>\n",
       "      <td>-41.330428</td>\n",
       "      <td>0.000000</td>\n",
       "      <td>1.000000</td>\n",
       "      <td>0.000000</td>\n",
       "      <td>0.000000</td>\n",
       "    </tr>\n",
       "    <tr>\n",
       "      <th>25%</th>\n",
       "      <td>3.019625e+05</td>\n",
       "      <td>1.000000</td>\n",
       "      <td>77.081343</td>\n",
       "      <td>28.478713</td>\n",
       "      <td>250.000000</td>\n",
       "      <td>1.000000</td>\n",
       "      <td>2.500000</td>\n",
       "      <td>5.000000</td>\n",
       "    </tr>\n",
       "    <tr>\n",
       "      <th>50%</th>\n",
       "      <td>6.004089e+06</td>\n",
       "      <td>1.000000</td>\n",
       "      <td>77.191964</td>\n",
       "      <td>28.570469</td>\n",
       "      <td>400.000000</td>\n",
       "      <td>2.000000</td>\n",
       "      <td>3.200000</td>\n",
       "      <td>31.000000</td>\n",
       "    </tr>\n",
       "    <tr>\n",
       "      <th>75%</th>\n",
       "      <td>1.835229e+07</td>\n",
       "      <td>1.000000</td>\n",
       "      <td>77.282006</td>\n",
       "      <td>28.642758</td>\n",
       "      <td>700.000000</td>\n",
       "      <td>2.000000</td>\n",
       "      <td>3.700000</td>\n",
       "      <td>131.000000</td>\n",
       "    </tr>\n",
       "    <tr>\n",
       "      <th>max</th>\n",
       "      <td>1.850065e+07</td>\n",
       "      <td>216.000000</td>\n",
       "      <td>174.832089</td>\n",
       "      <td>55.976980</td>\n",
       "      <td>800000.000000</td>\n",
       "      <td>4.000000</td>\n",
       "      <td>4.900000</td>\n",
       "      <td>10934.000000</td>\n",
       "    </tr>\n",
       "  </tbody>\n",
       "</table>\n",
       "</div>"
      ],
      "text/plain": [
       "       Restaurant ID  Country Code    Longitude     Latitude  \\\n",
       "count   9.551000e+03   9551.000000  9551.000000  9551.000000   \n",
       "mean    9.051128e+06     18.365616    64.126574    25.854381   \n",
       "std     8.791521e+06     56.750546    41.467058    11.007935   \n",
       "min     5.300000e+01      1.000000  -157.948486   -41.330428   \n",
       "25%     3.019625e+05      1.000000    77.081343    28.478713   \n",
       "50%     6.004089e+06      1.000000    77.191964    28.570469   \n",
       "75%     1.835229e+07      1.000000    77.282006    28.642758   \n",
       "max     1.850065e+07    216.000000   174.832089    55.976980   \n",
       "\n",
       "       Average Cost for two  Price range  Aggregate rating         Votes  \n",
       "count           9551.000000  9551.000000       9551.000000   9551.000000  \n",
       "mean            1199.210763     1.804837          2.666370    156.909748  \n",
       "std            16121.183073     0.905609          1.516378    430.169145  \n",
       "min                0.000000     1.000000          0.000000      0.000000  \n",
       "25%              250.000000     1.000000          2.500000      5.000000  \n",
       "50%              400.000000     2.000000          3.200000     31.000000  \n",
       "75%              700.000000     2.000000          3.700000    131.000000  \n",
       "max           800000.000000     4.000000          4.900000  10934.000000  "
      ]
     },
     "execution_count": 22,
     "metadata": {},
     "output_type": "execute_result"
    }
   ],
   "source": [
    "df.describe()"
   ]
  },
  {
   "cell_type": "code",
   "execution_count": 71,
   "id": "e5ec3826",
   "metadata": {},
   "outputs": [
    {
     "data": {
      "text/plain": [
       "Restaurant ID           0\n",
       "Restaurant Name         0\n",
       "Country Code            0\n",
       "City                    0\n",
       "Address                 0\n",
       "Locality                0\n",
       "Locality Verbose        0\n",
       "Longitude               0\n",
       "Latitude                0\n",
       "Cuisines                9\n",
       "Average Cost for two    0\n",
       "Currency                0\n",
       "Has Table booking       0\n",
       "Has Online delivery     0\n",
       "Is delivering now       0\n",
       "Switch to order menu    0\n",
       "Price range             0\n",
       "Aggregate rating        0\n",
       "Rating color            0\n",
       "Rating text             0\n",
       "Votes                   0\n",
       "Country                 0\n",
       "dtype: int64"
      ]
     },
     "execution_count": 71,
     "metadata": {},
     "output_type": "execute_result"
    }
   ],
   "source": [
    "df.isnull().sum()"
   ]
  },
  {
   "cell_type": "code",
   "execution_count": 72,
   "id": "7847442d",
   "metadata": {},
   "outputs": [
    {
     "data": {
      "text/plain": [
       "(9551, 22)"
      ]
     },
     "execution_count": 72,
     "metadata": {},
     "output_type": "execute_result"
    }
   ],
   "source": [
    "df.shape"
   ]
  },
  {
   "cell_type": "code",
   "execution_count": 14,
   "id": "485234ef",
   "metadata": {},
   "outputs": [
    {
     "name": "stdout",
     "output_type": "stream",
     "text": [
      "Categorical Variables 14\n"
     ]
    }
   ],
   "source": [
    "#Analysing Object Columns\n",
    "\n",
    "c1=(df.dtypes==\"object\")\n",
    "cat_col=list(c1[c1].index)\n",
    "print(\"Categorical Variables\",len(cat_col))"
   ]
  },
  {
   "cell_type": "code",
   "execution_count": 15,
   "id": "78e58f4e",
   "metadata": {},
   "outputs": [
    {
     "name": "stdout",
     "output_type": "stream",
     "text": [
      "Numerical Variables 5\n"
     ]
    }
   ],
   "source": [
    "c2=(df.dtypes==\"int64\")\n",
    "num_col=list(c2[c2].index)\n",
    "print(\"Numerical Variables\",len(num_col))"
   ]
  },
  {
   "cell_type": "code",
   "execution_count": 16,
   "id": "211392cc",
   "metadata": {},
   "outputs": [
    {
     "name": "stdout",
     "output_type": "stream",
     "text": [
      "Float Variables 3\n"
     ]
    }
   ],
   "source": [
    "c3=(df.dtypes==\"float64\")\n",
    "flo_col=list(c3[c3].index)\n",
    "print(\"Float Variables\",len(flo_col))"
   ]
  },
  {
   "cell_type": "code",
   "execution_count": 76,
   "id": "0cd9db6f",
   "metadata": {
    "scrolled": true
   },
   "outputs": [
    {
     "name": "stdout",
     "output_type": "stream",
     "text": [
      "The number of unique values in column Restaurant Name is 7446\n",
      "The number of unique values in column City is 141\n",
      "The number of unique values in column Address is 8918\n",
      "The number of unique values in column Locality is 1208\n",
      "The number of unique values in column Locality Verbose is 1265\n",
      "The number of unique values in column Cuisines is 1826\n",
      "The number of unique values in column Currency is 12\n",
      "The number of unique values in column Has Table booking is 2\n",
      "The number of unique values in column Has Online delivery is 2\n",
      "The number of unique values in column Is delivering now is 2\n",
      "The number of unique values in column Switch to order menu is 1\n",
      "The number of unique values in column Rating color is 6\n",
      "The number of unique values in column Rating text is 6\n",
      "The number of unique values in column Country is 15\n"
     ]
    }
   ],
   "source": [
    "for i in cat_col:\n",
    "    print(\"The number of unique values in column\",i,\"is\",len(df[i].unique()))"
   ]
  },
  {
   "cell_type": "code",
   "execution_count": 80,
   "id": "99534f80",
   "metadata": {},
   "outputs": [
    {
     "data": {
      "text/plain": [
       "<AxesSubplot:>"
      ]
     },
     "execution_count": 80,
     "metadata": {},
     "output_type": "execute_result"
    },
    {
     "data": {
      "image/png": "[encoded data removed]",
      "text/plain": [
       "<Figure size 720x720 with 1 Axes>"
      ]
     },
     "metadata": {
      "needs_background": "light"
     },
     "output_type": "display_data"
    }
   ],
   "source": [
    "df[\"Country\"].value_counts().plot(kind=\"bar\",figsize=(10,10))"
   ]
  },
  {
   "cell_type": "code",
   "execution_count": 98,
   "id": "40025dc9",
   "metadata": {},
   "outputs": [
    {
     "data": {
      "text/plain": [
       "<AxesSubplot:>"
      ]
     },
     "execution_count": 98,
     "metadata": {},
     "output_type": "execute_result"
    },
    {
     "data": {
      "image/png": "[encoded data removed]",
      "text/plain": [
       "<Figure size 1440x1440 with 1 Axes>"
      ]
     },
     "metadata": {
      "needs_background": "light"
     },
     "output_type": "display_data"
    }
   ],
   "source": [
    "df[\"City\"].value_counts().plot(kind=\"barh\",figsize=(20,20))\n"
   ]
  },
  {
   "cell_type": "code",
   "execution_count": 64,
   "id": "ce49a3e5",
   "metadata": {},
   "outputs": [
    {
     "data": {
      "image/png": "[encoded data removed]",
      "text/plain": [
       "<Figure size 648x648 with 1 Axes>"
      ]
     },
     "metadata": {
      "needs_background": "light"
     },
     "output_type": "display_data"
    },
    {
     "data": {
      "image/png": "[encoded data removed]",
      "text/plain": [
       "<Figure size 648x648 with 1 Axes>"
      ]
     },
     "metadata": {
      "needs_background": "light"
     },
     "output_type": "display_data"
    },
    {
     "data": {
      "image/png": "[encoded data removed]",
      "text/plain": [
       "<Figure size 648x648 with 1 Axes>"
      ]
     },
     "metadata": {
      "needs_background": "light"
     },
     "output_type": "display_data"
    },
    {
     "data": {
      "image/png": "[encoded data removed]",
      "text/plain": [
       "<Figure size 648x648 with 1 Axes>"
      ]
     },
     "metadata": {
      "needs_background": "light"
     },
     "output_type": "display_data"
    },
    {
     "data": {
      "image/png": "[encoded data removed]",
      "text/plain": [
       "<Figure size 648x648 with 1 Axes>"
      ]
     },
     "metadata": {
      "needs_background": "light"
     },
     "output_type": "display_data"
    },
    {
     "data": {
      "image/png": "[encoded data removed]",
      "text/plain": [
       "<Figure size 648x648 with 1 Axes>"
      ]
     },
     "metadata": {
      "needs_background": "light"
     },
     "output_type": "display_data"
    },
    {
     "data": {
      "image/png": "[encoded data removed]",
      "text/plain": [
       "<Figure size 648x648 with 1 Axes>"
      ]
     },
     "metadata": {
      "needs_background": "light"
     },
     "output_type": "display_data"
    },
    {
     "data": {
      "image/png": "[encoded data removed]",
      "text/plain": [
       "<Figure size 648x648 with 1 Axes>"
      ]
     },
     "metadata": {
      "needs_background": "light"
     },
     "output_type": "display_data"
    }
   ],
   "source": [
    "#Analyzing Continuous Features\n",
    "\n",
    "df_cont=df.select_dtypes(include=[\"int64\",\"float64\"])\n",
    "c2=df_cont.columns.values\n",
    "for i in c2:\n",
    "    plt.figure(figsize=(9,9))\n",
    "    sns.distplot(df_cont[i])\n",
    "    plt.xlabel(i)\n",
    "    plt.ylabel(\"Distribution\")\n",
    "    plt.title(\"Graphical Analysis of Continuous Feature Distributions\")\n",
    "    plt.show()"
   ]
  },
  {
   "cell_type": "code",
   "execution_count": 93,
   "id": "5344c5fb",
   "metadata": {},
   "outputs": [],
   "source": [
    "df_new=df[df[\"Country\"]==\"India\"]"
   ]
  },
  {
   "cell_type": "code",
   "execution_count": 55,
   "id": "4f33e864",
   "metadata": {},
   "outputs": [
    {
     "data": {
      "text/plain": [
       "784"
      ]
     },
     "execution_count": 55,
     "metadata": {},
     "output_type": "execute_result"
    }
   ],
   "source": [
    "len(df_new[\"Locality\"].unique())"
   ]
  },
  {
   "cell_type": "code",
   "execution_count": 7,
   "id": "574a29b2",
   "metadata": {},
   "outputs": [
    {
     "data": {
      "text/plain": [
       "Index(['Restaurant ID', 'Restaurant Name', 'Country Code', 'City', 'Address',\n",
       "       'Locality', 'Locality Verbose', 'Longitude', 'Latitude', 'Cuisines',\n",
       "       'Average Cost for two', 'Currency', 'Has Table booking',\n",
       "       'Has Online delivery', 'Is delivering now', 'Switch to order menu',\n",
       "       'Price range', 'Aggregate rating', 'Rating color', 'Rating text',\n",
       "       'Votes', 'Country'],\n",
       "      dtype='object')"
      ]
     },
     "execution_count": 7,
     "metadata": {},
     "output_type": "execute_result"
    }
   ],
   "source": [
    "df_new.columns"
   ]
  },
  {
   "cell_type": "code",
   "execution_count": 116,
   "id": "a99ba193",
   "metadata": {},
   "outputs": [
    {
     "data": {
      "image/png": "[encoded data removed]",
      "text/plain": [
       "<Figure size 1080x1080 with 1 Axes>"
      ]
     },
     "metadata": {
      "needs_background": "light"
     },
     "output_type": "display_data"
    }
   ],
   "source": [
    "plt.figure(figsize=(15,15))\n",
    "sns.barplot(df_new[\"City\"],df_new[\"Average Cost for two\"])\n",
    "plt.xticks(rotation=45)\n",
    "plt.show()"
   ]
  },
  {
   "cell_type": "code",
   "execution_count": 123,
   "id": "30df3a37",
   "metadata": {},
   "outputs": [
    {
     "data": {
      "image/png": "[encoded data removed]",
      "text/plain": [
       "<Figure size 576x576 with 1 Axes>"
      ]
     },
     "metadata": {
      "needs_background": "light"
     },
     "output_type": "display_data"
    }
   ],
   "source": [
    "plt.figure(figsize=(8,8))\n",
    "sns.barplot(df_new[\"Has Table booking\"],df_new[\"Average Cost for two\"])\n",
    "plt.xticks(rotation=45)\n",
    "plt.show()"
   ]
  },
  {
   "cell_type": "code",
   "execution_count": 124,
   "id": "59853db4",
   "metadata": {},
   "outputs": [
    {
     "data": {
      "image/png": "[encoded data removed]",
      "text/plain": [
       "<Figure size 576x576 with 1 Axes>"
      ]
     },
     "metadata": {
      "needs_background": "light"
     },
     "output_type": "display_data"
    }
   ],
   "source": [
    "plt.figure(figsize=(8,8))\n",
    "sns.barplot(df_new[\"Has Online delivery\"],df_new[\"Average Cost for two\"])\n",
    "plt.xticks(rotation=45)\n",
    "plt.show()"
   ]
  },
  {
   "cell_type": "code",
   "execution_count": 125,
   "id": "a5243284",
   "metadata": {},
   "outputs": [
    {
     "data": {
      "image/png": "[encoded data removed]",
      "text/plain": [
       "<Figure size 576x576 with 1 Axes>"
      ]
     },
     "metadata": {
      "needs_background": "light"
     },
     "output_type": "display_data"
    }
   ],
   "source": [
    "plt.figure(figsize=(8,8))\n",
    "sns.barplot(df_new[\"Is delivering now\"],df_new[\"Average Cost for two\"])\n",
    "plt.xticks(rotation=45)\n",
    "plt.show()\n"
   ]
  },
  {
   "cell_type": "code",
   "execution_count": 127,
   "id": "1541553a",
   "metadata": {},
   "outputs": [
    {
     "data": {
      "image/png": "[encoded data removed]",
      "text/plain": [
       "<Figure size 576x576 with 1 Axes>"
      ]
     },
     "metadata": {
      "needs_background": "light"
     },
     "output_type": "display_data"
    }
   ],
   "source": [
    "plt.figure(figsize=(8,8))\n",
    "sns.barplot(df_new[\"Price range\"],df_new[\"Average Cost for two\"])\n",
    "plt.xticks(rotation=45)\n",
    "plt.show()\n",
    "\n"
   ]
  },
  {
   "cell_type": "code",
   "execution_count": 128,
   "id": "b44296a9",
   "metadata": {},
   "outputs": [
    {
     "data": {
      "image/png": "[encoded data removed]",
      "text/plain": [
       "<Figure size 576x576 with 1 Axes>"
      ]
     },
     "metadata": {
      "needs_background": "light"
     },
     "output_type": "display_data"
    }
   ],
   "source": [
    "plt.figure(figsize=(8,8))\n",
    "sns.barplot(df_new[\"Aggregate rating\"],df_new[\"Average Cost for two\"])\n",
    "plt.xticks(rotation=45)\n",
    "plt.show()"
   ]
  },
  {
   "cell_type": "code",
   "execution_count": 129,
   "id": "0d1c2a5d",
   "metadata": {},
   "outputs": [
    {
     "data": {
      "image/png": "[encoded data removed]",
      "text/plain": [
       "<Figure size 576x576 with 1 Axes>"
      ]
     },
     "metadata": {
      "needs_background": "light"
     },
     "output_type": "display_data"
    }
   ],
   "source": [
    "plt.figure(figsize=(8,8))\n",
    "sns.barplot(df_new[\"Rating color\"],df_new[\"Average Cost for two\"])\n",
    "plt.xticks(rotation=45)\n",
    "plt.show()"
   ]
  },
  {
   "cell_type": "code",
   "execution_count": 130,
   "id": "78ce4d57",
   "metadata": {},
   "outputs": [
    {
     "data": {
      "image/png": "[encoded data removed]",
      "text/plain": [
       "<Figure size 576x576 with 1 Axes>"
      ]
     },
     "metadata": {
      "needs_background": "light"
     },
     "output_type": "display_data"
    }
   ],
   "source": [
    "plt.figure(figsize=(8,8))\n",
    "sns.barplot(df_new[\"Rating text\"],df_new[\"Average Cost for two\"])\n",
    "plt.xticks(rotation=45)\n",
    "plt.show()"
   ]
  },
  {
   "cell_type": "code",
   "execution_count": 136,
   "id": "d14974c8",
   "metadata": {},
   "outputs": [
    {
     "data": {
      "image/png": "[encoded data removed]",
      "text/plain": [
       "<Figure size 720x720 with 1 Axes>"
      ]
     },
     "metadata": {
      "needs_background": "light"
     },
     "output_type": "display_data"
    }
   ],
   "source": [
    "plt.figure(figsize=(10,10))\n",
    "plt.scatter(x=df_new[\"Votes\"],y=df_new[\"Average Cost for two\"])\n",
    "plt.xticks(rotation=45)\n",
    "plt.show()"
   ]
  },
  {
   "cell_type": "markdown",
   "id": "1d7b8998",
   "metadata": {},
   "source": [
    "# Summary of Data Analysis"
   ]
  },
  {
   "cell_type": "code",
   "execution_count": null,
   "id": "ef349b2c",
   "metadata": {},
   "outputs": [],
   "source": []
  },
  {
   "cell_type": "markdown",
   "id": "14ebcf89",
   "metadata": {},
   "source": [
    "# Data Cleaning"
   ]
  },
  {
   "cell_type": "markdown",
   "id": "e06bec96",
   "metadata": {},
   "source": [
    "##### Removing unneccesary columns"
   ]
  },
  {
   "cell_type": "code",
   "execution_count": 37,
   "id": "15f6e6a7",
   "metadata": {},
   "outputs": [
    {
     "name": "stdout",
     "output_type": "stream",
     "text": [
      "Unique values for column Restaurant ID are 8652\n",
      "Unique values for column Restaurant Name are 6604\n",
      "Unique values for column Country Code are 1\n",
      "Unique values for column City are 43\n",
      "Unique values for column Address are 8025\n",
      "Unique values for column Locality are 784\n",
      "Unique values for column Locality Verbose are 841\n",
      "Unique values for column Longitude are 7230\n",
      "Unique values for column Latitude are 7790\n",
      "Unique values for column Cuisines are 1392\n",
      "Unique values for column Average Cost for two are 79\n",
      "Unique values for column Currency are 1\n",
      "Unique values for column Has Table booking are 2\n",
      "Unique values for column Has Online delivery are 2\n",
      "Unique values for column Is delivering now are 2\n",
      "Unique values for column Switch to order menu are 1\n",
      "Unique values for column Price range are 4\n",
      "Unique values for column Aggregate rating are 33\n",
      "Unique values for column Rating color are 6\n",
      "Unique values for column Rating text are 6\n",
      "Unique values for column Votes are 871\n",
      "Unique values for column Country are 1\n"
     ]
    }
   ],
   "source": [
    "a=df_new.columns.values\n",
    "for i in a:\n",
    "    print(\"Unique values for column\",i,\"are\",len(df_new[i].unique()))"
   ]
  },
  {
   "cell_type": "code",
   "execution_count": 38,
   "id": "4ebe73f9",
   "metadata": {},
   "outputs": [
    {
     "name": "stdout",
     "output_type": "stream",
     "text": [
      "<class 'pandas.core.frame.DataFrame'>\n",
      "Int64Index: 8652 entries, 624 to 9275\n",
      "Data columns (total 22 columns):\n",
      " #   Column                Non-Null Count  Dtype  \n",
      "---  ------                --------------  -----  \n",
      " 0   Restaurant ID         8652 non-null   int64  \n",
      " 1   Restaurant Name       8652 non-null   object \n",
      " 2   Country Code          8652 non-null   int64  \n",
      " 3   City                  8652 non-null   object \n",
      " 4   Address               8652 non-null   object \n",
      " 5   Locality              8652 non-null   object \n",
      " 6   Locality Verbose      8652 non-null   object \n",
      " 7   Longitude             8652 non-null   float64\n",
      " 8   Latitude              8652 non-null   float64\n",
      " 9   Cuisines              8652 non-null   object \n",
      " 10  Average Cost for two  8652 non-null   int64  \n",
      " 11  Currency              8652 non-null   object \n",
      " 12  Has Table booking     8652 non-null   object \n",
      " 13  Has Online delivery   8652 non-null   object \n",
      " 14  Is delivering now     8652 non-null   object \n",
      " 15  Switch to order menu  8652 non-null   object \n",
      " 16  Price range           8652 non-null   int64  \n",
      " 17  Aggregate rating      8652 non-null   float64\n",
      " 18  Rating color          8652 non-null   object \n",
      " 19  Rating text           8652 non-null   object \n",
      " 20  Votes                 8652 non-null   int64  \n",
      " 21  Country               8652 non-null   object \n",
      "dtypes: float64(3), int64(5), object(14)\n",
      "memory usage: 1.5+ MB\n"
     ]
    }
   ],
   "source": [
    "df_new.info()"
   ]
  },
  {
   "cell_type": "code",
   "execution_count": 25,
   "id": "a9c1137e",
   "metadata": {},
   "outputs": [
    {
     "data": {
      "text/html": [
       "<div>\n",
       "<style scoped>\n",
       "    .dataframe tbody tr th:only-of-type {\n",
       "        vertical-align: middle;\n",
       "    }\n",
       "\n",
       "    .dataframe tbody tr th {\n",
       "        vertical-align: top;\n",
       "    }\n",
       "\n",
       "    .dataframe thead th {\n",
       "        text-align: right;\n",
       "    }\n",
       "</style>\n",
       "<table border=\"1\" class=\"dataframe\">\n",
       "  <thead>\n",
       "    <tr style=\"text-align: right;\">\n",
       "      <th></th>\n",
       "      <th>Restaurant ID</th>\n",
       "      <th>Restaurant Name</th>\n",
       "      <th>Country Code</th>\n",
       "      <th>City</th>\n",
       "      <th>Address</th>\n",
       "      <th>Locality</th>\n",
       "      <th>Locality Verbose</th>\n",
       "      <th>Longitude</th>\n",
       "      <th>Latitude</th>\n",
       "      <th>Cuisines</th>\n",
       "      <th>...</th>\n",
       "      <th>Has Table booking</th>\n",
       "      <th>Has Online delivery</th>\n",
       "      <th>Is delivering now</th>\n",
       "      <th>Switch to order menu</th>\n",
       "      <th>Price range</th>\n",
       "      <th>Aggregate rating</th>\n",
       "      <th>Rating color</th>\n",
       "      <th>Rating text</th>\n",
       "      <th>Votes</th>\n",
       "      <th>Country</th>\n",
       "    </tr>\n",
       "  </thead>\n",
       "  <tbody>\n",
       "    <tr>\n",
       "      <th>624</th>\n",
       "      <td>3400025</td>\n",
       "      <td>Jahanpanah</td>\n",
       "      <td>1</td>\n",
       "      <td>Agra</td>\n",
       "      <td>E 23, Shopping Arcade, Sadar Bazaar, Agra Cant...</td>\n",
       "      <td>Agra Cantt</td>\n",
       "      <td>Agra Cantt, Agra</td>\n",
       "      <td>78.011544</td>\n",
       "      <td>27.161661</td>\n",
       "      <td>North Indian, Mughlai</td>\n",
       "      <td>...</td>\n",
       "      <td>No</td>\n",
       "      <td>No</td>\n",
       "      <td>No</td>\n",
       "      <td>No</td>\n",
       "      <td>3</td>\n",
       "      <td>3.9</td>\n",
       "      <td>Yellow</td>\n",
       "      <td>Good</td>\n",
       "      <td>140</td>\n",
       "      <td>India</td>\n",
       "    </tr>\n",
       "    <tr>\n",
       "      <th>625</th>\n",
       "      <td>3400341</td>\n",
       "      <td>Rangrezz Restaurant</td>\n",
       "      <td>1</td>\n",
       "      <td>Agra</td>\n",
       "      <td>E-20, Shopping Arcade, Sadar Bazaar, Agra Cant...</td>\n",
       "      <td>Agra Cantt</td>\n",
       "      <td>Agra Cantt, Agra</td>\n",
       "      <td>0.000000</td>\n",
       "      <td>0.000000</td>\n",
       "      <td>North Indian, Mughlai</td>\n",
       "      <td>...</td>\n",
       "      <td>No</td>\n",
       "      <td>No</td>\n",
       "      <td>No</td>\n",
       "      <td>No</td>\n",
       "      <td>2</td>\n",
       "      <td>3.5</td>\n",
       "      <td>Yellow</td>\n",
       "      <td>Good</td>\n",
       "      <td>71</td>\n",
       "      <td>India</td>\n",
       "    </tr>\n",
       "  </tbody>\n",
       "</table>\n",
       "<p>2 rows × 22 columns</p>\n",
       "</div>"
      ],
      "text/plain": [
       "     Restaurant ID      Restaurant Name  Country Code  City  \\\n",
       "624        3400025           Jahanpanah             1  Agra   \n",
       "625        3400341  Rangrezz Restaurant             1  Agra   \n",
       "\n",
       "                                               Address    Locality  \\\n",
       "624  E 23, Shopping Arcade, Sadar Bazaar, Agra Cant...  Agra Cantt   \n",
       "625  E-20, Shopping Arcade, Sadar Bazaar, Agra Cant...  Agra Cantt   \n",
       "\n",
       "     Locality Verbose  Longitude   Latitude               Cuisines  ...  \\\n",
       "624  Agra Cantt, Agra  78.011544  27.161661  North Indian, Mughlai  ...   \n",
       "625  Agra Cantt, Agra   0.000000   0.000000  North Indian, Mughlai  ...   \n",
       "\n",
       "     Has Table booking Has Online delivery Is delivering now  \\\n",
       "624                 No                  No                No   \n",
       "625                 No                  No                No   \n",
       "\n",
       "    Switch to order menu Price range Aggregate rating  Rating color  \\\n",
       "624                   No           3              3.9        Yellow   \n",
       "625                   No           2              3.5        Yellow   \n",
       "\n",
       "     Rating text Votes Country  \n",
       "624         Good   140   India  \n",
       "625         Good    71   India  \n",
       "\n",
       "[2 rows x 22 columns]"
      ]
     },
     "execution_count": 25,
     "metadata": {},
     "output_type": "execute_result"
    }
   ],
   "source": [
    "df_new.head(2)"
   ]
  },
  {
   "cell_type": "markdown",
   "id": "e7aa6e59",
   "metadata": {},
   "source": [
    "The columns- RestaurantID, Restaurant Name,Address are all unique to each restaurant and difficult to encode these columns hence removing them\n",
    "Since we are considering the Indian Restaurants, the country code is 1 for all restaurants and country is India for all\n",
    "Locality and Locality Verbose are also having high number of unique values which is difficult to encode"
   ]
  },
  {
   "cell_type": "code",
   "execution_count": 94,
   "id": "94bb5ea6",
   "metadata": {},
   "outputs": [],
   "source": [
    "df_c=df_new.drop(columns=[\"Restaurant ID\",\"Restaurant Name\",\"Address\",\"Country Code\",\"Locality\",\"Locality Verbose\",\"Country\",\"Currency\",\"Switch to order menu\"],axis=1)"
   ]
  },
  {
   "cell_type": "code",
   "execution_count": 95,
   "id": "b51ca6f5",
   "metadata": {},
   "outputs": [
    {
     "data": {
      "text/html": [
       "<div>\n",
       "<style scoped>\n",
       "    .dataframe tbody tr th:only-of-type {\n",
       "        vertical-align: middle;\n",
       "    }\n",
       "\n",
       "    .dataframe tbody tr th {\n",
       "        vertical-align: top;\n",
       "    }\n",
       "\n",
       "    .dataframe thead th {\n",
       "        text-align: right;\n",
       "    }\n",
       "</style>\n",
       "<table border=\"1\" class=\"dataframe\">\n",
       "  <thead>\n",
       "    <tr style=\"text-align: right;\">\n",
       "      <th></th>\n",
       "      <th>City</th>\n",
       "      <th>Longitude</th>\n",
       "      <th>Latitude</th>\n",
       "      <th>Cuisines</th>\n",
       "      <th>Average Cost for two</th>\n",
       "      <th>Has Table booking</th>\n",
       "      <th>Has Online delivery</th>\n",
       "      <th>Is delivering now</th>\n",
       "      <th>Price range</th>\n",
       "      <th>Aggregate rating</th>\n",
       "      <th>Rating color</th>\n",
       "      <th>Rating text</th>\n",
       "      <th>Votes</th>\n",
       "    </tr>\n",
       "  </thead>\n",
       "  <tbody>\n",
       "    <tr>\n",
       "      <th>624</th>\n",
       "      <td>Agra</td>\n",
       "      <td>78.011544</td>\n",
       "      <td>27.161661</td>\n",
       "      <td>North Indian, Mughlai</td>\n",
       "      <td>850</td>\n",
       "      <td>No</td>\n",
       "      <td>No</td>\n",
       "      <td>No</td>\n",
       "      <td>3</td>\n",
       "      <td>3.9</td>\n",
       "      <td>Yellow</td>\n",
       "      <td>Good</td>\n",
       "      <td>140</td>\n",
       "    </tr>\n",
       "    <tr>\n",
       "      <th>625</th>\n",
       "      <td>Agra</td>\n",
       "      <td>0.000000</td>\n",
       "      <td>0.000000</td>\n",
       "      <td>North Indian, Mughlai</td>\n",
       "      <td>700</td>\n",
       "      <td>No</td>\n",
       "      <td>No</td>\n",
       "      <td>No</td>\n",
       "      <td>2</td>\n",
       "      <td>3.5</td>\n",
       "      <td>Yellow</td>\n",
       "      <td>Good</td>\n",
       "      <td>71</td>\n",
       "    </tr>\n",
       "    <tr>\n",
       "      <th>626</th>\n",
       "      <td>Agra</td>\n",
       "      <td>78.011608</td>\n",
       "      <td>27.160832</td>\n",
       "      <td>North Indian</td>\n",
       "      <td>500</td>\n",
       "      <td>No</td>\n",
       "      <td>No</td>\n",
       "      <td>No</td>\n",
       "      <td>2</td>\n",
       "      <td>3.6</td>\n",
       "      <td>Yellow</td>\n",
       "      <td>Good</td>\n",
       "      <td>94</td>\n",
       "    </tr>\n",
       "    <tr>\n",
       "      <th>627</th>\n",
       "      <td>Agra</td>\n",
       "      <td>77.998092</td>\n",
       "      <td>27.195928</td>\n",
       "      <td>Rajasthani</td>\n",
       "      <td>400</td>\n",
       "      <td>No</td>\n",
       "      <td>No</td>\n",
       "      <td>No</td>\n",
       "      <td>2</td>\n",
       "      <td>4.0</td>\n",
       "      <td>Green</td>\n",
       "      <td>Very Good</td>\n",
       "      <td>87</td>\n",
       "    </tr>\n",
       "    <tr>\n",
       "      <th>628</th>\n",
       "      <td>Agra</td>\n",
       "      <td>78.007553</td>\n",
       "      <td>27.201725</td>\n",
       "      <td>North Indian, Chinese, Mughlai</td>\n",
       "      <td>1000</td>\n",
       "      <td>No</td>\n",
       "      <td>No</td>\n",
       "      <td>No</td>\n",
       "      <td>3</td>\n",
       "      <td>4.2</td>\n",
       "      <td>Green</td>\n",
       "      <td>Very Good</td>\n",
       "      <td>177</td>\n",
       "    </tr>\n",
       "    <tr>\n",
       "      <th>...</th>\n",
       "      <td>...</td>\n",
       "      <td>...</td>\n",
       "      <td>...</td>\n",
       "      <td>...</td>\n",
       "      <td>...</td>\n",
       "      <td>...</td>\n",
       "      <td>...</td>\n",
       "      <td>...</td>\n",
       "      <td>...</td>\n",
       "      <td>...</td>\n",
       "      <td>...</td>\n",
       "      <td>...</td>\n",
       "      <td>...</td>\n",
       "    </tr>\n",
       "    <tr>\n",
       "      <th>9271</th>\n",
       "      <td>Vizag</td>\n",
       "      <td>83.361377</td>\n",
       "      <td>17.764287</td>\n",
       "      <td>Continental, Seafood, Chinese, North Indian, B...</td>\n",
       "      <td>600</td>\n",
       "      <td>No</td>\n",
       "      <td>No</td>\n",
       "      <td>No</td>\n",
       "      <td>2</td>\n",
       "      <td>3.6</td>\n",
       "      <td>Yellow</td>\n",
       "      <td>Good</td>\n",
       "      <td>193</td>\n",
       "    </tr>\n",
       "    <tr>\n",
       "      <th>9272</th>\n",
       "      <td>Vizag</td>\n",
       "      <td>0.000000</td>\n",
       "      <td>0.000000</td>\n",
       "      <td>Cafe, North Indian, Chinese</td>\n",
       "      <td>400</td>\n",
       "      <td>No</td>\n",
       "      <td>No</td>\n",
       "      <td>No</td>\n",
       "      <td>2</td>\n",
       "      <td>3.7</td>\n",
       "      <td>Yellow</td>\n",
       "      <td>Good</td>\n",
       "      <td>85</td>\n",
       "    </tr>\n",
       "    <tr>\n",
       "      <th>9273</th>\n",
       "      <td>Vizag</td>\n",
       "      <td>83.315281</td>\n",
       "      <td>17.719539</td>\n",
       "      <td>Burger, Pizza, Biryani</td>\n",
       "      <td>600</td>\n",
       "      <td>No</td>\n",
       "      <td>No</td>\n",
       "      <td>No</td>\n",
       "      <td>2</td>\n",
       "      <td>4.3</td>\n",
       "      <td>Green</td>\n",
       "      <td>Very Good</td>\n",
       "      <td>172</td>\n",
       "    </tr>\n",
       "    <tr>\n",
       "      <th>9274</th>\n",
       "      <td>Vizag</td>\n",
       "      <td>83.336840</td>\n",
       "      <td>17.721182</td>\n",
       "      <td>American, North Indian, Thai, Continental</td>\n",
       "      <td>1500</td>\n",
       "      <td>No</td>\n",
       "      <td>No</td>\n",
       "      <td>No</td>\n",
       "      <td>4</td>\n",
       "      <td>3.8</td>\n",
       "      <td>Yellow</td>\n",
       "      <td>Good</td>\n",
       "      <td>74</td>\n",
       "    </tr>\n",
       "    <tr>\n",
       "      <th>9275</th>\n",
       "      <td>Vizag</td>\n",
       "      <td>83.314942</td>\n",
       "      <td>17.721119</td>\n",
       "      <td>Italian</td>\n",
       "      <td>1400</td>\n",
       "      <td>No</td>\n",
       "      <td>No</td>\n",
       "      <td>No</td>\n",
       "      <td>3</td>\n",
       "      <td>4.4</td>\n",
       "      <td>Green</td>\n",
       "      <td>Very Good</td>\n",
       "      <td>316</td>\n",
       "    </tr>\n",
       "  </tbody>\n",
       "</table>\n",
       "<p>8652 rows × 13 columns</p>\n",
       "</div>"
      ],
      "text/plain": [
       "       City  Longitude   Latitude  \\\n",
       "624    Agra  78.011544  27.161661   \n",
       "625    Agra   0.000000   0.000000   \n",
       "626    Agra  78.011608  27.160832   \n",
       "627    Agra  77.998092  27.195928   \n",
       "628    Agra  78.007553  27.201725   \n",
       "...     ...        ...        ...   \n",
       "9271  Vizag  83.361377  17.764287   \n",
       "9272  Vizag   0.000000   0.000000   \n",
       "9273  Vizag  83.315281  17.719539   \n",
       "9274  Vizag  83.336840  17.721182   \n",
       "9275  Vizag  83.314942  17.721119   \n",
       "\n",
       "                                               Cuisines  Average Cost for two  \\\n",
       "624                               North Indian, Mughlai                   850   \n",
       "625                               North Indian, Mughlai                   700   \n",
       "626                                        North Indian                   500   \n",
       "627                                          Rajasthani                   400   \n",
       "628                      North Indian, Chinese, Mughlai                  1000   \n",
       "...                                                 ...                   ...   \n",
       "9271  Continental, Seafood, Chinese, North Indian, B...                   600   \n",
       "9272                        Cafe, North Indian, Chinese                   400   \n",
       "9273                             Burger, Pizza, Biryani                   600   \n",
       "9274          American, North Indian, Thai, Continental                  1500   \n",
       "9275                                            Italian                  1400   \n",
       "\n",
       "     Has Table booking Has Online delivery Is delivering now  Price range  \\\n",
       "624                 No                  No                No            3   \n",
       "625                 No                  No                No            2   \n",
       "626                 No                  No                No            2   \n",
       "627                 No                  No                No            2   \n",
       "628                 No                  No                No            3   \n",
       "...                ...                 ...               ...          ...   \n",
       "9271                No                  No                No            2   \n",
       "9272                No                  No                No            2   \n",
       "9273                No                  No                No            2   \n",
       "9274                No                  No                No            4   \n",
       "9275                No                  No                No            3   \n",
       "\n",
       "      Aggregate rating Rating color Rating text  Votes  \n",
       "624                3.9       Yellow        Good    140  \n",
       "625                3.5       Yellow        Good     71  \n",
       "626                3.6       Yellow        Good     94  \n",
       "627                4.0        Green   Very Good     87  \n",
       "628                4.2        Green   Very Good    177  \n",
       "...                ...          ...         ...    ...  \n",
       "9271               3.6       Yellow        Good    193  \n",
       "9272               3.7       Yellow        Good     85  \n",
       "9273               4.3        Green   Very Good    172  \n",
       "9274               3.8       Yellow        Good     74  \n",
       "9275               4.4        Green   Very Good    316  \n",
       "\n",
       "[8652 rows x 13 columns]"
      ]
     },
     "execution_count": 95,
     "metadata": {},
     "output_type": "execute_result"
    }
   ],
   "source": [
    "df_c"
   ]
  },
  {
   "cell_type": "markdown",
   "id": "5718729d",
   "metadata": {},
   "source": [
    "# Encoding Categorical Columns"
   ]
  },
  {
   "cell_type": "code",
   "execution_count": 96,
   "id": "7655880b",
   "metadata": {},
   "outputs": [],
   "source": [
    "cat_feat=[cname for cname in df_c.columns if df_c[cname].dtype==\"O\"]\n",
    "from sklearn.preprocessing import LabelEncoder\n",
    "le=LabelEncoder()\n",
    "for i in cat_feat:\n",
    "    df_c[i]=le.fit_transform(df_c[i])"
   ]
  },
  {
   "cell_type": "code",
   "execution_count": 97,
   "id": "f0928f57",
   "metadata": {},
   "outputs": [
    {
     "data": {
      "text/html": [
       "<div>\n",
       "<style scoped>\n",
       "    .dataframe tbody tr th:only-of-type {\n",
       "        vertical-align: middle;\n",
       "    }\n",
       "\n",
       "    .dataframe tbody tr th {\n",
       "        vertical-align: top;\n",
       "    }\n",
       "\n",
       "    .dataframe thead th {\n",
       "        text-align: right;\n",
       "    }\n",
       "</style>\n",
       "<table border=\"1\" class=\"dataframe\">\n",
       "  <thead>\n",
       "    <tr style=\"text-align: right;\">\n",
       "      <th></th>\n",
       "      <th>City</th>\n",
       "      <th>Longitude</th>\n",
       "      <th>Latitude</th>\n",
       "      <th>Cuisines</th>\n",
       "      <th>Average Cost for two</th>\n",
       "      <th>Has Table booking</th>\n",
       "      <th>Has Online delivery</th>\n",
       "      <th>Is delivering now</th>\n",
       "      <th>Price range</th>\n",
       "      <th>Aggregate rating</th>\n",
       "      <th>Rating color</th>\n",
       "      <th>Rating text</th>\n",
       "      <th>Votes</th>\n",
       "    </tr>\n",
       "  </thead>\n",
       "  <tbody>\n",
       "    <tr>\n",
       "      <th>624</th>\n",
       "      <td>0</td>\n",
       "      <td>78.011544</td>\n",
       "      <td>27.161661</td>\n",
       "      <td>1151</td>\n",
       "      <td>850</td>\n",
       "      <td>0</td>\n",
       "      <td>0</td>\n",
       "      <td>0</td>\n",
       "      <td>3</td>\n",
       "      <td>3.9</td>\n",
       "      <td>5</td>\n",
       "      <td>2</td>\n",
       "      <td>140</td>\n",
       "    </tr>\n",
       "    <tr>\n",
       "      <th>625</th>\n",
       "      <td>0</td>\n",
       "      <td>0.000000</td>\n",
       "      <td>0.000000</td>\n",
       "      <td>1151</td>\n",
       "      <td>700</td>\n",
       "      <td>0</td>\n",
       "      <td>0</td>\n",
       "      <td>0</td>\n",
       "      <td>2</td>\n",
       "      <td>3.5</td>\n",
       "      <td>5</td>\n",
       "      <td>2</td>\n",
       "      <td>71</td>\n",
       "    </tr>\n",
       "    <tr>\n",
       "      <th>626</th>\n",
       "      <td>0</td>\n",
       "      <td>78.011608</td>\n",
       "      <td>27.160832</td>\n",
       "      <td>945</td>\n",
       "      <td>500</td>\n",
       "      <td>0</td>\n",
       "      <td>0</td>\n",
       "      <td>0</td>\n",
       "      <td>2</td>\n",
       "      <td>3.6</td>\n",
       "      <td>5</td>\n",
       "      <td>2</td>\n",
       "      <td>94</td>\n",
       "    </tr>\n",
       "    <tr>\n",
       "      <th>627</th>\n",
       "      <td>0</td>\n",
       "      <td>77.998092</td>\n",
       "      <td>27.195928</td>\n",
       "      <td>1266</td>\n",
       "      <td>400</td>\n",
       "      <td>0</td>\n",
       "      <td>0</td>\n",
       "      <td>0</td>\n",
       "      <td>2</td>\n",
       "      <td>4.0</td>\n",
       "      <td>1</td>\n",
       "      <td>5</td>\n",
       "      <td>87</td>\n",
       "    </tr>\n",
       "    <tr>\n",
       "      <th>628</th>\n",
       "      <td>0</td>\n",
       "      <td>78.007553</td>\n",
       "      <td>27.201725</td>\n",
       "      <td>1012</td>\n",
       "      <td>1000</td>\n",
       "      <td>0</td>\n",
       "      <td>0</td>\n",
       "      <td>0</td>\n",
       "      <td>3</td>\n",
       "      <td>4.2</td>\n",
       "      <td>1</td>\n",
       "      <td>5</td>\n",
       "      <td>177</td>\n",
       "    </tr>\n",
       "    <tr>\n",
       "      <th>...</th>\n",
       "      <td>...</td>\n",
       "      <td>...</td>\n",
       "      <td>...</td>\n",
       "      <td>...</td>\n",
       "      <td>...</td>\n",
       "      <td>...</td>\n",
       "      <td>...</td>\n",
       "      <td>...</td>\n",
       "      <td>...</td>\n",
       "      <td>...</td>\n",
       "      <td>...</td>\n",
       "      <td>...</td>\n",
       "      <td>...</td>\n",
       "    </tr>\n",
       "    <tr>\n",
       "      <th>9271</th>\n",
       "      <td>42</td>\n",
       "      <td>83.361377</td>\n",
       "      <td>17.764287</td>\n",
       "      <td>525</td>\n",
       "      <td>600</td>\n",
       "      <td>0</td>\n",
       "      <td>0</td>\n",
       "      <td>0</td>\n",
       "      <td>2</td>\n",
       "      <td>3.6</td>\n",
       "      <td>5</td>\n",
       "      <td>2</td>\n",
       "      <td>193</td>\n",
       "    </tr>\n",
       "    <tr>\n",
       "      <th>9272</th>\n",
       "      <td>42</td>\n",
       "      <td>0.000000</td>\n",
       "      <td>0.000000</td>\n",
       "      <td>277</td>\n",
       "      <td>400</td>\n",
       "      <td>0</td>\n",
       "      <td>0</td>\n",
       "      <td>0</td>\n",
       "      <td>2</td>\n",
       "      <td>3.7</td>\n",
       "      <td>5</td>\n",
       "      <td>2</td>\n",
       "      <td>85</td>\n",
       "    </tr>\n",
       "    <tr>\n",
       "      <th>9273</th>\n",
       "      <td>42</td>\n",
       "      <td>83.315281</td>\n",
       "      <td>17.719539</td>\n",
       "      <td>160</td>\n",
       "      <td>600</td>\n",
       "      <td>0</td>\n",
       "      <td>0</td>\n",
       "      <td>0</td>\n",
       "      <td>2</td>\n",
       "      <td>4.3</td>\n",
       "      <td>1</td>\n",
       "      <td>5</td>\n",
       "      <td>172</td>\n",
       "    </tr>\n",
       "    <tr>\n",
       "      <th>9274</th>\n",
       "      <td>42</td>\n",
       "      <td>83.336840</td>\n",
       "      <td>17.721182</td>\n",
       "      <td>36</td>\n",
       "      <td>1500</td>\n",
       "      <td>0</td>\n",
       "      <td>0</td>\n",
       "      <td>0</td>\n",
       "      <td>4</td>\n",
       "      <td>3.8</td>\n",
       "      <td>5</td>\n",
       "      <td>2</td>\n",
       "      <td>74</td>\n",
       "    </tr>\n",
       "    <tr>\n",
       "      <th>9275</th>\n",
       "      <td>42</td>\n",
       "      <td>83.314942</td>\n",
       "      <td>17.721119</td>\n",
       "      <td>722</td>\n",
       "      <td>1400</td>\n",
       "      <td>0</td>\n",
       "      <td>0</td>\n",
       "      <td>0</td>\n",
       "      <td>3</td>\n",
       "      <td>4.4</td>\n",
       "      <td>1</td>\n",
       "      <td>5</td>\n",
       "      <td>316</td>\n",
       "    </tr>\n",
       "  </tbody>\n",
       "</table>\n",
       "<p>8652 rows × 13 columns</p>\n",
       "</div>"
      ],
      "text/plain": [
       "      City  Longitude   Latitude  Cuisines  Average Cost for two  \\\n",
       "624      0  78.011544  27.161661      1151                   850   \n",
       "625      0   0.000000   0.000000      1151                   700   \n",
       "626      0  78.011608  27.160832       945                   500   \n",
       "627      0  77.998092  27.195928      1266                   400   \n",
       "628      0  78.007553  27.201725      1012                  1000   \n",
       "...    ...        ...        ...       ...                   ...   \n",
       "9271    42  83.361377  17.764287       525                   600   \n",
       "9272    42   0.000000   0.000000       277                   400   \n",
       "9273    42  83.315281  17.719539       160                   600   \n",
       "9274    42  83.336840  17.721182        36                  1500   \n",
       "9275    42  83.314942  17.721119       722                  1400   \n",
       "\n",
       "      Has Table booking  Has Online delivery  Is delivering now  Price range  \\\n",
       "624                   0                    0                  0            3   \n",
       "625                   0                    0                  0            2   \n",
       "626                   0                    0                  0            2   \n",
       "627                   0                    0                  0            2   \n",
       "628                   0                    0                  0            3   \n",
       "...                 ...                  ...                ...          ...   \n",
       "9271                  0                    0                  0            2   \n",
       "9272                  0                    0                  0            2   \n",
       "9273                  0                    0                  0            2   \n",
       "9274                  0                    0                  0            4   \n",
       "9275                  0                    0                  0            3   \n",
       "\n",
       "      Aggregate rating  Rating color  Rating text  Votes  \n",
       "624                3.9             5            2    140  \n",
       "625                3.5             5            2     71  \n",
       "626                3.6             5            2     94  \n",
       "627                4.0             1            5     87  \n",
       "628                4.2             1            5    177  \n",
       "...                ...           ...          ...    ...  \n",
       "9271               3.6             5            2    193  \n",
       "9272               3.7             5            2     85  \n",
       "9273               4.3             1            5    172  \n",
       "9274               3.8             5            2     74  \n",
       "9275               4.4             1            5    316  \n",
       "\n",
       "[8652 rows x 13 columns]"
      ]
     },
     "execution_count": 97,
     "metadata": {},
     "output_type": "execute_result"
    }
   ],
   "source": [
    "df_c[\"Is\"]"
   ]
  },
  {
   "cell_type": "markdown",
   "id": "124793de",
   "metadata": {},
   "source": [
    "# Checking and Treating Outliers"
   ]
  },
  {
   "cell_type": "code",
   "execution_count": 98,
   "id": "684e2247",
   "metadata": {},
   "outputs": [
    {
     "data": {
      "text/plain": [
       "City                       AxesSubplot(0.125,0.125;0.0503247x0.755)\n",
       "Longitude                AxesSubplot(0.18539,0.125;0.0503247x0.755)\n",
       "Latitude                AxesSubplot(0.245779,0.125;0.0503247x0.755)\n",
       "Cuisines                AxesSubplot(0.306169,0.125;0.0503247x0.755)\n",
       "Average Cost for two    AxesSubplot(0.366558,0.125;0.0503247x0.755)\n",
       "Has Table booking       AxesSubplot(0.426948,0.125;0.0503247x0.755)\n",
       "Has Online delivery     AxesSubplot(0.487338,0.125;0.0503247x0.755)\n",
       "Is delivering now       AxesSubplot(0.547727,0.125;0.0503247x0.755)\n",
       "Price range             AxesSubplot(0.608117,0.125;0.0503247x0.755)\n",
       "Aggregate rating        AxesSubplot(0.668506,0.125;0.0503247x0.755)\n",
       "Rating color            AxesSubplot(0.728896,0.125;0.0503247x0.755)\n",
       "Rating text             AxesSubplot(0.789286,0.125;0.0503247x0.755)\n",
       "Votes                   AxesSubplot(0.849675,0.125;0.0503247x0.755)\n",
       "dtype: object"
      ]
     },
     "execution_count": 98,
     "metadata": {},
     "output_type": "execute_result"
    },
    {
     "data": {
      "image/png": "[encoded data removed]",
      "text/plain": [
       "<Figure size 1080x1080 with 13 Axes>"
      ]
     },
     "metadata": {
      "needs_background": "light"
     },
     "output_type": "display_data"
    }
   ],
   "source": [
    "#Plotting a box plot to check the outliers\n",
    "\n",
    "df_c.plot(kind='box',subplots=True,figsize=(15,15))"
   ]
  },
  {
   "cell_type": "code",
   "execution_count": 99,
   "id": "e0fddfac",
   "metadata": {},
   "outputs": [],
   "source": [
    "#Checking Z-Score for Outliers\n",
    "from scipy import stats\n",
    "clist=df_c.columns.values\n",
    "\n",
    "z1=abs(stats.zscore(df_c[clist]))"
   ]
  },
  {
   "cell_type": "code",
   "execution_count": 101,
   "id": "f2ea90a2",
   "metadata": {},
   "outputs": [],
   "source": [
    "df_z=df_c[(z1 < 3).all(axis=1)]"
   ]
  },
  {
   "cell_type": "code",
   "execution_count": 104,
   "id": "a7c0e039",
   "metadata": {},
   "outputs": [
    {
     "data": {
      "text/html": [
       "<div>\n",
       "<style scoped>\n",
       "    .dataframe tbody tr th:only-of-type {\n",
       "        vertical-align: middle;\n",
       "    }\n",
       "\n",
       "    .dataframe tbody tr th {\n",
       "        vertical-align: top;\n",
       "    }\n",
       "\n",
       "    .dataframe thead th {\n",
       "        text-align: right;\n",
       "    }\n",
       "</style>\n",
       "<table border=\"1\" class=\"dataframe\">\n",
       "  <thead>\n",
       "    <tr style=\"text-align: right;\">\n",
       "      <th></th>\n",
       "      <th>City</th>\n",
       "      <th>Longitude</th>\n",
       "      <th>Latitude</th>\n",
       "      <th>Cuisines</th>\n",
       "      <th>Average Cost for two</th>\n",
       "      <th>Has Table booking</th>\n",
       "      <th>Has Online delivery</th>\n",
       "      <th>Is delivering now</th>\n",
       "      <th>Price range</th>\n",
       "      <th>Aggregate rating</th>\n",
       "      <th>Rating color</th>\n",
       "      <th>Rating text</th>\n",
       "      <th>Votes</th>\n",
       "    </tr>\n",
       "  </thead>\n",
       "  <tbody>\n",
       "    <tr>\n",
       "      <th>746</th>\n",
       "      <td>6</td>\n",
       "      <td>77.419399</td>\n",
       "      <td>23.211529</td>\n",
       "      <td>190</td>\n",
       "      <td>200</td>\n",
       "      <td>0</td>\n",
       "      <td>0</td>\n",
       "      <td>0</td>\n",
       "      <td>1</td>\n",
       "      <td>3.3</td>\n",
       "      <td>2</td>\n",
       "      <td>0</td>\n",
       "      <td>51</td>\n",
       "    </tr>\n",
       "    <tr>\n",
       "      <th>748</th>\n",
       "      <td>6</td>\n",
       "      <td>77.435361</td>\n",
       "      <td>23.214294</td>\n",
       "      <td>581</td>\n",
       "      <td>250</td>\n",
       "      <td>0</td>\n",
       "      <td>0</td>\n",
       "      <td>0</td>\n",
       "      <td>1</td>\n",
       "      <td>4.9</td>\n",
       "      <td>0</td>\n",
       "      <td>1</td>\n",
       "      <td>427</td>\n",
       "    </tr>\n",
       "    <tr>\n",
       "      <th>749</th>\n",
       "      <td>6</td>\n",
       "      <td>77.417227</td>\n",
       "      <td>23.184992</td>\n",
       "      <td>968</td>\n",
       "      <td>700</td>\n",
       "      <td>0</td>\n",
       "      <td>0</td>\n",
       "      <td>0</td>\n",
       "      <td>2</td>\n",
       "      <td>3.9</td>\n",
       "      <td>5</td>\n",
       "      <td>2</td>\n",
       "      <td>126</td>\n",
       "    </tr>\n",
       "    <tr>\n",
       "      <th>750</th>\n",
       "      <td>6</td>\n",
       "      <td>77.434976</td>\n",
       "      <td>23.214459</td>\n",
       "      <td>581</td>\n",
       "      <td>500</td>\n",
       "      <td>0</td>\n",
       "      <td>0</td>\n",
       "      <td>0</td>\n",
       "      <td>2</td>\n",
       "      <td>4.2</td>\n",
       "      <td>1</td>\n",
       "      <td>5</td>\n",
       "      <td>223</td>\n",
       "    </tr>\n",
       "    <tr>\n",
       "      <th>751</th>\n",
       "      <td>6</td>\n",
       "      <td>77.429989</td>\n",
       "      <td>23.232357</td>\n",
       "      <td>968</td>\n",
       "      <td>1000</td>\n",
       "      <td>0</td>\n",
       "      <td>0</td>\n",
       "      <td>0</td>\n",
       "      <td>3</td>\n",
       "      <td>4.0</td>\n",
       "      <td>1</td>\n",
       "      <td>5</td>\n",
       "      <td>257</td>\n",
       "    </tr>\n",
       "    <tr>\n",
       "      <th>...</th>\n",
       "      <td>...</td>\n",
       "      <td>...</td>\n",
       "      <td>...</td>\n",
       "      <td>...</td>\n",
       "      <td>...</td>\n",
       "      <td>...</td>\n",
       "      <td>...</td>\n",
       "      <td>...</td>\n",
       "      <td>...</td>\n",
       "      <td>...</td>\n",
       "      <td>...</td>\n",
       "      <td>...</td>\n",
       "      <td>...</td>\n",
       "    </tr>\n",
       "    <tr>\n",
       "      <th>9270</th>\n",
       "      <td>42</td>\n",
       "      <td>83.382858</td>\n",
       "      <td>17.783869</td>\n",
       "      <td>137</td>\n",
       "      <td>450</td>\n",
       "      <td>0</td>\n",
       "      <td>0</td>\n",
       "      <td>0</td>\n",
       "      <td>2</td>\n",
       "      <td>4.0</td>\n",
       "      <td>1</td>\n",
       "      <td>5</td>\n",
       "      <td>169</td>\n",
       "    </tr>\n",
       "    <tr>\n",
       "      <th>9271</th>\n",
       "      <td>42</td>\n",
       "      <td>83.361377</td>\n",
       "      <td>17.764287</td>\n",
       "      <td>525</td>\n",
       "      <td>600</td>\n",
       "      <td>0</td>\n",
       "      <td>0</td>\n",
       "      <td>0</td>\n",
       "      <td>2</td>\n",
       "      <td>3.6</td>\n",
       "      <td>5</td>\n",
       "      <td>2</td>\n",
       "      <td>193</td>\n",
       "    </tr>\n",
       "    <tr>\n",
       "      <th>9273</th>\n",
       "      <td>42</td>\n",
       "      <td>83.315281</td>\n",
       "      <td>17.719539</td>\n",
       "      <td>160</td>\n",
       "      <td>600</td>\n",
       "      <td>0</td>\n",
       "      <td>0</td>\n",
       "      <td>0</td>\n",
       "      <td>2</td>\n",
       "      <td>4.3</td>\n",
       "      <td>1</td>\n",
       "      <td>5</td>\n",
       "      <td>172</td>\n",
       "    </tr>\n",
       "    <tr>\n",
       "      <th>9274</th>\n",
       "      <td>42</td>\n",
       "      <td>83.336840</td>\n",
       "      <td>17.721182</td>\n",
       "      <td>36</td>\n",
       "      <td>1500</td>\n",
       "      <td>0</td>\n",
       "      <td>0</td>\n",
       "      <td>0</td>\n",
       "      <td>4</td>\n",
       "      <td>3.8</td>\n",
       "      <td>5</td>\n",
       "      <td>2</td>\n",
       "      <td>74</td>\n",
       "    </tr>\n",
       "    <tr>\n",
       "      <th>9275</th>\n",
       "      <td>42</td>\n",
       "      <td>83.314942</td>\n",
       "      <td>17.721119</td>\n",
       "      <td>722</td>\n",
       "      <td>1400</td>\n",
       "      <td>0</td>\n",
       "      <td>0</td>\n",
       "      <td>0</td>\n",
       "      <td>3</td>\n",
       "      <td>4.4</td>\n",
       "      <td>1</td>\n",
       "      <td>5</td>\n",
       "      <td>316</td>\n",
       "    </tr>\n",
       "  </tbody>\n",
       "</table>\n",
       "<p>7705 rows × 13 columns</p>\n",
       "</div>"
      ],
      "text/plain": [
       "      City  Longitude   Latitude  Cuisines  Average Cost for two  \\\n",
       "746      6  77.419399  23.211529       190                   200   \n",
       "748      6  77.435361  23.214294       581                   250   \n",
       "749      6  77.417227  23.184992       968                   700   \n",
       "750      6  77.434976  23.214459       581                   500   \n",
       "751      6  77.429989  23.232357       968                  1000   \n",
       "...    ...        ...        ...       ...                   ...   \n",
       "9270    42  83.382858  17.783869       137                   450   \n",
       "9271    42  83.361377  17.764287       525                   600   \n",
       "9273    42  83.315281  17.719539       160                   600   \n",
       "9274    42  83.336840  17.721182        36                  1500   \n",
       "9275    42  83.314942  17.721119       722                  1400   \n",
       "\n",
       "      Has Table booking  Has Online delivery  Is delivering now  Price range  \\\n",
       "746                   0                    0                  0            1   \n",
       "748                   0                    0                  0            1   \n",
       "749                   0                    0                  0            2   \n",
       "750                   0                    0                  0            2   \n",
       "751                   0                    0                  0            3   \n",
       "...                 ...                  ...                ...          ...   \n",
       "9270                  0                    0                  0            2   \n",
       "9271                  0                    0                  0            2   \n",
       "9273                  0                    0                  0            2   \n",
       "9274                  0                    0                  0            4   \n",
       "9275                  0                    0                  0            3   \n",
       "\n",
       "      Aggregate rating  Rating color  Rating text  Votes  \n",
       "746                3.3             2            0     51  \n",
       "748                4.9             0            1    427  \n",
       "749                3.9             5            2    126  \n",
       "750                4.2             1            5    223  \n",
       "751                4.0             1            5    257  \n",
       "...                ...           ...          ...    ...  \n",
       "9270               4.0             1            5    169  \n",
       "9271               3.6             5            2    193  \n",
       "9273               4.3             1            5    172  \n",
       "9274               3.8             5            2     74  \n",
       "9275               4.4             1            5    316  \n",
       "\n",
       "[7705 rows x 13 columns]"
      ]
     },
     "execution_count": 104,
     "metadata": {},
     "output_type": "execute_result"
    }
   ],
   "source": [
    "df_z"
   ]
  },
  {
   "cell_type": "code",
   "execution_count": 106,
   "id": "52f6a727",
   "metadata": {},
   "outputs": [
    {
     "data": {
      "text/plain": [
       "((8652, 13), (7705, 13))"
      ]
     },
     "execution_count": 106,
     "metadata": {},
     "output_type": "execute_result"
    }
   ],
   "source": [
    "df_c.shape,df_z.shape"
   ]
  },
  {
   "cell_type": "code",
   "execution_count": 107,
   "id": "ecbbdcc3",
   "metadata": {},
   "outputs": [
    {
     "name": "stdout",
     "output_type": "stream",
     "text": [
      "10.95\n"
     ]
    }
   ],
   "source": [
    "loss=(df_c.shape[0]-df_z.shape[0])/df_c.shape[0]\n",
    "print(round(loss*100,2))\n",
    "\n",
    "#% of data lost after removing the outliers"
   ]
  },
  {
   "cell_type": "code",
   "execution_count": 108,
   "id": "69f8301f",
   "metadata": {},
   "outputs": [
    {
     "data": {
      "text/html": [
       "<div>\n",
       "<style scoped>\n",
       "    .dataframe tbody tr th:only-of-type {\n",
       "        vertical-align: middle;\n",
       "    }\n",
       "\n",
       "    .dataframe tbody tr th {\n",
       "        vertical-align: top;\n",
       "    }\n",
       "\n",
       "    .dataframe thead th {\n",
       "        text-align: right;\n",
       "    }\n",
       "</style>\n",
       "<table border=\"1\" class=\"dataframe\">\n",
       "  <thead>\n",
       "    <tr style=\"text-align: right;\">\n",
       "      <th></th>\n",
       "      <th>City</th>\n",
       "      <th>Longitude</th>\n",
       "      <th>Latitude</th>\n",
       "      <th>Cuisines</th>\n",
       "      <th>Average Cost for two</th>\n",
       "      <th>Has Table booking</th>\n",
       "      <th>Has Online delivery</th>\n",
       "      <th>Is delivering now</th>\n",
       "      <th>Price range</th>\n",
       "      <th>Aggregate rating</th>\n",
       "      <th>Rating color</th>\n",
       "      <th>Rating text</th>\n",
       "      <th>Votes</th>\n",
       "    </tr>\n",
       "  </thead>\n",
       "  <tbody>\n",
       "    <tr>\n",
       "      <th>746</th>\n",
       "      <td>6</td>\n",
       "      <td>77.419399</td>\n",
       "      <td>23.211529</td>\n",
       "      <td>190</td>\n",
       "      <td>200</td>\n",
       "      <td>0</td>\n",
       "      <td>0</td>\n",
       "      <td>0</td>\n",
       "      <td>1</td>\n",
       "      <td>3.3</td>\n",
       "      <td>2</td>\n",
       "      <td>0</td>\n",
       "      <td>51</td>\n",
       "    </tr>\n",
       "    <tr>\n",
       "      <th>748</th>\n",
       "      <td>6</td>\n",
       "      <td>77.435361</td>\n",
       "      <td>23.214294</td>\n",
       "      <td>581</td>\n",
       "      <td>250</td>\n",
       "      <td>0</td>\n",
       "      <td>0</td>\n",
       "      <td>0</td>\n",
       "      <td>1</td>\n",
       "      <td>4.9</td>\n",
       "      <td>0</td>\n",
       "      <td>1</td>\n",
       "      <td>427</td>\n",
       "    </tr>\n",
       "    <tr>\n",
       "      <th>749</th>\n",
       "      <td>6</td>\n",
       "      <td>77.417227</td>\n",
       "      <td>23.184992</td>\n",
       "      <td>968</td>\n",
       "      <td>700</td>\n",
       "      <td>0</td>\n",
       "      <td>0</td>\n",
       "      <td>0</td>\n",
       "      <td>2</td>\n",
       "      <td>3.9</td>\n",
       "      <td>5</td>\n",
       "      <td>2</td>\n",
       "      <td>126</td>\n",
       "    </tr>\n",
       "    <tr>\n",
       "      <th>750</th>\n",
       "      <td>6</td>\n",
       "      <td>77.434976</td>\n",
       "      <td>23.214459</td>\n",
       "      <td>581</td>\n",
       "      <td>500</td>\n",
       "      <td>0</td>\n",
       "      <td>0</td>\n",
       "      <td>0</td>\n",
       "      <td>2</td>\n",
       "      <td>4.2</td>\n",
       "      <td>1</td>\n",
       "      <td>5</td>\n",
       "      <td>223</td>\n",
       "    </tr>\n",
       "    <tr>\n",
       "      <th>751</th>\n",
       "      <td>6</td>\n",
       "      <td>77.429989</td>\n",
       "      <td>23.232357</td>\n",
       "      <td>968</td>\n",
       "      <td>1000</td>\n",
       "      <td>0</td>\n",
       "      <td>0</td>\n",
       "      <td>0</td>\n",
       "      <td>3</td>\n",
       "      <td>4.0</td>\n",
       "      <td>1</td>\n",
       "      <td>5</td>\n",
       "      <td>257</td>\n",
       "    </tr>\n",
       "    <tr>\n",
       "      <th>...</th>\n",
       "      <td>...</td>\n",
       "      <td>...</td>\n",
       "      <td>...</td>\n",
       "      <td>...</td>\n",
       "      <td>...</td>\n",
       "      <td>...</td>\n",
       "      <td>...</td>\n",
       "      <td>...</td>\n",
       "      <td>...</td>\n",
       "      <td>...</td>\n",
       "      <td>...</td>\n",
       "      <td>...</td>\n",
       "      <td>...</td>\n",
       "    </tr>\n",
       "    <tr>\n",
       "      <th>9270</th>\n",
       "      <td>42</td>\n",
       "      <td>83.382858</td>\n",
       "      <td>17.783869</td>\n",
       "      <td>137</td>\n",
       "      <td>450</td>\n",
       "      <td>0</td>\n",
       "      <td>0</td>\n",
       "      <td>0</td>\n",
       "      <td>2</td>\n",
       "      <td>4.0</td>\n",
       "      <td>1</td>\n",
       "      <td>5</td>\n",
       "      <td>169</td>\n",
       "    </tr>\n",
       "    <tr>\n",
       "      <th>9271</th>\n",
       "      <td>42</td>\n",
       "      <td>83.361377</td>\n",
       "      <td>17.764287</td>\n",
       "      <td>525</td>\n",
       "      <td>600</td>\n",
       "      <td>0</td>\n",
       "      <td>0</td>\n",
       "      <td>0</td>\n",
       "      <td>2</td>\n",
       "      <td>3.6</td>\n",
       "      <td>5</td>\n",
       "      <td>2</td>\n",
       "      <td>193</td>\n",
       "    </tr>\n",
       "    <tr>\n",
       "      <th>9273</th>\n",
       "      <td>42</td>\n",
       "      <td>83.315281</td>\n",
       "      <td>17.719539</td>\n",
       "      <td>160</td>\n",
       "      <td>600</td>\n",
       "      <td>0</td>\n",
       "      <td>0</td>\n",
       "      <td>0</td>\n",
       "      <td>2</td>\n",
       "      <td>4.3</td>\n",
       "      <td>1</td>\n",
       "      <td>5</td>\n",
       "      <td>172</td>\n",
       "    </tr>\n",
       "    <tr>\n",
       "      <th>9274</th>\n",
       "      <td>42</td>\n",
       "      <td>83.336840</td>\n",
       "      <td>17.721182</td>\n",
       "      <td>36</td>\n",
       "      <td>1500</td>\n",
       "      <td>0</td>\n",
       "      <td>0</td>\n",
       "      <td>0</td>\n",
       "      <td>4</td>\n",
       "      <td>3.8</td>\n",
       "      <td>5</td>\n",
       "      <td>2</td>\n",
       "      <td>74</td>\n",
       "    </tr>\n",
       "    <tr>\n",
       "      <th>9275</th>\n",
       "      <td>42</td>\n",
       "      <td>83.314942</td>\n",
       "      <td>17.721119</td>\n",
       "      <td>722</td>\n",
       "      <td>1400</td>\n",
       "      <td>0</td>\n",
       "      <td>0</td>\n",
       "      <td>0</td>\n",
       "      <td>3</td>\n",
       "      <td>4.4</td>\n",
       "      <td>1</td>\n",
       "      <td>5</td>\n",
       "      <td>316</td>\n",
       "    </tr>\n",
       "  </tbody>\n",
       "</table>\n",
       "<p>7705 rows × 13 columns</p>\n",
       "</div>"
      ],
      "text/plain": [
       "      City  Longitude   Latitude  Cuisines  Average Cost for two  \\\n",
       "746      6  77.419399  23.211529       190                   200   \n",
       "748      6  77.435361  23.214294       581                   250   \n",
       "749      6  77.417227  23.184992       968                   700   \n",
       "750      6  77.434976  23.214459       581                   500   \n",
       "751      6  77.429989  23.232357       968                  1000   \n",
       "...    ...        ...        ...       ...                   ...   \n",
       "9270    42  83.382858  17.783869       137                   450   \n",
       "9271    42  83.361377  17.764287       525                   600   \n",
       "9273    42  83.315281  17.719539       160                   600   \n",
       "9274    42  83.336840  17.721182        36                  1500   \n",
       "9275    42  83.314942  17.721119       722                  1400   \n",
       "\n",
       "      Has Table booking  Has Online delivery  Is delivering now  Price range  \\\n",
       "746                   0                    0                  0            1   \n",
       "748                   0                    0                  0            1   \n",
       "749                   0                    0                  0            2   \n",
       "750                   0                    0                  0            2   \n",
       "751                   0                    0                  0            3   \n",
       "...                 ...                  ...                ...          ...   \n",
       "9270                  0                    0                  0            2   \n",
       "9271                  0                    0                  0            2   \n",
       "9273                  0                    0                  0            2   \n",
       "9274                  0                    0                  0            4   \n",
       "9275                  0                    0                  0            3   \n",
       "\n",
       "      Aggregate rating  Rating color  Rating text  Votes  \n",
       "746                3.3             2            0     51  \n",
       "748                4.9             0            1    427  \n",
       "749                3.9             5            2    126  \n",
       "750                4.2             1            5    223  \n",
       "751                4.0             1            5    257  \n",
       "...                ...           ...          ...    ...  \n",
       "9270               4.0             1            5    169  \n",
       "9271               3.6             5            2    193  \n",
       "9273               4.3             1            5    172  \n",
       "9274               3.8             5            2     74  \n",
       "9275               4.4             1            5    316  \n",
       "\n",
       "[7705 rows x 13 columns]"
      ]
     },
     "execution_count": 108,
     "metadata": {},
     "output_type": "execute_result"
    }
   ],
   "source": [
    "#Data after removing the outliers\n",
    "df_z"
   ]
  },
  {
   "cell_type": "markdown",
   "id": "d9ada6a4",
   "metadata": {},
   "source": [
    "# Task 1- Predicting Average Cost for 2"
   ]
  },
  {
   "cell_type": "markdown",
   "id": "1cf9c42f",
   "metadata": {},
   "source": [
    "# Splitting Features and Target for Task 1"
   ]
  },
  {
   "cell_type": "code",
   "execution_count": 109,
   "id": "36584189",
   "metadata": {},
   "outputs": [],
   "source": [
    "df_copy=df_z.copy()"
   ]
  },
  {
   "cell_type": "code",
   "execution_count": 110,
   "id": "0843d07a",
   "metadata": {},
   "outputs": [],
   "source": [
    "X=df_copy.drop(\"Average Cost for two\",axis=1)\n",
    "Y=df_copy[[\"Average Cost for two\"]]"
   ]
  },
  {
   "cell_type": "code",
   "execution_count": 118,
   "id": "dcecd672",
   "metadata": {},
   "outputs": [
    {
     "name": "stdout",
     "output_type": "stream",
     "text": [
      "                feature         VIF\n",
      "0                  City   18.426667\n",
      "1             Longitude  205.821835\n",
      "2              Latitude  159.332089\n",
      "3              Cuisines    4.345836\n",
      "4     Has Table booking    1.731453\n",
      "5   Has Online delivery    1.653488\n",
      "6     Is delivering now         NaN\n",
      "7           Price range   10.054595\n",
      "8      Aggregate rating    7.444285\n",
      "9          Rating color    7.260207\n",
      "10          Rating text    3.001171\n",
      "11                Votes    2.033220\n"
     ]
    }
   ],
   "source": [
    "#Checking the Variance Inflation Factor\n",
    "from statsmodels.stats.outliers_influence import variance_inflation_factor\n",
    "# VIF dataframe\n",
    "vif_data = pd.DataFrame()\n",
    "vif_data[\"feature\"]=X.columns\n",
    "\n",
    "# calculating VIF for each feature\n",
    "\n",
    "vif_data[\"VIF\"] = [variance_inflation_factor(X.values, i)\n",
    "                          for i in range(len(X.columns))]\n",
    "\n",
    "print(vif_data)"
   ]
  },
  {
   "cell_type": "code",
   "execution_count": 111,
   "id": "07645aed",
   "metadata": {},
   "outputs": [],
   "source": [
    "#Scaling the features\n",
    "\n",
    "from sklearn.preprocessing import MinMaxScaler\n",
    "\n",
    "scaler=MinMaxScaler()\n",
    "x=scaler.fit_transform(X)\n",
    "\n",
    "X_s=pd.DataFrame(x,columns=X.columns)"
   ]
  },
  {
   "cell_type": "code",
   "execution_count": 114,
   "id": "0e68fbb3",
   "metadata": {},
   "outputs": [],
   "source": [
    "#Applying power transform\n",
    "from sklearn.preprocessing import power_transform\n",
    "Xt=power_transform(X_s)\n",
    "\n",
    "Xpt=pd.DataFrame(Xt,columns=X_s.columns)"
   ]
  },
  {
   "cell_type": "code",
   "execution_count": 128,
   "id": "e8f9d1f3",
   "metadata": {},
   "outputs": [],
   "source": [
    "#Splitting data into Training and Testing Data\n",
    "from sklearn.model_selection import train_test_split\n",
    "\n",
    "from sklearn.linear_model import LinearRegression\n",
    "from sklearn.ensemble import RandomForestRegressor\n",
    "from sklearn.tree import DecisionTreeRegressor\n",
    "from sklearn.neighbors import KNeighborsRegressor\n",
    "from sklearn.svm import SVR\n",
    "from sklearn.ensemble import GradientBoostingRegressor\n",
    "from xgboost import XGBRegressor\n",
    "from sklearn.ensemble import AdaBoostRegressor\n",
    "\n",
    "from sklearn.metrics import r2_score,mean_absolute_percentage_error,max_error,explained_variance_score"
   ]
  },
  {
   "cell_type": "code",
   "execution_count": 129,
   "id": "2be7c8a4",
   "metadata": {},
   "outputs": [],
   "source": [
    "lr=LinearRegression()\n",
    "dt=DecisionTreeRegressor()\n",
    "rf=RandomForestRegressor()\n",
    "kn=KNeighborsRegressor(n_neighbors=3)\n",
    "sv=SVR()\n",
    "gb=GradientBoostingRegressor()\n",
    "x=XGBRegressor()\n",
    "ab=AdaBoostRegressor()\n",
    "\n",
    "lst=[lr,dt,rf,kn,sv,gb,x,ab]"
   ]
  },
  {
   "cell_type": "code",
   "execution_count": 131,
   "id": "e9133490",
   "metadata": {},
   "outputs": [
    {
     "name": "stdout",
     "output_type": "stream",
     "text": [
      "Model: LinearRegression() random state 0 has r2 score-test 0.76 and r2 score -train 0.78 and Variance Score is 0.76\n",
      "Model: LinearRegression() random state 1 has r2 score-test 0.78 and r2 score -train 0.77 and Variance Score is 0.78\n",
      "Model: LinearRegression() random state 2 has r2 score-test 0.76 and r2 score -train 0.78 and Variance Score is 0.76\n",
      "Model: LinearRegression() random state 3 has r2 score-test 0.77 and r2 score -train 0.77 and Variance Score is 0.77\n",
      "Model: LinearRegression() random state 4 has r2 score-test 0.77 and r2 score -train 0.78 and Variance Score is 0.77\n",
      "Model: DecisionTreeRegressor() random state 0 has r2 score-test 0.83 and r2 score -train 1.0 and Variance Score is 0.83\n",
      "Model: DecisionTreeRegressor() random state 1 has r2 score-test 0.82 and r2 score -train 1.0 and Variance Score is 0.82\n",
      "Model: DecisionTreeRegressor() random state 2 has r2 score-test 0.84 and r2 score -train 1.0 and Variance Score is 0.84\n",
      "Model: DecisionTreeRegressor() random state 3 has r2 score-test 0.83 and r2 score -train 1.0 and Variance Score is 0.83\n",
      "Model: DecisionTreeRegressor() random state 4 has r2 score-test 0.84 and r2 score -train 1.0 and Variance Score is 0.84\n",
      "Model: RandomForestRegressor() random state 0 has r2 score-test 0.91 and r2 score -train 0.99 and Variance Score is 0.91\n",
      "Model: RandomForestRegressor() random state 1 has r2 score-test 0.91 and r2 score -train 0.99 and Variance Score is 0.91\n",
      "Model: RandomForestRegressor() random state 2 has r2 score-test 0.91 and r2 score -train 0.99 and Variance Score is 0.91\n",
      "Model: RandomForestRegressor() random state 3 has r2 score-test 0.91 and r2 score -train 0.99 and Variance Score is 0.91\n",
      "Model: RandomForestRegressor() random state 4 has r2 score-test 0.91 and r2 score -train 0.99 and Variance Score is 0.91\n",
      "Model: KNeighborsRegressor(n_neighbors=3) random state 0 has r2 score-test 0.78 and r2 score -train 0.9 and Variance Score is 0.78\n",
      "Model: KNeighborsRegressor(n_neighbors=3) random state 1 has r2 score-test 0.81 and r2 score -train 0.9 and Variance Score is 0.81\n",
      "Model: KNeighborsRegressor(n_neighbors=3) random state 2 has r2 score-test 0.79 and r2 score -train 0.9 and Variance Score is 0.79\n",
      "Model: KNeighborsRegressor(n_neighbors=3) random state 3 has r2 score-test 0.8 and r2 score -train 0.9 and Variance Score is 0.8\n",
      "Model: KNeighborsRegressor(n_neighbors=3) random state 4 has r2 score-test 0.77 and r2 score -train 0.9 and Variance Score is 0.77\n",
      "Model: SVR() random state 0 has r2 score-test 0.47 and r2 score -train 0.48 and Variance Score is 0.5\n",
      "Model: SVR() random state 1 has r2 score-test 0.49 and r2 score -train 0.48 and Variance Score is 0.52\n",
      "Model: SVR() random state 2 has r2 score-test 0.45 and r2 score -train 0.48 and Variance Score is 0.48\n",
      "Model: SVR() random state 3 has r2 score-test 0.48 and r2 score -train 0.48 and Variance Score is 0.5\n",
      "Model: SVR() random state 4 has r2 score-test 0.48 and r2 score -train 0.48 and Variance Score is 0.5\n",
      "Model: GradientBoostingRegressor() random state 0 has r2 score-test 0.91 and r2 score -train 0.92 and Variance Score is 0.91\n",
      "Model: GradientBoostingRegressor() random state 1 has r2 score-test 0.91 and r2 score -train 0.92 and Variance Score is 0.91\n",
      "Model: GradientBoostingRegressor() random state 2 has r2 score-test 0.91 and r2 score -train 0.92 and Variance Score is 0.91\n",
      "Model: GradientBoostingRegressor() random state 3 has r2 score-test 0.9 and r2 score -train 0.92 and Variance Score is 0.91\n",
      "Model: GradientBoostingRegressor() random state 4 has r2 score-test 0.9 and r2 score -train 0.92 and Variance Score is 0.9\n",
      "Model: XGBRegressor(base_score=0.5, booster='gbtree', callbacks=None,\n",
      "             colsample_bylevel=1, colsample_bynode=1, colsample_bytree=1,\n",
      "             early_stopping_rounds=None, enable_categorical=False,\n",
      "             eval_metric=None, gamma=0, gpu_id=-1, grow_policy='depthwise',\n",
      "             importance_type=None, interaction_constraints='',\n",
      "             learning_rate=0.300000012, max_bin=256, max_cat_to_onehot=4,\n",
      "             max_delta_step=0, max_depth=6, max_leaves=0, min_child_weight=1,\n",
      "             missing=nan, monotone_constraints='()', n_estimators=100, n_jobs=0,\n",
      "             num_parallel_tree=1, predictor='auto', random_state=0, reg_alpha=0,\n",
      "             reg_lambda=1, ...) random state 0 has r2 score-test 0.9 and r2 score -train 0.98 and Variance Score is 0.9\n",
      "Model: XGBRegressor(base_score=0.5, booster='gbtree', callbacks=None,\n",
      "             colsample_bylevel=1, colsample_bynode=1, colsample_bytree=1,\n",
      "             early_stopping_rounds=None, enable_categorical=False,\n",
      "             eval_metric=None, gamma=0, gpu_id=-1, grow_policy='depthwise',\n",
      "             importance_type=None, interaction_constraints='',\n",
      "             learning_rate=0.300000012, max_bin=256, max_cat_to_onehot=4,\n",
      "             max_delta_step=0, max_depth=6, max_leaves=0, min_child_weight=1,\n",
      "             missing=nan, monotone_constraints='()', n_estimators=100, n_jobs=0,\n",
      "             num_parallel_tree=1, predictor='auto', random_state=0, reg_alpha=0,\n",
      "             reg_lambda=1, ...) random state 1 has r2 score-test 0.91 and r2 score -train 0.97 and Variance Score is 0.91\n",
      "Model: XGBRegressor(base_score=0.5, booster='gbtree', callbacks=None,\n",
      "             colsample_bylevel=1, colsample_bynode=1, colsample_bytree=1,\n",
      "             early_stopping_rounds=None, enable_categorical=False,\n",
      "             eval_metric=None, gamma=0, gpu_id=-1, grow_policy='depthwise',\n",
      "             importance_type=None, interaction_constraints='',\n",
      "             learning_rate=0.300000012, max_bin=256, max_cat_to_onehot=4,\n",
      "             max_delta_step=0, max_depth=6, max_leaves=0, min_child_weight=1,\n",
      "             missing=nan, monotone_constraints='()', n_estimators=100, n_jobs=0,\n",
      "             num_parallel_tree=1, predictor='auto', random_state=0, reg_alpha=0,\n",
      "             reg_lambda=1, ...) random state 2 has r2 score-test 0.91 and r2 score -train 0.97 and Variance Score is 0.91\n",
      "Model: XGBRegressor(base_score=0.5, booster='gbtree', callbacks=None,\n",
      "             colsample_bylevel=1, colsample_bynode=1, colsample_bytree=1,\n",
      "             early_stopping_rounds=None, enable_categorical=False,\n",
      "             eval_metric=None, gamma=0, gpu_id=-1, grow_policy='depthwise',\n",
      "             importance_type=None, interaction_constraints='',\n",
      "             learning_rate=0.300000012, max_bin=256, max_cat_to_onehot=4,\n",
      "             max_delta_step=0, max_depth=6, max_leaves=0, min_child_weight=1,\n",
      "             missing=nan, monotone_constraints='()', n_estimators=100, n_jobs=0,\n",
      "             num_parallel_tree=1, predictor='auto', random_state=0, reg_alpha=0,\n",
      "             reg_lambda=1, ...) random state 3 has r2 score-test 0.91 and r2 score -train 0.97 and Variance Score is 0.91\n",
      "Model: XGBRegressor(base_score=0.5, booster='gbtree', callbacks=None,\n",
      "             colsample_bylevel=1, colsample_bynode=1, colsample_bytree=1,\n",
      "             early_stopping_rounds=None, enable_categorical=False,\n",
      "             eval_metric=None, gamma=0, gpu_id=-1, grow_policy='depthwise',\n",
      "             importance_type=None, interaction_constraints='',\n",
      "             learning_rate=0.300000012, max_bin=256, max_cat_to_onehot=4,\n",
      "             max_delta_step=0, max_depth=6, max_leaves=0, min_child_weight=1,\n",
      "             missing=nan, monotone_constraints='()', n_estimators=100, n_jobs=0,\n",
      "             num_parallel_tree=1, predictor='auto', random_state=0, reg_alpha=0,\n",
      "             reg_lambda=1, ...) random state 4 has r2 score-test 0.9 and r2 score -train 0.98 and Variance Score is 0.9\n",
      "Model: AdaBoostRegressor() random state 0 has r2 score-test 0.88 and r2 score -train 0.88 and Variance Score is 0.88\n",
      "Model: AdaBoostRegressor() random state 1 has r2 score-test 0.88 and r2 score -train 0.88 and Variance Score is 0.88\n",
      "Model: AdaBoostRegressor() random state 2 has r2 score-test 0.89 and r2 score -train 0.88 and Variance Score is 0.89\n",
      "Model: AdaBoostRegressor() random state 3 has r2 score-test 0.88 and r2 score -train 0.88 and Variance Score is 0.88\n",
      "Model: AdaBoostRegressor() random state 4 has r2 score-test 0.87 and r2 score -train 0.89 and Variance Score is 0.87\n"
     ]
    }
   ],
   "source": [
    "for i1 in lst:\n",
    "    for i2 in range(0,5):\n",
    "        x_train,x_test,y_train,y_test=train_test_split(Xpt,Y,random_state=i2,test_size=0.20)\n",
    "        i1.fit(x_train,y_train)\n",
    "        pred_test=i1.predict(x_test)\n",
    "        pred_train=i1.predict(x_train)     \n",
    "        print(\"Model:\",i1,\"random state\",i2,\"has r2 score-test\",round(r2_score(y_test,pred_test),2),\"and r2 score -train\",round(r2_score(y_train,pred_train),2),\"and Variance Score is\",round(explained_variance_score(y_test,pred_test),2))\n",
    "        "
   ]
  },
  {
   "cell_type": "markdown",
   "id": "cba2a3a8",
   "metadata": {},
   "source": [
    "From the above results, the Random Forest model is the efficient model with r2 score for training data -0.99 and r2 score for test data -0.91 and variance score is 0.91."
   ]
  },
  {
   "cell_type": "markdown",
   "id": "a5e3b441",
   "metadata": {},
   "source": [
    "# 1.Linear Regression"
   ]
  },
  {
   "cell_type": "code",
   "execution_count": 134,
   "id": "7556a06d",
   "metadata": {},
   "outputs": [],
   "source": [
    "x_train,x_test,y_train,y_test=train_test_split(Xpt,Y,random_state=4,test_size=0.20)"
   ]
  },
  {
   "cell_type": "code",
   "execution_count": 135,
   "id": "66dc7d8a",
   "metadata": {},
   "outputs": [],
   "source": [
    "lr=LinearRegression()\n",
    "model1=lr.fit(x_train,y_train)\n",
    "\n",
    "pred_train=model1.predict(x_train)\n",
    "pred_test=model1.predict(x_test)\n"
   ]
  },
  {
   "cell_type": "code",
   "execution_count": 136,
   "id": "92680c86",
   "metadata": {},
   "outputs": [
    {
     "name": "stdout",
     "output_type": "stream",
     "text": [
      "The R2 score for training data is \t 78.0\n",
      "The R2 score for testing data is \t 77.0\n",
      "The Variance Score is \t 0.77\n"
     ]
    },
    {
     "data": {
      "text/plain": [
       "<matplotlib.collections.PathCollection at 0x13989661a30>"
      ]
     },
     "execution_count": 136,
     "metadata": {},
     "output_type": "execute_result"
    },
    {
     "data": {
      "image/png": "[encoded data removed]",
      "text/plain": [
       "<Figure size 432x288 with 1 Axes>"
      ]
     },
     "metadata": {
      "needs_background": "light"
     },
     "output_type": "display_data"
    }
   ],
   "source": [
    "print(\"The R2 score for training data is \\t\",round(r2_score(y_train,pred_train),2)*100)\n",
    "print(\"The R2 score for testing data is \\t\",round(r2_score(y_test,pred_test),2)*100)\n",
    "print(\"The Variance Score is \\t\",round(explained_variance_score(y_test,pred_test),2))\n",
    "plt.scatter(x=y_test,y=pred_test)"
   ]
  },
  {
   "cell_type": "code",
   "execution_count": 137,
   "id": "fd681d90",
   "metadata": {},
   "outputs": [
    {
     "name": "stdout",
     "output_type": "stream",
     "text": [
      "The cross validation score is  77.23\n"
     ]
    }
   ],
   "source": [
    "from sklearn.model_selection import KFold\n",
    "from sklearn.model_selection import cross_val_score\n",
    "\n",
    "cv=KFold(n_splits=10, random_state=1, shuffle=True)\n",
    "cv1=cross_val_score(model1,Xpt,Y,cv=cv)\n",
    "score1=cv1.mean()\n",
    "print(\"The cross validation score is \",round(score1*100,2))"
   ]
  },
  {
   "cell_type": "markdown",
   "id": "c7aece67",
   "metadata": {},
   "source": [
    "# 2. Random Forest Regressor"
   ]
  },
  {
   "cell_type": "code",
   "execution_count": 138,
   "id": "107e1aba",
   "metadata": {},
   "outputs": [],
   "source": [
    "model2=RandomForestRegressor()\n",
    "model2.fit(x_train,y_train)\n",
    "pred_test=model2.predict(x_test)\n",
    "pred_train=model2.predict(x_train)"
   ]
  },
  {
   "cell_type": "code",
   "execution_count": 139,
   "id": "9bbe5226",
   "metadata": {},
   "outputs": [
    {
     "name": "stdout",
     "output_type": "stream",
     "text": [
      "The R2 score for training data is \t 99.0\n",
      "The R2 score for testing data is \t 91.0\n",
      "The Variance Score is \t 0.91\n"
     ]
    },
    {
     "data": {
      "text/plain": [
       "<matplotlib.collections.PathCollection at 0x13989528130>"
      ]
     },
     "execution_count": 139,
     "metadata": {},
     "output_type": "execute_result"
    },
    {
     "data": {
      "image/png": "[encoded data removed]",
      "text/plain": [
       "<Figure size 432x288 with 1 Axes>"
      ]
     },
     "metadata": {
      "needs_background": "light"
     },
     "output_type": "display_data"
    }
   ],
   "source": [
    "print(\"The R2 score for training data is \\t\",round(r2_score(y_train,pred_train),2)*100)\n",
    "print(\"The R2 score for testing data is \\t\",round(r2_score(y_test,pred_test),2)*100)\n",
    "print(\"The Variance Score is \\t\",round(explained_variance_score(y_test,pred_test),2))\n",
    "plt.scatter(x=y_test,y=pred_test)"
   ]
  },
  {
   "cell_type": "code",
   "execution_count": 140,
   "id": "708c5f5a",
   "metadata": {},
   "outputs": [
    {
     "name": "stdout",
     "output_type": "stream",
     "text": [
      "The cross validation score is  90.73\n"
     ]
    }
   ],
   "source": [
    "cv=KFold(n_splits=10, random_state=1, shuffle=True)\n",
    "cv1=cross_val_score(model2,Xpt,Y,cv=cv)\n",
    "score1=cv1.mean()\n",
    "print(\"The cross validation score is \",round(score1*100,2))"
   ]
  },
  {
   "cell_type": "markdown",
   "id": "03da15c3",
   "metadata": {},
   "source": [
    "# 3. Decision Tree Regressor"
   ]
  },
  {
   "cell_type": "code",
   "execution_count": 141,
   "id": "d7c200aa",
   "metadata": {},
   "outputs": [],
   "source": [
    "dt= DecisionTreeRegressor()\n",
    "model3=dt.fit(x_train,y_train)\n",
    "pred_test=model3.predict(x_test)\n",
    "pred_train=model3.predict(x_train)"
   ]
  },
  {
   "cell_type": "code",
   "execution_count": 142,
   "id": "d67633bf",
   "metadata": {},
   "outputs": [
    {
     "name": "stdout",
     "output_type": "stream",
     "text": [
      "The R2 score for training data is \t 100.0\n",
      "The R2 score for testing data is \t 83.0\n",
      "The Variance Score is \t 0.83\n"
     ]
    },
    {
     "data": {
      "text/plain": [
       "<matplotlib.collections.PathCollection at 0x13989223cd0>"
      ]
     },
     "execution_count": 142,
     "metadata": {},
     "output_type": "execute_result"
    },
    {
     "data": {
      "image/png": "[encoded data removed]",
      "text/plain": [
       "<Figure size 432x288 with 1 Axes>"
      ]
     },
     "metadata": {
      "needs_background": "light"
     },
     "output_type": "display_data"
    }
   ],
   "source": [
    "print(\"The R2 score for training data is \\t\",round(r2_score(y_train,pred_train),2)*100)\n",
    "print(\"The R2 score for testing data is \\t\",round(r2_score(y_test,pred_test),2)*100)\n",
    "print(\"The Variance Score is \\t\",round(explained_variance_score(y_test,pred_test),2))\n",
    "plt.scatter(x=y_test,y=pred_test)"
   ]
  },
  {
   "cell_type": "code",
   "execution_count": 143,
   "id": "e982ff21",
   "metadata": {},
   "outputs": [
    {
     "name": "stdout",
     "output_type": "stream",
     "text": [
      "The cross validation score is  82.91\n"
     ]
    }
   ],
   "source": [
    "cv=KFold(n_splits=10, random_state=1, shuffle=True)\n",
    "cv1=cross_val_score(model3,Xpt,Y,cv=cv)\n",
    "score1=cv1.mean()\n",
    "print(\"The cross validation score is \",round(score1*100,2))"
   ]
  },
  {
   "cell_type": "markdown",
   "id": "e7d51849",
   "metadata": {},
   "source": [
    "# 4.KNN"
   ]
  },
  {
   "cell_type": "code",
   "execution_count": 144,
   "id": "b20fb113",
   "metadata": {},
   "outputs": [],
   "source": [
    "knn=KNeighborsRegressor(n_neighbors=4)\n",
    "model4=knn.fit(x_train,y_train)\n",
    "pred_test=model4.predict(x_test)\n",
    "pred_train=model4.predict(x_train)"
   ]
  },
  {
   "cell_type": "code",
   "execution_count": 151,
   "id": "6b822076",
   "metadata": {},
   "outputs": [
    {
     "name": "stdout",
     "output_type": "stream",
     "text": [
      "The R2 score for training data is \t 89.0\n",
      "The R2 score for testing data is \t 87.0\n",
      "The Variance score is \t 0.87\n"
     ]
    },
    {
     "data": {
      "text/plain": [
       "<matplotlib.collections.PathCollection at 0x139830756d0>"
      ]
     },
     "execution_count": 151,
     "metadata": {},
     "output_type": "execute_result"
    },
    {
     "data": {
      "image/png": "[encoded data removed]",
      "text/plain": [
       "<Figure size 432x288 with 1 Axes>"
      ]
     },
     "metadata": {
      "needs_background": "light"
     },
     "output_type": "display_data"
    }
   ],
   "source": [
    "print(\"The R2 score for training data is \\t\",round(r2_score(y_train,pred_train),2)*100)\n",
    "print(\"The R2 score for testing data is \\t\",round(r2_score(y_test,pred_test),2)*100)\n",
    "print(\"The Variance score is \\t\",round(explained_variance_score(y_test,pred_test),2))\n",
    "plt.scatter(x=y_test,y=pred_test)"
   ]
  },
  {
   "cell_type": "code",
   "execution_count": 146,
   "id": "09221af8",
   "metadata": {},
   "outputs": [
    {
     "name": "stdout",
     "output_type": "stream",
     "text": [
      "The cross validation score is  79.64\n"
     ]
    }
   ],
   "source": [
    "cv=KFold(n_splits=10, random_state=1, shuffle=True)\n",
    "cv1=cross_val_score(model4,Xpt,Y,cv=cv)\n",
    "score1=cv1.mean()\n",
    "print(\"The cross validation score is \",round(score1*100,2))"
   ]
  },
  {
   "cell_type": "markdown",
   "id": "198230c2",
   "metadata": {},
   "source": [
    "# 5.SVR"
   ]
  },
  {
   "cell_type": "code",
   "execution_count": 147,
   "id": "e39adf7d",
   "metadata": {},
   "outputs": [],
   "source": [
    "model5=SVR(kernel='rbf')\n",
    "model5.fit(x_train,y_train)\n",
    "pred_test=model5.predict(x_test)\n",
    "pred_train=model5.predict(x_train)"
   ]
  },
  {
   "cell_type": "code",
   "execution_count": 152,
   "id": "e3db5746",
   "metadata": {},
   "outputs": [
    {
     "name": "stdout",
     "output_type": "stream",
     "text": [
      "The R2 score for training data is \t 89.0\n",
      "The R2 score for testing data is \t 87.0\n",
      "The Variance score is \t 0.87\n"
     ]
    },
    {
     "data": {
      "text/plain": [
       "<matplotlib.collections.PathCollection at 0x1398a057dc0>"
      ]
     },
     "execution_count": 152,
     "metadata": {},
     "output_type": "execute_result"
    },
    {
     "data": {
      "image/png": "[encoded data removed]",
      "text/plain": [
       "<Figure size 432x288 with 1 Axes>"
      ]
     },
     "metadata": {
      "needs_background": "light"
     },
     "output_type": "display_data"
    }
   ],
   "source": [
    "print(\"The R2 score for training data is \\t\",round(r2_score(y_train,pred_train),2)*100)\n",
    "print(\"The R2 score for testing data is \\t\",round(r2_score(y_test,pred_test),2)*100)\n",
    "print(\"The Variance score is \\t\",round(explained_variance_score(y_test,pred_test),2))\n",
    "plt.scatter(x=y_test,y=pred_test)"
   ]
  },
  {
   "cell_type": "code",
   "execution_count": 155,
   "id": "ffce79ca",
   "metadata": {},
   "outputs": [
    {
     "name": "stdout",
     "output_type": "stream",
     "text": [
      "The cross validation score is  49.38\n"
     ]
    }
   ],
   "source": [
    "cv=KFold(n_splits=10, random_state=1, shuffle=True)\n",
    "cv1=cross_val_score(model5,Xpt,Y,cv=cv)\n",
    "score1=cv1.mean()\n",
    "print(\"The cross validation score is \",round(score1*100,2))"
   ]
  },
  {
   "cell_type": "markdown",
   "id": "86f993a1",
   "metadata": {},
   "source": [
    "# 6.Ada Boost Regressor"
   ]
  },
  {
   "cell_type": "code",
   "execution_count": 153,
   "id": "4355b941",
   "metadata": {},
   "outputs": [],
   "source": [
    "model6=AdaBoostRegressor()\n",
    "model6.fit(x_train,y_train)\n",
    "pred_test=model6.predict(x_test)\n",
    "pred_train=model6.predict(x_train)"
   ]
  },
  {
   "cell_type": "code",
   "execution_count": 154,
   "id": "c37bd632",
   "metadata": {},
   "outputs": [
    {
     "name": "stdout",
     "output_type": "stream",
     "text": [
      "The R2 score for training data is \t 88.0\n",
      "The R2 score for testing data is \t 87.0\n",
      "The Variance score is \t 0.87\n"
     ]
    },
    {
     "data": {
      "text/plain": [
       "<matplotlib.collections.PathCollection at 0x13989fd22b0>"
      ]
     },
     "execution_count": 154,
     "metadata": {},
     "output_type": "execute_result"
    },
    {
     "data": {
      "image/png": "[encoded data removed]",
      "text/plain": [
       "<Figure size 432x288 with 1 Axes>"
      ]
     },
     "metadata": {
      "needs_background": "light"
     },
     "output_type": "display_data"
    }
   ],
   "source": [
    "print(\"The R2 score for training data is \\t\",round(r2_score(y_train,pred_train),2)*100)\n",
    "print(\"The R2 score for testing data is \\t\",round(r2_score(y_test,pred_test),2)*100)\n",
    "print(\"The Variance score is \\t\",round(explained_variance_score(y_test,pred_test),2))\n",
    "plt.scatter(x=y_test,y=pred_test)"
   ]
  },
  {
   "cell_type": "code",
   "execution_count": 156,
   "id": "84d1f6ab",
   "metadata": {},
   "outputs": [
    {
     "name": "stdout",
     "output_type": "stream",
     "text": [
      "The cross validation score is  87.97\n"
     ]
    }
   ],
   "source": [
    "cv=KFold(n_splits=10, random_state=1, shuffle=True)\n",
    "cv1=cross_val_score(model6,Xpt,Y,cv=cv)\n",
    "score1=cv1.mean()\n",
    "print(\"The cross validation score is \",round(score1*100,2))"
   ]
  },
  {
   "cell_type": "markdown",
   "id": "e78de0b2",
   "metadata": {},
   "source": [
    "# Hyperparameter Tuning"
   ]
  },
  {
   "cell_type": "code",
   "execution_count": 183,
   "id": "8fddf4db",
   "metadata": {},
   "outputs": [
    {
     "data": {
      "text/plain": [
       "{'bootstrap': True,\n",
       " 'ccp_alpha': 0.0,\n",
       " 'class_weight': None,\n",
       " 'criterion': 'gini',\n",
       " 'max_depth': None,\n",
       " 'max_features': 'auto',\n",
       " 'max_leaf_nodes': None,\n",
       " 'max_samples': None,\n",
       " 'min_impurity_decrease': 0.0,\n",
       " 'min_samples_leaf': 1,\n",
       " 'min_samples_split': 2,\n",
       " 'min_weight_fraction_leaf': 0.0,\n",
       " 'n_estimators': 100,\n",
       " 'n_jobs': None,\n",
       " 'oob_score': False,\n",
       " 'random_state': None,\n",
       " 'verbose': 0,\n",
       " 'warm_start': False}"
      ]
     },
     "execution_count": 183,
     "metadata": {},
     "output_type": "execute_result"
    }
   ],
   "source": [
    "from sklearn.model_selection import RandomizedSearchCV\n",
    "rf.get_params()"
   ]
  },
  {
   "cell_type": "code",
   "execution_count": 184,
   "id": "572c4e8f",
   "metadata": {},
   "outputs": [],
   "source": [
    "param_dist={\"max_depth\": [20,30,40,50,60,70,80],\n",
    "            \"criterion\": [\"gini\", \"entropy\",\"log_loss\"],\n",
    "            \"min_samples_leaf\":[2,3,4],}"
   ]
  },
  {
   "cell_type": "code",
   "execution_count": 185,
   "id": "6b29f7c1",
   "metadata": {},
   "outputs": [],
   "source": [
    "samples=5  # number of random samples \n",
    "randomCV=RandomizedSearchCV(rf,param_distributions=param_dist, n_iter=samples,cv=3)"
   ]
  },
  {
   "cell_type": "code",
   "execution_count": 186,
   "id": "6b661c61",
   "metadata": {},
   "outputs": [],
   "source": [
    "final=randomCV.fit(x_train,y_train)"
   ]
  },
  {
   "cell_type": "code",
   "execution_count": 187,
   "id": "e663e93a",
   "metadata": {},
   "outputs": [
    {
     "name": "stdout",
     "output_type": "stream",
     "text": [
      "{'min_samples_leaf': 3, 'max_depth': 40, 'criterion': 'gini'}\n"
     ]
    }
   ],
   "source": [
    "print(final.best_params_)"
   ]
  },
  {
   "cell_type": "code",
   "execution_count": 188,
   "id": "f1ae3c51",
   "metadata": {},
   "outputs": [],
   "source": [
    "pred1=final.predict(x_test)\n",
    "pred2=final.predict(x_train)"
   ]
  },
  {
   "cell_type": "code",
   "execution_count": 190,
   "id": "7cd8613c",
   "metadata": {},
   "outputs": [
    {
     "name": "stdout",
     "output_type": "stream",
     "text": [
      "The R2 score for training data is \t 100.0\n",
      "The R2 score for testing data is \t 98.0\n",
      "The Variance score is \t 0.98\n"
     ]
    }
   ],
   "source": [
    "print(\"The R2 score for training data is \\t\",round(r2_score(y_train,pred2),2)*100)\n",
    "print(\"The R2 score for testing data is \\t\",round(r2_score(y_test,pred1),2)*100)\n",
    "print(\"The Variance score is \\t\",round(explained_variance_score(y_test,pred1),2))"
   ]
  },
  {
   "cell_type": "markdown",
   "id": "0703fd19",
   "metadata": {},
   "source": [
    "# Result"
   ]
  },
  {
   "cell_type": "markdown",
   "id": "361b6156",
   "metadata": {},
   "source": [
    "The results of the model have improved after performing hyperparameter tuning, the variance score has improved from 0.91 to 0.98, closer the value is to 1, better the model is."
   ]
  },
  {
   "cell_type": "markdown",
   "id": "a11d2111",
   "metadata": {},
   "source": [
    "# Saving the Model"
   ]
  },
  {
   "cell_type": "code",
   "execution_count": 191,
   "id": "109d6da4",
   "metadata": {},
   "outputs": [],
   "source": [
    "import pickle\n",
    "pickle.dump(final, open('Zomato_AverageCost', 'wb'))"
   ]
  },
  {
   "cell_type": "code",
   "execution_count": 192,
   "id": "5131e405",
   "metadata": {},
   "outputs": [
    {
     "data": {
      "text/plain": [
       "array([1, 2, 2, ..., 1, 1, 2], dtype=int64)"
      ]
     },
     "execution_count": 192,
     "metadata": {},
     "output_type": "execute_result"
    }
   ],
   "source": [
    "pickled_model=pickle.load(open('Zomato_AverageCost', 'rb'))\n",
    "pickled_model.predict(x_test)"
   ]
  },
  {
   "cell_type": "markdown",
   "id": "83473488",
   "metadata": {},
   "source": [
    "# Task 2- Predicting Price Range"
   ]
  },
  {
   "cell_type": "code",
   "execution_count": 160,
   "id": "bb4a06ee",
   "metadata": {},
   "outputs": [],
   "source": [
    "X2=df_copy.drop(\"Price range\",axis=1)\n",
    "Y2=df_copy[[\"Price range\"]]"
   ]
  },
  {
   "cell_type": "code",
   "execution_count": 161,
   "id": "33eecbcd",
   "metadata": {},
   "outputs": [],
   "source": [
    "#Scaling the features\n",
    "\n",
    "scaler=MinMaxScaler()\n",
    "x2=scaler.fit_transform(X2)\n",
    "\n",
    "X2_s=pd.DataFrame(x2,columns=X2.columns)"
   ]
  },
  {
   "cell_type": "code",
   "execution_count": 162,
   "id": "0a7148e9",
   "metadata": {},
   "outputs": [],
   "source": [
    "from sklearn.linear_model import LogisticRegression\n",
    "from sklearn.ensemble import RandomForestClassifier\n",
    "from sklearn.neighbors import KNeighborsClassifier\n",
    "from sklearn.svm import SVC\n",
    "from sklearn.tree import DecisionTreeClassifier\n",
    "from sklearn.naive_bayes import GaussianNB\n",
    "\n",
    "from sklearn.metrics import accuracy_score,confusion_matrix,classification_report,f1_score,roc_auc_score"
   ]
  },
  {
   "cell_type": "code",
   "execution_count": 163,
   "id": "329d76c1",
   "metadata": {},
   "outputs": [],
   "source": [
    "lr=LogisticRegression()\n",
    "rf=RandomForestClassifier()\n",
    "kn=KNeighborsClassifier(n_neighbors=3)\n",
    "sv=SVC()\n",
    "dt=DecisionTreeClassifier(criterion='entropy')\n",
    "gb=GaussianNB()\n",
    "\n",
    "lst=[lr,rf,kn,sv,dt,gb]"
   ]
  },
  {
   "cell_type": "code",
   "execution_count": 180,
   "id": "b01b32c3",
   "metadata": {},
   "outputs": [],
   "source": [
    "model=[]\n",
    "rs=[]\n",
    "acc_train=[]\n",
    "acc_test=[]\n",
    "f1_train=[]\n",
    "f1_test=[]\n"
   ]
  },
  {
   "cell_type": "code",
   "execution_count": 181,
   "id": "ebd22761",
   "metadata": {},
   "outputs": [],
   "source": [
    "for i1 in lst:\n",
    "    for i2 in range(0,5):\n",
    "        x_train,x_test,y_train,y_test=train_test_split(X2_s,Y2,random_state=i2,test_size=0.20)\n",
    "        i1.fit(x_train,y_train)\n",
    "        pred_test=i1.predict(x_test)\n",
    "        pred_train=i1.predict(x_train)\n",
    "        model.append(i1)\n",
    "        rs.append(i2)\n",
    "        acc_train.append(round(accuracy_score(y_train,pred_train),2))\n",
    "        acc_test.append(round(accuracy_score(y_test,pred_test),2))\n",
    "        #f1_train.append(round(f1_score(y_train,pred_train,average=\"weighted\"),2))\n",
    "        #f1_test.append(round(f1_score(y_test,pred_test,average=\"weighted\"),2))"
   ]
  },
  {
   "cell_type": "code",
   "execution_count": 182,
   "id": "bc3c25b8",
   "metadata": {},
   "outputs": [
    {
     "data": {
      "text/html": [
       "<div>\n",
       "<style scoped>\n",
       "    .dataframe tbody tr th:only-of-type {\n",
       "        vertical-align: middle;\n",
       "    }\n",
       "\n",
       "    .dataframe tbody tr th {\n",
       "        vertical-align: top;\n",
       "    }\n",
       "\n",
       "    .dataframe thead th {\n",
       "        text-align: right;\n",
       "    }\n",
       "</style>\n",
       "<table border=\"1\" class=\"dataframe\">\n",
       "  <thead>\n",
       "    <tr style=\"text-align: right;\">\n",
       "      <th></th>\n",
       "      <th>Model</th>\n",
       "      <th>Random State</th>\n",
       "      <th>Accuracy Score-Train</th>\n",
       "      <th>Accuracy Score-Test</th>\n",
       "    </tr>\n",
       "  </thead>\n",
       "  <tbody>\n",
       "    <tr>\n",
       "      <th>0</th>\n",
       "      <td>LogisticRegression()</td>\n",
       "      <td>0</td>\n",
       "      <td>0.91</td>\n",
       "      <td>0.91</td>\n",
       "    </tr>\n",
       "    <tr>\n",
       "      <th>1</th>\n",
       "      <td>LogisticRegression()</td>\n",
       "      <td>1</td>\n",
       "      <td>0.91</td>\n",
       "      <td>0.91</td>\n",
       "    </tr>\n",
       "    <tr>\n",
       "      <th>2</th>\n",
       "      <td>LogisticRegression()</td>\n",
       "      <td>2</td>\n",
       "      <td>0.91</td>\n",
       "      <td>0.91</td>\n",
       "    </tr>\n",
       "    <tr>\n",
       "      <th>3</th>\n",
       "      <td>LogisticRegression()</td>\n",
       "      <td>3</td>\n",
       "      <td>0.91</td>\n",
       "      <td>0.91</td>\n",
       "    </tr>\n",
       "    <tr>\n",
       "      <th>4</th>\n",
       "      <td>LogisticRegression()</td>\n",
       "      <td>4</td>\n",
       "      <td>0.91</td>\n",
       "      <td>0.90</td>\n",
       "    </tr>\n",
       "    <tr>\n",
       "      <th>5</th>\n",
       "      <td>(DecisionTreeClassifier(max_features='auto', r...</td>\n",
       "      <td>0</td>\n",
       "      <td>1.00</td>\n",
       "      <td>0.99</td>\n",
       "    </tr>\n",
       "    <tr>\n",
       "      <th>6</th>\n",
       "      <td>(DecisionTreeClassifier(max_features='auto', r...</td>\n",
       "      <td>1</td>\n",
       "      <td>1.00</td>\n",
       "      <td>0.99</td>\n",
       "    </tr>\n",
       "    <tr>\n",
       "      <th>7</th>\n",
       "      <td>(DecisionTreeClassifier(max_features='auto', r...</td>\n",
       "      <td>2</td>\n",
       "      <td>1.00</td>\n",
       "      <td>0.99</td>\n",
       "    </tr>\n",
       "    <tr>\n",
       "      <th>8</th>\n",
       "      <td>(DecisionTreeClassifier(max_features='auto', r...</td>\n",
       "      <td>3</td>\n",
       "      <td>1.00</td>\n",
       "      <td>0.99</td>\n",
       "    </tr>\n",
       "    <tr>\n",
       "      <th>9</th>\n",
       "      <td>(DecisionTreeClassifier(max_features='auto', r...</td>\n",
       "      <td>4</td>\n",
       "      <td>1.00</td>\n",
       "      <td>0.99</td>\n",
       "    </tr>\n",
       "    <tr>\n",
       "      <th>10</th>\n",
       "      <td>KNeighborsClassifier(n_neighbors=3)</td>\n",
       "      <td>0</td>\n",
       "      <td>0.96</td>\n",
       "      <td>0.89</td>\n",
       "    </tr>\n",
       "    <tr>\n",
       "      <th>11</th>\n",
       "      <td>KNeighborsClassifier(n_neighbors=3)</td>\n",
       "      <td>1</td>\n",
       "      <td>0.96</td>\n",
       "      <td>0.91</td>\n",
       "    </tr>\n",
       "    <tr>\n",
       "      <th>12</th>\n",
       "      <td>KNeighborsClassifier(n_neighbors=3)</td>\n",
       "      <td>2</td>\n",
       "      <td>0.96</td>\n",
       "      <td>0.90</td>\n",
       "    </tr>\n",
       "    <tr>\n",
       "      <th>13</th>\n",
       "      <td>KNeighborsClassifier(n_neighbors=3)</td>\n",
       "      <td>3</td>\n",
       "      <td>0.96</td>\n",
       "      <td>0.91</td>\n",
       "    </tr>\n",
       "    <tr>\n",
       "      <th>14</th>\n",
       "      <td>KNeighborsClassifier(n_neighbors=3)</td>\n",
       "      <td>4</td>\n",
       "      <td>0.96</td>\n",
       "      <td>0.91</td>\n",
       "    </tr>\n",
       "    <tr>\n",
       "      <th>15</th>\n",
       "      <td>SVC()</td>\n",
       "      <td>0</td>\n",
       "      <td>0.97</td>\n",
       "      <td>0.96</td>\n",
       "    </tr>\n",
       "    <tr>\n",
       "      <th>16</th>\n",
       "      <td>SVC()</td>\n",
       "      <td>1</td>\n",
       "      <td>0.96</td>\n",
       "      <td>0.95</td>\n",
       "    </tr>\n",
       "    <tr>\n",
       "      <th>17</th>\n",
       "      <td>SVC()</td>\n",
       "      <td>2</td>\n",
       "      <td>0.96</td>\n",
       "      <td>0.95</td>\n",
       "    </tr>\n",
       "    <tr>\n",
       "      <th>18</th>\n",
       "      <td>SVC()</td>\n",
       "      <td>3</td>\n",
       "      <td>0.97</td>\n",
       "      <td>0.95</td>\n",
       "    </tr>\n",
       "    <tr>\n",
       "      <th>19</th>\n",
       "      <td>SVC()</td>\n",
       "      <td>4</td>\n",
       "      <td>0.96</td>\n",
       "      <td>0.95</td>\n",
       "    </tr>\n",
       "    <tr>\n",
       "      <th>20</th>\n",
       "      <td>DecisionTreeClassifier(criterion='entropy')</td>\n",
       "      <td>0</td>\n",
       "      <td>1.00</td>\n",
       "      <td>0.99</td>\n",
       "    </tr>\n",
       "    <tr>\n",
       "      <th>21</th>\n",
       "      <td>DecisionTreeClassifier(criterion='entropy')</td>\n",
       "      <td>1</td>\n",
       "      <td>1.00</td>\n",
       "      <td>1.00</td>\n",
       "    </tr>\n",
       "    <tr>\n",
       "      <th>22</th>\n",
       "      <td>DecisionTreeClassifier(criterion='entropy')</td>\n",
       "      <td>2</td>\n",
       "      <td>1.00</td>\n",
       "      <td>0.99</td>\n",
       "    </tr>\n",
       "    <tr>\n",
       "      <th>23</th>\n",
       "      <td>DecisionTreeClassifier(criterion='entropy')</td>\n",
       "      <td>3</td>\n",
       "      <td>1.00</td>\n",
       "      <td>0.99</td>\n",
       "    </tr>\n",
       "    <tr>\n",
       "      <th>24</th>\n",
       "      <td>DecisionTreeClassifier(criterion='entropy')</td>\n",
       "      <td>4</td>\n",
       "      <td>1.00</td>\n",
       "      <td>0.99</td>\n",
       "    </tr>\n",
       "    <tr>\n",
       "      <th>25</th>\n",
       "      <td>GaussianNB()</td>\n",
       "      <td>0</td>\n",
       "      <td>0.78</td>\n",
       "      <td>0.78</td>\n",
       "    </tr>\n",
       "    <tr>\n",
       "      <th>26</th>\n",
       "      <td>GaussianNB()</td>\n",
       "      <td>1</td>\n",
       "      <td>0.67</td>\n",
       "      <td>0.67</td>\n",
       "    </tr>\n",
       "    <tr>\n",
       "      <th>27</th>\n",
       "      <td>GaussianNB()</td>\n",
       "      <td>2</td>\n",
       "      <td>0.78</td>\n",
       "      <td>0.77</td>\n",
       "    </tr>\n",
       "    <tr>\n",
       "      <th>28</th>\n",
       "      <td>GaussianNB()</td>\n",
       "      <td>3</td>\n",
       "      <td>0.78</td>\n",
       "      <td>0.78</td>\n",
       "    </tr>\n",
       "    <tr>\n",
       "      <th>29</th>\n",
       "      <td>GaussianNB()</td>\n",
       "      <td>4</td>\n",
       "      <td>0.78</td>\n",
       "      <td>0.78</td>\n",
       "    </tr>\n",
       "  </tbody>\n",
       "</table>\n",
       "</div>"
      ],
      "text/plain": [
       "                                                Model  Random State  \\\n",
       "0                                LogisticRegression()             0   \n",
       "1                                LogisticRegression()             1   \n",
       "2                                LogisticRegression()             2   \n",
       "3                                LogisticRegression()             3   \n",
       "4                                LogisticRegression()             4   \n",
       "5   (DecisionTreeClassifier(max_features='auto', r...             0   \n",
       "6   (DecisionTreeClassifier(max_features='auto', r...             1   \n",
       "7   (DecisionTreeClassifier(max_features='auto', r...             2   \n",
       "8   (DecisionTreeClassifier(max_features='auto', r...             3   \n",
       "9   (DecisionTreeClassifier(max_features='auto', r...             4   \n",
       "10                KNeighborsClassifier(n_neighbors=3)             0   \n",
       "11                KNeighborsClassifier(n_neighbors=3)             1   \n",
       "12                KNeighborsClassifier(n_neighbors=3)             2   \n",
       "13                KNeighborsClassifier(n_neighbors=3)             3   \n",
       "14                KNeighborsClassifier(n_neighbors=3)             4   \n",
       "15                                              SVC()             0   \n",
       "16                                              SVC()             1   \n",
       "17                                              SVC()             2   \n",
       "18                                              SVC()             3   \n",
       "19                                              SVC()             4   \n",
       "20        DecisionTreeClassifier(criterion='entropy')             0   \n",
       "21        DecisionTreeClassifier(criterion='entropy')             1   \n",
       "22        DecisionTreeClassifier(criterion='entropy')             2   \n",
       "23        DecisionTreeClassifier(criterion='entropy')             3   \n",
       "24        DecisionTreeClassifier(criterion='entropy')             4   \n",
       "25                                       GaussianNB()             0   \n",
       "26                                       GaussianNB()             1   \n",
       "27                                       GaussianNB()             2   \n",
       "28                                       GaussianNB()             3   \n",
       "29                                       GaussianNB()             4   \n",
       "\n",
       "    Accuracy Score-Train  Accuracy Score-Test  \n",
       "0                   0.91                 0.91  \n",
       "1                   0.91                 0.91  \n",
       "2                   0.91                 0.91  \n",
       "3                   0.91                 0.91  \n",
       "4                   0.91                 0.90  \n",
       "5                   1.00                 0.99  \n",
       "6                   1.00                 0.99  \n",
       "7                   1.00                 0.99  \n",
       "8                   1.00                 0.99  \n",
       "9                   1.00                 0.99  \n",
       "10                  0.96                 0.89  \n",
       "11                  0.96                 0.91  \n",
       "12                  0.96                 0.90  \n",
       "13                  0.96                 0.91  \n",
       "14                  0.96                 0.91  \n",
       "15                  0.97                 0.96  \n",
       "16                  0.96                 0.95  \n",
       "17                  0.96                 0.95  \n",
       "18                  0.97                 0.95  \n",
       "19                  0.96                 0.95  \n",
       "20                  1.00                 0.99  \n",
       "21                  1.00                 1.00  \n",
       "22                  1.00                 0.99  \n",
       "23                  1.00                 0.99  \n",
       "24                  1.00                 0.99  \n",
       "25                  0.78                 0.78  \n",
       "26                  0.67                 0.67  \n",
       "27                  0.78                 0.77  \n",
       "28                  0.78                 0.78  \n",
       "29                  0.78                 0.78  "
      ]
     },
     "execution_count": 182,
     "metadata": {},
     "output_type": "execute_result"
    }
   ],
   "source": [
    "#Creating Dataframe of comparison between different models and their respective scores\n",
    "\n",
    "modeldata=pd.DataFrame({\"Model\":model,\"Random State\":rs,\"Accuracy Score-Train\":acc_train,\"Accuracy Score-Test\":acc_test})\n",
    "modeldata  "
   ]
  },
  {
   "cell_type": "markdown",
   "id": "beb0e284",
   "metadata": {},
   "source": [
    "From the above results, the Decision Tree Model of random state 1 and test size-0.20 has efficient results.\n",
    "Accuracy score for the model in training data is 100% and testing data is 100%."
   ]
  },
  {
   "cell_type": "code",
   "execution_count": 211,
   "id": "8a9e17c0",
   "metadata": {},
   "outputs": [],
   "source": [
    "x_train,x_test,y_train,y_test=train_test_split(X2_s,Y2,random_state=1,test_size=0.20)"
   ]
  },
  {
   "cell_type": "markdown",
   "id": "42744804",
   "metadata": {},
   "source": [
    "# Logistic Regression"
   ]
  },
  {
   "cell_type": "code",
   "execution_count": 212,
   "id": "0417debb",
   "metadata": {},
   "outputs": [],
   "source": [
    "m1=lr.fit(x_train,y_train)\n",
    "pred_train=m1.predict(x_train)\n",
    "pred_test=m1.predict(x_test)"
   ]
  },
  {
   "cell_type": "code",
   "execution_count": 213,
   "id": "20d049e3",
   "metadata": {},
   "outputs": [
    {
     "name": "stdout",
     "output_type": "stream",
     "text": [
      "The accuracy score for training data is \t 91.0\n",
      "The accuracy score for testing data is \t 91.0\n",
      "The F1 score for training data is \t 91.0\n",
      "The F1 score for testing data is \t 90.0\n",
      "The classification report is as follows\n",
      "               precision    recall  f1-score   support\n",
      "\n",
      "           1       0.95      0.98      0.96       821\n",
      "           2       0.88      0.89      0.88       506\n",
      "           3       0.81      0.75      0.78       182\n",
      "           4       1.00      0.19      0.32        32\n",
      "\n",
      "    accuracy                           0.91      1541\n",
      "   macro avg       0.91      0.70      0.73      1541\n",
      "weighted avg       0.91      0.91      0.90      1541\n",
      "\n",
      "[[804  17   0   0]\n",
      " [ 46 451   9   0]\n",
      " [  0  45 137   0]\n",
      " [  0   2  24   6]]\n"
     ]
    }
   ],
   "source": [
    "print(\"The accuracy score for training data is \\t\",round(accuracy_score(y_train,pred_train),2)*100)\n",
    "print(\"The accuracy score for testing data is \\t\",round(accuracy_score(y_test,pred_test),2)*100)\n",
    "print(\"The F1 score for training data is \\t\",round(f1_score(y_train,pred_train,average=\"weighted\"),2)*100)\n",
    "print(\"The F1 score for testing data is \\t\",round(f1_score(y_test,pred_test,average=\"weighted\"),2)*100)\n",
    "print(\"The classification report is as follows\\n\",classification_report(y_test,pred_test))\n",
    "print(confusion_matrix(y_test,pred_test))"
   ]
  },
  {
   "cell_type": "code",
   "execution_count": 214,
   "id": "fc891b21",
   "metadata": {},
   "outputs": [],
   "source": [
    "from sklearn.model_selection import KFold\n",
    "from sklearn.model_selection import cross_val_score\n",
    "cv=KFold(n_splits=10, random_state=0, shuffle=True)\n",
    "cv1=cross_val_score(m1,X2_s,Y2, scoring='accuracy', cv=cv)"
   ]
  },
  {
   "cell_type": "code",
   "execution_count": 215,
   "id": "27875f99",
   "metadata": {},
   "outputs": [
    {
     "name": "stdout",
     "output_type": "stream",
     "text": [
      "The cross validation score is \t 91.0\n"
     ]
    }
   ],
   "source": [
    "print(\"The cross validation score is \\t\",round(cv1.mean(),2)*100)"
   ]
  },
  {
   "cell_type": "markdown",
   "id": "b2a3e410",
   "metadata": {},
   "source": [
    "# Random Forest Classifier"
   ]
  },
  {
   "cell_type": "code",
   "execution_count": 216,
   "id": "e21bd926",
   "metadata": {},
   "outputs": [],
   "source": [
    "m2=rf.fit(x_train,y_train)\n",
    "pred_train=m2.predict(x_train)\n",
    "pred_test=m2.predict(x_test)"
   ]
  },
  {
   "cell_type": "code",
   "execution_count": 217,
   "id": "5709d15a",
   "metadata": {},
   "outputs": [
    {
     "name": "stdout",
     "output_type": "stream",
     "text": [
      "The accuracy score for training data is \t 100.0\n",
      "The accuracy score for testing data is \t 99.0\n",
      "The F1 score for training data is \t 100.0\n",
      "The F1 score for testing data is \t 99.0\n",
      "The classification report is as follows\n",
      "               precision    recall  f1-score   support\n",
      "\n",
      "           1       1.00      1.00      1.00       821\n",
      "           2       0.99      1.00      0.99       506\n",
      "           3       0.96      0.99      0.98       182\n",
      "           4       1.00      0.78      0.88        32\n",
      "\n",
      "    accuracy                           0.99      1541\n",
      "   macro avg       0.99      0.94      0.96      1541\n",
      "weighted avg       0.99      0.99      0.99      1541\n",
      "\n",
      "[[818   3   0   0]\n",
      " [  1 505   0   0]\n",
      " [  0   2 180   0]\n",
      " [  0   0   7  25]]\n"
     ]
    }
   ],
   "source": [
    "print(\"The accuracy score for training data is \\t\",round(accuracy_score(y_train,pred_train),2)*100)\n",
    "print(\"The accuracy score for testing data is \\t\",round(accuracy_score(y_test,pred_test),2)*100)\n",
    "print(\"The F1 score for training data is \\t\",round(f1_score(y_train,pred_train,average=\"weighted\"),2)*100)\n",
    "print(\"The F1 score for testing data is \\t\",round(f1_score(y_test,pred_test,average=\"weighted\"),2)*100)\n",
    "print(\"The classification report is as follows\\n\",classification_report(y_test,pred_test))\n",
    "print(confusion_matrix(y_test,pred_test))"
   ]
  },
  {
   "cell_type": "code",
   "execution_count": 218,
   "id": "0dc3c962",
   "metadata": {},
   "outputs": [
    {
     "name": "stdout",
     "output_type": "stream",
     "text": [
      "The cross validation score is \t 99.0\n"
     ]
    }
   ],
   "source": [
    "cv=KFold(n_splits=10, random_state=0, shuffle=True)\n",
    "cv1=cross_val_score(m2,X2_s,Y2, scoring='accuracy', cv=cv)\n",
    "print(\"The cross validation score is \\t\",round(cv1.mean(),2)*100)"
   ]
  },
  {
   "cell_type": "markdown",
   "id": "3dbf6a14",
   "metadata": {},
   "source": [
    "# KNeighbors Classifier"
   ]
  },
  {
   "cell_type": "code",
   "execution_count": 219,
   "id": "91d2e97a",
   "metadata": {},
   "outputs": [],
   "source": [
    "m3=kn.fit(x_train,y_train)\n",
    "pred_train=m3.predict(x_train)\n",
    "pred_test=m3.predict(x_test)"
   ]
  },
  {
   "cell_type": "code",
   "execution_count": 220,
   "id": "42b1d8ed",
   "metadata": {},
   "outputs": [
    {
     "name": "stdout",
     "output_type": "stream",
     "text": [
      "The accuracy score for training data is \t 96.0\n",
      "The accuracy score for testing data is \t 91.0\n",
      "The F1 score for training data is \t 96.0\n",
      "The F1 score for testing data is \t 91.0\n",
      "The classification report is as follows\n",
      "               precision    recall  f1-score   support\n",
      "\n",
      "           1       0.97      0.96      0.96       821\n",
      "           2       0.87      0.91      0.89       506\n",
      "           3       0.80      0.78      0.79       182\n",
      "           4       0.82      0.56      0.67        32\n",
      "\n",
      "    accuracy                           0.91      1541\n",
      "   macro avg       0.86      0.80      0.83      1541\n",
      "weighted avg       0.91      0.91      0.91      1541\n",
      "\n",
      "[[788  33   0   0]\n",
      " [ 26 459  21   0]\n",
      " [  2  34 142   4]\n",
      " [  0   0  14  18]]\n"
     ]
    }
   ],
   "source": [
    "print(\"The accuracy score for training data is \\t\",round(accuracy_score(y_train,pred_train),2)*100)\n",
    "print(\"The accuracy score for testing data is \\t\",round(accuracy_score(y_test,pred_test),2)*100)\n",
    "print(\"The F1 score for training data is \\t\",round(f1_score(y_train,pred_train,average=\"weighted\"),2)*100)\n",
    "print(\"The F1 score for testing data is \\t\",round(f1_score(y_test,pred_test,average=\"weighted\"),2)*100)\n",
    "print(\"The classification report is as follows\\n\",classification_report(y_test,pred_test))\n",
    "print(confusion_matrix(y_test,pred_test))"
   ]
  },
  {
   "cell_type": "code",
   "execution_count": 221,
   "id": "c3c9009d",
   "metadata": {},
   "outputs": [
    {
     "name": "stdout",
     "output_type": "stream",
     "text": [
      "The cross validation score is \t 91.0\n"
     ]
    }
   ],
   "source": [
    "cv=KFold(n_splits=10, random_state=0, shuffle=True)\n",
    "cv1=cross_val_score(m3,X2_s,Y2, scoring='accuracy', cv=cv)\n",
    "print(\"The cross validation score is \\t\",round(cv1.mean(),2)*100)"
   ]
  },
  {
   "cell_type": "markdown",
   "id": "5fec496d",
   "metadata": {},
   "source": [
    "# SVC"
   ]
  },
  {
   "cell_type": "code",
   "execution_count": 222,
   "id": "0a513278",
   "metadata": {},
   "outputs": [],
   "source": [
    "m4=sv.fit(x_train,y_train)\n",
    "pred_train=m4.predict(x_train)\n",
    "pred_test=m4.predict(x_test)"
   ]
  },
  {
   "cell_type": "code",
   "execution_count": 223,
   "id": "f407bcb4",
   "metadata": {},
   "outputs": [
    {
     "name": "stdout",
     "output_type": "stream",
     "text": [
      "The accuracy score for training data is \t 96.0\n",
      "The accuracy score for testing data is \t 95.0\n",
      "The F1 score for training data is \t 96.0\n",
      "The F1 score for testing data is \t 95.0\n",
      "The classification report is as follows\n",
      "               precision    recall  f1-score   support\n",
      "\n",
      "           1       0.98      0.98      0.98       821\n",
      "           2       0.93      0.96      0.94       506\n",
      "           3       0.88      0.88      0.88       182\n",
      "           4       0.94      0.50      0.65        32\n",
      "\n",
      "    accuracy                           0.95      1541\n",
      "   macro avg       0.93      0.83      0.86      1541\n",
      "weighted avg       0.95      0.95      0.95      1541\n",
      "\n",
      "[[803  18   0   0]\n",
      " [ 14 487   5   0]\n",
      " [  0  21 160   1]\n",
      " [  0   0  16  16]]\n"
     ]
    }
   ],
   "source": [
    "print(\"The accuracy score for training data is \\t\",round(accuracy_score(y_train,pred_train),2)*100)\n",
    "print(\"The accuracy score for testing data is \\t\",round(accuracy_score(y_test,pred_test),2)*100)\n",
    "print(\"The F1 score for training data is \\t\",round(f1_score(y_train,pred_train,average=\"weighted\"),2)*100)\n",
    "print(\"The F1 score for testing data is \\t\",round(f1_score(y_test,pred_test,average=\"weighted\"),2)*100)\n",
    "print(\"The classification report is as follows\\n\",classification_report(y_test,pred_test))\n",
    "print(confusion_matrix(y_test,pred_test))"
   ]
  },
  {
   "cell_type": "code",
   "execution_count": 224,
   "id": "ce55b332",
   "metadata": {},
   "outputs": [
    {
     "name": "stdout",
     "output_type": "stream",
     "text": [
      "The cross validation score is \t 96.0\n"
     ]
    }
   ],
   "source": [
    "cv=KFold(n_splits=10, random_state=0, shuffle=True)\n",
    "cv1=cross_val_score(m4,X2_s,Y2, scoring='accuracy', cv=cv)\n",
    "print(\"The cross validation score is \\t\",round(cv1.mean(),2)*100)"
   ]
  },
  {
   "cell_type": "markdown",
   "id": "4c941eb4",
   "metadata": {},
   "source": [
    "# Decision Tree Classifier"
   ]
  },
  {
   "cell_type": "code",
   "execution_count": 239,
   "id": "b98398f8",
   "metadata": {},
   "outputs": [],
   "source": [
    "m5=dt.fit(x_train,y_train)\n",
    "pred_train=m5.predict(x_train)\n",
    "pred_test=m5.predict(x_test)"
   ]
  },
  {
   "cell_type": "code",
   "execution_count": 240,
   "id": "b430fe61",
   "metadata": {},
   "outputs": [
    {
     "name": "stdout",
     "output_type": "stream",
     "text": [
      "The accuracy score for training data is \t 100.0\n",
      "The accuracy score for testing data is \t 100.0\n",
      "The F1 score for training data is \t 100.0\n",
      "The F1 score for testing data is \t 100.0\n",
      "The classification report is as follows\n",
      "               precision    recall  f1-score   support\n",
      "\n",
      "           1       1.00      1.00      1.00       821\n",
      "           2       1.00      1.00      1.00       506\n",
      "           3       0.98      0.98      0.98       182\n",
      "           4       0.91      0.91      0.91        32\n",
      "\n",
      "    accuracy                           1.00      1541\n",
      "   macro avg       0.97      0.97      0.97      1541\n",
      "weighted avg       1.00      1.00      1.00      1541\n",
      "\n",
      "[[821   0   0   0]\n",
      " [  0 506   0   0]\n",
      " [  0   1 178   3]\n",
      " [  0   0   3  29]]\n"
     ]
    }
   ],
   "source": [
    "print(\"The accuracy score for training data is \\t\",round(accuracy_score(y_train,pred_train),2)*100)\n",
    "print(\"The accuracy score for testing data is \\t\",round(accuracy_score(y_test,pred_test),2)*100)\n",
    "print(\"The F1 score for training data is \\t\",round(f1_score(y_train,pred_train,average=\"weighted\"),2)*100)\n",
    "print(\"The F1 score for testing data is \\t\",round(f1_score(y_test,pred_test,average=\"weighted\"),2)*100)\n",
    "print(\"The classification report is as follows\\n\",classification_report(y_test,pred_test))\n",
    "print(confusion_matrix(y_test,pred_test))"
   ]
  },
  {
   "cell_type": "code",
   "execution_count": 227,
   "id": "6a49dad3",
   "metadata": {},
   "outputs": [
    {
     "name": "stdout",
     "output_type": "stream",
     "text": [
      "The cross validation score is \t 100.0\n"
     ]
    }
   ],
   "source": [
    "cv=KFold(n_splits=10, random_state=0, shuffle=True)\n",
    "cv1=cross_val_score(m5,X2_s,Y2, scoring='accuracy', cv=cv)\n",
    "print(\"The cross validation score is \\t\",round(cv1.mean(),2)*100)"
   ]
  },
  {
   "cell_type": "markdown",
   "id": "d32a1679",
   "metadata": {},
   "source": [
    "# Gaussian NB"
   ]
  },
  {
   "cell_type": "code",
   "execution_count": 228,
   "id": "1e6739a9",
   "metadata": {},
   "outputs": [],
   "source": [
    "m6=gb.fit(x_train,y_train)\n",
    "pred_train=m6.predict(x_train)\n",
    "pred_test=m6.predict(x_test)"
   ]
  },
  {
   "cell_type": "code",
   "execution_count": 229,
   "id": "ebe846aa",
   "metadata": {},
   "outputs": [
    {
     "name": "stdout",
     "output_type": "stream",
     "text": [
      "The accuracy score for training data is \t 67.0\n",
      "The accuracy score for testing data is \t 67.0\n",
      "The F1 score for training data is \t 59.0\n",
      "The F1 score for testing data is \t 59.0\n",
      "The classification report is as follows\n",
      "               precision    recall  f1-score   support\n",
      "\n",
      "           1       0.67      0.98      0.79       821\n",
      "           2       0.68      0.10      0.17       506\n",
      "           3       0.69      0.88      0.77       182\n",
      "           4       0.91      0.66      0.76        32\n",
      "\n",
      "    accuracy                           0.67      1541\n",
      "   macro avg       0.74      0.66      0.63      1541\n",
      "weighted avg       0.68      0.67      0.59      1541\n",
      "\n",
      "[[807   5   9   0]\n",
      " [403  50  53   0]\n",
      " [  1  18 161   2]\n",
      " [  0   0  11  21]]\n"
     ]
    }
   ],
   "source": [
    "print(\"The accuracy score for training data is \\t\",round(accuracy_score(y_train,pred_train),2)*100)\n",
    "print(\"The accuracy score for testing data is \\t\",round(accuracy_score(y_test,pred_test),2)*100)\n",
    "print(\"The F1 score for training data is \\t\",round(f1_score(y_train,pred_train,average=\"weighted\"),2)*100)\n",
    "print(\"The F1 score for testing data is \\t\",round(f1_score(y_test,pred_test,average=\"weighted\"),2)*100)\n",
    "print(\"The classification report is as follows\\n\",classification_report(y_test,pred_test))\n",
    "print(confusion_matrix(y_test,pred_test))"
   ]
  },
  {
   "cell_type": "code",
   "execution_count": 230,
   "id": "f929c453",
   "metadata": {},
   "outputs": [
    {
     "name": "stdout",
     "output_type": "stream",
     "text": [
      "The cross validation score is \t 77.0\n"
     ]
    }
   ],
   "source": [
    "cv=KFold(n_splits=10, random_state=0, shuffle=True)\n",
    "cv1=cross_val_score(m6,X2_s,Y2, scoring='accuracy', cv=cv)\n",
    "print(\"The cross validation score is \\t\",round(cv1.mean(),2)*100)"
   ]
  },
  {
   "cell_type": "markdown",
   "id": "e350660d",
   "metadata": {},
   "source": [
    "# Hyperparameter Tuning"
   ]
  },
  {
   "cell_type": "code",
   "execution_count": 231,
   "id": "6de03e37",
   "metadata": {},
   "outputs": [],
   "source": [
    "dt=DecisionTreeClassifier()"
   ]
  },
  {
   "cell_type": "code",
   "execution_count": 232,
   "id": "9b0d1077",
   "metadata": {},
   "outputs": [
    {
     "data": {
      "text/plain": [
       "{'ccp_alpha': 0.0,\n",
       " 'class_weight': None,\n",
       " 'criterion': 'gini',\n",
       " 'max_depth': None,\n",
       " 'max_features': None,\n",
       " 'max_leaf_nodes': None,\n",
       " 'min_impurity_decrease': 0.0,\n",
       " 'min_samples_leaf': 1,\n",
       " 'min_samples_split': 2,\n",
       " 'min_weight_fraction_leaf': 0.0,\n",
       " 'random_state': None,\n",
       " 'splitter': 'best'}"
      ]
     },
     "execution_count": 232,
     "metadata": {},
     "output_type": "execute_result"
    }
   ],
   "source": [
    "dt.get_params()"
   ]
  },
  {
   "cell_type": "code",
   "execution_count": 233,
   "id": "cef1534c",
   "metadata": {},
   "outputs": [],
   "source": [
    "param_dist1={\"max_depth\": [20,30,40,50,60,70,80],\n",
    "            \"criterion\": [\"gini\", \"entropy\",\"log_loss\"],\n",
    "            \"min_samples_leaf\":[2,3,4],}"
   ]
  },
  {
   "cell_type": "code",
   "execution_count": 234,
   "id": "6d782825",
   "metadata": {},
   "outputs": [],
   "source": [
    "samples=5  # number of random samples \n",
    "randomCV=RandomizedSearchCV(dt,param_distributions=param_dist1,n_iter=samples,cv=3)"
   ]
  },
  {
   "cell_type": "code",
   "execution_count": 235,
   "id": "bdeea134",
   "metadata": {},
   "outputs": [],
   "source": [
    "final=randomCV.fit(x_train,y_train)"
   ]
  },
  {
   "cell_type": "code",
   "execution_count": 236,
   "id": "4971642a",
   "metadata": {},
   "outputs": [
    {
     "name": "stdout",
     "output_type": "stream",
     "text": [
      "{'min_samples_leaf': 4, 'max_depth': 40, 'criterion': 'entropy'}\n"
     ]
    }
   ],
   "source": [
    "print(final.best_params_)"
   ]
  },
  {
   "cell_type": "code",
   "execution_count": 237,
   "id": "af3a01ef",
   "metadata": {},
   "outputs": [],
   "source": [
    "pred1=final.predict(x_test)\n",
    "pred2=final.predict(x_train)"
   ]
  },
  {
   "cell_type": "code",
   "execution_count": 238,
   "id": "0d7e90f2",
   "metadata": {},
   "outputs": [
    {
     "name": "stdout",
     "output_type": "stream",
     "text": [
      "The accuracy score for training data is \t 100.0\n",
      "The accuracy score for testing data is \t 99.0\n",
      "The F1 score for training data is \t 100.0\n",
      "The F1 score for testing data is \t 99.0\n",
      "The classification report is as follows\n",
      "               precision    recall  f1-score   support\n",
      "\n",
      "           1       1.00      1.00      1.00       821\n",
      "           2       0.99      1.00      1.00       506\n",
      "           3       0.98      0.99      0.99       182\n",
      "           4       1.00      0.88      0.93        32\n",
      "\n",
      "    accuracy                           0.99      1541\n",
      "   macro avg       0.99      0.97      0.98      1541\n",
      "weighted avg       0.99      0.99      0.99      1541\n",
      "\n",
      "[[818   3   0   0]\n",
      " [  0 506   0   0]\n",
      " [  0   1 181   0]\n",
      " [  0   0   4  28]]\n"
     ]
    }
   ],
   "source": [
    "print(\"The accuracy score for training data is \\t\",round(accuracy_score(y_train,pred2),2)*100)\n",
    "print(\"The accuracy score for testing data is \\t\",round(accuracy_score(y_test,pred1),2)*100)\n",
    "print(\"The F1 score for training data is \\t\",round(f1_score(y_train,pred2,average=\"weighted\"),2)*100)\n",
    "print(\"The F1 score for testing data is \\t\",round(f1_score(y_test,pred1,average=\"weighted\"),2)*100)\n",
    "print(\"The classification report is as follows\\n\",classification_report(y_test,pred1))\n",
    "print(confusion_matrix(y_test,pred1))"
   ]
  },
  {
   "cell_type": "code",
   "execution_count": null,
   "id": "5d90c65f",
   "metadata": {},
   "outputs": [],
   "source": []
  }
 ],
 "metadata": {
  "kernelspec": {
   "display_name": "Python 3 (ipykernel)",
   "language": "python",
   "name": "python3"
  },
  "language_info": {
   "codemirror_mode": {
    "name": "ipython",
    "version": 3
   },
   "file_extension": ".py",
   "mimetype": "text/x-python",
   "name": "python",
   "nbconvert_exporter": "python",
   "pygments_lexer": "ipython3",
   "version": "3.9.12"
  }
 },
 "nbformat": 4,
 "nbformat_minor": 5
}
